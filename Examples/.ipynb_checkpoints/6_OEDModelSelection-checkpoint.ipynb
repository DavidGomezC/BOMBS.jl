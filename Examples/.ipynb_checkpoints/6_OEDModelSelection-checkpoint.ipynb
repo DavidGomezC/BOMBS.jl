{
 "cells": [
  {
   "cell_type": "markdown",
   "metadata": {},
   "source": [
    "# Case 6: Bayesian Optimal Experimental Design (OED) for model selection"
   ]
  },
  {
   "cell_type": "code",
   "execution_count": 1,
   "metadata": {},
   "outputs": [
    {
     "name": "stderr",
     "output_type": "stream",
     "text": [
      "┌ Info: Precompiling BOMBS [9fa3cf97-96f5-4594-8ac7-dc80311f2c9e]\n",
      "└ @ Base loading.jl:1260\n"
     ]
    },
    {
     "name": "stdout",
     "output_type": "stream",
     "text": [
      "\n",
      "                                                  *\n",
      "                                    **           * *           *                          **\n",
      "                                   * *          *   *         * *                       **  *\n",
      "                                  *  *         *    *        *  **                    **     *\n",
      "                         *       *   *  *   ***     *     ***    **                 **        *      *\n",
      "                        * *     *    * * * *         **  *         **      *      **           *    * *   ***\n",
      "                       *   *   *     **   *            **            **   * * ****              ****   ***   ***\n",
      "                   ** *     ***                                        * *   *                                  *\n",
      "                  *  *                                                  *                                        *\n",
      "                 *            ___________   __________   ___  ___   ___________   __________                      ***\n",
      "                **           /  _____   /  / ______  /  /   \\/   \\  \\   _____  \\  \\  _______\\                        **\n",
      "               *            /  /____/  /  / /     / /  /          \\  \\  \\____\\  \\  \\ \\________                         *\n",
      "             **            /  _____   /  / /     / /  /            \\  \\   _____  \\  \\________ \\                       *\n",
      "           **             /  /    /  /  / /     / /  /   /\\____/\\   \\  \\  \\    \\  \\          \\ \\                    **\n",
      "         **              /  /____/  /  / /_____/ /  /   /        \\   \\  \\  \\____\\  \\   _______\\ \\                 **\n",
      "        *               /__________/  /_________/  /__ /          \\___\\  \\__________\\  \\_________\\ V 0.1.0       **\n",
      "         ****                                                *                                                  *\n",
      "             *                          ***                 * *                                                *\n",
      "              *   ***                  *   *     *         *   *                  *                      **   *\n",
      "               * *   **             ***     *   * ***     *     *   *          *** *           **       *  * *\n",
      "                *      **      *   *         * *    *    *       * * **     ***     *         *  *     *    *\n",
      "                         **   * * *           *     *   *         *    ** **         *       *    *   *\n",
      "                           * *   *                   * *                 *            *     *      * *\n",
      "                            *                         *                                *   *        *\n",
      "                                                                                        * *\n",
      "                                                                                         *\n",
      "    \n"
     ]
    }
   ],
   "source": [
    "using BOMBS"
   ]
  },
  {
   "cell_type": "markdown",
   "metadata": {},
   "source": [
    "### Just to print the nice BOMBS logo\n"
   ]
  },
  {
   "cell_type": "code",
   "execution_count": 2,
   "metadata": {},
   "outputs": [
    {
     "name": "stdout",
     "output_type": "stream",
     "text": [
      "\n",
      "                      ___________   __________   ___  ___   ___________   __________\n",
      "                     /  _____   /  / ______  /  /   \\/   \\  \\   _____  \\  \\  _______\\\r\n",
      "                    /  /____/  /  / /     / /  /          \\  \\  \\____\\  \\  \\ \\________\n",
      "                   /  _____   /  / /     / /  /            \\  \\   _____  \\  \\________ \\\r\n",
      "                  /  /    /  /  / /     / /  /   /\\____/\\   \\  \\  \\    \\  \\          \\ \\\r\n",
      "                 /  /____/  /  / /_____/ /  /   /        \\   \\  \\  \\____\\  \\   _______\\ \\\r\n",
      "                /__________/  /_________/  /__ /          \\___\\  \\__________\\  \\_________\\\r\n",
      "\n",
      "                \n"
     ]
    }
   ],
   "source": [
    "printLogo()"
   ]
  },
  {
   "cell_type": "markdown",
   "metadata": {},
   "source": [
    "First we need to generate the models. Note that is section is about model selection, so we need a second model to work with <br>\n",
    "The first model will be the same as we have been using so far."
   ]
  },
  {
   "cell_type": "markdown",
   "metadata": {},
   "source": [
    "#### Important!\n",
    "In this case you do not need to generate the models separately. Since the utility/cost function also needs to be generated (and requires the experiment specifications) this step will be done later on."
   ]
  },
  {
   "cell_type": "code",
   "execution_count": 3,
   "metadata": {},
   "outputs": [],
   "source": [
    "# Generate the empty dictionary with the model_def structure\n",
    "model_def1 = defModStruct()\n",
    "\n",
    "# Fill the different elements of the dictionary with your model specifications. See above how ^\n",
    "model_def1[\"NameF\"] = [\"PLacExample\"];\n",
    "model_def1[\"nStat\"] = [4];\n",
    "model_def1[\"nPar\"] = [9];\n",
    "model_def1[\"nInp\"] = [1];\n",
    "model_def1[\"stName\"] = [\"Cit_mrna\",\"Cit_foldedP\",\"Cit_fluo\",\"Cit_AU\"];\n",
    "\n",
    "model_def1[\"inpName\"] = [\"IPTG\"];\n",
    "\n",
    "model_def1[\"parName\"] = [\"alpha1\",\"Vm1\",\"h1\",\"Km1\",\"d1\",\n",
    "                            \"alpha2\",\"d2\",\"Kf\",\"sc_molec\"];\n",
    "model_def1[\"eqns\"] = [\"dCit_mrna=alpha1+Vm1*(IPTG^h1/(Km1^h1+IPTG^h1))-d1*Cit_mrna\",\n",
    "                    \"dCit_foldedP=alpha2*Cit_mrna-(d2+Kf)*Cit_foldedP\",\n",
    "                    \"dCit_fluo=Kf*Cit_foldedP-d2*Cit_fluo\",\n",
    "                    \"dCit_AU = sc_molec*dCit_fluo\"];\n",
    "\n",
    "model_def1[\"Y0eqs\"] = [\"Cit_mrna = (alpha1 + Vm1*(IPTG^h1/(Km1^h1+IPTG^h1)))/d1;\",\n",
    "                      \"Cit_foldedP = (alpha2*Cit_mrna)/(Kf+d2);\",\n",
    "                      \"Cit_fluo = (Kf*Cit_foldedP)/d2;\",\n",
    "                      \"Cit_AU= sc_molec*Cit_fluo;\"]; \n",
    "\n",
    "model_def1[\"Y0ON\"] = [];\n",
    "model_def1[\"tols\"] = [1e-9, 1e-9];"
   ]
  },
  {
   "cell_type": "markdown",
   "metadata": {},
   "source": [
    "As for the second model, we will use the same model with some minor (and made up with no sense) modifications just for illustration purposes. <br>\n",
    "    1- Introduction of a second inducer (aTc) <br>\n",
    "    2- Fix h1 to 2 and alpha1 to 0.5"
   ]
  },
  {
   "cell_type": "code",
   "execution_count": 4,
   "metadata": {},
   "outputs": [],
   "source": [
    "# Generate the empty dictionary with the model_def structure\n",
    "model_def2 = defModStruct()\n",
    "\n",
    "# Fill the different elements of the dictionary with your model specifications. See above how ^\n",
    "model_def2[\"NameF\"] = [\"TestPLac_M2\"];\n",
    "model_def2[\"nStat\"] = [4];\n",
    "model_def2[\"nPar\"] = [7];\n",
    "model_def2[\"nInp\"] = [2];\n",
    "model_def2[\"stName\"] = [\"Cit_mrna\",\"Cit_foldedP\",\"Cit_fluo\",\"Cit_AU\"];\n",
    "\n",
    "model_def2[\"inpName\"] = [\"aTc\", \"IPTG\"]; # Note that the reference order comes from Model_1 and any aditional inputs get append after it. So even this is coded in this order, in the package it will be used as [\"IPTG\", \"aTc\"]\n",
    "                                         # Hence, when generating the function scripts for this model, the order will also be canged to [\"IPTG\", \"aTc\"]\n",
    "model_def2[\"parName\"] = [\"Vm1\",\"Km1\",\"d1\",\n",
    "                            \"alpha2\",\"d2\",\"Kf\",\"sc_molec\"];\n",
    "\n",
    "# Same model but h1 is fixed to 2 and alpha1 to 0.5\n",
    "# Also this model accounts for aTc as inducer, which is not present in model 1. Introduced as produt. This is made up for the example. \n",
    "\n",
    "model_def2[\"eqns\"] = [\"dCit_mrna=0.5+Vm1*(IPTG^2/(Km1^2+IPTG^2))-d1*Cit_mrna*aTc\",\n",
    "                    \"dCit_foldedP=alpha2*Cit_mrna-(d2+Kf)*Cit_foldedP\",\n",
    "                    \"dCit_fluo=Kf*Cit_foldedP-d2*Cit_fluo\",\n",
    "                    \"dCit_AU = sc_molec*dCit_fluo\"];\n",
    "\n",
    "model_def2[\"Y0eqs\"] = [\"Cit_mrna = (0.5 + Vm1*(IPTG^2/(Km1^2+IPTG^2)))/d1*aTc;\",\n",
    "                      \"Cit_foldedP = (alpha2*Cit_mrna)/(Kf+d2);\",\n",
    "                      \"Cit_fluo = (Kf*Cit_foldedP)/d2;\",\n",
    "                      \"Cit_AU= sc_molec*Cit_fluo;\"]; \n",
    "\n",
    "model_def2[\"Y0ON\"] = [];\n",
    "model_def2[\"tols\"] = [1e-9, 1e-9];\n",
    "model_def2[\"solver\"] = \"CVODE_BDF\";"
   ]
  },
  {
   "cell_type": "markdown",
   "metadata": {},
   "source": [
    "### This function gives you information about the structure necessary to generate the model and how to call it. \n",
    "If you do not know how to call a specific section, just call the function with no input (infoAll()) to get the information."
   ]
  },
  {
   "cell_type": "code",
   "execution_count": 5,
   "metadata": {},
   "outputs": [
    {
     "name": "stdout",
     "output_type": "stream",
     "text": [
      "\n",
      "\n",
      "                CALL defODEModelSelectStruct()\n",
      "\n",
      "oedms_def[\"Model_1\"] = [];\n",
      "        # Model structure for Model 1. Dict. See Model Generation Section.\n",
      "        # Note that the order of the inputs is the one defined in this model. If there is a chance that\n",
      "        # Model_2 has an input that does not exist in this model, these will be appended at the end\n",
      "        # of the ones in Model_1.\n",
      "\n",
      "oedms_def[\"Model_2\"] = [];\n",
      "        # Model structure for Model 2. Dict. See Model Generation Section.\n",
      "\n",
      "oedms_def[\"Obs\"] = [];\n",
      "        # States of the model that are observables. This is a vector of strings.These could also be an\n",
      "        # expression combining states (Only +,-,*,/ and ^ will be considered).\n",
      "\n",
      "oedms_def[\"Theta_M1\"] = [];\n",
      "        # Theta vector (frequentist OED or model with 1 parameter) or matrix (Bayesian OED) for model 1.\n",
      "        # Path to file with samples is also allowed.\n",
      "\n",
      "oedms_def[\"Theta_M2\"] = [];\n",
      "        # Theta vector (frequentist OED or model with 2 parameter) or matrix (Bayesian OED) for model 2.\n",
      "        # Path to file with samples is also allowed.\n",
      "\n",
      "oedms_def[\"y0_M1\"] = [];\n",
      "        # For Model 1:\n",
      "        # Array (single simulation) or matrix (multiple simulations) of Y0s for the simulations for each\n",
      "        # experiment. If you are computing the steady-state this vector might not be used, however, you\n",
      "        # still need to introduce it with some random numbers.\n",
      "\n",
      "oedms_def[\"y0_M2\"] = [];\n",
      "        # For Model 2:\n",
      "        # Array (single simulation) or matrix (multiple simulations) of Y0s for the simulations for each\n",
      "        # experiment. If you are computing the steady-state this vector might not be used, however, you\n",
      "        # still need to introduce it with some random numbers.\n",
      "\n",
      "oedms_def[\"preInd_M1\"] = [];\n",
      "        # For Model 1:\n",
      "        # Vector of numbers with the values for the stimuli (inducer) in the over-night. It might be the case\n",
      "        # that this entry is not required since only the y0 vector is considered for the initial point of\n",
      "        # the simulation. However, you still need to introduce a random value for it to avoid future issues.\n",
      "\n",
      "oedms_def[\"preInd_M2\"] = [];\n",
      "        # For Model 2:\n",
      "        # Vector of numbers with the values for the stimuli (inducer) in the over-night. It might be the case\n",
      "        # that this entry is not required since only the y0 vector is considered for the initial point of\n",
      "        # the simulation. However, you still need to introduce a random value for it to avoid future issues.\n",
      "\n",
      "oedms_def[\"finalTime\"] = [];\n",
      "        # Vector of final times for each simulation (initial time will always be assumed as 0,\n",
      "        # so please consider that).\n",
      "\n",
      "oedms_def[\"switchT\"] = [];\n",
      "        # Array with the switching times of the inducer in the simulation (time 0 and final\n",
      "        # time need to be considered)\n",
      "\n",
      "oedms_def[\"tsamps\"] = [];\n",
      "        # Array of sampling time vectors for the experiments.\n",
      "\n",
      "oedms_def[\"fixedInp\"] = [];\n",
      "        # If more than 1 inducer for the system exists, but only 1 input can be dynamic, give a vector\n",
      "        # of strings indicating which inputs are going to be optimised but as a constant input instead\n",
      "        # of dynamic. If none, just give an empty vector.\n",
      "        # If there is only 1 simuli in the model, this field will be ignored.\n",
      "\n",
      "oedms_def[\"fixedStep\"] = [];\n",
      "        # If you want any of the steps to be fixed to a value. This has to be an empty array if none is fixed\n",
      "        # or an array of tuples, where each tuple is a step to be fixed. The first entry of the tuple is the\n",
      "        # index of the step (as an Integer), and the second and array of values for each inducer. Note that\n",
      "        # the fixed inputs will be ignored, so do not take them into account here.\n",
      "        # The example type should be Array{Array{Int,1},1} or an empty array ([]) if not used.\n",
      "\n",
      "oedms_def[\"equalStep\"] = [];\n",
      "        # If you want a series of steps to have the same optimised value (for example if you want to design a\n",
      "        # pulse experiment) you can introduce inside this array different arrays with the indexes of the steps\n",
      "        # that will have the same value. The values introduced in each array need to be integers.\n",
      "\n",
      "oedms_def[\"plot\"] = [];\n",
      "        # true, flase, \"Yes\", \"yes\", \"No\", \"no\" or []\n",
      "        # indicating if plots with the results will be generated. Default is false.\n",
      "\n",
      "oedms_def[\"flag\"] = [];\n",
      "        # String to attach a unique flag to the generated files so it is not overwritten.\n",
      "        # If empty, nothing will be added.\n",
      "\n",
      "            # The order of uUpper and uLower will be taken as the order of inducers defined in Model 1.\n",
      "            # If Model 2 has an aditional input, this will be added after, so consider this when introducing\n",
      "            # the bounds for them.\n",
      "oedms_def[\"uUpper\"] = [];\n",
      "        # Vector indicating the upper bounds for the inducers\n",
      "\n",
      "oedms_def[\"uLower\"] = [];\n",
      "        # Vector indicating the lower bounds for the inducers\n",
      "\n",
      "oedms_def[\"maxiter\"] = [];\n",
      "        # Maximum number of iterations for the Bayesian Optimisation. If nothing is introduced a default\n",
      "        # of 100 iterations will be taken\n",
      "\n"
     ]
    }
   ],
   "source": [
    "infoAll(\"oedms\")"
   ]
  },
  {
   "cell_type": "markdown",
   "metadata": {},
   "source": [
    "# OED Model Selection Example 1\n",
    "This is a basic example showing how to use the basic elements of the section. <br>\n",
    "<br>\n",
    "The second inducer aTc (only present in the second model) will be optimised as a fixed input (optimased constant value across the whole experiment). Additionaly IPTG will be fixed to 0 only for the first step of the experiment. <br>\n",
    "<br>\n",
    "There is no example for this, but if as theta samples for the 2 models you only introduce 1 the script will still proceed using the Euclidean distance. But be carefull, since this strategy will not be Bayesian anymore. "
   ]
  },
  {
   "cell_type": "code",
   "execution_count": 6,
   "metadata": {},
   "outputs": [
    {
     "data": {
      "text/plain": [
       "Dict{Any,Any} with 20 entries:\n",
       "  \"Theta_M2\"  => Any[]\n",
       "  \"maxiter\"   => Any[]\n",
       "  \"y0_M2\"     => Any[]\n",
       "  \"fixedStep\" => Any[]\n",
       "  \"preInd_M1\" => Any[]\n",
       "  \"fixedInp\"  => Any[]\n",
       "  \"Model_1\"   => Any[]\n",
       "  \"Obs\"       => Any[]\n",
       "  \"uUpper\"    => Any[]\n",
       "  \"Model_2\"   => Any[]\n",
       "  \"switchT\"   => Any[]\n",
       "  \"preInd_M2\" => Any[]\n",
       "  \"finalTime\" => Any[]\n",
       "  \"y0_M1\"     => Any[]\n",
       "  \"equalStep\" => Any[]\n",
       "  \"Theta_M1\"  => Any[]\n",
       "  \"tsamps\"    => Any[]\n",
       "  \"flag\"      => Any[]\n",
       "  \"plot\"      => Any[]\n",
       "  \"uLower\"    => Any[]"
      ]
     },
     "execution_count": 6,
     "metadata": {},
     "output_type": "execute_result"
    }
   ],
   "source": [
    "oedms_def = defODEModelSelectStruct()"
   ]
  },
  {
   "cell_type": "code",
   "execution_count": 7,
   "metadata": {},
   "outputs": [],
   "source": [
    "oedms_def[\"Model_1\"] = [model_def1]; \n",
    "oedms_def[\"Model_2\"] = [model_def2]; \n",
    "oedms_def[\"Obs\"] = [\"3*Cit_AU\"]; \n",
    "oedms_def[\"Theta_M1\"] = [\"TestThetaPLac.csv\"]; \n",
    "oedms_def[\"Theta_M2\"] = [\"TestThetaPLac2.csv\"]; \n",
    "\n",
    "oedms_def[\"y0_M1\"] = [10,10,10,10]; \n",
    "oedms_def[\"y0_M2\"] = [10,10,10,10];  \n",
    "oedms_def[\"preInd_M1\"] = [0]; \n",
    "oedms_def[\"preInd_M2\"] = [0, 0]; \n",
    "oedms_def[\"finalTime\"] = [1439]; \n",
    "oedms_def[\"switchT\"] = [[0, 500, 1000, 1439]];\n",
    "oedms_def[\"tsamps\"] = [collect(0:5:1439)];\n",
    "oedms_def[\"fixedInp\"] = [\"aTc\"]; \n",
    "oedms_def[\"fixedStep\"] = [(1,[0])]; # This does not take into account fixed inputs\n",
    "oedms_def[\"equalStep\"] = [];\n",
    "\n",
    "oedms_def[\"plot\"] = [true]; \n",
    "oedms_def[\"flag\"] = [\"testOEDMS1\"];\n",
    "\n",
    "oedms_def[\"uUpper\"] = [100, 10];\n",
    "oedms_def[\"uLower\"] = [0, 0];\n",
    "oedms_def[\"maxiter\"] = [50];"
   ]
  },
  {
   "cell_type": "markdown",
   "metadata": {},
   "source": [
    "This is the function that this section uses to generate the 2 model scripts (different from the previous sections) and the necessary scripts for the optimisation. "
   ]
  },
  {
   "cell_type": "code",
   "execution_count": 9,
   "metadata": {},
   "outputs": [
    {
     "name": "stdout",
     "output_type": "stream",
     "text": [
      "-------------------------- WARNING --------------------------\n",
      "Less than 50 samples for theta are given for Model 1. \n",
      "Consider using more samples for better results. \n",
      "-------------------------------------------------------------\n",
      "-------------------------- WARNING --------------------------\n",
      "Less than 50 samples for theta are given for Model 2. \n",
      "Consider using more samples for better results. \n",
      "-------------------------------------------------------------\n",
      "-------------------------- WARNING --------------------------\n",
      "The amount of inducers is different in the two models.\n",
      "Be carefull on how you configure that. \n",
      "-------------------------------------------------------------\n",
      "\n",
      "----------------------------------------- MODEL GENERATION -----------------------------------------\n",
      "The model has been generated in the directory: \n",
      "                 E:\\UNI\\D_Drive\\PhD\\JULIAlang\\Generalisation_PLacExample\\Examples\\ModelsFunctions\\PLacExample_Model.jl\n",
      "--------------------------------------------------------------------------------------\n",
      "\n",
      "\n",
      "----------------------------------------- MODEL GENERATION -----------------------------------------\n",
      "The model has been generated in the directory: \n",
      "                 E:\\UNI\\D_Drive\\PhD\\JULIAlang\\Generalisation_PLacExample\\Examples\\ModelsFunctions\\TestPLac_M2_Model.jl\n",
      "--------------------------------------------------------------------------------------\n",
      "\n",
      "\n",
      "----------------------------------------- SCRIPTS OED Model Selection -----------------------------------------\n",
      "Utility function script to perform OED for Model Selection has been generated in the directory: \n",
      "E:\\UNI\\D_Drive\\PhD\\JULIAlang\\Generalisation_PLacExample\\Examples\\Results\\PLacExample_VS_TestPLac_M2_2021-01-11\\OEDModelSelectionScripts\\PLacExample_VS_TestPLac_M2_OEDMS.jl\n",
      "--------------------------------------------------------------------------------------\n",
      "\n",
      "\n",
      "---------------------------------------------- OPTIMISATION INFO ----------------------------------------------\n",
      "\n",
      "If you wish to modify any of the settings for the Bayesian Optimisation used (from the package \n",
      "BayesianOptimization.jl) please search the function settingsBayesOpt located in the file ModelOEDSelection.jl \n",
      "that is located in the directory: \n",
      "        E:\\UNI\\D_Drive\\PhD\\JULIAlang\\Generalisation_PLacExample\\Examples\n",
      "and change any desired setting (under your own risk). \n",
      "If any irreversible change is made by mistake, just look for the file settingsBayesOptBackUp.jl and copy the\n",
      "contents of the function inside (which are the same as the original except for the function name ;) )\n",
      "\n",
      "---------------------------------------------------------------------------------------------------------------\n",
      "\n"
     ]
    }
   ],
   "source": [
    "# Generate scripts for the ODEs and Utility functions\n",
    "oedms_def = genOptimMSFuncts(oedms_def);"
   ]
  },
  {
   "cell_type": "markdown",
   "metadata": {},
   "source": [
    "#### Now, let's go through the different prints obtained\n",
    "**- WARNING:** Warning indicating that you have introduced a really low number of samples for theta in Model 1. 50 samples have been set arbitrally, but this number is still way too low. <br>\n",
    "**- WARNING:** Warning indicating that you have introduced a really low number of samples for theta in Model 2. 50 samples have been set arbitrally, but this number is still way too low. <br>\n",
    "**- WARNING:** This is just a warning indicating that the number of inducers in the two models is different, so extra care has to be taken when coding things. <br>\n",
    "**- MODEL GENERATION:** Generation of the scripts for model 1 (same as what GenerateModel does). <br>\n",
    "**- MODEL GENERATION:** Generation of the scripts for model 2 (same as what GenerateModel does). <br>\n",
    "**- SCRIPTS OED Model Selection:** Path to the utility function script that has been generated. <br>\n",
    "**- OPTIMISATION INFO:** Information showing the user how to change the settings of the Bayesian Optimisation package since BOMBS only uses soem default settings. Also points to a backup file for how the settings in BOMBS are. "
   ]
  },
  {
   "cell_type": "markdown",
   "metadata": {},
   "source": [
    "Here, have a look at how the utility function looks like (to double check that everything is ok with it)."
   ]
  },
  {
   "cell_type": "code",
   "execution_count": 11,
   "metadata": {},
   "outputs": [
    {
     "name": "stdout",
     "output_type": "stream",
     "text": [
      "\n",
      "        \n",
      "\n",
      "function PLacExample_VS_TestPLac_M2Utility(ins)\n",
      "\n",
      "    # Definition of the inputs for the ODEs\n",
      "    IPTG2,IPTG3,aTc = ins;\n",
      "    inputsM1 = [0,IPTG2,IPTG3];\n",
      "    inputsM2 = [0,aTc,IPTG2,aTc,IPTG3,aTc];\n",
      "\n",
      "    # Solve ODEs\n",
      "\n",
      "    solM1 = PLacExample_SolveAll(tsMS, pD1MS, spMS, inputsM1, ivss1MS, sampsMS, pre1MS);\n",
      "    solM2 = TestPLac_M2_SolveAll(tsMS, pD2MS, spMS, inputsM2, ivss2MS, sampsMS, pre2MS);\n",
      "\n",
      "    # Extracte wanted vectors (observables) with time reduction\n",
      "    Obs1_M1 = 3 .*solM1[:,4,:]; \n",
      "\n",
      "    Obs1_M2 = 3 .*solM2[:,4,:]; \n",
      "\n",
      "    \n",
      "    mu1_M1 = mean(Obs1_M1, dims=2); \n",
      "\n",
      "    sd1_M1 = cov(Obs1_M1, dims=2).+(0.1*Matrix((Diagonal(ones(size(Obs1_M1)[1]))))); \n",
      "\n",
      "\n",
      "    mu1_M2 = mean(Obs1_M2, dims=2); \n",
      "\n",
      "    sd1_M2 = cov(Obs1_M2, dims=2).+(0.1*Matrix((Diagonal(ones(size(Obs1_M2)[1]))))); \n",
      "\n",
      "\n",
      "    BHD1 = BhattacharyyaDist(mu1_M1[:,1], mu1_M2[:,1], sd1_M1, sd1_M2); \n",
      "\n",
      "\n",
      "    util = mean(BHD1);\n",
      "\n",
      "        \n",
      "\n",
      "    return(util)\n",
      "end\n",
      "\n",
      "    "
     ]
    }
   ],
   "source": [
    "stream = open(raw\"E:\\UNI\\D_Drive\\PhD\\JULIAlang\\Generalisation_PLacExample\\Examples\\Results\\PLacExample_VS_TestPLac_M2_2021-01-11\\OEDModelSelectionScripts\\PLacExample_VS_TestPLac_M2_OEDMS.jl\",\"r\");\n",
    "Model = read(stream,String);\n",
    "close(stream);\n",
    "print(Model)"
   ]
  },
  {
   "cell_type": "markdown",
   "metadata": {},
   "source": [
    "And now, to run the optimisation is as simple as: "
   ]
  },
  {
   "cell_type": "code",
   "execution_count": 12,
   "metadata": {},
   "outputs": [
    {
     "name": "stdout",
     "output_type": "stream",
     "text": [
      "-------------------------- WARNING --------------------------\n",
      "Less than 50 samples for theta are given for Model 1. \n",
      "Consider using more samples for better results. \n",
      "-------------------------------------------------------------\n",
      "-------------------------- WARNING --------------------------\n",
      "Less than 50 samples for theta are given for Model 2. \n",
      "Consider using more samples for better results. \n",
      "-------------------------------------------------------------\n",
      "-------------------------- WARNING --------------------------\n",
      "The amount of inducers is different in the two models.\n",
      "Be carefull on how you configure that. \n",
      "-------------------------------------------------------------\n"
     ]
    },
    {
     "name": "stderr",
     "output_type": "stream",
     "text": [
      "┌ Info: 2021-01-11T14:54:07.84\titeration: 15\tcurrent optimum: 4.246896222266496e11\n",
      "└ @ BayesianOptimization C:\\Users\\david\\.juliapro\\JuliaPro_v1.4.0-1\\packages\\BayesianOptimization\\poykT\\src\\BayesianOptimization.jl:140\n",
      "┌ Info: 2021-01-11T14:54:10.611\titeration: 16\tcurrent optimum: 4.246896222266496e11\n",
      "└ @ BayesianOptimization C:\\Users\\david\\.juliapro\\JuliaPro_v1.4.0-1\\packages\\BayesianOptimization\\poykT\\src\\BayesianOptimization.jl:140\n",
      "┌ Info: 2021-01-11T14:54:10.658\titeration: 17\tcurrent optimum: 4.246896222266496e11\n",
      "└ @ BayesianOptimization C:\\Users\\david\\.juliapro\\JuliaPro_v1.4.0-1\\packages\\BayesianOptimization\\poykT\\src\\BayesianOptimization.jl:140\n",
      "┌ Info: 2021-01-11T14:54:10.7\titeration: 18\tcurrent optimum: 4.246896222266496e11\n",
      "└ @ BayesianOptimization C:\\Users\\david\\.juliapro\\JuliaPro_v1.4.0-1\\packages\\BayesianOptimization\\poykT\\src\\BayesianOptimization.jl:140\n",
      "┌ Info: 2021-01-11T14:54:10.746\titeration: 19\tcurrent optimum: 4.246896222266496e11\n",
      "└ @ BayesianOptimization C:\\Users\\david\\.juliapro\\JuliaPro_v1.4.0-1\\packages\\BayesianOptimization\\poykT\\src\\BayesianOptimization.jl:140\n",
      "┌ Info: 2021-01-11T14:54:10.79\titeration: 20\tcurrent optimum: 4.246896222266496e11\n",
      "└ @ BayesianOptimization C:\\Users\\david\\.juliapro\\JuliaPro_v1.4.0-1\\packages\\BayesianOptimization\\poykT\\src\\BayesianOptimization.jl:140\n",
      "┌ Info: 2021-01-11T14:54:10.834\titeration: 21\tcurrent optimum: 4.246896222266496e11\n",
      "└ @ BayesianOptimization C:\\Users\\david\\.juliapro\\JuliaPro_v1.4.0-1\\packages\\BayesianOptimization\\poykT\\src\\BayesianOptimization.jl:140\n",
      "┌ Info: 2021-01-11T14:54:10.88\titeration: 22\tcurrent optimum: 4.246896222266496e11\n",
      "└ @ BayesianOptimization C:\\Users\\david\\.juliapro\\JuliaPro_v1.4.0-1\\packages\\BayesianOptimization\\poykT\\src\\BayesianOptimization.jl:140\n",
      "┌ Info: 2021-01-11T14:54:10.927\titeration: 23\tcurrent optimum: 2.1694314558770613e12\n",
      "└ @ BayesianOptimization C:\\Users\\david\\.juliapro\\JuliaPro_v1.4.0-1\\packages\\BayesianOptimization\\poykT\\src\\BayesianOptimization.jl:140\n",
      "┌ Info: 2021-01-11T14:54:10.972\titeration: 24\tcurrent optimum: 2.1694314558770613e12\n",
      "└ @ BayesianOptimization C:\\Users\\david\\.juliapro\\JuliaPro_v1.4.0-1\\packages\\BayesianOptimization\\poykT\\src\\BayesianOptimization.jl:140\n",
      "┌ Info: 2021-01-11T14:54:11.019\titeration: 25\tcurrent optimum: 2.1694314558770613e12\n",
      "└ @ BayesianOptimization C:\\Users\\david\\.juliapro\\JuliaPro_v1.4.0-1\\packages\\BayesianOptimization\\poykT\\src\\BayesianOptimization.jl:140\n",
      "┌ Info: 2021-01-11T14:54:11.069\titeration: 26\tcurrent optimum: 2.1694314558770613e12\n",
      "└ @ BayesianOptimization C:\\Users\\david\\.juliapro\\JuliaPro_v1.4.0-1\\packages\\BayesianOptimization\\poykT\\src\\BayesianOptimization.jl:140\n",
      "┌ Info: 2021-01-11T14:54:11.119\titeration: 27\tcurrent optimum: 2.1694314558770613e12\n",
      "└ @ BayesianOptimization C:\\Users\\david\\.juliapro\\JuliaPro_v1.4.0-1\\packages\\BayesianOptimization\\poykT\\src\\BayesianOptimization.jl:140\n",
      "┌ Info: 2021-01-11T14:54:11.163\titeration: 28\tcurrent optimum: 2.1694314558770613e12\n",
      "└ @ BayesianOptimization C:\\Users\\david\\.juliapro\\JuliaPro_v1.4.0-1\\packages\\BayesianOptimization\\poykT\\src\\BayesianOptimization.jl:140\n",
      "┌ Info: 2021-01-11T14:54:11.212\titeration: 29\tcurrent optimum: 2.1694314558770613e12\n",
      "└ @ BayesianOptimization C:\\Users\\david\\.juliapro\\JuliaPro_v1.4.0-1\\packages\\BayesianOptimization\\poykT\\src\\BayesianOptimization.jl:140\n",
      "┌ Info: 2021-01-11T14:54:11.257\titeration: 30\tcurrent optimum: 2.1694314558770613e12\n",
      "└ @ BayesianOptimization C:\\Users\\david\\.juliapro\\JuliaPro_v1.4.0-1\\packages\\BayesianOptimization\\poykT\\src\\BayesianOptimization.jl:140\n",
      "┌ Info: 2021-01-11T14:54:11.304\titeration: 31\tcurrent optimum: 2.1694314558770613e12\n",
      "└ @ BayesianOptimization C:\\Users\\david\\.juliapro\\JuliaPro_v1.4.0-1\\packages\\BayesianOptimization\\poykT\\src\\BayesianOptimization.jl:140\n",
      "┌ Info: 2021-01-11T14:54:11.354\titeration: 32\tcurrent optimum: 2.1694314558770613e12\n",
      "└ @ BayesianOptimization C:\\Users\\david\\.juliapro\\JuliaPro_v1.4.0-1\\packages\\BayesianOptimization\\poykT\\src\\BayesianOptimization.jl:140\n",
      "┌ Info: 2021-01-11T14:54:11.481\titeration: 33\tcurrent optimum: 2.1694314558770613e12\n",
      "└ @ BayesianOptimization C:\\Users\\david\\.juliapro\\JuliaPro_v1.4.0-1\\packages\\BayesianOptimization\\poykT\\src\\BayesianOptimization.jl:140\n",
      "┌ Info: 2021-01-11T14:54:11.528\titeration: 34\tcurrent optimum: 2.1694314558770613e12\n",
      "└ @ BayesianOptimization C:\\Users\\david\\.juliapro\\JuliaPro_v1.4.0-1\\packages\\BayesianOptimization\\poykT\\src\\BayesianOptimization.jl:140\n",
      "┌ Info: 2021-01-11T14:54:11.574\titeration: 35\tcurrent optimum: 2.1694314558770613e12\n",
      "└ @ BayesianOptimization C:\\Users\\david\\.juliapro\\JuliaPro_v1.4.0-1\\packages\\BayesianOptimization\\poykT\\src\\BayesianOptimization.jl:140\n",
      "┌ Info: 2021-01-11T14:54:11.619\titeration: 36\tcurrent optimum: 2.1694314558770613e12\n",
      "└ @ BayesianOptimization C:\\Users\\david\\.juliapro\\JuliaPro_v1.4.0-1\\packages\\BayesianOptimization\\poykT\\src\\BayesianOptimization.jl:140\n",
      "┌ Info: 2021-01-11T14:54:11.664\titeration: 37\tcurrent optimum: 2.1694314558770613e12\n",
      "└ @ BayesianOptimization C:\\Users\\david\\.juliapro\\JuliaPro_v1.4.0-1\\packages\\BayesianOptimization\\poykT\\src\\BayesianOptimization.jl:140\n",
      "┌ Info: 2021-01-11T14:54:11.71\titeration: 38\tcurrent optimum: 2.1694314558770613e12\n",
      "└ @ BayesianOptimization C:\\Users\\david\\.juliapro\\JuliaPro_v1.4.0-1\\packages\\BayesianOptimization\\poykT\\src\\BayesianOptimization.jl:140\n",
      "┌ Info: 2021-01-11T14:54:11.755\titeration: 39\tcurrent optimum: 2.1694314558770613e12\n",
      "└ @ BayesianOptimization C:\\Users\\david\\.juliapro\\JuliaPro_v1.4.0-1\\packages\\BayesianOptimization\\poykT\\src\\BayesianOptimization.jl:140\n",
      "┌ Info: 2021-01-11T14:54:11.801\titeration: 40\tcurrent optimum: 2.1694314558770613e12\n",
      "└ @ BayesianOptimization C:\\Users\\david\\.juliapro\\JuliaPro_v1.4.0-1\\packages\\BayesianOptimization\\poykT\\src\\BayesianOptimization.jl:140\n",
      "┌ Info: 2021-01-11T14:54:11.848\titeration: 41\tcurrent optimum: 2.1694314558770613e12\n",
      "└ @ BayesianOptimization C:\\Users\\david\\.juliapro\\JuliaPro_v1.4.0-1\\packages\\BayesianOptimization\\poykT\\src\\BayesianOptimization.jl:140\n",
      "┌ Info: 2021-01-11T14:54:11.895\titeration: 42\tcurrent optimum: 2.1694314558770613e12\n",
      "└ @ BayesianOptimization C:\\Users\\david\\.juliapro\\JuliaPro_v1.4.0-1\\packages\\BayesianOptimization\\poykT\\src\\BayesianOptimization.jl:140\n",
      "┌ Info: 2021-01-11T14:54:11.943\titeration: 43\tcurrent optimum: 2.1694314558770613e12\n",
      "└ @ BayesianOptimization C:\\Users\\david\\.juliapro\\JuliaPro_v1.4.0-1\\packages\\BayesianOptimization\\poykT\\src\\BayesianOptimization.jl:140\n",
      "┌ Info: 2021-01-11T14:54:11.99\titeration: 44\tcurrent optimum: 2.1694314558770613e12\n",
      "└ @ BayesianOptimization C:\\Users\\david\\.juliapro\\JuliaPro_v1.4.0-1\\packages\\BayesianOptimization\\poykT\\src\\BayesianOptimization.jl:140\n",
      "┌ Info: 2021-01-11T14:54:12.036\titeration: 45\tcurrent optimum: 2.1694314558770613e12\n",
      "└ @ BayesianOptimization C:\\Users\\david\\.juliapro\\JuliaPro_v1.4.0-1\\packages\\BayesianOptimization\\poykT\\src\\BayesianOptimization.jl:140\n",
      "┌ Info: 2021-01-11T14:54:12.081\titeration: 46\tcurrent optimum: 2.1694314558770613e12\n",
      "└ @ BayesianOptimization C:\\Users\\david\\.juliapro\\JuliaPro_v1.4.0-1\\packages\\BayesianOptimization\\poykT\\src\\BayesianOptimization.jl:140\n",
      "┌ Info: 2021-01-11T14:54:12.127\titeration: 47\tcurrent optimum: 2.1694314558770613e12\n",
      "└ @ BayesianOptimization C:\\Users\\david\\.juliapro\\JuliaPro_v1.4.0-1\\packages\\BayesianOptimization\\poykT\\src\\BayesianOptimization.jl:140\n",
      "┌ Info: 2021-01-11T14:54:12.172\titeration: 48\tcurrent optimum: 2.1694314558770613e12\n",
      "└ @ BayesianOptimization C:\\Users\\david\\.juliapro\\JuliaPro_v1.4.0-1\\packages\\BayesianOptimization\\poykT\\src\\BayesianOptimization.jl:140\n",
      "┌ Info: 2021-01-11T14:54:12.218\titeration: 49\tcurrent optimum: 2.1694314558770613e12\n",
      "└ @ BayesianOptimization C:\\Users\\david\\.juliapro\\JuliaPro_v1.4.0-1\\packages\\BayesianOptimization\\poykT\\src\\BayesianOptimization.jl:140\n",
      "┌ Info:  ──────────────────────────────────────────────────────────────────────────────\n",
      "│                                        Time                   Allocations      \n",
      "│                                ──────────────────────   ───────────────────────\n",
      "│        Tot / % measured:            18.8s / 96.8%           3.26GiB / 98.1%    \n",
      "│ \n",
      "│  Section               ncalls     time   %tot     avg     alloc   %tot      avg\n",
      "│  ──────────────────────────────────────────────────────────────────────────────\n",
      "│  function evaluation       50    12.7s  70.0%   255ms   2.31GiB  72.5%  47.4MiB\n",
      "│  acquisition               36    4.25s  23.3%   118ms    717MiB  21.9%  19.9MiB\n",
      "│  model update              36    659ms  3.62%  18.3ms   96.7MiB  2.96%  2.69MiB\n",
      "│  model hyperparamet...     36    545ms  3.00%  15.1ms   87.1MiB  2.67%  2.42MiB\n",
      "│  ──────────────────────────────────────────────────────────────────────────────\n",
      "└ @ BayesianOptimization C:\\Users\\david\\.juliapro\\JuliaPro_v1.4.0-1\\packages\\BayesianOptimization\\poykT\\src\\BayesianOptimization.jl:154\n"
     ]
    },
    {
     "name": "stdout",
     "output_type": "stream",
     "text": [
      "\n",
      "----------------------------------------- RESULTS -----------------------------------------\n",
      "OED for Model Selection results are saved in the directory: \n",
      "                 E:\\UNI\\D_Drive\\PhD\\JULIAlang\\Generalisation_PLacExample\\Examples\\Results\\PLacExample_VS_TestPLac_M2_2021-01-11\n",
      "Under the name OEDModelSelectResults_testOEDMS1.jld\n",
      "--------------------------------------------------------------------------------------\n",
      "\n",
      "\n",
      "----------------------------------------- PLOTS -----------------------------------------\n",
      "PLOTS are saved in the directory: \n",
      "                 E:\\UNI\\D_Drive\\PhD\\JULIAlang\\Generalisation_PLacExample\\Examples\\Results\\PLacExample_VS_TestPLac_M2_2021-01-11\n",
      "Under the names PlotOEDMSResults_Exp1_testOEDMS1.png and Plot_OEDMSConvergence_testOEDMS1.png\n",
      "--------------------------------------------------------------------------------------\n",
      "\n"
     ]
    }
   ],
   "source": [
    "oedms_res, oedms_def = mainOEDMS(oedms_def);"
   ]
  },
  {
   "cell_type": "markdown",
   "metadata": {},
   "source": [
    "### First, let's have a look at the results structure"
   ]
  },
  {
   "cell_type": "code",
   "execution_count": 13,
   "metadata": {},
   "outputs": [
    {
     "data": {
      "text/plain": [
       "Dict{Any,Any} with 9 entries:\n",
       "  \"BestResOptim\" => (observed_optimum = 2.16943e12, observed_optimizer = [55.44…\n",
       "  \"uInpOpt\"      => Dict{Any,Any}(\"aTc\"=>[0.17936],\"IPTG\"=>Any[0, 55.4408, 52.9…\n",
       "  \"ResOptim\"     => Dict{String,Any}(\"modelY\"=>[1.24247e10, 8.97982e9, 5.01717e…\n",
       "  \"Simul_M1\"     => [0.317361 18.8312 11.9507 823.01; 0.317361 18.8312 11.9507 …\n",
       "  \"Simul_M2\"     => [0.0 0.0 0.0 0.0; 2.42175 15.6851 0.468041 32.2325; … ; 73.…\n",
       "  \"BestUtil\"     => 2.16943e12\n",
       "  \"ConvCurv\"     => [1.0 1.24247e10; 2.0 1.24247e10; … ; 49.0 2.16943e12; 50.0 …\n",
       "  \"SimulObs_M2\"  => [0.0; 96.6976; … ; 571497.0; 571497.0]…\n",
       "  \"SimulObs_M1\"  => [2469.03; 2469.03; … ; 49574.5; 49574.5]…"
      ]
     },
     "execution_count": 13,
     "metadata": {},
     "output_type": "execute_result"
    }
   ],
   "source": [
    "oedms_res"
   ]
  },
  {
   "cell_type": "markdown",
   "metadata": {},
   "source": [
    "**- BestResOptim:** BayesianOptimisation optimisation results (as they come from the package) for the best iteration"
   ]
  },
  {
   "cell_type": "code",
   "execution_count": 14,
   "metadata": {},
   "outputs": [
    {
     "data": {
      "text/plain": [
       "(observed_optimum = 2.1694314558770613e12, observed_optimizer = [55.44076625576275, 52.92822876115282, 0.1793599755686368], model_optimum = 9.86072087820722e10, model_optimizer = [54.12687525028184, 10.1458032095039, 1.3316711802418602])"
      ]
     },
     "execution_count": 14,
     "metadata": {},
     "output_type": "execute_result"
    }
   ],
   "source": [
    "oedms_res[\"BestResOptim\"]"
   ]
  },
  {
   "cell_type": "markdown",
   "metadata": {},
   "source": [
    "**- uInpOpt:** Dictionary with an entry for each inducer of the models and the optimised value for each step (if an input is fixed for the whole experiment this will appear only once). <br>\n",
    "If you have steps fixed to a specific value, this will still be included in this results (it will be the actual values for the experiments, not the optimisation results)."
   ]
  },
  {
   "cell_type": "code",
   "execution_count": 15,
   "metadata": {},
   "outputs": [
    {
     "data": {
      "text/plain": [
       "Dict{Any,Any} with 2 entries:\n",
       "  \"aTc\"  => [0.17936]\n",
       "  \"IPTG\" => Any[0, 55.4408, 52.9282]"
      ]
     },
     "execution_count": 15,
     "metadata": {},
     "output_type": "execute_result"
    }
   ],
   "source": [
    "oedms_res[\"uInpOpt\"]"
   ]
  },
  {
   "cell_type": "markdown",
   "metadata": {},
   "source": [
    "**- ResOptim:** The optmisation structure details from Bayesian Optimisation."
   ]
  },
  {
   "cell_type": "code",
   "execution_count": 16,
   "metadata": {},
   "outputs": [
    {
     "data": {
      "text/plain": [
       "Dict{String,Any} with 12 entries:\n",
       "  \"modelY\"             => [1.24247e10, 8.97982e9, 5.01717e10, 2.17998e10, 8.673…\n",
       "  \"modelX\"             => [68.75 93.75 … 67.783 25.4655; 81.25 6.25 … 40.6421 8…\n",
       "  \"acquisitionoptions\" => (method = :LD_LBFGS, restarts = 10, maxeval = 2000)\n",
       "  \"duration\"           => DurationCounter(1.61038e9, Inf, 1.61038e9, Inf)\n",
       "  \"repetitions\"        => 1\n",
       "  \"model_optimum\"      => 9.86072e10\n",
       "  \"sense\"              => Max\n",
       "  \"modeloptimizer\"     => MAPGPOptimizer{NamedTuple{(:domean, :kern, :noise, :l…\n",
       "  \"model_optimizer\"    => [54.1269, 10.1458, 1.33167]\n",
       "  \"upperbounds\"        => [100.0, 100.0, 10.0]\n",
       "  \"observed_optimizer\" => [55.4408, 52.9282, 0.17936]\n",
       "  \"observed_optimum\"   => 2.16943e12"
      ]
     },
     "execution_count": 16,
     "metadata": {},
     "output_type": "execute_result"
    }
   ],
   "source": [
    "oedms_res[\"ResOptim\"]"
   ]
  },
  {
   "cell_type": "markdown",
   "metadata": {},
   "source": [
    "**- Simul_M1:** Simulation of model 1 using the optimum input profile. "
   ]
  },
  {
   "cell_type": "code",
   "execution_count": 17,
   "metadata": {},
   "outputs": [
    {
     "data": {
      "text/plain": [
       "288×4×3 Array{Float64,3}:\n",
       "[:, :, 1] =\n",
       " 0.317361   18.8312   11.9507    823.01\n",
       " 0.317361   18.8312   11.9507    823.01\n",
       " 0.317361   18.8312   11.9507    823.01\n",
       " 0.317361   18.8312   11.9507    823.01\n",
       " 0.317361   18.8312   11.9507    823.01\n",
       " 0.317361   18.8312   11.9507    823.01\n",
       " 0.317361   18.8312   11.9507    823.01\n",
       " 0.317361   18.8312   11.9507    823.01\n",
       " 0.317361   18.8312   11.9507    823.01\n",
       " 0.317361   18.8312   11.9507    823.01\n",
       " 0.317361   18.8312   11.9507    823.01\n",
       " 0.317361   18.8312   11.9507    823.01\n",
       " 0.317361   18.8312   11.9507    823.01\n",
       " ⋮                             \n",
       " 6.37215   378.103   239.953   16524.8\n",
       " 6.37215   378.103   239.953   16524.8\n",
       " 6.37215   378.103   239.953   16524.8\n",
       " 6.37215   378.103   239.953   16524.8\n",
       " 6.37215   378.103   239.953   16524.8\n",
       " 6.37215   378.103   239.953   16524.8\n",
       " 6.37215   378.103   239.953   16524.8\n",
       " 6.37215   378.103   239.953   16524.8\n",
       " 6.37215   378.103   239.953   16524.8\n",
       " 6.37215   378.103   239.953   16524.8\n",
       " 6.37215   378.103   239.953   16524.8\n",
       " 6.37215   378.103   239.953   16524.8\n",
       "\n",
       "[:, :, 2] =\n",
       " 0.317361   18.8312   11.9507    781.859\n",
       " 0.317361   18.8312   11.9507    781.859\n",
       " 0.317361   18.8312   11.9507    781.859\n",
       " 0.317361   18.8312   11.9507    781.859\n",
       " 0.317361   18.8312   11.9507    781.859\n",
       " 0.317361   18.8312   11.9507    781.859\n",
       " 0.317361   18.8312   11.9507    781.859\n",
       " 0.317361   18.8312   11.9507    781.859\n",
       " 0.317361   18.8312   11.9507    781.859\n",
       " 0.317361   18.8312   11.9507    781.859\n",
       " 0.317361   18.8312   11.9507    781.859\n",
       " 0.317361   18.8312   11.9507    781.859\n",
       " 0.317361   18.8312   11.9507    781.859\n",
       " ⋮                             \n",
       " 6.35443   377.051   239.285   15654.9\n",
       " 6.35443   377.051   239.285   15654.9\n",
       " 6.35443   377.051   239.285   15654.9\n",
       " 6.35443   377.051   239.285   15654.9\n",
       " 6.35443   377.051   239.285   15654.9\n",
       " 6.35443   377.051   239.285   15654.9\n",
       " 6.35443   377.051   239.285   15654.9\n",
       " 6.35443   377.051   239.285   15654.9\n",
       " 6.35443   377.051   239.285   15654.9\n",
       " 6.35443   377.051   239.285   15654.9\n",
       " 6.35443   377.051   239.285   15654.9\n",
       " 6.35443   377.051   239.285   15654.9\n",
       "\n",
       "[:, :, 3] =\n",
       " 0.317361   18.8312   11.9507    987.611\n",
       " 0.317361   18.8312   11.9507    987.611\n",
       " 0.317361   18.8312   11.9507    987.611\n",
       " 0.317361   18.8312   11.9507    987.611\n",
       " 0.317361   18.8312   11.9507    987.611\n",
       " 0.317361   18.8312   11.9507    987.611\n",
       " 0.317361   18.8312   11.9507    987.611\n",
       " 0.317361   18.8312   11.9507    987.611\n",
       " 0.317361   18.8312   11.9507    987.611\n",
       " 0.317361   18.8312   11.9507    987.611\n",
       " 0.317361   18.8312   11.9507    987.611\n",
       " 0.317361   18.8312   11.9507    987.611\n",
       " 0.317361   18.8312   11.9507    987.611\n",
       " ⋮                             \n",
       " 6.42366   381.159   241.892   19990.1\n",
       " 6.42366   381.159   241.892   19990.1\n",
       " 6.42366   381.159   241.892   19990.1\n",
       " 6.42366   381.159   241.892   19990.1\n",
       " 6.42366   381.159   241.892   19990.1\n",
       " 6.42366   381.159   241.892   19990.1\n",
       " 6.42366   381.159   241.892   19990.1\n",
       " 6.42366   381.159   241.892   19990.1\n",
       " 6.42366   381.159   241.892   19990.1\n",
       " 6.42366   381.159   241.892   19990.1\n",
       " 6.42366   381.159   241.892   19990.1\n",
       " 6.42366   381.159   241.892   19990.1"
      ]
     },
     "execution_count": 17,
     "metadata": {},
     "output_type": "execute_result"
    }
   ],
   "source": [
    "oedms_res[\"Simul_M1\"]"
   ]
  },
  {
   "cell_type": "markdown",
   "metadata": {},
   "source": [
    "**- Simul_M2:** Simulation of model 2 using the optimum input profile. "
   ]
  },
  {
   "cell_type": "code",
   "execution_count": 18,
   "metadata": {},
   "outputs": [
    {
     "data": {
      "text/plain": [
       "288×4×3 Array{Float64,3}:\n",
       "[:, :, 1] =\n",
       "  0.0         0.0        0.0            0.0\n",
       "  2.42175    15.6851     0.468041      32.2325\n",
       "  4.6935     57.0271     3.36209      231.537\n",
       "  6.82454   116.898     10.204        702.721\n",
       "  8.82358   189.763     21.7834      1500.16\n",
       " 10.6988    271.343     38.3743      2642.72\n",
       " 12.4579    358.346     59.8972      4124.94\n",
       " 14.108     448.258     86.0407      5925.36\n",
       " 15.6559    539.172    116.35        8012.65\n",
       " 17.1079    629.66     150.29       10350.0\n",
       " 18.47      718.664    187.296      12898.5\n",
       " 19.7478    805.42     226.798      15618.9\n",
       " 20.9463    889.388    268.252      18473.7\n",
       "  ⋮                                \n",
       " 73.4585   4358.78    2766.18      190498.0\n",
       " 73.4586   4358.79    2766.18      190498.0\n",
       " 73.4586   4358.79    2766.18      190498.0\n",
       " 73.4586   4358.79    2766.18      190498.0\n",
       " 73.4586   4358.79    2766.18      190499.0\n",
       " 73.4586   4358.79    2766.18      190499.0\n",
       " 73.4586   4358.79    2766.18      190499.0\n",
       " 73.4586   4358.79    2766.19      190499.0\n",
       " 73.4586   4358.79    2766.19      190499.0\n",
       " 73.4586   4358.79    2766.19      190499.0\n",
       " 73.4586   4358.79    2766.19      190499.0\n",
       " 73.4587   4358.79    2766.19      190499.0\n",
       "\n",
       "[:, :, 2] =\n",
       "  0.0         0.0        0.0            0.0\n",
       "  2.42558    14.973      0.424704      27.7857\n",
       "  4.70822    54.6897     3.06692      200.649\n",
       "  6.85632   112.599      9.35608      612.109\n",
       "  8.87782   183.549     20.0731      1313.25\n",
       " 10.7802    263.501     35.5329      2324.69\n",
       " 12.5704    349.304     55.7237      3645.65\n",
       " 14.2552    438.514     80.4117      5260.83\n",
       " 15.8406    529.25     109.22        7145.59\n",
       " 17.3326    620.072    141.688       9269.74\n",
       " 18.7367    709.896    177.311      11600.3\n",
       " 20.058     797.915    215.575      14103.7\n",
       " 21.3015    883.543    255.974      16746.7\n",
       "  ⋮                                \n",
       " 75.5459   4482.64    2844.76      186115.0\n",
       " 75.546    4482.64    2844.77      186115.0\n",
       " 75.546    4482.64    2844.77      186115.0\n",
       " 75.546    4482.64    2844.77      186115.0\n",
       " 75.5461   4482.65    2844.78      186115.0\n",
       " 75.5461   4482.65    2844.78      186116.0\n",
       " 75.5461   4482.65    2844.78      186116.0\n",
       " 75.5461   4482.65    2844.78      186116.0\n",
       " 75.5461   4482.65    2844.78      186116.0\n",
       " 75.5462   4482.66    2844.79      186116.0\n",
       " 75.5462   4482.66    2844.79      186116.0\n",
       " 75.5462   4482.66    2844.79      186116.0\n",
       "\n",
       "[:, :, 3] =\n",
       "  0.0         0.0        0.0            0.0\n",
       "  2.4065     18.4626     0.659539      54.5046\n",
       "  4.63525    65.9113     4.63926      383.39\n",
       "  6.69939   132.797     13.7968      1140.18\n",
       "  8.61107   212.083     28.8792      2386.58\n",
       " 10.3816    298.622     49.9143      4124.94\n",
       " 12.0213    388.677     76.488       6320.99\n",
       " 13.5399    479.571    107.935       8919.76\n",
       " 14.9463    569.413    143.469      11856.3\n",
       " 16.2489    656.898    182.271      15062.9\n",
       " 17.4553    741.157    223.543      18473.7\n",
       " 18.5725    821.637    266.545      22027.4\n",
       " 19.6073    898.022    310.608      25668.8\n",
       "  ⋮                                \n",
       " 66.8082   3964.18    2515.77      207904.0\n",
       " 66.8082   3964.18    2515.76      207904.0\n",
       " 66.8082   3964.18    2515.76      207904.0\n",
       " 66.8082   3964.18    2515.76      207904.0\n",
       " 66.8082   3964.18    2515.76      207904.0\n",
       " 66.8082   3964.18    2515.76      207904.0\n",
       " 66.8082   3964.18    2515.76      207904.0\n",
       " 66.8081   3964.18    2515.76      207903.0\n",
       " 66.8081   3964.18    2515.76      207903.0\n",
       " 66.8081   3964.18    2515.76      207903.0\n",
       " 66.8081   3964.18    2515.76      207903.0\n",
       " 66.8081   3964.18    2515.76      207903.0"
      ]
     },
     "execution_count": 18,
     "metadata": {},
     "output_type": "execute_result"
    }
   ],
   "source": [
    "oedms_res[\"Simul_M2\"]"
   ]
  },
  {
   "cell_type": "markdown",
   "metadata": {},
   "source": [
    "**- BestUtil:** Best utility function value"
   ]
  },
  {
   "cell_type": "code",
   "execution_count": 21,
   "metadata": {},
   "outputs": [
    {
     "data": {
      "text/plain": [
       "2.1694314558770613e12"
      ]
     },
     "execution_count": 21,
     "metadata": {},
     "output_type": "execute_result"
    }
   ],
   "source": [
    "oedms_res[\"BestUtil\"]"
   ]
  },
  {
   "cell_type": "markdown",
   "metadata": {},
   "source": [
    "**- ConvCurv:** Convergence curve for the optimisation. First column indicates iteration and second column best utility function so far. "
   ]
  },
  {
   "cell_type": "code",
   "execution_count": 22,
   "metadata": {},
   "outputs": [
    {
     "data": {
      "text/plain": [
       "50×2 Array{Float64,2}:\n",
       "  1.0  1.24247e10\n",
       "  2.0  1.24247e10\n",
       "  3.0  5.01717e10\n",
       "  4.0  5.01717e10\n",
       "  5.0  5.01717e10\n",
       "  6.0  4.2469e11\n",
       "  7.0  4.2469e11\n",
       "  8.0  4.2469e11\n",
       "  9.0  4.2469e11\n",
       " 10.0  4.2469e11\n",
       " 11.0  4.2469e11\n",
       " 12.0  4.2469e11\n",
       " 13.0  4.2469e11\n",
       "  ⋮    \n",
       " 39.0  2.16943e12\n",
       " 40.0  2.16943e12\n",
       " 41.0  2.16943e12\n",
       " 42.0  2.16943e12\n",
       " 43.0  2.16943e12\n",
       " 44.0  2.16943e12\n",
       " 45.0  2.16943e12\n",
       " 46.0  2.16943e12\n",
       " 47.0  2.16943e12\n",
       " 48.0  2.16943e12\n",
       " 49.0  2.16943e12\n",
       " 50.0  2.16943e12"
      ]
     },
     "execution_count": 22,
     "metadata": {},
     "output_type": "execute_result"
    }
   ],
   "source": [
    "oedms_res[\"ConvCurv\"]"
   ]
  },
  {
   "cell_type": "markdown",
   "metadata": {},
   "source": [
    "**- SimulObs_M2:** Simulation of the observables for model 2 using the optimum input profile. "
   ]
  },
  {
   "cell_type": "code",
   "execution_count": 19,
   "metadata": {},
   "outputs": [
    {
     "data": {
      "text/plain": [
       "288×1×3 Array{Float64,3}:\n",
       "[:, :, 1] =\n",
       "      0.0\n",
       "     96.69761652836127\n",
       "    694.6099986435767\n",
       "   2108.1618789213526\n",
       "   4500.479283053231\n",
       "   7928.154273656792\n",
       "  12374.814692070204\n",
       "  17776.085195642398\n",
       "  24037.95320035545\n",
       "  31050.104629888774\n",
       "  38695.44215336185\n",
       "  46856.72480080543\n",
       "  55421.0521763486\n",
       "      ⋮\n",
       " 571494.616162687\n",
       " 571494.9012590831\n",
       " 571495.1686186456\n",
       " 571495.4193463358\n",
       " 571495.6544913574\n",
       " 571495.8750166168\n",
       " 571496.0818378307\n",
       " 571496.2758095912\n",
       " 571496.4577170619\n",
       " 571496.6283185731\n",
       " 571496.7883257589\n",
       " 571496.938414898\n",
       "\n",
       "[:, :, 2] =\n",
       "      0.0\n",
       "     83.35699665616985\n",
       "    601.9477897697814\n",
       "   1836.3264308209332\n",
       "   3939.7633071214914\n",
       "   6974.07996614401\n",
       "  10936.939767546664\n",
       "  15782.477817871459\n",
       "  21436.75559456181\n",
       "  27809.209330056226\n",
       "  34801.011335339834\n",
       "  42311.06455421397\n",
       "  50240.19378867351\n",
       "      ⋮\n",
       " 558344.2319436241\n",
       " 558344.8234978353\n",
       " 558345.3800842825\n",
       " 558345.9037690666\n",
       " 558346.3965117423\n",
       " 558346.8601266143\n",
       " 558347.2963459076\n",
       " 558347.7068023244\n",
       " 558348.0930167257\n",
       " 558348.4563913562\n",
       " 558348.7983112319\n",
       " 558349.1200751417\n",
       "\n",
       "[:, :, 3] =\n",
       "      0.0\n",
       "    163.5136672309576\n",
       "   1150.1704656243983\n",
       "   3420.5286063777385\n",
       "   7159.749197220347\n",
       "  12374.814963318586\n",
       "  18962.976902008406\n",
       "  26759.268908155165\n",
       "  35568.886725058925\n",
       "  45188.70273747022\n",
       "  55421.05356809212\n",
       "  66082.092918298\n",
       "  77006.37889949942\n",
       "      ⋮\n",
       " 623711.1299062576\n",
       " 623711.0146962943\n",
       " 623710.9079776191\n",
       " 623710.8091268039\n",
       " 623710.7175612852\n",
       " 623710.6327522965\n",
       " 623710.5542133222\n",
       " 623710.4814624763\n",
       " 623710.4140554671\n",
       " 623710.3516424409\n",
       " 623710.2938266548\n",
       " 623710.2402571467"
      ]
     },
     "execution_count": 19,
     "metadata": {},
     "output_type": "execute_result"
    }
   ],
   "source": [
    "oedms_res[\"SimulObs_M2\"]"
   ]
  },
  {
   "cell_type": "markdown",
   "metadata": {},
   "source": [
    "**- SimulObs_M1:** Simulation of the obervables for model 1 using the optimum input profile. "
   ]
  },
  {
   "cell_type": "code",
   "execution_count": 20,
   "metadata": {},
   "outputs": [
    {
     "data": {
      "text/plain": [
       "288×1×3 Array{Float64,3}:\n",
       "[:, :, 1] =\n",
       "  2469.0287158650076\n",
       "  2469.0287158650076\n",
       "  2469.0287158650076\n",
       "  2469.0287158650076\n",
       "  2469.0287158650076\n",
       "  2469.0287158650076\n",
       "  2469.0287158650076\n",
       "  2469.0287158650076\n",
       "  2469.0287158650076\n",
       "  2469.0287158650076\n",
       "  2469.0287158650076\n",
       "  2469.0287158650076\n",
       "  2469.0287158650076\n",
       "     ⋮\n",
       " 49574.47453241724\n",
       " 49574.47358309929\n",
       " 49574.4727601765\n",
       " 49574.472047334006\n",
       " 49574.47142979033\n",
       " 49574.47089429735\n",
       " 49574.470429215464\n",
       " 49574.47002541334\n",
       " 49574.4696753974\n",
       " 49574.46937229506\n",
       " 49574.469109837766\n",
       " 49574.4688823609\n",
       "\n",
       "[:, :, 2] =\n",
       "  2345.5772800717577\n",
       "  2345.5772800717577\n",
       "  2345.5772800717577\n",
       "  2345.5772800717577\n",
       "  2345.5772800717577\n",
       "  2345.5772800717577\n",
       "  2345.5772800717577\n",
       "  2345.5772800717577\n",
       "  2345.5772800717577\n",
       "  2345.5772800717577\n",
       "  2345.5772800717577\n",
       "  2345.5772800717577\n",
       "  2345.5772800717577\n",
       "     ⋮\n",
       " 46964.748379987985\n",
       " 46964.74682881728\n",
       " 46964.74547292384\n",
       " 46964.74428803493\n",
       " 46964.743253605455\n",
       " 46964.74235091745\n",
       " 46964.7415630288\n",
       " 46964.7408747732\n",
       " 46964.74027304381\n",
       " 46964.73974744575\n",
       " 46964.73928852905\n",
       " 46964.73888780826\n",
       "\n",
       "[:, :, 3] =\n",
       "  2962.83445903801\n",
       "  2962.83445903801\n",
       "  2962.83445903801\n",
       "  2962.8344590380066\n",
       "  2962.8344590379947\n",
       "  2962.834459037979\n",
       "  2962.8344590379634\n",
       "  2962.834459037952\n",
       "  2962.834459037947\n",
       "  2962.8344590379497\n",
       "  2962.83445903796\n",
       "  2962.8344590379775\n",
       "  2962.834459038001\n",
       "     ⋮\n",
       " 59970.20372134833\n",
       " 59970.20359455769\n",
       " 59970.203486949846\n",
       " 59970.20339613802\n",
       " 59970.203319900844\n",
       " 59970.203256118664\n",
       " 59970.20320277348\n",
       " 59970.20315794903\n",
       " 59970.20311983372\n",
       " 59970.20308741425\n",
       " 59970.203060101245\n",
       " 59970.20303709436"
      ]
     },
     "execution_count": 20,
     "metadata": {},
     "output_type": "execute_result"
    }
   ],
   "source": [
    "oedms_res[\"SimulObs_M1\"]"
   ]
  },
  {
   "cell_type": "markdown",
   "metadata": {},
   "source": [
    "### Now, let's have a look at the plots generated\n",
    "First, the convergence curve <br>\n",
    "Note that to reduce the computational time of the example we used a really low number of iterations, so do not be surprised if the results do not look good. Also, technically, the second model does not make much sense as well. "
   ]
  },
  {
   "cell_type": "code",
   "execution_count": 23,
   "metadata": {},
   "outputs": [],
   "source": [
    "using Images # Package not called in BOMBS, this is just to display the generated PNGs"
   ]
  },
  {
   "cell_type": "code",
   "execution_count": 27,
   "metadata": {},
   "outputs": [
    {
     "data": {
      "image/png": "[encoded data removed]",
      "text/plain": [
       "400×600 Array{RGB{N0f8},2} with eltype RGB{Normed{UInt8,8}}:\n",
       " RGB{N0f8}(1.0,1.0,1.0)  RGB{N0f8}(1.0,1.0,1.0)  …  RGB{N0f8}(1.0,1.0,1.0)\n",
       " RGB{N0f8}(1.0,1.0,1.0)  RGB{N0f8}(1.0,1.0,1.0)     RGB{N0f8}(1.0,1.0,1.0)\n",
       " RGB{N0f8}(1.0,1.0,1.0)  RGB{N0f8}(1.0,1.0,1.0)     RGB{N0f8}(1.0,1.0,1.0)\n",
       " RGB{N0f8}(1.0,1.0,1.0)  RGB{N0f8}(1.0,1.0,1.0)     RGB{N0f8}(1.0,1.0,1.0)\n",
       " RGB{N0f8}(1.0,1.0,1.0)  RGB{N0f8}(1.0,1.0,1.0)     RGB{N0f8}(1.0,1.0,1.0)\n",
       " RGB{N0f8}(1.0,1.0,1.0)  RGB{N0f8}(1.0,1.0,1.0)  …  RGB{N0f8}(1.0,1.0,1.0)\n",
       " RGB{N0f8}(1.0,1.0,1.0)  RGB{N0f8}(1.0,1.0,1.0)     RGB{N0f8}(1.0,1.0,1.0)\n",
       " RGB{N0f8}(1.0,1.0,1.0)  RGB{N0f8}(1.0,1.0,1.0)     RGB{N0f8}(1.0,1.0,1.0)\n",
       " RGB{N0f8}(1.0,1.0,1.0)  RGB{N0f8}(1.0,1.0,1.0)     RGB{N0f8}(1.0,1.0,1.0)\n",
       " RGB{N0f8}(1.0,1.0,1.0)  RGB{N0f8}(1.0,1.0,1.0)     RGB{N0f8}(1.0,1.0,1.0)\n",
       " RGB{N0f8}(1.0,1.0,1.0)  RGB{N0f8}(1.0,1.0,1.0)  …  RGB{N0f8}(1.0,1.0,1.0)\n",
       " RGB{N0f8}(1.0,1.0,1.0)  RGB{N0f8}(1.0,1.0,1.0)     RGB{N0f8}(1.0,1.0,1.0)\n",
       " RGB{N0f8}(1.0,1.0,1.0)  RGB{N0f8}(1.0,1.0,1.0)     RGB{N0f8}(1.0,1.0,1.0)\n",
       " ⋮                                               ⋱  \n",
       " RGB{N0f8}(1.0,1.0,1.0)  RGB{N0f8}(1.0,1.0,1.0)     RGB{N0f8}(1.0,1.0,1.0)\n",
       " RGB{N0f8}(1.0,1.0,1.0)  RGB{N0f8}(1.0,1.0,1.0)     RGB{N0f8}(1.0,1.0,1.0)\n",
       " RGB{N0f8}(1.0,1.0,1.0)  RGB{N0f8}(1.0,1.0,1.0)  …  RGB{N0f8}(1.0,1.0,1.0)\n",
       " RGB{N0f8}(1.0,1.0,1.0)  RGB{N0f8}(1.0,1.0,1.0)     RGB{N0f8}(1.0,1.0,1.0)\n",
       " RGB{N0f8}(1.0,1.0,1.0)  RGB{N0f8}(1.0,1.0,1.0)     RGB{N0f8}(1.0,1.0,1.0)\n",
       " RGB{N0f8}(1.0,1.0,1.0)  RGB{N0f8}(1.0,1.0,1.0)     RGB{N0f8}(1.0,1.0,1.0)\n",
       " RGB{N0f8}(1.0,1.0,1.0)  RGB{N0f8}(1.0,1.0,1.0)     RGB{N0f8}(1.0,1.0,1.0)\n",
       " RGB{N0f8}(1.0,1.0,1.0)  RGB{N0f8}(1.0,1.0,1.0)  …  RGB{N0f8}(1.0,1.0,1.0)\n",
       " RGB{N0f8}(1.0,1.0,1.0)  RGB{N0f8}(1.0,1.0,1.0)     RGB{N0f8}(1.0,1.0,1.0)\n",
       " RGB{N0f8}(1.0,1.0,1.0)  RGB{N0f8}(1.0,1.0,1.0)     RGB{N0f8}(1.0,1.0,1.0)\n",
       " RGB{N0f8}(1.0,1.0,1.0)  RGB{N0f8}(1.0,1.0,1.0)     RGB{N0f8}(1.0,1.0,1.0)\n",
       " RGB{N0f8}(1.0,1.0,1.0)  RGB{N0f8}(1.0,1.0,1.0)     RGB{N0f8}(1.0,1.0,1.0)"
      ]
     },
     "execution_count": 27,
     "metadata": {},
     "output_type": "execute_result"
    }
   ],
   "source": [
    "# Note that none of the curves are at convergence due to the low time allowed for the optimisation. \n",
    "CC1 = load(string(oedms_def[\"savepath\"], \"\\\\Plot_OEDMSConvergence_\",oedms_def[\"flag\"],\".png\"))"
   ]
  },
  {
   "cell_type": "markdown",
   "metadata": {},
   "source": [
    "And now the experiment simualtions"
   ]
  },
  {
   "cell_type": "code",
   "execution_count": 28,
   "metadata": {},
   "outputs": [
    {
     "data": {
      "image/png": "[encoded data removed]",
      "text/plain": [
       "1200×2000 Array{RGB{N0f8},2} with eltype RGB{Normed{UInt8,8}}:\n",
       " RGB{N0f8}(1.0,1.0,1.0)  RGB{N0f8}(1.0,1.0,1.0)  …  RGB{N0f8}(1.0,1.0,1.0)\n",
       " RGB{N0f8}(1.0,1.0,1.0)  RGB{N0f8}(1.0,1.0,1.0)     RGB{N0f8}(1.0,1.0,1.0)\n",
       " RGB{N0f8}(1.0,1.0,1.0)  RGB{N0f8}(1.0,1.0,1.0)     RGB{N0f8}(1.0,1.0,1.0)\n",
       " RGB{N0f8}(1.0,1.0,1.0)  RGB{N0f8}(1.0,1.0,1.0)     RGB{N0f8}(1.0,1.0,1.0)\n",
       " RGB{N0f8}(1.0,1.0,1.0)  RGB{N0f8}(1.0,1.0,1.0)     RGB{N0f8}(1.0,1.0,1.0)\n",
       " RGB{N0f8}(1.0,1.0,1.0)  RGB{N0f8}(1.0,1.0,1.0)  …  RGB{N0f8}(1.0,1.0,1.0)\n",
       " RGB{N0f8}(1.0,1.0,1.0)  RGB{N0f8}(1.0,1.0,1.0)     RGB{N0f8}(1.0,1.0,1.0)\n",
       " RGB{N0f8}(1.0,1.0,1.0)  RGB{N0f8}(1.0,1.0,1.0)     RGB{N0f8}(1.0,1.0,1.0)\n",
       " RGB{N0f8}(1.0,1.0,1.0)  RGB{N0f8}(1.0,1.0,1.0)     RGB{N0f8}(1.0,1.0,1.0)\n",
       " RGB{N0f8}(1.0,1.0,1.0)  RGB{N0f8}(1.0,1.0,1.0)     RGB{N0f8}(1.0,1.0,1.0)\n",
       " RGB{N0f8}(1.0,1.0,1.0)  RGB{N0f8}(1.0,1.0,1.0)  …  RGB{N0f8}(1.0,1.0,1.0)\n",
       " RGB{N0f8}(1.0,1.0,1.0)  RGB{N0f8}(1.0,1.0,1.0)     RGB{N0f8}(1.0,1.0,1.0)\n",
       " RGB{N0f8}(1.0,1.0,1.0)  RGB{N0f8}(1.0,1.0,1.0)     RGB{N0f8}(1.0,1.0,1.0)\n",
       " ⋮                                               ⋱  \n",
       " RGB{N0f8}(1.0,1.0,1.0)  RGB{N0f8}(1.0,1.0,1.0)     RGB{N0f8}(1.0,1.0,1.0)\n",
       " RGB{N0f8}(1.0,1.0,1.0)  RGB{N0f8}(1.0,1.0,1.0)     RGB{N0f8}(1.0,1.0,1.0)\n",
       " RGB{N0f8}(1.0,1.0,1.0)  RGB{N0f8}(1.0,1.0,1.0)  …  RGB{N0f8}(1.0,1.0,1.0)\n",
       " RGB{N0f8}(1.0,1.0,1.0)  RGB{N0f8}(1.0,1.0,1.0)     RGB{N0f8}(1.0,1.0,1.0)\n",
       " RGB{N0f8}(1.0,1.0,1.0)  RGB{N0f8}(1.0,1.0,1.0)     RGB{N0f8}(1.0,1.0,1.0)\n",
       " RGB{N0f8}(1.0,1.0,1.0)  RGB{N0f8}(1.0,1.0,1.0)     RGB{N0f8}(1.0,1.0,1.0)\n",
       " RGB{N0f8}(1.0,1.0,1.0)  RGB{N0f8}(1.0,1.0,1.0)     RGB{N0f8}(1.0,1.0,1.0)\n",
       " RGB{N0f8}(1.0,1.0,1.0)  RGB{N0f8}(1.0,1.0,1.0)  …  RGB{N0f8}(1.0,1.0,1.0)\n",
       " RGB{N0f8}(1.0,1.0,1.0)  RGB{N0f8}(1.0,1.0,1.0)     RGB{N0f8}(1.0,1.0,1.0)\n",
       " RGB{N0f8}(1.0,1.0,1.0)  RGB{N0f8}(1.0,1.0,1.0)     RGB{N0f8}(1.0,1.0,1.0)\n",
       " RGB{N0f8}(1.0,1.0,1.0)  RGB{N0f8}(1.0,1.0,1.0)     RGB{N0f8}(1.0,1.0,1.0)\n",
       " RGB{N0f8}(1.0,1.0,1.0)  RGB{N0f8}(1.0,1.0,1.0)     RGB{N0f8}(1.0,1.0,1.0)"
      ]
     },
     "execution_count": 28,
     "metadata": {},
     "output_type": "execute_result"
    }
   ],
   "source": [
    "expMS = load(string(oedms_def[\"savepath\"], \"\\\\PlotOEDMSResults_Exp1_\",oedms_def[\"flag\"],\".png\"))"
   ]
  },
  {
   "cell_type": "markdown",
   "metadata": {},
   "source": [
    "# OED Model Selection Example 2\n",
    "This is a basic example showing how to use the basic elements of the section. <br>\n",
    "<br>\n",
    "Here we are going to design a pulse experiment with only 2 optimised input values. <br>\n",
    "<br>\n",
    "There is no example for this, but if as theta samples for the 2 models you only introduce 1 the script will still proceed using the Euclidean distance. But be carefull, since this strategy will not be Bayesian anymore. "
   ]
  },
  {
   "cell_type": "code",
   "execution_count": 29,
   "metadata": {},
   "outputs": [
    {
     "data": {
      "text/plain": [
       "Dict{Any,Any} with 20 entries:\n",
       "  \"Theta_M2\"  => Any[]\n",
       "  \"maxiter\"   => Any[]\n",
       "  \"y0_M2\"     => Any[]\n",
       "  \"fixedStep\" => Any[]\n",
       "  \"preInd_M1\" => Any[]\n",
       "  \"fixedInp\"  => Any[]\n",
       "  \"Model_1\"   => Any[]\n",
       "  \"Obs\"       => Any[]\n",
       "  \"uUpper\"    => Any[]\n",
       "  \"Model_2\"   => Any[]\n",
       "  \"switchT\"   => Any[]\n",
       "  \"preInd_M2\" => Any[]\n",
       "  \"finalTime\" => Any[]\n",
       "  \"y0_M1\"     => Any[]\n",
       "  \"equalStep\" => Any[]\n",
       "  \"Theta_M1\"  => Any[]\n",
       "  \"tsamps\"    => Any[]\n",
       "  \"flag\"      => Any[]\n",
       "  \"plot\"      => Any[]\n",
       "  \"uLower\"    => Any[]"
      ]
     },
     "execution_count": 29,
     "metadata": {},
     "output_type": "execute_result"
    }
   ],
   "source": [
    "oedms_def2 = defODEModelSelectStruct()"
   ]
  },
  {
   "cell_type": "code",
   "execution_count": 30,
   "metadata": {},
   "outputs": [],
   "source": [
    "oedms_def2[\"Model_1\"] = [model_def1]; \n",
    "oedms_def2[\"Model_2\"] = [model_def2]; \n",
    "oedms_def2[\"Obs\"] = [\"3*Cit_AU\"]; \n",
    "oedms_def2[\"Theta_M1\"] = [\"TestThetaPLac.csv\"]; \n",
    "oedms_def2[\"Theta_M2\"] = [\"TestThetaPLac2.csv\"]; \n",
    "\n",
    "oedms_def2[\"y0_M1\"] = [10,10,10,10]; \n",
    "oedms_def2[\"y0_M2\"] = [10,10,10,10];  \n",
    "oedms_def2[\"preInd_M1\"] = [0]; \n",
    "oedms_def2[\"preInd_M2\"] = [0, 0]; \n",
    "oedms_def2[\"finalTime\"] = [1439]; \n",
    "oedms_def2[\"switchT\"] = [[0, 250, 500, 750, 1000, 1200, 1439]];\n",
    "oedms_def2[\"tsamps\"] = [collect(0:5:1439)];\n",
    "oedms_def2[\"fixedInp\"] = []; \n",
    "oedms_def2[\"fixedStep\"] = []; # This does not take into account fixed inputs\n",
    "oedms_def2[\"equalStep\"] = [[2,4,6],[1,3,5]];\n",
    "\n",
    "oedms_def2[\"plot\"] = [true]; \n",
    "oedms_def2[\"flag\"] = [\"testOEDMS2\"];\n",
    "\n",
    "oedms_def2[\"uUpper\"] = [100, 10];\n",
    "oedms_def2[\"uLower\"] = [0, 0];\n",
    "oedms_def2[\"maxiter\"] = [50];"
   ]
  },
  {
   "cell_type": "code",
   "execution_count": 31,
   "metadata": {},
   "outputs": [
    {
     "name": "stdout",
     "output_type": "stream",
     "text": [
      "-------------------------- WARNING --------------------------\n",
      "Less than 50 samples for theta are given for Model 1. \n",
      "Consider using more samples for better results. \n",
      "-------------------------------------------------------------\n",
      "-------------------------- WARNING --------------------------\n",
      "Less than 50 samples for theta are given for Model 2. \n",
      "Consider using more samples for better results. \n",
      "-------------------------------------------------------------\n",
      "-------------------------- WARNING --------------------------\n",
      "The amount of inducers is different in the two models.\n",
      "Be carefull on how you configure that. \n",
      "-------------------------------------------------------------\n",
      "\n",
      "----------------------------------------- MODEL GENERATION -----------------------------------------\n",
      "The model has been generated in the directory: \n",
      "                 E:\\UNI\\D_Drive\\PhD\\JULIAlang\\Generalisation_PLacExample\\Examples\\ModelsFunctions\\PLacExample_Model.jl\n",
      "--------------------------------------------------------------------------------------\n",
      "\n",
      "\n",
      "----------------------------------------- MODEL GENERATION -----------------------------------------\n",
      "The model has been generated in the directory: \n",
      "                 E:\\UNI\\D_Drive\\PhD\\JULIAlang\\Generalisation_PLacExample\\Examples\\ModelsFunctions\\TestPLac_M2_Model.jl\n",
      "--------------------------------------------------------------------------------------\n",
      "\n",
      "\n",
      "----------------------------------------- SCRIPTS OED Model Selection -----------------------------------------\n",
      "Utility function script to perform OED for Model Selection has been generated in the directory: \n",
      "E:\\UNI\\D_Drive\\PhD\\JULIAlang\\Generalisation_PLacExample\\Examples\\Results\\PLacExample_VS_TestPLac_M2_2021-01-11\\OEDModelSelectionScripts\\PLacExample_VS_TestPLac_M2_OEDMS.jl\n",
      "--------------------------------------------------------------------------------------\n",
      "\n",
      "\n",
      "---------------------------------------------- OPTIMISATION INFO ----------------------------------------------\n",
      "\n",
      "If you wish to modify any of the settings for the Bayesian Optimisation used (from the package \n",
      "BayesianOptimization.jl) please search the function settingsBayesOpt located in the file ModelOEDSelection.jl \n",
      "that is located in the directory: \n",
      "        E:\\UNI\\D_Drive\\PhD\\JULIAlang\\Generalisation_PLacExample\\Examples\n",
      "and change any desired setting (under your own risk). \n",
      "If any irreversible change is made by mistake, just look for the file settingsBayesOptBackUp.jl and copy the\n",
      "contents of the function inside (which are the same as the original except for the function name ;) )\n",
      "\n",
      "---------------------------------------------------------------------------------------------------------------\n",
      "\n"
     ]
    }
   ],
   "source": [
    "# Generate scripts for the ODEs and Utility functions\n",
    "oedms_def2 = genOptimMSFuncts(oedms_def2);"
   ]
  },
  {
   "cell_type": "code",
   "execution_count": 32,
   "metadata": {
    "scrolled": true
   },
   "outputs": [
    {
     "name": "stdout",
     "output_type": "stream",
     "text": [
      "-------------------------- WARNING --------------------------\n",
      "Less than 50 samples for theta are given for Model 1. \n",
      "Consider using more samples for better results. \n",
      "-------------------------------------------------------------\n",
      "-------------------------- WARNING --------------------------\n",
      "Less than 50 samples for theta are given for Model 2. \n",
      "Consider using more samples for better results. \n",
      "-------------------------------------------------------------\n",
      "-------------------------- WARNING --------------------------\n",
      "The amount of inducers is different in the two models.\n",
      "Be carefull on how you configure that. \n",
      "-------------------------------------------------------------\n"
     ]
    },
    {
     "name": "stderr",
     "output_type": "stream",
     "text": [
      "┌ Info: 2021-01-11T15:12:26.064\titeration: 20\tcurrent optimum: 8.72570332232662e11\n",
      "└ @ BayesianOptimization C:\\Users\\david\\.juliapro\\JuliaPro_v1.4.0-1\\packages\\BayesianOptimization\\poykT\\src\\BayesianOptimization.jl:140\n",
      "┌ Info: 2021-01-11T15:12:27.956\titeration: 21\tcurrent optimum: 8.72570332232662e11\n",
      "└ @ BayesianOptimization C:\\Users\\david\\.juliapro\\JuliaPro_v1.4.0-1\\packages\\BayesianOptimization\\poykT\\src\\BayesianOptimization.jl:140\n",
      "┌ Info: 2021-01-11T15:12:28.019\titeration: 22\tcurrent optimum: 8.72570332232662e11\n",
      "└ @ BayesianOptimization C:\\Users\\david\\.juliapro\\JuliaPro_v1.4.0-1\\packages\\BayesianOptimization\\poykT\\src\\BayesianOptimization.jl:140\n",
      "┌ Info: 2021-01-11T15:12:28.386\titeration: 23\tcurrent optimum: 8.72570332232662e11\n",
      "└ @ BayesianOptimization C:\\Users\\david\\.juliapro\\JuliaPro_v1.4.0-1\\packages\\BayesianOptimization\\poykT\\src\\BayesianOptimization.jl:140\n",
      "┌ Info: 2021-01-11T15:12:28.439\titeration: 24\tcurrent optimum: 8.72570332232662e11\n",
      "└ @ BayesianOptimization C:\\Users\\david\\.juliapro\\JuliaPro_v1.4.0-1\\packages\\BayesianOptimization\\poykT\\src\\BayesianOptimization.jl:140\n",
      "┌ Info: 2021-01-11T15:12:28.491\titeration: 25\tcurrent optimum: 8.72570332232662e11\n",
      "└ @ BayesianOptimization C:\\Users\\david\\.juliapro\\JuliaPro_v1.4.0-1\\packages\\BayesianOptimization\\poykT\\src\\BayesianOptimization.jl:140\n",
      "┌ Info: 2021-01-11T15:12:28.541\titeration: 26\tcurrent optimum: 8.72570332232662e11\n",
      "└ @ BayesianOptimization C:\\Users\\david\\.juliapro\\JuliaPro_v1.4.0-1\\packages\\BayesianOptimization\\poykT\\src\\BayesianOptimization.jl:140\n",
      "┌ Info: 2021-01-11T15:12:28.59\titeration: 27\tcurrent optimum: 8.72570332232662e11\n",
      "└ @ BayesianOptimization C:\\Users\\david\\.juliapro\\JuliaPro_v1.4.0-1\\packages\\BayesianOptimization\\poykT\\src\\BayesianOptimization.jl:140\n",
      "┌ Info: 2021-01-11T15:12:28.645\titeration: 28\tcurrent optimum: 8.72570332232662e11\n",
      "└ @ BayesianOptimization C:\\Users\\david\\.juliapro\\JuliaPro_v1.4.0-1\\packages\\BayesianOptimization\\poykT\\src\\BayesianOptimization.jl:140\n",
      "┌ Info: 2021-01-11T15:12:28.694\titeration: 29\tcurrent optimum: 8.72570332232662e11\n",
      "└ @ BayesianOptimization C:\\Users\\david\\.juliapro\\JuliaPro_v1.4.0-1\\packages\\BayesianOptimization\\poykT\\src\\BayesianOptimization.jl:140\n",
      "┌ Info: 2021-01-11T15:12:28.745\titeration: 30\tcurrent optimum: 8.72570332232662e11\n",
      "└ @ BayesianOptimization C:\\Users\\david\\.juliapro\\JuliaPro_v1.4.0-1\\packages\\BayesianOptimization\\poykT\\src\\BayesianOptimization.jl:140\n",
      "┌ Info: 2021-01-11T15:12:28.806\titeration: 31\tcurrent optimum: 8.72570332232662e11\n",
      "└ @ BayesianOptimization C:\\Users\\david\\.juliapro\\JuliaPro_v1.4.0-1\\packages\\BayesianOptimization\\poykT\\src\\BayesianOptimization.jl:140\n",
      "┌ Info: 2021-01-11T15:12:28.866\titeration: 32\tcurrent optimum: 8.72570332232662e11\n",
      "└ @ BayesianOptimization C:\\Users\\david\\.juliapro\\JuliaPro_v1.4.0-1\\packages\\BayesianOptimization\\poykT\\src\\BayesianOptimization.jl:140\n",
      "┌ Info: 2021-01-11T15:12:28.913\titeration: 33\tcurrent optimum: 8.72570332232662e11\n",
      "└ @ BayesianOptimization C:\\Users\\david\\.juliapro\\JuliaPro_v1.4.0-1\\packages\\BayesianOptimization\\poykT\\src\\BayesianOptimization.jl:140\n",
      "┌ Info: 2021-01-11T15:12:28.964\titeration: 34\tcurrent optimum: 8.72570332232662e11\n",
      "└ @ BayesianOptimization C:\\Users\\david\\.juliapro\\JuliaPro_v1.4.0-1\\packages\\BayesianOptimization\\poykT\\src\\BayesianOptimization.jl:140\n",
      "┌ Info: 2021-01-11T15:12:29.015\titeration: 35\tcurrent optimum: 8.72570332232662e11\n",
      "└ @ BayesianOptimization C:\\Users\\david\\.juliapro\\JuliaPro_v1.4.0-1\\packages\\BayesianOptimization\\poykT\\src\\BayesianOptimization.jl:140\n",
      "┌ Info: 2021-01-11T15:12:29.069\titeration: 36\tcurrent optimum: 8.72570332232662e11\n",
      "└ @ BayesianOptimization C:\\Users\\david\\.juliapro\\JuliaPro_v1.4.0-1\\packages\\BayesianOptimization\\poykT\\src\\BayesianOptimization.jl:140\n",
      "┌ Info: 2021-01-11T15:12:29.118\titeration: 37\tcurrent optimum: 8.72570332232662e11\n",
      "└ @ BayesianOptimization C:\\Users\\david\\.juliapro\\JuliaPro_v1.4.0-1\\packages\\BayesianOptimization\\poykT\\src\\BayesianOptimization.jl:140\n",
      "┌ Info: 2021-01-11T15:12:29.17\titeration: 38\tcurrent optimum: 8.72570332232662e11\n",
      "└ @ BayesianOptimization C:\\Users\\david\\.juliapro\\JuliaPro_v1.4.0-1\\packages\\BayesianOptimization\\poykT\\src\\BayesianOptimization.jl:140\n",
      "┌ Info: 2021-01-11T15:12:29.215\titeration: 39\tcurrent optimum: 8.72570332232662e11\n",
      "└ @ BayesianOptimization C:\\Users\\david\\.juliapro\\JuliaPro_v1.4.0-1\\packages\\BayesianOptimization\\poykT\\src\\BayesianOptimization.jl:140\n",
      "┌ Info: 2021-01-11T15:12:29.264\titeration: 40\tcurrent optimum: 8.72570332232662e11\n",
      "└ @ BayesianOptimization C:\\Users\\david\\.juliapro\\JuliaPro_v1.4.0-1\\packages\\BayesianOptimization\\poykT\\src\\BayesianOptimization.jl:140\n",
      "┌ Info: 2021-01-11T15:12:29.314\titeration: 41\tcurrent optimum: 8.72570332232662e11\n",
      "└ @ BayesianOptimization C:\\Users\\david\\.juliapro\\JuliaPro_v1.4.0-1\\packages\\BayesianOptimization\\poykT\\src\\BayesianOptimization.jl:140\n",
      "┌ Info: 2021-01-11T15:12:29.36\titeration: 42\tcurrent optimum: 8.72570332232662e11\n",
      "└ @ BayesianOptimization C:\\Users\\david\\.juliapro\\JuliaPro_v1.4.0-1\\packages\\BayesianOptimization\\poykT\\src\\BayesianOptimization.jl:140\n",
      "┌ Info: 2021-01-11T15:12:29.408\titeration: 43\tcurrent optimum: 8.72570332232662e11\n",
      "└ @ BayesianOptimization C:\\Users\\david\\.juliapro\\JuliaPro_v1.4.0-1\\packages\\BayesianOptimization\\poykT\\src\\BayesianOptimization.jl:140\n",
      "┌ Info: 2021-01-11T15:12:29.462\titeration: 44\tcurrent optimum: 8.72570332232662e11\n",
      "└ @ BayesianOptimization C:\\Users\\david\\.juliapro\\JuliaPro_v1.4.0-1\\packages\\BayesianOptimization\\poykT\\src\\BayesianOptimization.jl:140\n",
      "┌ Info: 2021-01-11T15:12:29.512\titeration: 45\tcurrent optimum: 8.72570332232662e11\n",
      "└ @ BayesianOptimization C:\\Users\\david\\.juliapro\\JuliaPro_v1.4.0-1\\packages\\BayesianOptimization\\poykT\\src\\BayesianOptimization.jl:140\n",
      "┌ Info: 2021-01-11T15:12:29.563\titeration: 46\tcurrent optimum: 8.72570332232662e11\n",
      "└ @ BayesianOptimization C:\\Users\\david\\.juliapro\\JuliaPro_v1.4.0-1\\packages\\BayesianOptimization\\poykT\\src\\BayesianOptimization.jl:140\n",
      "┌ Info: 2021-01-11T15:12:29.623\titeration: 47\tcurrent optimum: 8.72570332232662e11\n",
      "└ @ BayesianOptimization C:\\Users\\david\\.juliapro\\JuliaPro_v1.4.0-1\\packages\\BayesianOptimization\\poykT\\src\\BayesianOptimization.jl:140\n",
      "┌ Info: 2021-01-11T15:12:29.678\titeration: 48\tcurrent optimum: 8.72570332232662e11\n",
      "└ @ BayesianOptimization C:\\Users\\david\\.juliapro\\JuliaPro_v1.4.0-1\\packages\\BayesianOptimization\\poykT\\src\\BayesianOptimization.jl:140\n",
      "┌ Info: 2021-01-11T15:12:29.728\titeration: 49\tcurrent optimum: 8.72570332232662e11\n",
      "└ @ BayesianOptimization C:\\Users\\david\\.juliapro\\JuliaPro_v1.4.0-1\\packages\\BayesianOptimization\\poykT\\src\\BayesianOptimization.jl:140\n",
      "┌ Info:  ──────────────────────────────────────────────────────────────────────────────\n",
      "│                                        Time                   Allocations      \n",
      "│                                ──────────────────────   ───────────────────────\n",
      "│        Tot / % measured:            8.89s / 99.4%           1.53GiB / 100%     \n",
      "│ \n",
      "│  Section               ncalls     time   %tot     avg     alloc   %tot      avg\n",
      "│  ──────────────────────────────────────────────────────────────────────────────\n",
      "│  function evaluation       50    5.17s  58.4%   103ms   0.98GiB  63.8%  20.0MiB\n",
      "│  acquisition               31    3.64s  41.1%   117ms    562MiB  35.9%  18.1MiB\n",
      "│  model update              31   32.5ms  0.37%  1.05ms   5.06MiB  0.32%   167KiB\n",
      "│  model hyperparamet...     31   7.80ms  0.09%   252μs    267KiB  0.02%  8.62KiB\n",
      "│  ──────────────────────────────────────────────────────────────────────────────\n",
      "└ @ BayesianOptimization C:\\Users\\david\\.juliapro\\JuliaPro_v1.4.0-1\\packages\\BayesianOptimization\\poykT\\src\\BayesianOptimization.jl:154\n"
     ]
    },
    {
     "name": "stdout",
     "output_type": "stream",
     "text": [
      "\n",
      "----------------------------------------- RESULTS -----------------------------------------\n",
      "OED for Model Selection results are saved in the directory: \n",
      "                 E:\\UNI\\D_Drive\\PhD\\JULIAlang\\Generalisation_PLacExample\\Examples\\Results\\PLacExample_VS_TestPLac_M2_2021-01-11\n",
      "Under the name OEDModelSelectResults_testOEDMS2.jld\n",
      "--------------------------------------------------------------------------------------\n",
      "\n",
      "\n",
      "----------------------------------------- PLOTS -----------------------------------------\n",
      "PLOTS are saved in the directory: \n",
      "                 E:\\UNI\\D_Drive\\PhD\\JULIAlang\\Generalisation_PLacExample\\Examples\\Results\\PLacExample_VS_TestPLac_M2_2021-01-11\n",
      "Under the names PlotOEDMSResults_Exp1_testOEDMS2.png and Plot_OEDMSConvergence_testOEDMS2.png\n",
      "--------------------------------------------------------------------------------------\n",
      "\n"
     ]
    }
   ],
   "source": [
    "oedms_res2, oedms_def2 = mainOEDMS(oedms_def2);"
   ]
  },
  {
   "cell_type": "markdown",
   "metadata": {},
   "source": [
    "We know what the results structure looks like, so let's go for the plots."
   ]
  },
  {
   "cell_type": "markdown",
   "metadata": {},
   "source": [
    "### Now, let's have a look at the plots generated\n",
    "First, the convergence curve <br>\n",
    "Note that to reduce the computational time of the example we used a really low number of iterations, so do not be surprised if the results do not look good. Also, technically, the second model does not make much sense as well. "
   ]
  },
  {
   "cell_type": "code",
   "execution_count": 33,
   "metadata": {},
   "outputs": [
    {
     "data": {
      "image/png": "[encoded data removed]",
      "text/plain": [
       "400×600 Array{RGB{N0f8},2} with eltype RGB{Normed{UInt8,8}}:\n",
       " RGB{N0f8}(1.0,1.0,1.0)  RGB{N0f8}(1.0,1.0,1.0)  …  RGB{N0f8}(1.0,1.0,1.0)\n",
       " RGB{N0f8}(1.0,1.0,1.0)  RGB{N0f8}(1.0,1.0,1.0)     RGB{N0f8}(1.0,1.0,1.0)\n",
       " RGB{N0f8}(1.0,1.0,1.0)  RGB{N0f8}(1.0,1.0,1.0)     RGB{N0f8}(1.0,1.0,1.0)\n",
       " RGB{N0f8}(1.0,1.0,1.0)  RGB{N0f8}(1.0,1.0,1.0)     RGB{N0f8}(1.0,1.0,1.0)\n",
       " RGB{N0f8}(1.0,1.0,1.0)  RGB{N0f8}(1.0,1.0,1.0)     RGB{N0f8}(1.0,1.0,1.0)\n",
       " RGB{N0f8}(1.0,1.0,1.0)  RGB{N0f8}(1.0,1.0,1.0)  …  RGB{N0f8}(1.0,1.0,1.0)\n",
       " RGB{N0f8}(1.0,1.0,1.0)  RGB{N0f8}(1.0,1.0,1.0)     RGB{N0f8}(1.0,1.0,1.0)\n",
       " RGB{N0f8}(1.0,1.0,1.0)  RGB{N0f8}(1.0,1.0,1.0)     RGB{N0f8}(1.0,1.0,1.0)\n",
       " RGB{N0f8}(1.0,1.0,1.0)  RGB{N0f8}(1.0,1.0,1.0)     RGB{N0f8}(1.0,1.0,1.0)\n",
       " RGB{N0f8}(1.0,1.0,1.0)  RGB{N0f8}(1.0,1.0,1.0)     RGB{N0f8}(1.0,1.0,1.0)\n",
       " RGB{N0f8}(1.0,1.0,1.0)  RGB{N0f8}(1.0,1.0,1.0)  …  RGB{N0f8}(1.0,1.0,1.0)\n",
       " RGB{N0f8}(1.0,1.0,1.0)  RGB{N0f8}(1.0,1.0,1.0)     RGB{N0f8}(1.0,1.0,1.0)\n",
       " RGB{N0f8}(1.0,1.0,1.0)  RGB{N0f8}(1.0,1.0,1.0)     RGB{N0f8}(1.0,1.0,1.0)\n",
       " ⋮                                               ⋱  \n",
       " RGB{N0f8}(1.0,1.0,1.0)  RGB{N0f8}(1.0,1.0,1.0)     RGB{N0f8}(1.0,1.0,1.0)\n",
       " RGB{N0f8}(1.0,1.0,1.0)  RGB{N0f8}(1.0,1.0,1.0)     RGB{N0f8}(1.0,1.0,1.0)\n",
       " RGB{N0f8}(1.0,1.0,1.0)  RGB{N0f8}(1.0,1.0,1.0)  …  RGB{N0f8}(1.0,1.0,1.0)\n",
       " RGB{N0f8}(1.0,1.0,1.0)  RGB{N0f8}(1.0,1.0,1.0)     RGB{N0f8}(1.0,1.0,1.0)\n",
       " RGB{N0f8}(1.0,1.0,1.0)  RGB{N0f8}(1.0,1.0,1.0)     RGB{N0f8}(1.0,1.0,1.0)\n",
       " RGB{N0f8}(1.0,1.0,1.0)  RGB{N0f8}(1.0,1.0,1.0)     RGB{N0f8}(1.0,1.0,1.0)\n",
       " RGB{N0f8}(1.0,1.0,1.0)  RGB{N0f8}(1.0,1.0,1.0)     RGB{N0f8}(1.0,1.0,1.0)\n",
       " RGB{N0f8}(1.0,1.0,1.0)  RGB{N0f8}(1.0,1.0,1.0)  …  RGB{N0f8}(1.0,1.0,1.0)\n",
       " RGB{N0f8}(1.0,1.0,1.0)  RGB{N0f8}(1.0,1.0,1.0)     RGB{N0f8}(1.0,1.0,1.0)\n",
       " RGB{N0f8}(1.0,1.0,1.0)  RGB{N0f8}(1.0,1.0,1.0)     RGB{N0f8}(1.0,1.0,1.0)\n",
       " RGB{N0f8}(1.0,1.0,1.0)  RGB{N0f8}(1.0,1.0,1.0)     RGB{N0f8}(1.0,1.0,1.0)\n",
       " RGB{N0f8}(1.0,1.0,1.0)  RGB{N0f8}(1.0,1.0,1.0)     RGB{N0f8}(1.0,1.0,1.0)"
      ]
     },
     "execution_count": 33,
     "metadata": {},
     "output_type": "execute_result"
    }
   ],
   "source": [
    "# Note that none of the curves are at convergence due to the low time allowed for the optimisation. \n",
    "CC2 = load(string(oedms_def2[\"savepath\"], \"\\\\Plot_OEDMSConvergence_\",oedms_def2[\"flag\"],\".png\"))"
   ]
  },
  {
   "cell_type": "markdown",
   "metadata": {},
   "source": [
    "And now the experiment simualtions"
   ]
  },
  {
   "cell_type": "code",
   "execution_count": 34,
   "metadata": {},
   "outputs": [
    {
     "data": {
      "image/png": "[encoded data removed]",
      "text/plain": [
       "1200×2000 Array{RGB{N0f8},2} with eltype RGB{Normed{UInt8,8}}:\n",
       " RGB{N0f8}(1.0,1.0,1.0)  RGB{N0f8}(1.0,1.0,1.0)  …  RGB{N0f8}(1.0,1.0,1.0)\n",
       " RGB{N0f8}(1.0,1.0,1.0)  RGB{N0f8}(1.0,1.0,1.0)     RGB{N0f8}(1.0,1.0,1.0)\n",
       " RGB{N0f8}(1.0,1.0,1.0)  RGB{N0f8}(1.0,1.0,1.0)     RGB{N0f8}(1.0,1.0,1.0)\n",
       " RGB{N0f8}(1.0,1.0,1.0)  RGB{N0f8}(1.0,1.0,1.0)     RGB{N0f8}(1.0,1.0,1.0)\n",
       " RGB{N0f8}(1.0,1.0,1.0)  RGB{N0f8}(1.0,1.0,1.0)     RGB{N0f8}(1.0,1.0,1.0)\n",
       " RGB{N0f8}(1.0,1.0,1.0)  RGB{N0f8}(1.0,1.0,1.0)  …  RGB{N0f8}(1.0,1.0,1.0)\n",
       " RGB{N0f8}(1.0,1.0,1.0)  RGB{N0f8}(1.0,1.0,1.0)     RGB{N0f8}(1.0,1.0,1.0)\n",
       " RGB{N0f8}(1.0,1.0,1.0)  RGB{N0f8}(1.0,1.0,1.0)     RGB{N0f8}(1.0,1.0,1.0)\n",
       " RGB{N0f8}(1.0,1.0,1.0)  RGB{N0f8}(1.0,1.0,1.0)     RGB{N0f8}(1.0,1.0,1.0)\n",
       " RGB{N0f8}(1.0,1.0,1.0)  RGB{N0f8}(1.0,1.0,1.0)     RGB{N0f8}(1.0,1.0,1.0)\n",
       " RGB{N0f8}(1.0,1.0,1.0)  RGB{N0f8}(1.0,1.0,1.0)  …  RGB{N0f8}(1.0,1.0,1.0)\n",
       " RGB{N0f8}(1.0,1.0,1.0)  RGB{N0f8}(1.0,1.0,1.0)     RGB{N0f8}(1.0,1.0,1.0)\n",
       " RGB{N0f8}(1.0,1.0,1.0)  RGB{N0f8}(1.0,1.0,1.0)     RGB{N0f8}(1.0,1.0,1.0)\n",
       " ⋮                                               ⋱  \n",
       " RGB{N0f8}(1.0,1.0,1.0)  RGB{N0f8}(1.0,1.0,1.0)     RGB{N0f8}(1.0,1.0,1.0)\n",
       " RGB{N0f8}(1.0,1.0,1.0)  RGB{N0f8}(1.0,1.0,1.0)     RGB{N0f8}(1.0,1.0,1.0)\n",
       " RGB{N0f8}(1.0,1.0,1.0)  RGB{N0f8}(1.0,1.0,1.0)  …  RGB{N0f8}(1.0,1.0,1.0)\n",
       " RGB{N0f8}(1.0,1.0,1.0)  RGB{N0f8}(1.0,1.0,1.0)     RGB{N0f8}(1.0,1.0,1.0)\n",
       " RGB{N0f8}(1.0,1.0,1.0)  RGB{N0f8}(1.0,1.0,1.0)     RGB{N0f8}(1.0,1.0,1.0)\n",
       " RGB{N0f8}(1.0,1.0,1.0)  RGB{N0f8}(1.0,1.0,1.0)     RGB{N0f8}(1.0,1.0,1.0)\n",
       " RGB{N0f8}(1.0,1.0,1.0)  RGB{N0f8}(1.0,1.0,1.0)     RGB{N0f8}(1.0,1.0,1.0)\n",
       " RGB{N0f8}(1.0,1.0,1.0)  RGB{N0f8}(1.0,1.0,1.0)  …  RGB{N0f8}(1.0,1.0,1.0)\n",
       " RGB{N0f8}(1.0,1.0,1.0)  RGB{N0f8}(1.0,1.0,1.0)     RGB{N0f8}(1.0,1.0,1.0)\n",
       " RGB{N0f8}(1.0,1.0,1.0)  RGB{N0f8}(1.0,1.0,1.0)     RGB{N0f8}(1.0,1.0,1.0)\n",
       " RGB{N0f8}(1.0,1.0,1.0)  RGB{N0f8}(1.0,1.0,1.0)     RGB{N0f8}(1.0,1.0,1.0)\n",
       " RGB{N0f8}(1.0,1.0,1.0)  RGB{N0f8}(1.0,1.0,1.0)     RGB{N0f8}(1.0,1.0,1.0)"
      ]
     },
     "execution_count": 34,
     "metadata": {},
     "output_type": "execute_result"
    }
   ],
   "source": [
    "expMS2 = load(string(oedms_def2[\"savepath\"], \"\\\\PlotOEDMSResults_Exp1_\",oedms_def2[\"flag\"],\".png\"))"
   ]
  },
  {
   "cell_type": "markdown",
   "metadata": {},
   "source": [
    "# OED Model Selection Example 3\n",
    "This is a basic example showing how to use the basic elements of the section. <br>\n",
    "<br>\n",
    "Here we are going to design a pulse experiment with only 2 optimised input values (one for each inducer). In this case when one inducer is up, the other is 0. <br>\n",
    "<br>\n",
    "There is no example for this, but if as theta samples for the 2 models you only introduce 1 the script will still proceed using the Euclidean distance. But be carefull, since this strategy will not be Bayesian anymore. "
   ]
  },
  {
   "cell_type": "code",
   "execution_count": 35,
   "metadata": {},
   "outputs": [],
   "source": [
    "oedms_def3 = defODEModelSelectStruct();"
   ]
  },
  {
   "cell_type": "code",
   "execution_count": 36,
   "metadata": {},
   "outputs": [],
   "source": [
    "oedms_def3[\"Model_1\"] = [model_def1]; \n",
    "oedms_def3[\"Model_2\"] = [model_def2]; \n",
    "oedms_def3[\"Obs\"] = [\"3*Cit_AU\"]; \n",
    "oedms_def3[\"Theta_M1\"] = [\"TestThetaPLac.csv\"]; \n",
    "oedms_def3[\"Theta_M2\"] = [\"TestThetaPLac2.csv\"]; \n",
    "\n",
    "oedms_def3[\"y0_M1\"] = [10,10,10,10]; \n",
    "oedms_def3[\"y0_M2\"] = [10,10,10,10];  \n",
    "oedms_def3[\"preInd_M1\"] = [0]; \n",
    "oedms_def3[\"preInd_M2\"] = [0, 0]; \n",
    "oedms_def3[\"finalTime\"] = [1439]; \n",
    "oedms_def3[\"switchT\"] = [[0, 250, 500, 750, 1000, 1200, 1439]];\n",
    "oedms_def3[\"tsamps\"] = [collect(0:5:1439)];\n",
    "oedms_def3[\"fixedInp\"] = []; \n",
    "oedms_def3[\"fixedStep\"] = [(1,[0, Any]), (2,[Any, 0]), (3,[0, Any]), (4,[Any, 0]), (5,[0, Any]), (6,[Any, 0])]; # This does not take into account fixed inputs\n",
    "oedms_def3[\"equalStep\"] = [[1,3,5],[2,4,6]];\n",
    "\n",
    "oedms_def3[\"plot\"] = [true]; \n",
    "oedms_def3[\"flag\"] = [\"testOEDMS3\"];\n",
    "\n",
    "oedms_def3[\"uUpper\"] = [100, 10];\n",
    "oedms_def3[\"uLower\"] = [0, 0];\n",
    "oedms_def3[\"maxiter\"] = [50];"
   ]
  },
  {
   "cell_type": "code",
   "execution_count": 37,
   "metadata": {},
   "outputs": [
    {
     "name": "stdout",
     "output_type": "stream",
     "text": [
      "-------------------------- WARNING --------------------------\n",
      "Less than 50 samples for theta are given for Model 1. \n",
      "Consider using more samples for better results. \n",
      "-------------------------------------------------------------\n",
      "-------------------------- WARNING --------------------------\n",
      "Less than 50 samples for theta are given for Model 2. \n",
      "Consider using more samples for better results. \n",
      "-------------------------------------------------------------\n",
      "-------------------------- WARNING --------------------------\n",
      "The amount of inducers is different in the two models.\n",
      "Be carefull on how you configure that. \n",
      "-------------------------------------------------------------\n",
      "\n",
      "----------------------------------------- MODEL GENERATION -----------------------------------------\n",
      "The model has been generated in the directory: \n",
      "                 E:\\UNI\\D_Drive\\PhD\\JULIAlang\\Generalisation_PLacExample\\Examples\\ModelsFunctions\\PLacExample_Model.jl\n",
      "--------------------------------------------------------------------------------------\n",
      "\n",
      "\n",
      "----------------------------------------- MODEL GENERATION -----------------------------------------\n",
      "The model has been generated in the directory: \n",
      "                 E:\\UNI\\D_Drive\\PhD\\JULIAlang\\Generalisation_PLacExample\\Examples\\ModelsFunctions\\TestPLac_M2_Model.jl\n",
      "--------------------------------------------------------------------------------------\n",
      "\n",
      "\n",
      "----------------------------------------- SCRIPTS OED Model Selection -----------------------------------------\n",
      "Utility function script to perform OED for Model Selection has been generated in the directory: \n",
      "E:\\UNI\\D_Drive\\PhD\\JULIAlang\\Generalisation_PLacExample\\Examples\\Results\\PLacExample_VS_TestPLac_M2_2021-01-11\\OEDModelSelectionScripts\\PLacExample_VS_TestPLac_M2_OEDMS.jl\n",
      "--------------------------------------------------------------------------------------\n",
      "\n",
      "\n",
      "---------------------------------------------- OPTIMISATION INFO ----------------------------------------------\n",
      "\n",
      "If you wish to modify any of the settings for the Bayesian Optimisation used (from the package \n",
      "BayesianOptimization.jl) please search the function settingsBayesOpt located in the file ModelOEDSelection.jl \n",
      "that is located in the directory: \n",
      "        E:\\UNI\\D_Drive\\PhD\\JULIAlang\\Generalisation_PLacExample\\Examples\n",
      "and change any desired setting (under your own risk). \n",
      "If any irreversible change is made by mistake, just look for the file settingsBayesOptBackUp.jl and copy the\n",
      "contents of the function inside (which are the same as the original except for the function name ;) )\n",
      "\n",
      "---------------------------------------------------------------------------------------------------------------\n",
      "\n"
     ]
    }
   ],
   "source": [
    "# Generate scripts for the ODEs and Utility functions\n",
    "oedms_def3 = genOptimMSFuncts(oedms_def3);"
   ]
  },
  {
   "cell_type": "code",
   "execution_count": 38,
   "metadata": {
    "scrolled": true
   },
   "outputs": [
    {
     "name": "stdout",
     "output_type": "stream",
     "text": [
      "-------------------------- WARNING --------------------------\n",
      "Less than 50 samples for theta are given for Model 1. \n",
      "Consider using more samples for better results. \n",
      "-------------------------------------------------------------\n",
      "-------------------------- WARNING --------------------------\n",
      "Less than 50 samples for theta are given for Model 2. \n",
      "Consider using more samples for better results. \n",
      "-------------------------------------------------------------\n",
      "-------------------------- WARNING --------------------------\n",
      "The amount of inducers is different in the two models.\n",
      "Be carefull on how you configure that. \n",
      "-------------------------------------------------------------\n"
     ]
    },
    {
     "name": "stderr",
     "output_type": "stream",
     "text": [
      "┌ Info: 2021-01-11T15:16:23.818\titeration: 10\tcurrent optimum: 1.6238283561826168e13\n",
      "└ @ BayesianOptimization C:\\Users\\david\\.juliapro\\JuliaPro_v1.4.0-1\\packages\\BayesianOptimization\\poykT\\src\\BayesianOptimization.jl:140\n",
      "┌ Info: 2021-01-11T15:16:25.526\titeration: 11\tcurrent optimum: 1.6238283561826168e13\n",
      "└ @ BayesianOptimization C:\\Users\\david\\.juliapro\\JuliaPro_v1.4.0-1\\packages\\BayesianOptimization\\poykT\\src\\BayesianOptimization.jl:140\n",
      "┌ Info: 2021-01-11T15:16:25.579\titeration: 12\tcurrent optimum: 1.6238283561826168e13\n",
      "└ @ BayesianOptimization C:\\Users\\david\\.juliapro\\JuliaPro_v1.4.0-1\\packages\\BayesianOptimization\\poykT\\src\\BayesianOptimization.jl:140\n",
      "┌ Info: 2021-01-11T15:16:25.631\titeration: 13\tcurrent optimum: 1.6238283561826168e13\n",
      "└ @ BayesianOptimization C:\\Users\\david\\.juliapro\\JuliaPro_v1.4.0-1\\packages\\BayesianOptimization\\poykT\\src\\BayesianOptimization.jl:140\n",
      "┌ Info: 2021-01-11T15:16:25.684\titeration: 14\tcurrent optimum: 1.6238283561826168e13\n",
      "└ @ BayesianOptimization C:\\Users\\david\\.juliapro\\JuliaPro_v1.4.0-1\\packages\\BayesianOptimization\\poykT\\src\\BayesianOptimization.jl:140\n",
      "┌ Info: 2021-01-11T15:16:25.733\titeration: 15\tcurrent optimum: 1.6238283561826168e13\n",
      "└ @ BayesianOptimization C:\\Users\\david\\.juliapro\\JuliaPro_v1.4.0-1\\packages\\BayesianOptimization\\poykT\\src\\BayesianOptimization.jl:140\n",
      "┌ Info: 2021-01-11T15:16:25.789\titeration: 16\tcurrent optimum: 1.6238283561826168e13\n",
      "└ @ BayesianOptimization C:\\Users\\david\\.juliapro\\JuliaPro_v1.4.0-1\\packages\\BayesianOptimization\\poykT\\src\\BayesianOptimization.jl:140\n",
      "┌ Info: 2021-01-11T15:16:26.134\titeration: 17\tcurrent optimum: 1.6693472922383516e13\n",
      "└ @ BayesianOptimization C:\\Users\\david\\.juliapro\\JuliaPro_v1.4.0-1\\packages\\BayesianOptimization\\poykT\\src\\BayesianOptimization.jl:140\n",
      "┌ Info: 2021-01-11T15:16:26.188\titeration: 18\tcurrent optimum: 1.6693472922383516e13\n",
      "└ @ BayesianOptimization C:\\Users\\david\\.juliapro\\JuliaPro_v1.4.0-1\\packages\\BayesianOptimization\\poykT\\src\\BayesianOptimization.jl:140\n",
      "┌ Info: 2021-01-11T15:16:26.242\titeration: 19\tcurrent optimum: 1.6693472922383516e13\n",
      "└ @ BayesianOptimization C:\\Users\\david\\.juliapro\\JuliaPro_v1.4.0-1\\packages\\BayesianOptimization\\poykT\\src\\BayesianOptimization.jl:140\n",
      "┌ Info: 2021-01-11T15:16:26.297\titeration: 20\tcurrent optimum: 1.6693472922383516e13\n",
      "└ @ BayesianOptimization C:\\Users\\david\\.juliapro\\JuliaPro_v1.4.0-1\\packages\\BayesianOptimization\\poykT\\src\\BayesianOptimization.jl:140\n",
      "┌ Info: 2021-01-11T15:16:26.343\titeration: 21\tcurrent optimum: 1.6693472922383516e13\n",
      "└ @ BayesianOptimization C:\\Users\\david\\.juliapro\\JuliaPro_v1.4.0-1\\packages\\BayesianOptimization\\poykT\\src\\BayesianOptimization.jl:140\n",
      "┌ Info: 2021-01-11T15:16:26.394\titeration: 22\tcurrent optimum: 1.6693472922383516e13\n",
      "└ @ BayesianOptimization C:\\Users\\david\\.juliapro\\JuliaPro_v1.4.0-1\\packages\\BayesianOptimization\\poykT\\src\\BayesianOptimization.jl:140\n",
      "┌ Info: 2021-01-11T15:16:26.451\titeration: 23\tcurrent optimum: 1.6693472922383516e13\n",
      "└ @ BayesianOptimization C:\\Users\\david\\.juliapro\\JuliaPro_v1.4.0-1\\packages\\BayesianOptimization\\poykT\\src\\BayesianOptimization.jl:140\n",
      "┌ Info: 2021-01-11T15:16:26.503\titeration: 24\tcurrent optimum: 1.6693472922383516e13\n",
      "└ @ BayesianOptimization C:\\Users\\david\\.juliapro\\JuliaPro_v1.4.0-1\\packages\\BayesianOptimization\\poykT\\src\\BayesianOptimization.jl:140\n",
      "┌ Info: 2021-01-11T15:16:26.553\titeration: 25\tcurrent optimum: 1.6693472922383516e13\n",
      "└ @ BayesianOptimization C:\\Users\\david\\.juliapro\\JuliaPro_v1.4.0-1\\packages\\BayesianOptimization\\poykT\\src\\BayesianOptimization.jl:140\n",
      "┌ Info: 2021-01-11T15:16:26.602\titeration: 26\tcurrent optimum: 1.6693472922383516e13\n",
      "└ @ BayesianOptimization C:\\Users\\david\\.juliapro\\JuliaPro_v1.4.0-1\\packages\\BayesianOptimization\\poykT\\src\\BayesianOptimization.jl:140\n",
      "┌ Info: 2021-01-11T15:16:26.652\titeration: 27\tcurrent optimum: 1.6693472922383516e13\n",
      "└ @ BayesianOptimization C:\\Users\\david\\.juliapro\\JuliaPro_v1.4.0-1\\packages\\BayesianOptimization\\poykT\\src\\BayesianOptimization.jl:140\n",
      "┌ Info: 2021-01-11T15:16:26.701\titeration: 28\tcurrent optimum: 4.801336841202854e13\n",
      "└ @ BayesianOptimization C:\\Users\\david\\.juliapro\\JuliaPro_v1.4.0-1\\packages\\BayesianOptimization\\poykT\\src\\BayesianOptimization.jl:140\n",
      "┌ Info: 2021-01-11T15:16:26.75\titeration: 29\tcurrent optimum: 4.801336841202854e13\n",
      "└ @ BayesianOptimization C:\\Users\\david\\.juliapro\\JuliaPro_v1.4.0-1\\packages\\BayesianOptimization\\poykT\\src\\BayesianOptimization.jl:140\n",
      "┌ Info: 2021-01-11T15:16:26.798\titeration: 30\tcurrent optimum: 4.801336841202854e13\n",
      "└ @ BayesianOptimization C:\\Users\\david\\.juliapro\\JuliaPro_v1.4.0-1\\packages\\BayesianOptimization\\poykT\\src\\BayesianOptimization.jl:140\n",
      "┌ Info: 2021-01-11T15:16:26.849\titeration: 31\tcurrent optimum: 4.801336841202854e13\n",
      "└ @ BayesianOptimization C:\\Users\\david\\.juliapro\\JuliaPro_v1.4.0-1\\packages\\BayesianOptimization\\poykT\\src\\BayesianOptimization.jl:140\n",
      "┌ Info: 2021-01-11T15:16:26.9\titeration: 32\tcurrent optimum: 4.801336841202854e13\n",
      "└ @ BayesianOptimization C:\\Users\\david\\.juliapro\\JuliaPro_v1.4.0-1\\packages\\BayesianOptimization\\poykT\\src\\BayesianOptimization.jl:140\n",
      "┌ Info: 2021-01-11T15:16:26.949\titeration: 33\tcurrent optimum: 4.801336841202854e13\n",
      "└ @ BayesianOptimization C:\\Users\\david\\.juliapro\\JuliaPro_v1.4.0-1\\packages\\BayesianOptimization\\poykT\\src\\BayesianOptimization.jl:140\n",
      "┌ Info: 2021-01-11T15:16:26.995\titeration: 34\tcurrent optimum: 4.801336841202854e13\n",
      "└ @ BayesianOptimization C:\\Users\\david\\.juliapro\\JuliaPro_v1.4.0-1\\packages\\BayesianOptimization\\poykT\\src\\BayesianOptimization.jl:140\n",
      "┌ Info: 2021-01-11T15:16:27.045\titeration: 35\tcurrent optimum: 4.801336841202854e13\n",
      "└ @ BayesianOptimization C:\\Users\\david\\.juliapro\\JuliaPro_v1.4.0-1\\packages\\BayesianOptimization\\poykT\\src\\BayesianOptimization.jl:140\n",
      "┌ Info: 2021-01-11T15:16:27.097\titeration: 36\tcurrent optimum: 4.801336841202854e13\n",
      "└ @ BayesianOptimization C:\\Users\\david\\.juliapro\\JuliaPro_v1.4.0-1\\packages\\BayesianOptimization\\poykT\\src\\BayesianOptimization.jl:140\n",
      "┌ Info: 2021-01-11T15:16:27.15\titeration: 37\tcurrent optimum: 4.801336841202854e13\n",
      "└ @ BayesianOptimization C:\\Users\\david\\.juliapro\\JuliaPro_v1.4.0-1\\packages\\BayesianOptimization\\poykT\\src\\BayesianOptimization.jl:140\n",
      "┌ Info: 2021-01-11T15:16:27.197\titeration: 38\tcurrent optimum: 4.801336841202854e13\n",
      "└ @ BayesianOptimization C:\\Users\\david\\.juliapro\\JuliaPro_v1.4.0-1\\packages\\BayesianOptimization\\poykT\\src\\BayesianOptimization.jl:140\n",
      "┌ Info: 2021-01-11T15:16:27.247\titeration: 39\tcurrent optimum: 4.801336841202854e13\n",
      "└ @ BayesianOptimization C:\\Users\\david\\.juliapro\\JuliaPro_v1.4.0-1\\packages\\BayesianOptimization\\poykT\\src\\BayesianOptimization.jl:140\n",
      "┌ Info: 2021-01-11T15:16:27.299\titeration: 40\tcurrent optimum: 4.801336841202854e13\n",
      "└ @ BayesianOptimization C:\\Users\\david\\.juliapro\\JuliaPro_v1.4.0-1\\packages\\BayesianOptimization\\poykT\\src\\BayesianOptimization.jl:140\n",
      "┌ Info: 2021-01-11T15:16:27.351\titeration: 41\tcurrent optimum: 4.801336841202854e13\n",
      "└ @ BayesianOptimization C:\\Users\\david\\.juliapro\\JuliaPro_v1.4.0-1\\packages\\BayesianOptimization\\poykT\\src\\BayesianOptimization.jl:140\n",
      "┌ Info: 2021-01-11T15:16:27.402\titeration: 42\tcurrent optimum: 4.801336841202854e13\n",
      "└ @ BayesianOptimization C:\\Users\\david\\.juliapro\\JuliaPro_v1.4.0-1\\packages\\BayesianOptimization\\poykT\\src\\BayesianOptimization.jl:140\n",
      "┌ Info: 2021-01-11T15:16:27.467\titeration: 43\tcurrent optimum: 4.801336841202854e13\n",
      "└ @ BayesianOptimization C:\\Users\\david\\.juliapro\\JuliaPro_v1.4.0-1\\packages\\BayesianOptimization\\poykT\\src\\BayesianOptimization.jl:140\n",
      "┌ Info: 2021-01-11T15:16:27.518\titeration: 44\tcurrent optimum: 4.912280653059915e13\n",
      "└ @ BayesianOptimization C:\\Users\\david\\.juliapro\\JuliaPro_v1.4.0-1\\packages\\BayesianOptimization\\poykT\\src\\BayesianOptimization.jl:140\n",
      "┌ Info: 2021-01-11T15:16:27.574\titeration: 45\tcurrent optimum: 4.912280653059915e13\n",
      "└ @ BayesianOptimization C:\\Users\\david\\.juliapro\\JuliaPro_v1.4.0-1\\packages\\BayesianOptimization\\poykT\\src\\BayesianOptimization.jl:140\n",
      "┌ Info: 2021-01-11T15:16:27.628\titeration: 46\tcurrent optimum: 4.912280653059915e13\n",
      "└ @ BayesianOptimization C:\\Users\\david\\.juliapro\\JuliaPro_v1.4.0-1\\packages\\BayesianOptimization\\poykT\\src\\BayesianOptimization.jl:140\n",
      "┌ Info: 2021-01-11T15:16:27.678\titeration: 47\tcurrent optimum: 4.912280653059915e13\n",
      "└ @ BayesianOptimization C:\\Users\\david\\.juliapro\\JuliaPro_v1.4.0-1\\packages\\BayesianOptimization\\poykT\\src\\BayesianOptimization.jl:140\n",
      "┌ Info: 2021-01-11T15:16:27.886\titeration: 48\tcurrent optimum: 4.912280653059915e13\n",
      "└ @ BayesianOptimization C:\\Users\\david\\.juliapro\\JuliaPro_v1.4.0-1\\packages\\BayesianOptimization\\poykT\\src\\BayesianOptimization.jl:140\n"
     ]
    },
    {
     "name": "stderr",
     "output_type": "stream",
     "text": [
      "┌ Info: 2021-01-11T15:16:27.938\titeration: 49\tcurrent optimum: 4.912280653059915e13\n",
      "└ @ BayesianOptimization C:\\Users\\david\\.juliapro\\JuliaPro_v1.4.0-1\\packages\\BayesianOptimization\\poykT\\src\\BayesianOptimization.jl:140\n",
      "┌ Info:  ──────────────────────────────────────────────────────────────────────────────\n",
      "│                                        Time                   Allocations      \n",
      "│                                ──────────────────────   ───────────────────────\n",
      "│        Tot / % measured:            8.26s / 100%            1.51GiB / 100%     \n",
      "│ \n",
      "│  Section               ncalls     time   %tot     avg     alloc   %tot      avg\n",
      "│  ──────────────────────────────────────────────────────────────────────────────\n",
      "│  function evaluation       50    5.04s  61.1%   101ms   0.97GiB  64.2%  19.8MiB\n",
      "│  acquisition               41    3.16s  38.3%  77.0ms    547MiB  35.4%  13.3MiB\n",
      "│  model update              41   34.7ms  0.42%   846μs   5.53MiB  0.36%   138KiB\n",
      "│  model hyperparamet...     41   6.98ms  0.08%   170μs    284KiB  0.02%  6.93KiB\n",
      "│  ──────────────────────────────────────────────────────────────────────────────\n",
      "└ @ BayesianOptimization C:\\Users\\david\\.juliapro\\JuliaPro_v1.4.0-1\\packages\\BayesianOptimization\\poykT\\src\\BayesianOptimization.jl:154\n"
     ]
    },
    {
     "name": "stdout",
     "output_type": "stream",
     "text": [
      "\n",
      "----------------------------------------- RESULTS -----------------------------------------\n",
      "OED for Model Selection results are saved in the directory: \n",
      "                 E:\\UNI\\D_Drive\\PhD\\JULIAlang\\Generalisation_PLacExample\\Examples\\Results\\PLacExample_VS_TestPLac_M2_2021-01-11\n",
      "Under the name OEDModelSelectResults_testOEDMS3.jld\n",
      "--------------------------------------------------------------------------------------\n",
      "\n",
      "\n",
      "----------------------------------------- PLOTS -----------------------------------------\n",
      "PLOTS are saved in the directory: \n",
      "                 E:\\UNI\\D_Drive\\PhD\\JULIAlang\\Generalisation_PLacExample\\Examples\\Results\\PLacExample_VS_TestPLac_M2_2021-01-11\n",
      "Under the names PlotOEDMSResults_Exp1_testOEDMS3.png and Plot_OEDMSConvergence_testOEDMS3.png\n",
      "--------------------------------------------------------------------------------------\n",
      "\n"
     ]
    }
   ],
   "source": [
    "oedms_res3, oedms_def3 = mainOEDMS(oedms_def3);"
   ]
  },
  {
   "cell_type": "markdown",
   "metadata": {},
   "source": [
    "We know what the results structure looks like, so let's go for the plots."
   ]
  },
  {
   "cell_type": "markdown",
   "metadata": {},
   "source": [
    "### Now, let's have a look at the plots generated\n",
    "First, the convergence curve <br>\n",
    "Note that to reduce the computational time of the example we used a really low number of iterations, so do not be surprised if the results do not look good. Also, technically, the second model does not make much sense as well. "
   ]
  },
  {
   "cell_type": "code",
   "execution_count": 39,
   "metadata": {},
   "outputs": [
    {
     "data": {
      "image/png": "[encoded data removed]",
      "text/plain": [
       "400×600 Array{RGB{N0f8},2} with eltype RGB{Normed{UInt8,8}}:\n",
       " RGB{N0f8}(1.0,1.0,1.0)  RGB{N0f8}(1.0,1.0,1.0)  …  RGB{N0f8}(1.0,1.0,1.0)\n",
       " RGB{N0f8}(1.0,1.0,1.0)  RGB{N0f8}(1.0,1.0,1.0)     RGB{N0f8}(1.0,1.0,1.0)\n",
       " RGB{N0f8}(1.0,1.0,1.0)  RGB{N0f8}(1.0,1.0,1.0)     RGB{N0f8}(1.0,1.0,1.0)\n",
       " RGB{N0f8}(1.0,1.0,1.0)  RGB{N0f8}(1.0,1.0,1.0)     RGB{N0f8}(1.0,1.0,1.0)\n",
       " RGB{N0f8}(1.0,1.0,1.0)  RGB{N0f8}(1.0,1.0,1.0)     RGB{N0f8}(1.0,1.0,1.0)\n",
       " RGB{N0f8}(1.0,1.0,1.0)  RGB{N0f8}(1.0,1.0,1.0)  …  RGB{N0f8}(1.0,1.0,1.0)\n",
       " RGB{N0f8}(1.0,1.0,1.0)  RGB{N0f8}(1.0,1.0,1.0)     RGB{N0f8}(1.0,1.0,1.0)\n",
       " RGB{N0f8}(1.0,1.0,1.0)  RGB{N0f8}(1.0,1.0,1.0)     RGB{N0f8}(1.0,1.0,1.0)\n",
       " RGB{N0f8}(1.0,1.0,1.0)  RGB{N0f8}(1.0,1.0,1.0)     RGB{N0f8}(1.0,1.0,1.0)\n",
       " RGB{N0f8}(1.0,1.0,1.0)  RGB{N0f8}(1.0,1.0,1.0)     RGB{N0f8}(1.0,1.0,1.0)\n",
       " RGB{N0f8}(1.0,1.0,1.0)  RGB{N0f8}(1.0,1.0,1.0)  …  RGB{N0f8}(1.0,1.0,1.0)\n",
       " RGB{N0f8}(1.0,1.0,1.0)  RGB{N0f8}(1.0,1.0,1.0)     RGB{N0f8}(1.0,1.0,1.0)\n",
       " RGB{N0f8}(1.0,1.0,1.0)  RGB{N0f8}(1.0,1.0,1.0)     RGB{N0f8}(1.0,1.0,1.0)\n",
       " ⋮                                               ⋱  \n",
       " RGB{N0f8}(1.0,1.0,1.0)  RGB{N0f8}(1.0,1.0,1.0)     RGB{N0f8}(1.0,1.0,1.0)\n",
       " RGB{N0f8}(1.0,1.0,1.0)  RGB{N0f8}(1.0,1.0,1.0)     RGB{N0f8}(1.0,1.0,1.0)\n",
       " RGB{N0f8}(1.0,1.0,1.0)  RGB{N0f8}(1.0,1.0,1.0)  …  RGB{N0f8}(1.0,1.0,1.0)\n",
       " RGB{N0f8}(1.0,1.0,1.0)  RGB{N0f8}(1.0,1.0,1.0)     RGB{N0f8}(1.0,1.0,1.0)\n",
       " RGB{N0f8}(1.0,1.0,1.0)  RGB{N0f8}(1.0,1.0,1.0)     RGB{N0f8}(1.0,1.0,1.0)\n",
       " RGB{N0f8}(1.0,1.0,1.0)  RGB{N0f8}(1.0,1.0,1.0)     RGB{N0f8}(1.0,1.0,1.0)\n",
       " RGB{N0f8}(1.0,1.0,1.0)  RGB{N0f8}(1.0,1.0,1.0)     RGB{N0f8}(1.0,1.0,1.0)\n",
       " RGB{N0f8}(1.0,1.0,1.0)  RGB{N0f8}(1.0,1.0,1.0)  …  RGB{N0f8}(1.0,1.0,1.0)\n",
       " RGB{N0f8}(1.0,1.0,1.0)  RGB{N0f8}(1.0,1.0,1.0)     RGB{N0f8}(1.0,1.0,1.0)\n",
       " RGB{N0f8}(1.0,1.0,1.0)  RGB{N0f8}(1.0,1.0,1.0)     RGB{N0f8}(1.0,1.0,1.0)\n",
       " RGB{N0f8}(1.0,1.0,1.0)  RGB{N0f8}(1.0,1.0,1.0)     RGB{N0f8}(1.0,1.0,1.0)\n",
       " RGB{N0f8}(1.0,1.0,1.0)  RGB{N0f8}(1.0,1.0,1.0)     RGB{N0f8}(1.0,1.0,1.0)"
      ]
     },
     "execution_count": 39,
     "metadata": {},
     "output_type": "execute_result"
    }
   ],
   "source": [
    "# Note that none of the curves are at convergence due to the low time allowed for the optimisation. \n",
    "CC3 = load(string(oedms_def3[\"savepath\"], \"\\\\Plot_OEDMSConvergence_\",oedms_def3[\"flag\"],\".png\"))"
   ]
  },
  {
   "cell_type": "markdown",
   "metadata": {},
   "source": [
    "And now the experiment simualtions"
   ]
  },
  {
   "cell_type": "code",
   "execution_count": 40,
   "metadata": {},
   "outputs": [
    {
     "data": {
      "image/png": "[encoded data removed]",
      "text/plain": [
       "1200×2000 Array{RGB{N0f8},2} with eltype RGB{Normed{UInt8,8}}:\n",
       " RGB{N0f8}(1.0,1.0,1.0)  RGB{N0f8}(1.0,1.0,1.0)  …  RGB{N0f8}(1.0,1.0,1.0)\n",
       " RGB{N0f8}(1.0,1.0,1.0)  RGB{N0f8}(1.0,1.0,1.0)     RGB{N0f8}(1.0,1.0,1.0)\n",
       " RGB{N0f8}(1.0,1.0,1.0)  RGB{N0f8}(1.0,1.0,1.0)     RGB{N0f8}(1.0,1.0,1.0)\n",
       " RGB{N0f8}(1.0,1.0,1.0)  RGB{N0f8}(1.0,1.0,1.0)     RGB{N0f8}(1.0,1.0,1.0)\n",
       " RGB{N0f8}(1.0,1.0,1.0)  RGB{N0f8}(1.0,1.0,1.0)     RGB{N0f8}(1.0,1.0,1.0)\n",
       " RGB{N0f8}(1.0,1.0,1.0)  RGB{N0f8}(1.0,1.0,1.0)  …  RGB{N0f8}(1.0,1.0,1.0)\n",
       " RGB{N0f8}(1.0,1.0,1.0)  RGB{N0f8}(1.0,1.0,1.0)     RGB{N0f8}(1.0,1.0,1.0)\n",
       " RGB{N0f8}(1.0,1.0,1.0)  RGB{N0f8}(1.0,1.0,1.0)     RGB{N0f8}(1.0,1.0,1.0)\n",
       " RGB{N0f8}(1.0,1.0,1.0)  RGB{N0f8}(1.0,1.0,1.0)     RGB{N0f8}(1.0,1.0,1.0)\n",
       " RGB{N0f8}(1.0,1.0,1.0)  RGB{N0f8}(1.0,1.0,1.0)     RGB{N0f8}(1.0,1.0,1.0)\n",
       " RGB{N0f8}(1.0,1.0,1.0)  RGB{N0f8}(1.0,1.0,1.0)  …  RGB{N0f8}(1.0,1.0,1.0)\n",
       " RGB{N0f8}(1.0,1.0,1.0)  RGB{N0f8}(1.0,1.0,1.0)     RGB{N0f8}(1.0,1.0,1.0)\n",
       " RGB{N0f8}(1.0,1.0,1.0)  RGB{N0f8}(1.0,1.0,1.0)     RGB{N0f8}(1.0,1.0,1.0)\n",
       " ⋮                                               ⋱  \n",
       " RGB{N0f8}(1.0,1.0,1.0)  RGB{N0f8}(1.0,1.0,1.0)     RGB{N0f8}(1.0,1.0,1.0)\n",
       " RGB{N0f8}(1.0,1.0,1.0)  RGB{N0f8}(1.0,1.0,1.0)     RGB{N0f8}(1.0,1.0,1.0)\n",
       " RGB{N0f8}(1.0,1.0,1.0)  RGB{N0f8}(1.0,1.0,1.0)  …  RGB{N0f8}(1.0,1.0,1.0)\n",
       " RGB{N0f8}(1.0,1.0,1.0)  RGB{N0f8}(1.0,1.0,1.0)     RGB{N0f8}(1.0,1.0,1.0)\n",
       " RGB{N0f8}(1.0,1.0,1.0)  RGB{N0f8}(1.0,1.0,1.0)     RGB{N0f8}(1.0,1.0,1.0)\n",
       " RGB{N0f8}(1.0,1.0,1.0)  RGB{N0f8}(1.0,1.0,1.0)     RGB{N0f8}(1.0,1.0,1.0)\n",
       " RGB{N0f8}(1.0,1.0,1.0)  RGB{N0f8}(1.0,1.0,1.0)     RGB{N0f8}(1.0,1.0,1.0)\n",
       " RGB{N0f8}(1.0,1.0,1.0)  RGB{N0f8}(1.0,1.0,1.0)  …  RGB{N0f8}(1.0,1.0,1.0)\n",
       " RGB{N0f8}(1.0,1.0,1.0)  RGB{N0f8}(1.0,1.0,1.0)     RGB{N0f8}(1.0,1.0,1.0)\n",
       " RGB{N0f8}(1.0,1.0,1.0)  RGB{N0f8}(1.0,1.0,1.0)     RGB{N0f8}(1.0,1.0,1.0)\n",
       " RGB{N0f8}(1.0,1.0,1.0)  RGB{N0f8}(1.0,1.0,1.0)     RGB{N0f8}(1.0,1.0,1.0)\n",
       " RGB{N0f8}(1.0,1.0,1.0)  RGB{N0f8}(1.0,1.0,1.0)     RGB{N0f8}(1.0,1.0,1.0)"
      ]
     },
     "execution_count": 40,
     "metadata": {},
     "output_type": "execute_result"
    }
   ],
   "source": [
    "expMS3 = load(string(oedms_def3[\"savepath\"], \"\\\\PlotOEDMSResults_Exp1_\",oedms_def3[\"flag\"],\".png\"))"
   ]
  },
  {
   "cell_type": "markdown",
   "metadata": {},
   "source": [
    "### This is the end of the section. Look at the cool logo to check the package version ;) \n"
   ]
  },
  {
   "cell_type": "code",
   "execution_count": 41,
   "metadata": {},
   "outputs": [
    {
     "name": "stdout",
     "output_type": "stream",
     "text": [
      "\n",
      "                                                  *\n",
      "                                    **           * *           *                          **\n",
      "                                   * *          *   *         * *                       **  *\n",
      "                                  *  *         *    *        *  **                    **     *\n",
      "                         *       *   *  *   ***     *     ***    **                 **        *      *\n",
      "                        * *     *    * * * *         **  *         **      *      **           *    * *   ***\n",
      "                       *   *   *     **   *            **            **   * * ****              ****   ***   ***\n",
      "                   ** *     ***                                        * *   *                                  *\n",
      "                  *  *                                                  *                                        *\n",
      "                 *            ___________   __________   ___  ___   ___________   __________                      ***\n",
      "                **           /  _____   /  / ______  /  /   \\/   \\  \\   _____  \\  \\  _______\\                        **\n",
      "               *            /  /____/  /  / /     / /  /          \\  \\  \\____\\  \\  \\ \\________                         *\n",
      "             **            /  _____   /  / /     / /  /            \\  \\   _____  \\  \\________ \\                       *\n",
      "           **             /  /    /  /  / /     / /  /   /\\____/\\   \\  \\  \\    \\  \\          \\ \\                    **\n",
      "         **              /  /____/  /  / /_____/ /  /   /        \\   \\  \\  \\____\\  \\   _______\\ \\                 **\n",
      "        *               /__________/  /_________/  /__ /          \\___\\  \\__________\\  \\_________\\ V 0.1.0       **\n",
      "         ****                                                *                                                  *\n",
      "             *                          ***                 * *                                                *\n",
      "              *   ***                  *   *     *         *   *                  *                      **   *\n",
      "               * *   **             ***     *   * ***     *     *   *          *** *           **       *  * *\n",
      "                *      **      *   *         * *    *    *       * * **     ***     *         *  *     *    *\n",
      "                         **   * * *           *     *   *         *    ** **         *       *    *   *\n",
      "                           * *   *                   * *                 *            *     *      * *\n",
      "                            *                         *                                *   *        *\n",
      "                                                                                        * *\n",
      "                                                                                         *\n",
      "    \n"
     ]
    }
   ],
   "source": [
    "versionBOMBS()"
   ]
  }
 ],
 "metadata": {
  "kernelspec": {
   "display_name": "Julia 1.4.0",
   "language": "julia",
   "name": "julia-1.4"
  },
  "language_info": {
   "file_extension": ".jl",
   "mimetype": "application/julia",
   "name": "julia",
   "version": "1.4.0"
  }
 },
 "nbformat": 4,
 "nbformat_minor": 4
}
