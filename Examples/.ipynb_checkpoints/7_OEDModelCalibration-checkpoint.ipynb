{
 "cells": [
  {
   "cell_type": "markdown",
   "metadata": {},
   "source": [
    "# Case 7: Bayesian Optimal Experimental Design (OED) for model calibration"
   ]
  },
  {
   "cell_type": "code",
   "execution_count": 1,
   "metadata": {},
   "outputs": [],
   "source": [
    "using BOMBS"
   ]
  },
  {
   "cell_type": "markdown",
   "metadata": {},
   "source": [
    "### Just to print the nice BOMBS logo\n"
   ]
  },
  {
   "cell_type": "code",
   "execution_count": 2,
   "metadata": {},
   "outputs": [
    {
     "name": "stdout",
     "output_type": "stream",
     "text": [
      "\n",
      "                      ___________   __________   ___  ___   ___________   __________\n",
      "                     /  _____   /  / ______  /  /   \\/   \\  \\   _____  \\  \\  _______\\\r\n",
      "                    /  /____/  /  / /     / /  /          \\  \\  \\____\\  \\  \\ \\________\n",
      "                   /  _____   /  / /     / /  /            \\  \\   _____  \\  \\________ \\\r\n",
      "                  /  /    /  /  / /     / /  /   /\\____/\\   \\  \\  \\    \\  \\          \\ \\\r\n",
      "                 /  /____/  /  / /_____/ /  /   /        \\   \\  \\  \\____\\  \\   _______\\ \\\r\n",
      "                /__________/  /_________/  /__ /          \\___\\  \\__________\\  \\_________\\\r\n",
      "\n",
      "                \n"
     ]
    }
   ],
   "source": [
    "printLogo()"
   ]
  },
  {
   "cell_type": "markdown",
   "metadata": {},
   "source": [
    "#### Important!\n",
    "In this case you do not need to generate the model now. Since the utility function also needs to be generated (and requires the experiment specifications) this step will be done later on."
   ]
  },
  {
   "cell_type": "code",
   "execution_count": 3,
   "metadata": {},
   "outputs": [],
   "source": [
    "# Generate the empty dictionary with the model_def structure\n",
    "model_def = defModStruct()\n",
    "\n",
    "# Fill the different elements of the dictionary with your model specifications. See above how ^\n",
    "model_def[\"NameF\"] = [\"PLacExample\"];\n",
    "model_def[\"nStat\"] = [4];\n",
    "model_def[\"nPar\"] = [9];\n",
    "model_def[\"nInp\"] = [1];\n",
    "model_def[\"stName\"] = [\"Cit_mrna\",\"Cit_foldedP\",\"Cit_fluo\",\"Cit_AU\"];\n",
    "\n",
    "model_def[\"inpName\"] = [\"IPTG\"];\n",
    "\n",
    "model_def[\"parName\"] = [\"alpha1\",\"Vm1\",\"h1\",\"Km1\",\"d1\",\n",
    "                            \"alpha2\",\"d2\",\"Kf\",\"sc_molec\"];\n",
    "model_def[\"eqns\"] = [\"dCit_mrna=alpha1+Vm1*(IPTG^h1/(Km1^h1+IPTG^h1))-d1*Cit_mrna\",\n",
    "                    \"dCit_foldedP=alpha2*Cit_mrna-(d2+Kf)*Cit_foldedP\",\n",
    "                    \"dCit_fluo=Kf*Cit_foldedP-d2*Cit_fluo\",\n",
    "                    \"dCit_AU = sc_molec*dCit_fluo\"];\n",
    "\n",
    "model_def[\"Y0eqs\"] = [\"Cit_mrna = (alpha1 + Vm1*(IPTG^h1/(Km1^h1+IPTG^h1)))/d1;\",\n",
    "                      \"Cit_foldedP = (alpha2*Cit_mrna)/(Kf+d2);\",\n",
    "                      \"Cit_fluo = (Kf*Cit_foldedP)/d2;\",\n",
    "                      \"Cit_AU= sc_molec*Cit_fluo;\"]; \n",
    "\n",
    "model_def[\"Y0ON\"] = [];\n",
    "model_def[\"tols\"] = [1e-9, 1e-9];"
   ]
  },
  {
   "cell_type": "markdown",
   "metadata": {},
   "source": [
    "### This function gives you information about the structure necessary to generate the model and how to call it. \n",
    "If you do not know how to call a specific section, just call the function with no input (infoAll()) to get the information."
   ]
  },
  {
   "cell_type": "code",
   "execution_count": 4,
   "metadata": {},
   "outputs": [
    {
     "name": "stdout",
     "output_type": "stream",
     "text": [
      "\n",
      "\n",
      "                CALL defODEModelCalibrStruct()\n",
      "\n",
      "oedmc_def[\"Model\"] = [];\n",
      "        # Dict with Model. See Model Generation Section.\n",
      "\n",
      "oedmc_def[\"Obs\"] = [];\n",
      "        # States of the model that are observables. This is a vector of strings.These could also be an\n",
      "        # expression combining states (Only +,-,*,/ and ^ will be considered).\n",
      "\n",
      "oedmc_def[\"Theta\"] = [];\n",
      "        # Theta matrix (Bayesian OED) for the model. No single vectors will be allowed.\n",
      "        # Path to file is also allowed.\n",
      "\n",
      "oedmc_def[\"y0\"] = [];\n",
      "        # Array (single simulation) or matrix (multiple simulations) of Y0s for the simulations for each\n",
      "        # experiment. If you are computing the steady-state this vector might not be used, however, you\n",
      "        # still need to introduce it with some random numbers.\n",
      "\n",
      "oedmc_def[\"preInd\"] = [];\n",
      "        # Vector of numbers with the values for the stimuli (inducer) in the over-night. It might be the case\n",
      "        # that this entry is not required since only the y0 vector is considered for the initial point of\n",
      "        # the simulation. However, you still need to introduce a random value for it to avoid future issues.\n",
      "\n",
      "oedmc_def[\"finalTime\"] = [];\n",
      "        # Vector of final times for each simulation (initial time will always be assumed as 0,\n",
      "        # so please consider that).\n",
      "\n",
      "oedmc_def[\"switchT\"] = [];\n",
      "        # Array with the switching times of the inducer in the simulation (time 0 and final\n",
      "        # time need to be considered)\n",
      "\n",
      "oedmc_def[\"tsamps\"] = [];\n",
      "        # Array of sampling time vectors for the experiments.\n",
      "\n",
      "oedmc_def[\"fixedInp\"] = [];\n",
      "        # If more than 1 inducer for the system exists, but only 1 input can be dynamic, give a vector\n",
      "        # of strings indicating which inputs are going to be optimised but as a constant input instead\n",
      "        # of dynamic. If none, just give an empty vector.\n",
      "        # If there is only 1 simuli in the model, this field will be ignored.\n",
      "\n",
      "oedmc_def[\"fixedStep\"] = [];\n",
      "        # If you want any of the steps to be fixed to a value. This has to be an empty array if none is fixed\n",
      "        # or an array of tuples, where each tuple is a step to be fixed. The first entry of the tuple is the\n",
      "        # index of the step (as an Integer), and the second and array of values for each inducer. Note that\n",
      "        # the fixed inputs will be ignored, so do not take them into account here.\n",
      "\n",
      "oedmc_def[\"equalStep\"] = [];\n",
      "        # If you want a series of steps to have the same optimised value (for example if you want to design a\n",
      "        # pulse experiment) you can introduce inside this array different arrays with the indexes of the steps\n",
      "        # that will have the same value. The values introduced in each array need to be integers.\n",
      "\n",
      "oedmc_def[\"plot\"] = [];\n",
      "        # true, flase, \"Yes\", \"yes\", \"No\", \"no\" or []\n",
      "        # indicating if plots with the results will be generated. Default is false.\n",
      "\n",
      "oedmc_def[\"flag\"] = [];\n",
      "        # String to attach a unique flag to the generated files so it is not overwritten.\n",
      "        # If empty, nothing will be added.\n",
      "\n",
      "oedmc_def[\"uUpper\"] = [];\n",
      "        # Vector indicating the upper bounds for the inducers\n",
      "\n",
      "oedmc_def[\"uLower\"] = [];\n",
      "        # Vector indicating the lower bounds for the inducers\n",
      "\n",
      "oedmc_def[\"maxiter\"] = [];\n",
      "        # Maximum number of iterations for the Bayesian Optimisation. If nothing is introduced a default\n",
      "        # of 100 iterations will be taken\n",
      "\n",
      "oedmc_def[\"util\"] = [];\n",
      "        # String indicating entropy or perc (or percentile) as the core of the utility function to\n",
      "        # compute the uncertainty of the model simulations. The default will be to use percentiles.\n",
      "\n"
     ]
    }
   ],
   "source": [
    "infoAll(\"oedmc\")"
   ]
  },
  {
   "cell_type": "markdown",
   "metadata": {},
   "source": [
    "# OED Model Calibration Example 1\n",
    "This is a basic example showing how to use the basic elements of the section. <br>\n",
    "<br>\n",
    "The experiment to be optimised (find the maximum uncertainty in the simulations) is a 3 step experiment where IPTG for the first step is fixed to 0. <br>\n",
    "<br>\n",
    "Since this section is purely based on model uncertainty in simulations, differently from the model selection section, a single theta sample cannot be given since the strategy will not work. <br>\n",
    "<br>\n",
    "In the utility function, to compute the simulation uncertainty you can use entropy or percentiles. In this first example we will use percentiles. "
   ]
  },
  {
   "cell_type": "code",
   "execution_count": 5,
   "metadata": {},
   "outputs": [
    {
     "data": {
      "text/plain": [
       "Dict{Any,Any} with 17 entries:\n",
       "  \"maxiter\"   => Any[]\n",
       "  \"y0\"        => Any[]\n",
       "  \"fixedStep\" => Any[]\n",
       "  \"fixedInp\"  => Any[]\n",
       "  \"Obs\"       => Any[]\n",
       "  \"uUpper\"    => Any[]\n",
       "  \"switchT\"   => Any[]\n",
       "  \"Model\"     => Any[]\n",
       "  \"preInd\"    => Any[]\n",
       "  \"finalTime\" => Any[]\n",
       "  \"uLower\"    => Any[]\n",
       "  \"equalStep\" => Any[]\n",
       "  \"tsamps\"    => Any[]\n",
       "  \"Theta\"     => Any[]\n",
       "  \"flag\"      => Any[]\n",
       "  \"plot\"      => Any[]\n",
       "  \"util\"      => Any[]"
      ]
     },
     "execution_count": 5,
     "metadata": {},
     "output_type": "execute_result"
    }
   ],
   "source": [
    "oedmc_def = defODEModelCalibrStruct()"
   ]
  },
  {
   "cell_type": "code",
   "execution_count": 6,
   "metadata": {},
   "outputs": [],
   "source": [
    "oedmc_def[\"Model\"] = [model_def]; \n",
    "oedmc_def[\"Obs\"] = [\"3*Cit_AU\"];\n",
    "oedmc_def[\"Theta\"] = [\"TestThetaPLac.csv\"]; \n",
    "\n",
    "oedmc_def[\"y0\"] = [10,10,10,10]; \n",
    "oedmc_def[\"preInd\"] = [0]; \n",
    "oedmc_def[\"finalTime\"] = [1439]; \n",
    "oedmc_def[\"switchT\"] = [[0, 500, 1000, 1439]]; \n",
    "oedmc_def[\"tsamps\"] = [collect(0:5:1439)]; \n",
    "oedmc_def[\"fixedInp\"] = []; \n",
    "oedmc_def[\"fixedStep\"] = [(1,[0])];\n",
    "oedmc_def[\"equalStep\"] = [];\n",
    "\n",
    "oedmc_def[\"plot\"] = [true]; \n",
    "oedmc_def[\"flag\"] = [\"testOEDMS\"]; \n",
    "\n",
    "oedmc_def[\"uUpper\"] = [100];\n",
    "oedmc_def[\"uLower\"] = [0]; \n",
    "oedmc_def[\"maxiter\"] = [150];\n",
    "\n",
    "oedmc_def[\"util\"] = [];"
   ]
  },
  {
   "cell_type": "markdown",
   "metadata": {},
   "source": [
    "This is the function that the section uses to generate the model script and the utility function script. "
   ]
  },
  {
   "cell_type": "code",
   "execution_count": 7,
   "metadata": {},
   "outputs": [
    {
     "name": "stdout",
     "output_type": "stream",
     "text": [
      "-------------------------- WARNING --------------------------\n",
      "Less than 50 samples for theta are given for the Model. \n",
      "Consider using more samples for better results. \n",
      "-------------------------------------------------------------\n",
      "\n",
      "----------------------------------------- MODEL GENERATION -----------------------------------------\n",
      "The model has been generated in the directory: \n",
      "                 E:\\UNI\\D_Drive\\PhD\\JULIAlang\\Generalisation_PLacExample\\Examples\\ModelsFunctions\\PLacExample_Model.jl\n",
      "--------------------------------------------------------------------------------------\n",
      "\n",
      "\n",
      "----------------------------------------- SCRIPTS OED Model Calibration -----------------------------------------\n",
      "Utility function script to perform OED for Model Calibration has been generated in the directory: \n",
      "E:\\UNI\\D_Drive\\PhD\\JULIAlang\\Generalisation_PLacExample\\Examples\\Results\\PLacExample_2021-01-12\\OEDModelCalibrationScripts\\PLacExample_OEDMC.jl\n",
      "--------------------------------------------------------------------------------------\n",
      "\n",
      "\n",
      "---------------------------------------------- OPTIMISATION INFO ----------------------------------------------\n",
      "\n",
      "If you wish to modify any of the settings for the Bayesian Optimisation used (from the package \n",
      "BayesianOptimization.jl) please search the function settingsBayesOptMC located in the file ModelOEDCalibration.jl \n",
      "that is located in the directory: \n",
      "        C:\\Users\\david\\AppData\\Local\\JuliaPro-1.4.0-1\\Julia-1.4.0\\share\\julia\\stdlib\\v1.4\\BOMBS.jl\\src\n",
      "and change any desired setting (under your own risk). \n",
      "If any irreversible change is made by mistake, just look for the file settingsBayesOptMCBackUp.jl and copy the\n",
      "contents of the function inside (which are the same as the original except for the function name ;) )\n",
      "\n",
      "---------------------------------------------------------------------------------------------------------------\n",
      "\n"
     ]
    }
   ],
   "source": [
    "oedmc_def =  genOptimMCFuncts(oedmc_def);"
   ]
  },
  {
   "cell_type": "markdown",
   "metadata": {},
   "source": [
    "#### The prints shown avobe are the same as the ones descrived in the model selection section, but lets have a quick look at what do they mean\n",
    "**- WARNING:** Warning indicating that you have introduced a really low number of samples for theta in your Model. 50 samples have been set arbitrally, but this number is still way too low. <br>\n",
    "**- MODEL GENERATION:**  Generation of the scripts for the model (same as what GenerateModel does). <br>\n",
    "**- SCRIPTS OED Model Calibration:** Path to the utility function script that has been generated. <br>\n",
    "**- OPTIMISATION INFO:** Information showing the user how to change the settings of the Bayesian Optimisation package since BOMBS only uses soem default settings. Also points to a backup file for how the settings in BOMBS are. "
   ]
  },
  {
   "cell_type": "markdown",
   "metadata": {},
   "source": [
    "Here, have a look at how the utility function looks like (to double check that everything is ok with it)."
   ]
  },
  {
   "cell_type": "code",
   "execution_count": 8,
   "metadata": {},
   "outputs": [
    {
     "name": "stdout",
     "output_type": "stream",
     "text": [
      "\n",
      "        \n",
      "\n",
      "    function PLacExampleUtility(ins)\n",
      "\n",
      "        # Definition of the inputs for the ODEs\n",
      "        if length(ins) == 1\n",
      "            IPTG2,IPTG3 = ins[1];\n",
      "        else\n",
      "            IPTG2,IPTG3 = ins;\n",
      "        end\n",
      "        inputsMC = [0,IPTG2,IPTG3];\n",
      "\n",
      "        # Solve ODEs\n",
      "        solMC = PLacExample_SolveAll(tsMC, pD1MC, spMC, inputsMC, ivss1MC, sampsMC, pre1MC);\n",
      "\n",
      "        # Extracte wanted vectors (observables) with time reduction\n",
      "        Obs1_MC = 3 .*solMC[:,4,:]; \n",
      "\n",
      "\n",
      "    \n",
      "        LowqObs1_MC = zeros(size(solMC)[1]); \n",
      "\n",
      "        HighqObs1_MC = zeros(size(solMC)[1]); \n",
      "\n",
      "        for i in 1:size(solMC)[1]\n",
      "            LowqObs1_MC[i] = percentile(Obs1_MC[i,:],0.5); \n",
      "\n",
      "            HighqObs1_MC[i] = percentile(Obs1_MC[i,:],99.5); \n",
      "\n",
      "        end\n",
      "\n",
      "        # Compute Euclidean distances\n",
      "        EuObs1_MC = sqrt(sum((LowqObs1_MC-HighqObs1_MC).^2)); \n",
      "\n",
      "        util = (EuObs1_MC)^(1/1);\n",
      "    \n",
      "\n",
      "        return(util)\n",
      "    end\n",
      "\n",
      "        "
     ]
    }
   ],
   "source": [
    "stream = open(raw\"E:\\UNI\\D_Drive\\PhD\\JULIAlang\\Generalisation_PLacExample\\Examples\\Results\\PLacExample_2021-01-12\\OEDModelCalibrationScripts\\PLacExample_OEDMC.jl\",\"r\");\n",
    "Model = read(stream,String);\n",
    "close(stream);\n",
    "print(Model)"
   ]
  },
  {
   "cell_type": "markdown",
   "metadata": {},
   "source": [
    "And now, to run the optimisation is as simple as: "
   ]
  },
  {
   "cell_type": "code",
   "execution_count": 9,
   "metadata": {},
   "outputs": [
    {
     "name": "stdout",
     "output_type": "stream",
     "text": [
      "-------------------------- WARNING --------------------------\n",
      "Less than 50 samples for theta are given for the Model. \n",
      "Consider using more samples for better results. \n",
      "-------------------------------------------------------------\n"
     ]
    },
    {
     "name": "stderr",
     "output_type": "stream",
     "text": [
      "┌ Info: 2021-01-12T10:42:48.037\titeration: 10\tcurrent optimum: 178143.24265896628\n",
      "└ @ BayesianOptimization C:\\Users\\david\\.juliapro\\JuliaPro_v1.4.0-1\\packages\\BayesianOptimization\\poykT\\src\\BayesianOptimization.jl:140\n",
      "┌ Info: 2021-01-12T10:42:50.744\titeration: 11\tcurrent optimum: 178143.24265896628\n",
      "└ @ BayesianOptimization C:\\Users\\david\\.juliapro\\JuliaPro_v1.4.0-1\\packages\\BayesianOptimization\\poykT\\src\\BayesianOptimization.jl:140\n",
      "┌ Info: 2021-01-12T10:42:50.748\titeration: 12\tcurrent optimum: 178143.24265896628\n",
      "└ @ BayesianOptimization C:\\Users\\david\\.juliapro\\JuliaPro_v1.4.0-1\\packages\\BayesianOptimization\\poykT\\src\\BayesianOptimization.jl:140\n",
      "┌ Info: 2021-01-12T10:42:50.752\titeration: 13\tcurrent optimum: 178143.24265896628\n",
      "└ @ BayesianOptimization C:\\Users\\david\\.juliapro\\JuliaPro_v1.4.0-1\\packages\\BayesianOptimization\\poykT\\src\\BayesianOptimization.jl:140\n",
      "┌ Info: 2021-01-12T10:42:50.755\titeration: 14\tcurrent optimum: 178143.24265896628\n",
      "└ @ BayesianOptimization C:\\Users\\david\\.juliapro\\JuliaPro_v1.4.0-1\\packages\\BayesianOptimization\\poykT\\src\\BayesianOptimization.jl:140\n",
      "┌ Info: 2021-01-12T10:42:50.758\titeration: 15\tcurrent optimum: 178143.24265896628\n",
      "└ @ BayesianOptimization C:\\Users\\david\\.juliapro\\JuliaPro_v1.4.0-1\\packages\\BayesianOptimization\\poykT\\src\\BayesianOptimization.jl:140\n",
      "┌ Info: 2021-01-12T10:42:50.762\titeration: 16\tcurrent optimum: 178143.24265896628\n",
      "└ @ BayesianOptimization C:\\Users\\david\\.juliapro\\JuliaPro_v1.4.0-1\\packages\\BayesianOptimization\\poykT\\src\\BayesianOptimization.jl:140\n",
      "┌ Info: 2021-01-12T10:42:50.766\titeration: 17\tcurrent optimum: 178143.24265896628\n",
      "└ @ BayesianOptimization C:\\Users\\david\\.juliapro\\JuliaPro_v1.4.0-1\\packages\\BayesianOptimization\\poykT\\src\\BayesianOptimization.jl:140\n",
      "┌ Info: 2021-01-12T10:42:50.769\titeration: 18\tcurrent optimum: 178180.0311259687\n",
      "└ @ BayesianOptimization C:\\Users\\david\\.juliapro\\JuliaPro_v1.4.0-1\\packages\\BayesianOptimization\\poykT\\src\\BayesianOptimization.jl:140\n",
      "┌ Info: 2021-01-12T10:42:50.774\titeration: 19\tcurrent optimum: 178180.0311259687\n",
      "└ @ BayesianOptimization C:\\Users\\david\\.juliapro\\JuliaPro_v1.4.0-1\\packages\\BayesianOptimization\\poykT\\src\\BayesianOptimization.jl:140\n",
      "┌ Info: 2021-01-12T10:42:50.778\titeration: 20\tcurrent optimum: 178180.0311259687\n",
      "└ @ BayesianOptimization C:\\Users\\david\\.juliapro\\JuliaPro_v1.4.0-1\\packages\\BayesianOptimization\\poykT\\src\\BayesianOptimization.jl:140\n",
      "┌ Info: 2021-01-12T10:42:50.782\titeration: 21\tcurrent optimum: 178180.0311259687\n",
      "└ @ BayesianOptimization C:\\Users\\david\\.juliapro\\JuliaPro_v1.4.0-1\\packages\\BayesianOptimization\\poykT\\src\\BayesianOptimization.jl:140\n",
      "┌ Info: 2021-01-12T10:42:50.785\titeration: 22\tcurrent optimum: 178180.0311259687\n",
      "└ @ BayesianOptimization C:\\Users\\david\\.juliapro\\JuliaPro_v1.4.0-1\\packages\\BayesianOptimization\\poykT\\src\\BayesianOptimization.jl:140\n",
      "┌ Info: 2021-01-12T10:42:50.789\titeration: 23\tcurrent optimum: 178180.0311259687\n",
      "└ @ BayesianOptimization C:\\Users\\david\\.juliapro\\JuliaPro_v1.4.0-1\\packages\\BayesianOptimization\\poykT\\src\\BayesianOptimization.jl:140\n",
      "┌ Info: 2021-01-12T10:42:50.793\titeration: 24\tcurrent optimum: 178180.0311259687\n",
      "└ @ BayesianOptimization C:\\Users\\david\\.juliapro\\JuliaPro_v1.4.0-1\\packages\\BayesianOptimization\\poykT\\src\\BayesianOptimization.jl:140\n",
      "┌ Info: 2021-01-12T10:42:50.796\titeration: 25\tcurrent optimum: 178180.0311259687\n",
      "└ @ BayesianOptimization C:\\Users\\david\\.juliapro\\JuliaPro_v1.4.0-1\\packages\\BayesianOptimization\\poykT\\src\\BayesianOptimization.jl:140\n",
      "┌ Info: 2021-01-12T10:42:50.8\titeration: 26\tcurrent optimum: 178180.0311259687\n",
      "└ @ BayesianOptimization C:\\Users\\david\\.juliapro\\JuliaPro_v1.4.0-1\\packages\\BayesianOptimization\\poykT\\src\\BayesianOptimization.jl:140\n",
      "┌ Info: 2021-01-12T10:42:50.804\titeration: 27\tcurrent optimum: 178180.0311259687\n",
      "└ @ BayesianOptimization C:\\Users\\david\\.juliapro\\JuliaPro_v1.4.0-1\\packages\\BayesianOptimization\\poykT\\src\\BayesianOptimization.jl:140\n",
      "┌ Info: 2021-01-12T10:42:50.807\titeration: 28\tcurrent optimum: 178180.0311259687\n",
      "└ @ BayesianOptimization C:\\Users\\david\\.juliapro\\JuliaPro_v1.4.0-1\\packages\\BayesianOptimization\\poykT\\src\\BayesianOptimization.jl:140\n",
      "┌ Info: 2021-01-12T10:42:50.81\titeration: 29\tcurrent optimum: 178180.0311259687\n",
      "└ @ BayesianOptimization C:\\Users\\david\\.juliapro\\JuliaPro_v1.4.0-1\\packages\\BayesianOptimization\\poykT\\src\\BayesianOptimization.jl:140\n",
      "┌ Info: 2021-01-12T10:42:50.814\titeration: 30\tcurrent optimum: 178180.0311259687\n",
      "└ @ BayesianOptimization C:\\Users\\david\\.juliapro\\JuliaPro_v1.4.0-1\\packages\\BayesianOptimization\\poykT\\src\\BayesianOptimization.jl:140\n",
      "┌ Info: 2021-01-12T10:42:50.817\titeration: 31\tcurrent optimum: 178180.0311259687\n",
      "└ @ BayesianOptimization C:\\Users\\david\\.juliapro\\JuliaPro_v1.4.0-1\\packages\\BayesianOptimization\\poykT\\src\\BayesianOptimization.jl:140\n",
      "┌ Info: 2021-01-12T10:42:50.821\titeration: 32\tcurrent optimum: 178180.0311259687\n",
      "└ @ BayesianOptimization C:\\Users\\david\\.juliapro\\JuliaPro_v1.4.0-1\\packages\\BayesianOptimization\\poykT\\src\\BayesianOptimization.jl:140\n",
      "┌ Info: 2021-01-12T10:42:50.824\titeration: 33\tcurrent optimum: 178180.0311259687\n",
      "└ @ BayesianOptimization C:\\Users\\david\\.juliapro\\JuliaPro_v1.4.0-1\\packages\\BayesianOptimization\\poykT\\src\\BayesianOptimization.jl:140\n",
      "┌ Info: 2021-01-12T10:42:50.828\titeration: 34\tcurrent optimum: 178180.0311259687\n",
      "└ @ BayesianOptimization C:\\Users\\david\\.juliapro\\JuliaPro_v1.4.0-1\\packages\\BayesianOptimization\\poykT\\src\\BayesianOptimization.jl:140\n",
      "┌ Info: 2021-01-12T10:42:50.832\titeration: 35\tcurrent optimum: 178180.0311259687\n",
      "└ @ BayesianOptimization C:\\Users\\david\\.juliapro\\JuliaPro_v1.4.0-1\\packages\\BayesianOptimization\\poykT\\src\\BayesianOptimization.jl:140\n",
      "┌ Info: 2021-01-12T10:42:50.835\titeration: 36\tcurrent optimum: 178223.15078138752\n",
      "└ @ BayesianOptimization C:\\Users\\david\\.juliapro\\JuliaPro_v1.4.0-1\\packages\\BayesianOptimization\\poykT\\src\\BayesianOptimization.jl:140\n",
      "┌ Info: 2021-01-12T10:42:50.838\titeration: 37\tcurrent optimum: 178223.15078138752\n",
      "└ @ BayesianOptimization C:\\Users\\david\\.juliapro\\JuliaPro_v1.4.0-1\\packages\\BayesianOptimization\\poykT\\src\\BayesianOptimization.jl:140\n",
      "┌ Info: 2021-01-12T10:42:50.842\titeration: 38\tcurrent optimum: 178223.15078138752\n",
      "└ @ BayesianOptimization C:\\Users\\david\\.juliapro\\JuliaPro_v1.4.0-1\\packages\\BayesianOptimization\\poykT\\src\\BayesianOptimization.jl:140\n",
      "┌ Info: 2021-01-12T10:42:50.846\titeration: 39\tcurrent optimum: 178223.15078138752\n",
      "└ @ BayesianOptimization C:\\Users\\david\\.juliapro\\JuliaPro_v1.4.0-1\\packages\\BayesianOptimization\\poykT\\src\\BayesianOptimization.jl:140\n",
      "┌ Info: 2021-01-12T10:42:50.852\titeration: 40\tcurrent optimum: 178223.15078138752\n",
      "└ @ BayesianOptimization C:\\Users\\david\\.juliapro\\JuliaPro_v1.4.0-1\\packages\\BayesianOptimization\\poykT\\src\\BayesianOptimization.jl:140\n",
      "┌ Info: 2021-01-12T10:42:50.859\titeration: 41\tcurrent optimum: 178223.15078138752\n",
      "└ @ BayesianOptimization C:\\Users\\david\\.juliapro\\JuliaPro_v1.4.0-1\\packages\\BayesianOptimization\\poykT\\src\\BayesianOptimization.jl:140\n",
      "┌ Info: 2021-01-12T10:42:50.863\titeration: 42\tcurrent optimum: 178223.15078138752\n",
      "└ @ BayesianOptimization C:\\Users\\david\\.juliapro\\JuliaPro_v1.4.0-1\\packages\\BayesianOptimization\\poykT\\src\\BayesianOptimization.jl:140\n",
      "┌ Info: 2021-01-12T10:42:50.867\titeration: 43\tcurrent optimum: 178223.15078138752\n",
      "└ @ BayesianOptimization C:\\Users\\david\\.juliapro\\JuliaPro_v1.4.0-1\\packages\\BayesianOptimization\\poykT\\src\\BayesianOptimization.jl:140\n",
      "┌ Info: 2021-01-12T10:42:50.871\titeration: 44\tcurrent optimum: 178223.15078138752\n",
      "└ @ BayesianOptimization C:\\Users\\david\\.juliapro\\JuliaPro_v1.4.0-1\\packages\\BayesianOptimization\\poykT\\src\\BayesianOptimization.jl:140\n",
      "┌ Info: 2021-01-12T10:42:50.875\titeration: 45\tcurrent optimum: 178223.15078138752\n",
      "└ @ BayesianOptimization C:\\Users\\david\\.juliapro\\JuliaPro_v1.4.0-1\\packages\\BayesianOptimization\\poykT\\src\\BayesianOptimization.jl:140\n",
      "┌ Info: 2021-01-12T10:42:50.879\titeration: 46\tcurrent optimum: 178223.15078138752\n",
      "└ @ BayesianOptimization C:\\Users\\david\\.juliapro\\JuliaPro_v1.4.0-1\\packages\\BayesianOptimization\\poykT\\src\\BayesianOptimization.jl:140\n",
      "┌ Info: 2021-01-12T10:42:50.884\titeration: 47\tcurrent optimum: 178223.15078138752\n",
      "└ @ BayesianOptimization C:\\Users\\david\\.juliapro\\JuliaPro_v1.4.0-1\\packages\\BayesianOptimization\\poykT\\src\\BayesianOptimization.jl:140\n",
      "┌ Info: 2021-01-12T10:42:50.888\titeration: 48\tcurrent optimum: 178223.15078138752\n",
      "└ @ BayesianOptimization C:\\Users\\david\\.juliapro\\JuliaPro_v1.4.0-1\\packages\\BayesianOptimization\\poykT\\src\\BayesianOptimization.jl:140\n",
      "┌ Info: 2021-01-12T10:42:50.894\titeration: 49\tcurrent optimum: 178223.15078138752\n",
      "└ @ BayesianOptimization C:\\Users\\david\\.juliapro\\JuliaPro_v1.4.0-1\\packages\\BayesianOptimization\\poykT\\src\\BayesianOptimization.jl:140\n",
      "┌ Info: 2021-01-12T10:42:50.898\titeration: 50\tcurrent optimum: 178223.15078138752\n",
      "└ @ BayesianOptimization C:\\Users\\david\\.juliapro\\JuliaPro_v1.4.0-1\\packages\\BayesianOptimization\\poykT\\src\\BayesianOptimization.jl:140\n",
      "┌ Info: 2021-01-12T10:42:50.902\titeration: 51\tcurrent optimum: 178223.15078138752\n",
      "└ @ BayesianOptimization C:\\Users\\david\\.juliapro\\JuliaPro_v1.4.0-1\\packages\\BayesianOptimization\\poykT\\src\\BayesianOptimization.jl:140\n",
      "┌ Info: 2021-01-12T10:42:50.906\titeration: 52\tcurrent optimum: 178223.15078138752\n",
      "└ @ BayesianOptimization C:\\Users\\david\\.juliapro\\JuliaPro_v1.4.0-1\\packages\\BayesianOptimization\\poykT\\src\\BayesianOptimization.jl:140\n",
      "┌ Info: 2021-01-12T10:42:50.91\titeration: 53\tcurrent optimum: 178223.15078138752\n",
      "└ @ BayesianOptimization C:\\Users\\david\\.juliapro\\JuliaPro_v1.4.0-1\\packages\\BayesianOptimization\\poykT\\src\\BayesianOptimization.jl:140\n",
      "┌ Info: 2021-01-12T10:42:50.914\titeration: 54\tcurrent optimum: 178223.15078138752\n",
      "└ @ BayesianOptimization C:\\Users\\david\\.juliapro\\JuliaPro_v1.4.0-1\\packages\\BayesianOptimization\\poykT\\src\\BayesianOptimization.jl:140\n",
      "┌ Info: 2021-01-12T10:42:50.919\titeration: 55\tcurrent optimum: 178223.15078138752\n",
      "└ @ BayesianOptimization C:\\Users\\david\\.juliapro\\JuliaPro_v1.4.0-1\\packages\\BayesianOptimization\\poykT\\src\\BayesianOptimization.jl:140\n",
      "┌ Info: 2021-01-12T10:42:50.923\titeration: 56\tcurrent optimum: 178223.15078138752\n",
      "└ @ BayesianOptimization C:\\Users\\david\\.juliapro\\JuliaPro_v1.4.0-1\\packages\\BayesianOptimization\\poykT\\src\\BayesianOptimization.jl:140\n",
      "┌ Info: 2021-01-12T10:42:50.928\titeration: 57\tcurrent optimum: 178223.15078138752\n",
      "└ @ BayesianOptimization C:\\Users\\david\\.juliapro\\JuliaPro_v1.4.0-1\\packages\\BayesianOptimization\\poykT\\src\\BayesianOptimization.jl:140\n"
     ]
    },
    {
     "name": "stderr",
     "output_type": "stream",
     "text": [
      "┌ Info: 2021-01-12T10:42:50.931\titeration: 58\tcurrent optimum: 178223.15078138752\n",
      "└ @ BayesianOptimization C:\\Users\\david\\.juliapro\\JuliaPro_v1.4.0-1\\packages\\BayesianOptimization\\poykT\\src\\BayesianOptimization.jl:140\n",
      "┌ Info: 2021-01-12T10:42:50.935\titeration: 59\tcurrent optimum: 178223.15078138752\n",
      "└ @ BayesianOptimization C:\\Users\\david\\.juliapro\\JuliaPro_v1.4.0-1\\packages\\BayesianOptimization\\poykT\\src\\BayesianOptimization.jl:140\n",
      "┌ Info: 2021-01-12T10:42:50.96\titeration: 60\tcurrent optimum: 178223.15078138752\n",
      "└ @ BayesianOptimization C:\\Users\\david\\.juliapro\\JuliaPro_v1.4.0-1\\packages\\BayesianOptimization\\poykT\\src\\BayesianOptimization.jl:140\n",
      "┌ Info: 2021-01-12T10:42:50.975\titeration: 61\tcurrent optimum: 178223.15078138752\n",
      "└ @ BayesianOptimization C:\\Users\\david\\.juliapro\\JuliaPro_v1.4.0-1\\packages\\BayesianOptimization\\poykT\\src\\BayesianOptimization.jl:140\n",
      "┌ Info: 2021-01-12T10:42:50.98\titeration: 62\tcurrent optimum: 178223.15078138752\n",
      "└ @ BayesianOptimization C:\\Users\\david\\.juliapro\\JuliaPro_v1.4.0-1\\packages\\BayesianOptimization\\poykT\\src\\BayesianOptimization.jl:140\n",
      "┌ Info: 2021-01-12T10:42:50.985\titeration: 63\tcurrent optimum: 178223.15078138752\n",
      "└ @ BayesianOptimization C:\\Users\\david\\.juliapro\\JuliaPro_v1.4.0-1\\packages\\BayesianOptimization\\poykT\\src\\BayesianOptimization.jl:140\n",
      "┌ Info: 2021-01-12T10:42:50.989\titeration: 64\tcurrent optimum: 178223.15078138752\n",
      "└ @ BayesianOptimization C:\\Users\\david\\.juliapro\\JuliaPro_v1.4.0-1\\packages\\BayesianOptimization\\poykT\\src\\BayesianOptimization.jl:140\n",
      "┌ Info: 2021-01-12T10:42:50.994\titeration: 65\tcurrent optimum: 178223.15078138752\n",
      "└ @ BayesianOptimization C:\\Users\\david\\.juliapro\\JuliaPro_v1.4.0-1\\packages\\BayesianOptimization\\poykT\\src\\BayesianOptimization.jl:140\n",
      "┌ Info: 2021-01-12T10:42:50.998\titeration: 66\tcurrent optimum: 178223.15078138752\n",
      "└ @ BayesianOptimization C:\\Users\\david\\.juliapro\\JuliaPro_v1.4.0-1\\packages\\BayesianOptimization\\poykT\\src\\BayesianOptimization.jl:140\n",
      "┌ Info: 2021-01-12T10:42:51.003\titeration: 67\tcurrent optimum: 178223.15078138752\n",
      "└ @ BayesianOptimization C:\\Users\\david\\.juliapro\\JuliaPro_v1.4.0-1\\packages\\BayesianOptimization\\poykT\\src\\BayesianOptimization.jl:140\n",
      "┌ Info: 2021-01-12T10:42:51.01\titeration: 68\tcurrent optimum: 178223.15078138752\n",
      "└ @ BayesianOptimization C:\\Users\\david\\.juliapro\\JuliaPro_v1.4.0-1\\packages\\BayesianOptimization\\poykT\\src\\BayesianOptimization.jl:140\n",
      "┌ Info: 2021-01-12T10:42:51.016\titeration: 69\tcurrent optimum: 178223.15078138752\n",
      "└ @ BayesianOptimization C:\\Users\\david\\.juliapro\\JuliaPro_v1.4.0-1\\packages\\BayesianOptimization\\poykT\\src\\BayesianOptimization.jl:140\n",
      "┌ Info: 2021-01-12T10:42:51.021\titeration: 70\tcurrent optimum: 178223.15078138752\n",
      "└ @ BayesianOptimization C:\\Users\\david\\.juliapro\\JuliaPro_v1.4.0-1\\packages\\BayesianOptimization\\poykT\\src\\BayesianOptimization.jl:140\n",
      "┌ Info: 2021-01-12T10:42:51.026\titeration: 71\tcurrent optimum: 178223.15078138752\n",
      "└ @ BayesianOptimization C:\\Users\\david\\.juliapro\\JuliaPro_v1.4.0-1\\packages\\BayesianOptimization\\poykT\\src\\BayesianOptimization.jl:140\n",
      "┌ Info: 2021-01-12T10:42:51.031\titeration: 72\tcurrent optimum: 178223.15078138752\n",
      "└ @ BayesianOptimization C:\\Users\\david\\.juliapro\\JuliaPro_v1.4.0-1\\packages\\BayesianOptimization\\poykT\\src\\BayesianOptimization.jl:140\n",
      "┌ Info: 2021-01-12T10:42:51.035\titeration: 73\tcurrent optimum: 178223.15078138752\n",
      "└ @ BayesianOptimization C:\\Users\\david\\.juliapro\\JuliaPro_v1.4.0-1\\packages\\BayesianOptimization\\poykT\\src\\BayesianOptimization.jl:140\n",
      "┌ Info: 2021-01-12T10:42:51.04\titeration: 74\tcurrent optimum: 178223.15078138752\n",
      "└ @ BayesianOptimization C:\\Users\\david\\.juliapro\\JuliaPro_v1.4.0-1\\packages\\BayesianOptimization\\poykT\\src\\BayesianOptimization.jl:140\n",
      "┌ Info: 2021-01-12T10:42:51.045\titeration: 75\tcurrent optimum: 178223.15078138752\n",
      "└ @ BayesianOptimization C:\\Users\\david\\.juliapro\\JuliaPro_v1.4.0-1\\packages\\BayesianOptimization\\poykT\\src\\BayesianOptimization.jl:140\n",
      "┌ Info: 2021-01-12T10:42:51.049\titeration: 76\tcurrent optimum: 178223.15078138752\n",
      "└ @ BayesianOptimization C:\\Users\\david\\.juliapro\\JuliaPro_v1.4.0-1\\packages\\BayesianOptimization\\poykT\\src\\BayesianOptimization.jl:140\n",
      "┌ Info: 2021-01-12T10:42:51.054\titeration: 77\tcurrent optimum: 178223.15078138752\n",
      "└ @ BayesianOptimization C:\\Users\\david\\.juliapro\\JuliaPro_v1.4.0-1\\packages\\BayesianOptimization\\poykT\\src\\BayesianOptimization.jl:140\n",
      "┌ Info: 2021-01-12T10:42:51.059\titeration: 78\tcurrent optimum: 178223.15078138752\n",
      "└ @ BayesianOptimization C:\\Users\\david\\.juliapro\\JuliaPro_v1.4.0-1\\packages\\BayesianOptimization\\poykT\\src\\BayesianOptimization.jl:140\n",
      "┌ Info: 2021-01-12T10:42:51.064\titeration: 79\tcurrent optimum: 178223.15078138752\n",
      "└ @ BayesianOptimization C:\\Users\\david\\.juliapro\\JuliaPro_v1.4.0-1\\packages\\BayesianOptimization\\poykT\\src\\BayesianOptimization.jl:140\n",
      "┌ Info: 2021-01-12T10:42:51.069\titeration: 80\tcurrent optimum: 178223.15078138752\n",
      "└ @ BayesianOptimization C:\\Users\\david\\.juliapro\\JuliaPro_v1.4.0-1\\packages\\BayesianOptimization\\poykT\\src\\BayesianOptimization.jl:140\n",
      "┌ Info: 2021-01-12T10:42:51.074\titeration: 81\tcurrent optimum: 178223.15078138752\n",
      "└ @ BayesianOptimization C:\\Users\\david\\.juliapro\\JuliaPro_v1.4.0-1\\packages\\BayesianOptimization\\poykT\\src\\BayesianOptimization.jl:140\n",
      "┌ Info: 2021-01-12T10:42:51.13\titeration: 82\tcurrent optimum: 178223.15078138752\n",
      "└ @ BayesianOptimization C:\\Users\\david\\.juliapro\\JuliaPro_v1.4.0-1\\packages\\BayesianOptimization\\poykT\\src\\BayesianOptimization.jl:140\n",
      "┌ Info: 2021-01-12T10:42:51.134\titeration: 83\tcurrent optimum: 178223.15078138752\n",
      "└ @ BayesianOptimization C:\\Users\\david\\.juliapro\\JuliaPro_v1.4.0-1\\packages\\BayesianOptimization\\poykT\\src\\BayesianOptimization.jl:140\n",
      "┌ Info: 2021-01-12T10:42:51.139\titeration: 84\tcurrent optimum: 178223.15078138752\n",
      "└ @ BayesianOptimization C:\\Users\\david\\.juliapro\\JuliaPro_v1.4.0-1\\packages\\BayesianOptimization\\poykT\\src\\BayesianOptimization.jl:140\n",
      "┌ Info: 2021-01-12T10:42:51.144\titeration: 85\tcurrent optimum: 178223.15078138752\n",
      "└ @ BayesianOptimization C:\\Users\\david\\.juliapro\\JuliaPro_v1.4.0-1\\packages\\BayesianOptimization\\poykT\\src\\BayesianOptimization.jl:140\n",
      "┌ Info: 2021-01-12T10:42:51.148\titeration: 86\tcurrent optimum: 178223.15078138752\n",
      "└ @ BayesianOptimization C:\\Users\\david\\.juliapro\\JuliaPro_v1.4.0-1\\packages\\BayesianOptimization\\poykT\\src\\BayesianOptimization.jl:140\n",
      "┌ Info: 2021-01-12T10:42:51.153\titeration: 87\tcurrent optimum: 178223.15078138752\n",
      "└ @ BayesianOptimization C:\\Users\\david\\.juliapro\\JuliaPro_v1.4.0-1\\packages\\BayesianOptimization\\poykT\\src\\BayesianOptimization.jl:140\n",
      "┌ Info: 2021-01-12T10:42:51.157\titeration: 88\tcurrent optimum: 178223.15078138752\n",
      "└ @ BayesianOptimization C:\\Users\\david\\.juliapro\\JuliaPro_v1.4.0-1\\packages\\BayesianOptimization\\poykT\\src\\BayesianOptimization.jl:140\n",
      "┌ Info: 2021-01-12T10:42:51.161\titeration: 89\tcurrent optimum: 178223.15078138752\n",
      "└ @ BayesianOptimization C:\\Users\\david\\.juliapro\\JuliaPro_v1.4.0-1\\packages\\BayesianOptimization\\poykT\\src\\BayesianOptimization.jl:140\n",
      "┌ Info: 2021-01-12T10:42:51.166\titeration: 90\tcurrent optimum: 178223.15078138752\n",
      "└ @ BayesianOptimization C:\\Users\\david\\.juliapro\\JuliaPro_v1.4.0-1\\packages\\BayesianOptimization\\poykT\\src\\BayesianOptimization.jl:140\n",
      "┌ Info: 2021-01-12T10:42:51.171\titeration: 91\tcurrent optimum: 178223.15078138752\n",
      "└ @ BayesianOptimization C:\\Users\\david\\.juliapro\\JuliaPro_v1.4.0-1\\packages\\BayesianOptimization\\poykT\\src\\BayesianOptimization.jl:140\n",
      "┌ Info: 2021-01-12T10:42:51.176\titeration: 92\tcurrent optimum: 178223.15078138752\n",
      "└ @ BayesianOptimization C:\\Users\\david\\.juliapro\\JuliaPro_v1.4.0-1\\packages\\BayesianOptimization\\poykT\\src\\BayesianOptimization.jl:140\n",
      "┌ Info: 2021-01-12T10:42:51.18\titeration: 93\tcurrent optimum: 178223.15078138752\n",
      "└ @ BayesianOptimization C:\\Users\\david\\.juliapro\\JuliaPro_v1.4.0-1\\packages\\BayesianOptimization\\poykT\\src\\BayesianOptimization.jl:140\n",
      "┌ Info: 2021-01-12T10:42:51.195\titeration: 94\tcurrent optimum: 178223.15078138752\n",
      "└ @ BayesianOptimization C:\\Users\\david\\.juliapro\\JuliaPro_v1.4.0-1\\packages\\BayesianOptimization\\poykT\\src\\BayesianOptimization.jl:140\n",
      "┌ Info: 2021-01-12T10:42:51.2\titeration: 95\tcurrent optimum: 178223.15078138752\n",
      "└ @ BayesianOptimization C:\\Users\\david\\.juliapro\\JuliaPro_v1.4.0-1\\packages\\BayesianOptimization\\poykT\\src\\BayesianOptimization.jl:140\n",
      "┌ Info: 2021-01-12T10:42:51.206\titeration: 96\tcurrent optimum: 178223.15078138752\n",
      "└ @ BayesianOptimization C:\\Users\\david\\.juliapro\\JuliaPro_v1.4.0-1\\packages\\BayesianOptimization\\poykT\\src\\BayesianOptimization.jl:140\n",
      "┌ Info: 2021-01-12T10:42:51.211\titeration: 97\tcurrent optimum: 178223.15078138752\n",
      "└ @ BayesianOptimization C:\\Users\\david\\.juliapro\\JuliaPro_v1.4.0-1\\packages\\BayesianOptimization\\poykT\\src\\BayesianOptimization.jl:140\n",
      "┌ Info: 2021-01-12T10:42:51.216\titeration: 98\tcurrent optimum: 178223.15078138752\n",
      "└ @ BayesianOptimization C:\\Users\\david\\.juliapro\\JuliaPro_v1.4.0-1\\packages\\BayesianOptimization\\poykT\\src\\BayesianOptimization.jl:140\n",
      "┌ Info: 2021-01-12T10:42:51.22\titeration: 99\tcurrent optimum: 178223.15078138752\n",
      "└ @ BayesianOptimization C:\\Users\\david\\.juliapro\\JuliaPro_v1.4.0-1\\packages\\BayesianOptimization\\poykT\\src\\BayesianOptimization.jl:140\n",
      "┌ Info: 2021-01-12T10:42:51.225\titeration: 100\tcurrent optimum: 178223.15078138752\n",
      "└ @ BayesianOptimization C:\\Users\\david\\.juliapro\\JuliaPro_v1.4.0-1\\packages\\BayesianOptimization\\poykT\\src\\BayesianOptimization.jl:140\n",
      "┌ Info: 2021-01-12T10:42:51.23\titeration: 101\tcurrent optimum: 178223.15078138752\n",
      "└ @ BayesianOptimization C:\\Users\\david\\.juliapro\\JuliaPro_v1.4.0-1\\packages\\BayesianOptimization\\poykT\\src\\BayesianOptimization.jl:140\n",
      "┌ Info: 2021-01-12T10:42:51.235\titeration: 102\tcurrent optimum: 178223.15078138752\n",
      "└ @ BayesianOptimization C:\\Users\\david\\.juliapro\\JuliaPro_v1.4.0-1\\packages\\BayesianOptimization\\poykT\\src\\BayesianOptimization.jl:140\n",
      "┌ Info: 2021-01-12T10:42:51.24\titeration: 103\tcurrent optimum: 178223.15078138752\n",
      "└ @ BayesianOptimization C:\\Users\\david\\.juliapro\\JuliaPro_v1.4.0-1\\packages\\BayesianOptimization\\poykT\\src\\BayesianOptimization.jl:140\n",
      "┌ Info: 2021-01-12T10:42:51.245\titeration: 104\tcurrent optimum: 178223.15078138752\n",
      "└ @ BayesianOptimization C:\\Users\\david\\.juliapro\\JuliaPro_v1.4.0-1\\packages\\BayesianOptimization\\poykT\\src\\BayesianOptimization.jl:140\n",
      "┌ Info: 2021-01-12T10:42:51.25\titeration: 105\tcurrent optimum: 178223.15078138752\n",
      "└ @ BayesianOptimization C:\\Users\\david\\.juliapro\\JuliaPro_v1.4.0-1\\packages\\BayesianOptimization\\poykT\\src\\BayesianOptimization.jl:140\n",
      "┌ Info: 2021-01-12T10:42:51.255\titeration: 106\tcurrent optimum: 178223.15078138752\n",
      "└ @ BayesianOptimization C:\\Users\\david\\.juliapro\\JuliaPro_v1.4.0-1\\packages\\BayesianOptimization\\poykT\\src\\BayesianOptimization.jl:140\n"
     ]
    },
    {
     "name": "stderr",
     "output_type": "stream",
     "text": [
      "┌ Info: 2021-01-12T10:42:51.262\titeration: 107\tcurrent optimum: 178223.15078138752\n",
      "└ @ BayesianOptimization C:\\Users\\david\\.juliapro\\JuliaPro_v1.4.0-1\\packages\\BayesianOptimization\\poykT\\src\\BayesianOptimization.jl:140\n",
      "┌ Info: 2021-01-12T10:42:51.267\titeration: 108\tcurrent optimum: 178223.15078138752\n",
      "└ @ BayesianOptimization C:\\Users\\david\\.juliapro\\JuliaPro_v1.4.0-1\\packages\\BayesianOptimization\\poykT\\src\\BayesianOptimization.jl:140\n",
      "┌ Info: 2021-01-12T10:42:51.273\titeration: 109\tcurrent optimum: 178223.15078138752\n",
      "└ @ BayesianOptimization C:\\Users\\david\\.juliapro\\JuliaPro_v1.4.0-1\\packages\\BayesianOptimization\\poykT\\src\\BayesianOptimization.jl:140\n",
      "┌ Info: 2021-01-12T10:42:51.331\titeration: 110\tcurrent optimum: 178223.15078138752\n",
      "└ @ BayesianOptimization C:\\Users\\david\\.juliapro\\JuliaPro_v1.4.0-1\\packages\\BayesianOptimization\\poykT\\src\\BayesianOptimization.jl:140\n",
      "┌ Info: 2021-01-12T10:42:51.336\titeration: 111\tcurrent optimum: 178223.15078138752\n",
      "└ @ BayesianOptimization C:\\Users\\david\\.juliapro\\JuliaPro_v1.4.0-1\\packages\\BayesianOptimization\\poykT\\src\\BayesianOptimization.jl:140\n",
      "┌ Info: 2021-01-12T10:42:51.341\titeration: 112\tcurrent optimum: 178223.15078138752\n",
      "└ @ BayesianOptimization C:\\Users\\david\\.juliapro\\JuliaPro_v1.4.0-1\\packages\\BayesianOptimization\\poykT\\src\\BayesianOptimization.jl:140\n",
      "┌ Info: 2021-01-12T10:42:51.346\titeration: 113\tcurrent optimum: 178223.15078138752\n",
      "└ @ BayesianOptimization C:\\Users\\david\\.juliapro\\JuliaPro_v1.4.0-1\\packages\\BayesianOptimization\\poykT\\src\\BayesianOptimization.jl:140\n",
      "┌ Info: 2021-01-12T10:42:51.363\titeration: 114\tcurrent optimum: 178223.15078138752\n",
      "└ @ BayesianOptimization C:\\Users\\david\\.juliapro\\JuliaPro_v1.4.0-1\\packages\\BayesianOptimization\\poykT\\src\\BayesianOptimization.jl:140\n",
      "┌ Info: 2021-01-12T10:42:51.369\titeration: 115\tcurrent optimum: 178223.15078138752\n",
      "└ @ BayesianOptimization C:\\Users\\david\\.juliapro\\JuliaPro_v1.4.0-1\\packages\\BayesianOptimization\\poykT\\src\\BayesianOptimization.jl:140\n",
      "┌ Info: 2021-01-12T10:42:51.374\titeration: 116\tcurrent optimum: 178223.15078138752\n",
      "└ @ BayesianOptimization C:\\Users\\david\\.juliapro\\JuliaPro_v1.4.0-1\\packages\\BayesianOptimization\\poykT\\src\\BayesianOptimization.jl:140\n",
      "┌ Info: 2021-01-12T10:42:51.38\titeration: 117\tcurrent optimum: 178223.15078138752\n",
      "└ @ BayesianOptimization C:\\Users\\david\\.juliapro\\JuliaPro_v1.4.0-1\\packages\\BayesianOptimization\\poykT\\src\\BayesianOptimization.jl:140\n",
      "┌ Info: 2021-01-12T10:42:51.385\titeration: 118\tcurrent optimum: 178223.15078138752\n",
      "└ @ BayesianOptimization C:\\Users\\david\\.juliapro\\JuliaPro_v1.4.0-1\\packages\\BayesianOptimization\\poykT\\src\\BayesianOptimization.jl:140\n",
      "┌ Info: 2021-01-12T10:42:51.39\titeration: 119\tcurrent optimum: 178223.15078138752\n",
      "└ @ BayesianOptimization C:\\Users\\david\\.juliapro\\JuliaPro_v1.4.0-1\\packages\\BayesianOptimization\\poykT\\src\\BayesianOptimization.jl:140\n",
      "┌ Info: 2021-01-12T10:42:51.396\titeration: 120\tcurrent optimum: 178223.15078138752\n",
      "└ @ BayesianOptimization C:\\Users\\david\\.juliapro\\JuliaPro_v1.4.0-1\\packages\\BayesianOptimization\\poykT\\src\\BayesianOptimization.jl:140\n",
      "┌ Info: 2021-01-12T10:42:51.402\titeration: 121\tcurrent optimum: 178223.15078138752\n",
      "└ @ BayesianOptimization C:\\Users\\david\\.juliapro\\JuliaPro_v1.4.0-1\\packages\\BayesianOptimization\\poykT\\src\\BayesianOptimization.jl:140\n",
      "┌ Info: 2021-01-12T10:42:51.408\titeration: 122\tcurrent optimum: 178223.15078138752\n",
      "└ @ BayesianOptimization C:\\Users\\david\\.juliapro\\JuliaPro_v1.4.0-1\\packages\\BayesianOptimization\\poykT\\src\\BayesianOptimization.jl:140\n",
      "┌ Info: 2021-01-12T10:42:51.413\titeration: 123\tcurrent optimum: 178223.15078138752\n",
      "└ @ BayesianOptimization C:\\Users\\david\\.juliapro\\JuliaPro_v1.4.0-1\\packages\\BayesianOptimization\\poykT\\src\\BayesianOptimization.jl:140\n",
      "┌ Info: 2021-01-12T10:42:51.42\titeration: 124\tcurrent optimum: 178223.15078138752\n",
      "└ @ BayesianOptimization C:\\Users\\david\\.juliapro\\JuliaPro_v1.4.0-1\\packages\\BayesianOptimization\\poykT\\src\\BayesianOptimization.jl:140\n",
      "┌ Info: 2021-01-12T10:42:51.426\titeration: 125\tcurrent optimum: 178223.15078138752\n",
      "└ @ BayesianOptimization C:\\Users\\david\\.juliapro\\JuliaPro_v1.4.0-1\\packages\\BayesianOptimization\\poykT\\src\\BayesianOptimization.jl:140\n",
      "┌ Info: 2021-01-12T10:42:51.431\titeration: 126\tcurrent optimum: 178223.15078138752\n",
      "└ @ BayesianOptimization C:\\Users\\david\\.juliapro\\JuliaPro_v1.4.0-1\\packages\\BayesianOptimization\\poykT\\src\\BayesianOptimization.jl:140\n",
      "┌ Info: 2021-01-12T10:42:51.437\titeration: 127\tcurrent optimum: 178223.15078138752\n",
      "└ @ BayesianOptimization C:\\Users\\david\\.juliapro\\JuliaPro_v1.4.0-1\\packages\\BayesianOptimization\\poykT\\src\\BayesianOptimization.jl:140\n",
      "┌ Info: 2021-01-12T10:42:51.442\titeration: 128\tcurrent optimum: 178223.15078138752\n",
      "└ @ BayesianOptimization C:\\Users\\david\\.juliapro\\JuliaPro_v1.4.0-1\\packages\\BayesianOptimization\\poykT\\src\\BayesianOptimization.jl:140\n",
      "┌ Info: 2021-01-12T10:42:51.447\titeration: 129\tcurrent optimum: 178223.15078138752\n",
      "└ @ BayesianOptimization C:\\Users\\david\\.juliapro\\JuliaPro_v1.4.0-1\\packages\\BayesianOptimization\\poykT\\src\\BayesianOptimization.jl:140\n",
      "┌ Info: 2021-01-12T10:42:51.453\titeration: 130\tcurrent optimum: 178223.15078138752\n",
      "└ @ BayesianOptimization C:\\Users\\david\\.juliapro\\JuliaPro_v1.4.0-1\\packages\\BayesianOptimization\\poykT\\src\\BayesianOptimization.jl:140\n",
      "┌ Info: 2021-01-12T10:42:51.459\titeration: 131\tcurrent optimum: 178223.15078138752\n",
      "└ @ BayesianOptimization C:\\Users\\david\\.juliapro\\JuliaPro_v1.4.0-1\\packages\\BayesianOptimization\\poykT\\src\\BayesianOptimization.jl:140\n",
      "┌ Info: 2021-01-12T10:42:51.465\titeration: 132\tcurrent optimum: 178223.15078138752\n",
      "└ @ BayesianOptimization C:\\Users\\david\\.juliapro\\JuliaPro_v1.4.0-1\\packages\\BayesianOptimization\\poykT\\src\\BayesianOptimization.jl:140\n",
      "┌ Info: 2021-01-12T10:42:51.471\titeration: 133\tcurrent optimum: 178223.15078138752\n",
      "└ @ BayesianOptimization C:\\Users\\david\\.juliapro\\JuliaPro_v1.4.0-1\\packages\\BayesianOptimization\\poykT\\src\\BayesianOptimization.jl:140\n",
      "┌ Info: 2021-01-12T10:42:51.476\titeration: 134\tcurrent optimum: 178223.15078138752\n",
      "└ @ BayesianOptimization C:\\Users\\david\\.juliapro\\JuliaPro_v1.4.0-1\\packages\\BayesianOptimization\\poykT\\src\\BayesianOptimization.jl:140\n",
      "┌ Info: 2021-01-12T10:42:51.494\titeration: 135\tcurrent optimum: 178223.15078138752\n",
      "└ @ BayesianOptimization C:\\Users\\david\\.juliapro\\JuliaPro_v1.4.0-1\\packages\\BayesianOptimization\\poykT\\src\\BayesianOptimization.jl:140\n",
      "┌ Info: 2021-01-12T10:42:51.498\titeration: 136\tcurrent optimum: 178223.15078138752\n",
      "└ @ BayesianOptimization C:\\Users\\david\\.juliapro\\JuliaPro_v1.4.0-1\\packages\\BayesianOptimization\\poykT\\src\\BayesianOptimization.jl:140\n",
      "┌ Info: 2021-01-12T10:42:51.504\titeration: 137\tcurrent optimum: 178223.15078138752\n",
      "└ @ BayesianOptimization C:\\Users\\david\\.juliapro\\JuliaPro_v1.4.0-1\\packages\\BayesianOptimization\\poykT\\src\\BayesianOptimization.jl:140\n",
      "┌ Info: 2021-01-12T10:42:51.51\titeration: 138\tcurrent optimum: 178223.15078138752\n",
      "└ @ BayesianOptimization C:\\Users\\david\\.juliapro\\JuliaPro_v1.4.0-1\\packages\\BayesianOptimization\\poykT\\src\\BayesianOptimization.jl:140\n",
      "┌ Info: 2021-01-12T10:42:51.517\titeration: 139\tcurrent optimum: 178223.15078138752\n",
      "└ @ BayesianOptimization C:\\Users\\david\\.juliapro\\JuliaPro_v1.4.0-1\\packages\\BayesianOptimization\\poykT\\src\\BayesianOptimization.jl:140\n",
      "┌ Info: 2021-01-12T10:42:51.522\titeration: 140\tcurrent optimum: 178223.15078138752\n",
      "└ @ BayesianOptimization C:\\Users\\david\\.juliapro\\JuliaPro_v1.4.0-1\\packages\\BayesianOptimization\\poykT\\src\\BayesianOptimization.jl:140\n",
      "┌ Info: 2021-01-12T10:42:51.528\titeration: 141\tcurrent optimum: 178223.15078138752\n",
      "└ @ BayesianOptimization C:\\Users\\david\\.juliapro\\JuliaPro_v1.4.0-1\\packages\\BayesianOptimization\\poykT\\src\\BayesianOptimization.jl:140\n",
      "┌ Info: 2021-01-12T10:42:51.534\titeration: 142\tcurrent optimum: 178223.15078138752\n",
      "└ @ BayesianOptimization C:\\Users\\david\\.juliapro\\JuliaPro_v1.4.0-1\\packages\\BayesianOptimization\\poykT\\src\\BayesianOptimization.jl:140\n",
      "┌ Info: 2021-01-12T10:42:51.541\titeration: 143\tcurrent optimum: 178223.15078138752\n",
      "└ @ BayesianOptimization C:\\Users\\david\\.juliapro\\JuliaPro_v1.4.0-1\\packages\\BayesianOptimization\\poykT\\src\\BayesianOptimization.jl:140\n",
      "┌ Info: 2021-01-12T10:42:51.546\titeration: 144\tcurrent optimum: 178223.15078138752\n",
      "└ @ BayesianOptimization C:\\Users\\david\\.juliapro\\JuliaPro_v1.4.0-1\\packages\\BayesianOptimization\\poykT\\src\\BayesianOptimization.jl:140\n",
      "┌ Info: 2021-01-12T10:42:51.552\titeration: 145\tcurrent optimum: 178223.15078138752\n",
      "└ @ BayesianOptimization C:\\Users\\david\\.juliapro\\JuliaPro_v1.4.0-1\\packages\\BayesianOptimization\\poykT\\src\\BayesianOptimization.jl:140\n",
      "┌ Info: 2021-01-12T10:42:51.559\titeration: 146\tcurrent optimum: 178223.15078138752\n",
      "└ @ BayesianOptimization C:\\Users\\david\\.juliapro\\JuliaPro_v1.4.0-1\\packages\\BayesianOptimization\\poykT\\src\\BayesianOptimization.jl:140\n"
     ]
    },
    {
     "name": "stderr",
     "output_type": "stream",
     "text": [
      "┌ Info: 2021-01-12T10:42:51.564\titeration: 147\tcurrent optimum: 178223.15078138752\n",
      "└ @ BayesianOptimization C:\\Users\\david\\.juliapro\\JuliaPro_v1.4.0-1\\packages\\BayesianOptimization\\poykT\\src\\BayesianOptimization.jl:140\n",
      "┌ Info: 2021-01-12T10:42:51.57\titeration: 148\tcurrent optimum: 178223.15078138752\n",
      "└ @ BayesianOptimization C:\\Users\\david\\.juliapro\\JuliaPro_v1.4.0-1\\packages\\BayesianOptimization\\poykT\\src\\BayesianOptimization.jl:140\n",
      "┌ Info: 2021-01-12T10:42:51.578\titeration: 149\tcurrent optimum: 178223.15078138752\n",
      "└ @ BayesianOptimization C:\\Users\\david\\.juliapro\\JuliaPro_v1.4.0-1\\packages\\BayesianOptimization\\poykT\\src\\BayesianOptimization.jl:140\n",
      "┌ Info:  ──────────────────────────────────────────────────────────────────────────────\n",
      "│                                        Time                   Allocations      \n",
      "│                                ──────────────────────   ───────────────────────\n",
      "│        Tot / % measured:            14.4s / 95.3%           2.50GiB / 97.5%    \n",
      "│ \n",
      "│  Section               ncalls     time   %tot     avg     alloc   %tot      avg\n",
      "│  ──────────────────────────────────────────────────────────────────────────────\n",
      "│  function evaluation      150    7.84s  57.1%  52.3ms   1.39GiB  57.0%  9.49MiB\n",
      "│  acquisition              141    4.41s  32.1%  31.3ms    878MiB  35.1%  6.23MiB\n",
      "│  model update             141    776ms  5.66%  5.50ms   97.9MiB  3.92%   711KiB\n",
      "│  model hyperparamet...    141    696ms  5.07%  4.94ms    100MiB  4.01%   727KiB\n",
      "│  ──────────────────────────────────────────────────────────────────────────────\n",
      "└ @ BayesianOptimization C:\\Users\\david\\.juliapro\\JuliaPro_v1.4.0-1\\packages\\BayesianOptimization\\poykT\\src\\BayesianOptimization.jl:154\n"
     ]
    },
    {
     "name": "stdout",
     "output_type": "stream",
     "text": [
      "\n",
      "----------------------------------------- RESULTS -----------------------------------------\n",
      "OED for Model Calibration results are saved in the directory: \n",
      "                 E:\\UNI\\D_Drive\\PhD\\JULIAlang\\Generalisation_PLacExample\\Examples\\Results\\PLacExample_2021-01-12\n",
      "Under the name OEDModelCalibrationResults_testOEDMS.jld\n",
      "--------------------------------------------------------------------------------------\n",
      "\n",
      "\n",
      "----------------------------------------- PLOTS -----------------------------------------\n",
      "PLOTS are saved in the directory: \n",
      "                 E:\\UNI\\D_Drive\\PhD\\JULIAlang\\Generalisation_PLacExample\\Examples\\Results\\PLacExample_2021-01-12\n",
      "Under the names PlotOEDMCResults_Exp1_testOEDMS.png and Plot_OEDMCConvergence_testOEDMS.png\n",
      "--------------------------------------------------------------------------------------\n",
      "\n"
     ]
    }
   ],
   "source": [
    "oedmc_res, oedmc_def = mainOEDMC(oedmc_def);"
   ]
  },
  {
   "cell_type": "markdown",
   "metadata": {},
   "source": [
    "### First let's have a look at the results structure\n"
   ]
  },
  {
   "cell_type": "code",
   "execution_count": 10,
   "metadata": {},
   "outputs": [
    {
     "data": {
      "text/plain": [
       "Dict{Any,Any} with 7 entries:\n",
       "  \"BestResOptim\" => (observed_optimum = 178223.0, observed_optimizer = [52.6674…\n",
       "  \"uInpOpt\"      => Dict{Any,Any}(\"IPTG\"=>Any[0, 52.6674, 69.7038])\n",
       "  \"ResOptim\"     => Dict{String,Any}(\"modelY\"=>[177986.0, 137602.0, 178143.0, 1…\n",
       "  \"BestUtil\"     => 178223.0\n",
       "  \"ConvCurv\"     => [1.0 177986.0; 2.0 177986.0; … ; 149.0 178223.0; 150.0 1782…\n",
       "  \"Simul_MC\"     => [0.317361 18.8312 11.9507 823.01; 0.317361 18.8312 11.9507 …\n",
       "  \"SimulObs_MC\"  => [2469.03; 2469.03; … ; 50004.8; 50004.8]…"
      ]
     },
     "execution_count": 10,
     "metadata": {},
     "output_type": "execute_result"
    }
   ],
   "source": [
    "oedmc_res"
   ]
  },
  {
   "cell_type": "markdown",
   "metadata": {},
   "source": [
    "**- BestResOptim:** BayesianOptimisation optimisation results (as they come from the package) for the best iteration"
   ]
  },
  {
   "cell_type": "code",
   "execution_count": 11,
   "metadata": {},
   "outputs": [
    {
     "data": {
      "text/plain": [
       "(observed_optimum = 178223.15078138752, observed_optimizer = [52.66743167895896, 69.70383617037298], model_optimum = 179209.44517080282, model_optimizer = [95.55295547963586, 96.51961708968622])"
      ]
     },
     "execution_count": 11,
     "metadata": {},
     "output_type": "execute_result"
    }
   ],
   "source": [
    "oedmc_res[\"BestResOptim\"]"
   ]
  },
  {
   "cell_type": "markdown",
   "metadata": {},
   "source": [
    "**- uInpOpt:** Dictionary with an entry for each inducer of the models and the optimised value for each step (if an input is fixed for the whole experiment this will appear only once). <br>\n",
    "If you have steps fixed to a specific value, this will still be included in this results (it will be the actual values for the experiments, not the optimisation results)."
   ]
  },
  {
   "cell_type": "code",
   "execution_count": 12,
   "metadata": {},
   "outputs": [
    {
     "data": {
      "text/plain": [
       "Dict{Any,Any} with 1 entry:\n",
       "  \"IPTG\" => Any[0, 52.6674, 69.7038]"
      ]
     },
     "execution_count": 12,
     "metadata": {},
     "output_type": "execute_result"
    }
   ],
   "source": [
    "oedmc_res[\"uInpOpt\"]"
   ]
  },
  {
   "cell_type": "markdown",
   "metadata": {},
   "source": [
    "**- ResOptim:** The optmisation structure details from Bayesian Optimisation."
   ]
  },
  {
   "cell_type": "code",
   "execution_count": 13,
   "metadata": {},
   "outputs": [
    {
     "data": {
      "text/plain": [
       "Dict{String,Any} with 12 entries:\n",
       "  \"modelY\"             => [177986.0, 137602.0, 178143.0, 169704.0, 177894.0, 17…\n",
       "  \"modelX\"             => [68.75 93.75 … 19.4077 62.4234; 81.25 6.25 … 95.5304 …\n",
       "  \"acquisitionoptions\" => (method = :LD_LBFGS, restarts = 10, maxeval = 2000)\n",
       "  \"duration\"           => DurationCounter(1.61045e9, Inf, 1.61045e9, Inf)\n",
       "  \"repetitions\"        => 1\n",
       "  \"model_optimum\"      => 179209.0\n",
       "  \"sense\"              => Max\n",
       "  \"modeloptimizer\"     => MAPGPOptimizer{NamedTuple{(:domean, :kern, :noise, :l…\n",
       "  \"model_optimizer\"    => [95.553, 96.5196]\n",
       "  \"upperbounds\"        => [100.0, 100.0]\n",
       "  \"observed_optimizer\" => [52.6674, 69.7038]\n",
       "  \"observed_optimum\"   => 178223.0"
      ]
     },
     "execution_count": 13,
     "metadata": {},
     "output_type": "execute_result"
    }
   ],
   "source": [
    "oedmc_res[\"ResOptim\"]"
   ]
  },
  {
   "cell_type": "markdown",
   "metadata": {},
   "source": [
    "**- Simul_MC:** Simulation of the model using the optimum input profile. "
   ]
  },
  {
   "cell_type": "code",
   "execution_count": 14,
   "metadata": {},
   "outputs": [
    {
     "data": {
      "text/plain": [
       "288×4×3 Array{Float64,3}:\n",
       "[:, :, 1] =\n",
       " 0.317361   18.8312   11.9507    823.01\n",
       " 0.317361   18.8312   11.9507    823.01\n",
       " 0.317361   18.8312   11.9507    823.01\n",
       " 0.317361   18.8312   11.9507    823.01\n",
       " 0.317361   18.8312   11.9507    823.01\n",
       " 0.317361   18.8312   11.9507    823.01\n",
       " 0.317361   18.8312   11.9507    823.01\n",
       " 0.317361   18.8312   11.9507    823.01\n",
       " 0.317361   18.8312   11.9507    823.01\n",
       " 0.317361   18.8312   11.9507    823.01\n",
       " 0.317361   18.8312   11.9507    823.01\n",
       " 0.317361   18.8312   11.9507    823.01\n",
       " 0.317361   18.8312   11.9507    823.01\n",
       " ⋮                             \n",
       " 6.42746   381.385   242.036   16668.3\n",
       " 6.42746   381.385   242.036   16668.3\n",
       " 6.42746   381.385   242.036   16668.3\n",
       " 6.42746   381.385   242.036   16668.3\n",
       " 6.42746   381.385   242.036   16668.3\n",
       " 6.42746   381.385   242.036   16668.3\n",
       " 6.42746   381.385   242.036   16668.3\n",
       " 6.42746   381.385   242.036   16668.3\n",
       " 6.42746   381.385   242.036   16668.3\n",
       " 6.42746   381.385   242.036   16668.3\n",
       " 6.42746   381.385   242.036   16668.3\n",
       " 6.42746   381.385   242.036   16668.3\n",
       "\n",
       "[:, :, 2] =\n",
       " 0.317361   18.8312   11.9507    781.859\n",
       " 0.317361   18.8312   11.9507    781.859\n",
       " 0.317361   18.8312   11.9507    781.859\n",
       " 0.317361   18.8312   11.9507    781.859\n",
       " 0.317361   18.8312   11.9507    781.859\n",
       " 0.317361   18.8312   11.9507    781.859\n",
       " 0.317361   18.8312   11.9507    781.859\n",
       " 0.317361   18.8312   11.9507    781.859\n",
       " 0.317361   18.8312   11.9507    781.859\n",
       " 0.317361   18.8312   11.9507    781.859\n",
       " 0.317361   18.8312   11.9507    781.859\n",
       " 0.317361   18.8312   11.9507    781.859\n",
       " 0.317361   18.8312   11.9507    781.859\n",
       " ⋮                             \n",
       " 6.41311   380.533   241.495   15799.5\n",
       " 6.41311   380.533   241.495   15799.5\n",
       " 6.41311   380.533   241.495   15799.5\n",
       " 6.41311   380.533   241.495   15799.5\n",
       " 6.41311   380.533   241.495   15799.5\n",
       " 6.41311   380.533   241.495   15799.5\n",
       " 6.41311   380.533   241.495   15799.5\n",
       " 6.41311   380.533   241.495   15799.5\n",
       " 6.41311   380.533   241.495   15799.5\n",
       " 6.41311   380.533   241.495   15799.5\n",
       " 6.41311   380.533   241.495   15799.5\n",
       " 6.41311   380.533   241.495   15799.5\n",
       "\n",
       "[:, :, 3] =\n",
       " 0.317361   18.8312   11.9507    987.611\n",
       " 0.317361   18.8312   11.9507    987.611\n",
       " 0.317361   18.8312   11.9507    987.611\n",
       " 0.317361   18.8312   11.9507    987.611\n",
       " 0.317361   18.8312   11.9507    987.611\n",
       " 0.317361   18.8312   11.9507    987.611\n",
       " 0.317361   18.8312   11.9507    987.611\n",
       " 0.317361   18.8312   11.9507    987.611\n",
       " 0.317361   18.8312   11.9507    987.611\n",
       " 0.317361   18.8312   11.9507    987.611\n",
       " 0.317361   18.8312   11.9507    987.611\n",
       " 0.317361   18.8312   11.9507    987.611\n",
       " 0.317361   18.8312   11.9507    987.611\n",
       " ⋮                             \n",
       " 6.46767   383.77    243.55    20127.0\n",
       " 6.46767   383.77    243.55    20127.0\n",
       " 6.46767   383.77    243.55    20127.0\n",
       " 6.46767   383.77    243.55    20127.0\n",
       " 6.46767   383.77    243.55    20127.0\n",
       " 6.46767   383.77    243.55    20127.0\n",
       " 6.46767   383.77    243.55    20127.0\n",
       " 6.46767   383.77    243.55    20127.0\n",
       " 6.46767   383.77    243.55    20127.0\n",
       " 6.46767   383.77    243.55    20127.0\n",
       " 6.46767   383.77    243.55    20127.0\n",
       " 6.46767   383.77    243.55    20127.0"
      ]
     },
     "execution_count": 14,
     "metadata": {},
     "output_type": "execute_result"
    }
   ],
   "source": [
    "oedmc_res[\"Simul_MC\"]"
   ]
  },
  {
   "cell_type": "markdown",
   "metadata": {},
   "source": [
    "**- BestUtil:** Best utility function value"
   ]
  },
  {
   "cell_type": "code",
   "execution_count": 15,
   "metadata": {},
   "outputs": [
    {
     "data": {
      "text/plain": [
       "178223.15078138752"
      ]
     },
     "execution_count": 15,
     "metadata": {},
     "output_type": "execute_result"
    }
   ],
   "source": [
    "oedmc_res[\"BestUtil\"]"
   ]
  },
  {
   "cell_type": "markdown",
   "metadata": {},
   "source": [
    "**- ConvCurv:** Convergence curve for the optimisation. First column indicates iteration and second column best utility function so far. "
   ]
  },
  {
   "cell_type": "code",
   "execution_count": 16,
   "metadata": {},
   "outputs": [
    {
     "data": {
      "text/plain": [
       "150×2 Array{Float64,2}:\n",
       "   1.0  177986.0\n",
       "   2.0  177986.0\n",
       "   3.0  178143.0\n",
       "   4.0  178143.0\n",
       "   5.0  178143.0\n",
       "   6.0  178143.0\n",
       "   7.0  178143.0\n",
       "   8.0  178143.0\n",
       "   9.0  178143.0\n",
       "  10.0  178143.0\n",
       "  11.0  178143.0\n",
       "  12.0  178143.0\n",
       "  13.0  178143.0\n",
       "   ⋮    \n",
       " 139.0  178223.0\n",
       " 140.0  178223.0\n",
       " 141.0  178223.0\n",
       " 142.0  178223.0\n",
       " 143.0  178223.0\n",
       " 144.0  178223.0\n",
       " 145.0  178223.0\n",
       " 146.0  178223.0\n",
       " 147.0  178223.0\n",
       " 148.0  178223.0\n",
       " 149.0  178223.0\n",
       " 150.0  178223.0"
      ]
     },
     "execution_count": 16,
     "metadata": {},
     "output_type": "execute_result"
    }
   ],
   "source": [
    "oedmc_res[\"ConvCurv\"]"
   ]
  },
  {
   "cell_type": "markdown",
   "metadata": {},
   "source": [
    "**- SimulObs_MC:** Simulation of the observables for the model using the optimum input profile. "
   ]
  },
  {
   "cell_type": "code",
   "execution_count": 17,
   "metadata": {},
   "outputs": [
    {
     "data": {
      "text/plain": [
       "288×1×3 Array{Float64,3}:\n",
       "[:, :, 1] =\n",
       "  2469.0287158650076\n",
       "  2469.0287158650076\n",
       "  2469.0287158650076\n",
       "  2469.0287158650076\n",
       "  2469.0287158650076\n",
       "  2469.0287158650076\n",
       "  2469.0287158650076\n",
       "  2469.0287158650076\n",
       "  2469.0287158650076\n",
       "  2469.0287158650076\n",
       "  2469.0287158650076\n",
       "  2469.0287158650076\n",
       "  2469.0287158650076\n",
       "     ⋮\n",
       " 50004.75740022665\n",
       " 50004.76229790239\n",
       " 50004.76654589915\n",
       " 50004.77023118209\n",
       " 50004.773426276806\n",
       " 50004.776195596554\n",
       " 50004.77859650325\n",
       " 50004.78067930548\n",
       " 50004.7824863345\n",
       " 50004.78405281368\n",
       " 50004.78541030502\n",
       " 50004.78658701843\n",
       "\n",
       "[:, :, 2] =\n",
       "  2345.5772800717577\n",
       "  2345.5772800717577\n",
       "  2345.5772800717577\n",
       "  2345.5772800717577\n",
       "  2345.5772800717577\n",
       "  2345.5772800717577\n",
       "  2345.5772800717577\n",
       "  2345.5772800717577\n",
       "  2345.5772800717577\n",
       "  2345.5772800717577\n",
       "  2345.5772800717577\n",
       "  2345.5772800717577\n",
       "  2345.5772800717577\n",
       "     ⋮\n",
       " 47398.388009111964\n",
       " 47398.39609712434\n",
       " 47398.40315990265\n",
       " 47398.409328667934\n",
       " 47398.41471813792\n",
       " 47398.41942553126\n",
       " 47398.42353556987\n",
       " 47398.4271242404\n",
       " 47398.430258834196\n",
       " 47398.43299723262\n",
       " 47398.43538863144\n",
       " 47398.437476893654\n",
       "\n",
       "[:, :, 3] =\n",
       "  2962.83445903801\n",
       "  2962.83445903801\n",
       "  2962.83445903801\n",
       "  2962.8344590380066\n",
       "  2962.8344590379947\n",
       "  2962.834459037979\n",
       "  2962.8344590379634\n",
       "  2962.834459037952\n",
       "  2962.834459037947\n",
       "  2962.8344590379497\n",
       "  2962.83445903796\n",
       "  2962.8344590379775\n",
       "  2962.834459038001\n",
       "     ⋮\n",
       " 60381.08975619769\n",
       " 60381.09039156185\n",
       " 60381.09092613144\n",
       " 60381.09137569978\n",
       " 60381.09175434834\n",
       " 60381.09207436572\n",
       " 60381.09234486525\n",
       " 60381.09257264789\n",
       " 60381.09276395914\n",
       " 60381.09292454971\n",
       " 60381.09305967545\n",
       " 60381.09317405529"
      ]
     },
     "execution_count": 17,
     "metadata": {},
     "output_type": "execute_result"
    }
   ],
   "source": [
    "oedmc_res[\"SimulObs_MC\"]"
   ]
  },
  {
   "cell_type": "markdown",
   "metadata": {},
   "source": [
    "### Now, let's have a look at the plots generated\n",
    "First, the convergence curve <br>\n",
    "Note that to reduce the computational time of the example we used a really low number of iterations, so do not be surprised if the results do not look good."
   ]
  },
  {
   "cell_type": "code",
   "execution_count": 18,
   "metadata": {},
   "outputs": [],
   "source": [
    "using Images # Package not called in BOMBS, this is just to display the generated PNGs"
   ]
  },
  {
   "cell_type": "code",
   "execution_count": 19,
   "metadata": {},
   "outputs": [
    {
     "data": {
      "image/png": "[encoded data removed]",
      "text/plain": [
       "400×600 Array{RGB{N0f8},2} with eltype RGB{Normed{UInt8,8}}:\n",
       " RGB{N0f8}(1.0,1.0,1.0)  RGB{N0f8}(1.0,1.0,1.0)  …  RGB{N0f8}(1.0,1.0,1.0)\n",
       " RGB{N0f8}(1.0,1.0,1.0)  RGB{N0f8}(1.0,1.0,1.0)     RGB{N0f8}(1.0,1.0,1.0)\n",
       " RGB{N0f8}(1.0,1.0,1.0)  RGB{N0f8}(1.0,1.0,1.0)     RGB{N0f8}(1.0,1.0,1.0)\n",
       " RGB{N0f8}(1.0,1.0,1.0)  RGB{N0f8}(1.0,1.0,1.0)     RGB{N0f8}(1.0,1.0,1.0)\n",
       " RGB{N0f8}(1.0,1.0,1.0)  RGB{N0f8}(1.0,1.0,1.0)     RGB{N0f8}(1.0,1.0,1.0)\n",
       " RGB{N0f8}(1.0,1.0,1.0)  RGB{N0f8}(1.0,1.0,1.0)  …  RGB{N0f8}(1.0,1.0,1.0)\n",
       " RGB{N0f8}(1.0,1.0,1.0)  RGB{N0f8}(1.0,1.0,1.0)     RGB{N0f8}(1.0,1.0,1.0)\n",
       " RGB{N0f8}(1.0,1.0,1.0)  RGB{N0f8}(1.0,1.0,1.0)     RGB{N0f8}(1.0,1.0,1.0)\n",
       " RGB{N0f8}(1.0,1.0,1.0)  RGB{N0f8}(1.0,1.0,1.0)     RGB{N0f8}(1.0,1.0,1.0)\n",
       " RGB{N0f8}(1.0,1.0,1.0)  RGB{N0f8}(1.0,1.0,1.0)     RGB{N0f8}(1.0,1.0,1.0)\n",
       " RGB{N0f8}(1.0,1.0,1.0)  RGB{N0f8}(1.0,1.0,1.0)  …  RGB{N0f8}(1.0,1.0,1.0)\n",
       " RGB{N0f8}(1.0,1.0,1.0)  RGB{N0f8}(1.0,1.0,1.0)     RGB{N0f8}(1.0,1.0,1.0)\n",
       " RGB{N0f8}(1.0,1.0,1.0)  RGB{N0f8}(1.0,1.0,1.0)     RGB{N0f8}(1.0,1.0,1.0)\n",
       " ⋮                                               ⋱  \n",
       " RGB{N0f8}(1.0,1.0,1.0)  RGB{N0f8}(1.0,1.0,1.0)     RGB{N0f8}(1.0,1.0,1.0)\n",
       " RGB{N0f8}(1.0,1.0,1.0)  RGB{N0f8}(1.0,1.0,1.0)     RGB{N0f8}(1.0,1.0,1.0)\n",
       " RGB{N0f8}(1.0,1.0,1.0)  RGB{N0f8}(1.0,1.0,1.0)  …  RGB{N0f8}(1.0,1.0,1.0)\n",
       " RGB{N0f8}(1.0,1.0,1.0)  RGB{N0f8}(1.0,1.0,1.0)     RGB{N0f8}(1.0,1.0,1.0)\n",
       " RGB{N0f8}(1.0,1.0,1.0)  RGB{N0f8}(1.0,1.0,1.0)     RGB{N0f8}(1.0,1.0,1.0)\n",
       " RGB{N0f8}(1.0,1.0,1.0)  RGB{N0f8}(1.0,1.0,1.0)     RGB{N0f8}(1.0,1.0,1.0)\n",
       " RGB{N0f8}(1.0,1.0,1.0)  RGB{N0f8}(1.0,1.0,1.0)     RGB{N0f8}(1.0,1.0,1.0)\n",
       " RGB{N0f8}(1.0,1.0,1.0)  RGB{N0f8}(1.0,1.0,1.0)  …  RGB{N0f8}(1.0,1.0,1.0)\n",
       " RGB{N0f8}(1.0,1.0,1.0)  RGB{N0f8}(1.0,1.0,1.0)     RGB{N0f8}(1.0,1.0,1.0)\n",
       " RGB{N0f8}(1.0,1.0,1.0)  RGB{N0f8}(1.0,1.0,1.0)     RGB{N0f8}(1.0,1.0,1.0)\n",
       " RGB{N0f8}(1.0,1.0,1.0)  RGB{N0f8}(1.0,1.0,1.0)     RGB{N0f8}(1.0,1.0,1.0)\n",
       " RGB{N0f8}(1.0,1.0,1.0)  RGB{N0f8}(1.0,1.0,1.0)     RGB{N0f8}(1.0,1.0,1.0)"
      ]
     },
     "execution_count": 19,
     "metadata": {},
     "output_type": "execute_result"
    }
   ],
   "source": [
    "# Note that none of the curves are at convergence due to the low time allowed for the optimisation. \n",
    "CC1 = load(string(oedmc_def[\"savepath\"], \"\\\\Plot_OEDMCConvergence_\",oedmc_def[\"flag\"],\".png\"))"
   ]
  },
  {
   "cell_type": "markdown",
   "metadata": {},
   "source": [
    "And now the experiment simualtions"
   ]
  },
  {
   "cell_type": "code",
   "execution_count": 20,
   "metadata": {},
   "outputs": [
    {
     "data": {
      "image/png": "[encoded data removed]",
      "text/plain": [
       "1200×2000 Array{RGB{N0f8},2} with eltype RGB{Normed{UInt8,8}}:\n",
       " RGB{N0f8}(1.0,1.0,1.0)  RGB{N0f8}(1.0,1.0,1.0)  …  RGB{N0f8}(1.0,1.0,1.0)\n",
       " RGB{N0f8}(1.0,1.0,1.0)  RGB{N0f8}(1.0,1.0,1.0)     RGB{N0f8}(1.0,1.0,1.0)\n",
       " RGB{N0f8}(1.0,1.0,1.0)  RGB{N0f8}(1.0,1.0,1.0)     RGB{N0f8}(1.0,1.0,1.0)\n",
       " RGB{N0f8}(1.0,1.0,1.0)  RGB{N0f8}(1.0,1.0,1.0)     RGB{N0f8}(1.0,1.0,1.0)\n",
       " RGB{N0f8}(1.0,1.0,1.0)  RGB{N0f8}(1.0,1.0,1.0)     RGB{N0f8}(1.0,1.0,1.0)\n",
       " RGB{N0f8}(1.0,1.0,1.0)  RGB{N0f8}(1.0,1.0,1.0)  …  RGB{N0f8}(1.0,1.0,1.0)\n",
       " RGB{N0f8}(1.0,1.0,1.0)  RGB{N0f8}(1.0,1.0,1.0)     RGB{N0f8}(1.0,1.0,1.0)\n",
       " RGB{N0f8}(1.0,1.0,1.0)  RGB{N0f8}(1.0,1.0,1.0)     RGB{N0f8}(1.0,1.0,1.0)\n",
       " RGB{N0f8}(1.0,1.0,1.0)  RGB{N0f8}(1.0,1.0,1.0)     RGB{N0f8}(1.0,1.0,1.0)\n",
       " RGB{N0f8}(1.0,1.0,1.0)  RGB{N0f8}(1.0,1.0,1.0)     RGB{N0f8}(1.0,1.0,1.0)\n",
       " RGB{N0f8}(1.0,1.0,1.0)  RGB{N0f8}(1.0,1.0,1.0)  …  RGB{N0f8}(1.0,1.0,1.0)\n",
       " RGB{N0f8}(1.0,1.0,1.0)  RGB{N0f8}(1.0,1.0,1.0)     RGB{N0f8}(1.0,1.0,1.0)\n",
       " RGB{N0f8}(1.0,1.0,1.0)  RGB{N0f8}(1.0,1.0,1.0)     RGB{N0f8}(1.0,1.0,1.0)\n",
       " ⋮                                               ⋱  \n",
       " RGB{N0f8}(1.0,1.0,1.0)  RGB{N0f8}(1.0,1.0,1.0)     RGB{N0f8}(1.0,1.0,1.0)\n",
       " RGB{N0f8}(1.0,1.0,1.0)  RGB{N0f8}(1.0,1.0,1.0)     RGB{N0f8}(1.0,1.0,1.0)\n",
       " RGB{N0f8}(1.0,1.0,1.0)  RGB{N0f8}(1.0,1.0,1.0)  …  RGB{N0f8}(1.0,1.0,1.0)\n",
       " RGB{N0f8}(1.0,1.0,1.0)  RGB{N0f8}(1.0,1.0,1.0)     RGB{N0f8}(1.0,1.0,1.0)\n",
       " RGB{N0f8}(1.0,1.0,1.0)  RGB{N0f8}(1.0,1.0,1.0)     RGB{N0f8}(1.0,1.0,1.0)\n",
       " RGB{N0f8}(1.0,1.0,1.0)  RGB{N0f8}(1.0,1.0,1.0)     RGB{N0f8}(1.0,1.0,1.0)\n",
       " RGB{N0f8}(1.0,1.0,1.0)  RGB{N0f8}(1.0,1.0,1.0)     RGB{N0f8}(1.0,1.0,1.0)\n",
       " RGB{N0f8}(1.0,1.0,1.0)  RGB{N0f8}(1.0,1.0,1.0)  …  RGB{N0f8}(1.0,1.0,1.0)\n",
       " RGB{N0f8}(1.0,1.0,1.0)  RGB{N0f8}(1.0,1.0,1.0)     RGB{N0f8}(1.0,1.0,1.0)\n",
       " RGB{N0f8}(1.0,1.0,1.0)  RGB{N0f8}(1.0,1.0,1.0)     RGB{N0f8}(1.0,1.0,1.0)\n",
       " RGB{N0f8}(1.0,1.0,1.0)  RGB{N0f8}(1.0,1.0,1.0)     RGB{N0f8}(1.0,1.0,1.0)\n",
       " RGB{N0f8}(1.0,1.0,1.0)  RGB{N0f8}(1.0,1.0,1.0)     RGB{N0f8}(1.0,1.0,1.0)"
      ]
     },
     "execution_count": 20,
     "metadata": {},
     "output_type": "execute_result"
    }
   ],
   "source": [
    "expMC = load(string(oedmc_def[\"savepath\"], \"\\\\PlotOEDMCResults_Exp1_\",oedmc_def[\"flag\"],\".png\"))"
   ]
  },
  {
   "cell_type": "markdown",
   "metadata": {},
   "source": [
    "# OED Model Calibration Example 2\n",
    "This is a basic example showing how to use the basic elements of the section. <br>\n",
    "<br>\n",
    "The experiment to be optimised (find the maximum uncertainty in the simulations) is a pulse experiment where IPTG for the first step is fixed to 0. <br>\n",
    "<br>\n",
    "Since this section is purely based on model uncertainty in simulations, differently from the model selection section, a single theta sample cannot be given since the strategy will not work. <br>\n",
    "<br>\n",
    "In the utility function, to compute the simulation uncertainty you can use entropy or percentiles. In this first example we will use entropy. "
   ]
  },
  {
   "cell_type": "code",
   "execution_count": 21,
   "metadata": {},
   "outputs": [
    {
     "data": {
      "text/plain": [
       "Dict{Any,Any} with 17 entries:\n",
       "  \"maxiter\"   => Any[]\n",
       "  \"y0\"        => Any[]\n",
       "  \"fixedStep\" => Any[]\n",
       "  \"fixedInp\"  => Any[]\n",
       "  \"Obs\"       => Any[]\n",
       "  \"uUpper\"    => Any[]\n",
       "  \"switchT\"   => Any[]\n",
       "  \"Model\"     => Any[]\n",
       "  \"preInd\"    => Any[]\n",
       "  \"finalTime\" => Any[]\n",
       "  \"uLower\"    => Any[]\n",
       "  \"equalStep\" => Any[]\n",
       "  \"tsamps\"    => Any[]\n",
       "  \"Theta\"     => Any[]\n",
       "  \"flag\"      => Any[]\n",
       "  \"plot\"      => Any[]\n",
       "  \"util\"      => Any[]"
      ]
     },
     "execution_count": 21,
     "metadata": {},
     "output_type": "execute_result"
    }
   ],
   "source": [
    "oedmc_def2 = defODEModelCalibrStruct()"
   ]
  },
  {
   "cell_type": "code",
   "execution_count": 22,
   "metadata": {},
   "outputs": [],
   "source": [
    "oedmc_def2[\"Model\"] = [model_def]; \n",
    "oedmc_def2[\"Obs\"] = [\"3*Cit_AU\"];\n",
    "oedmc_def2[\"Theta\"] = [\"TestThetaPLac.csv\"]; \n",
    "\n",
    "oedmc_def2[\"y0\"] = [10,10,10,10]; \n",
    "oedmc_def2[\"preInd\"] = [0]; \n",
    "oedmc_def2[\"finalTime\"] = [1439]; \n",
    "oedmc_def2[\"switchT\"] = [[0, 250, 500, 750, 1000, 1200, 1439]]; \n",
    "oedmc_def2[\"tsamps\"] = [collect(0:5:1439)]; \n",
    "oedmc_def2[\"fixedInp\"] = []; \n",
    "oedmc_def2[\"fixedStep\"] = [(1,[0])]; # If you had more inducers, you coud set some of them as Any to optimise them while you fix the others\n",
    "oedmc_def2[\"equalStep\"] = [[2,4,6],[3,5]];\n",
    "\n",
    "oedmc_def2[\"plot\"] = [true]; \n",
    "oedmc_def2[\"flag\"] = [\"testOEDMS2\"]; \n",
    "\n",
    "oedmc_def2[\"uUpper\"] = [100];\n",
    "oedmc_def2[\"uLower\"] = [0]; \n",
    "oedmc_def2[\"maxiter\"] = [150];\n",
    "\n",
    "oedmc_def2[\"util\"] = [\"entropy\"];"
   ]
  },
  {
   "cell_type": "markdown",
   "metadata": {},
   "source": [
    "This is the function that the section uses to generate the model script and the utility function script. "
   ]
  },
  {
   "cell_type": "code",
   "execution_count": 23,
   "metadata": {},
   "outputs": [
    {
     "name": "stdout",
     "output_type": "stream",
     "text": [
      "-------------------------- WARNING --------------------------\n",
      "Less than 50 samples for theta are given for the Model. \n",
      "Consider using more samples for better results. \n",
      "-------------------------------------------------------------\n",
      "\n",
      "----------------------------------------- MODEL GENERATION -----------------------------------------\n",
      "The model has been generated in the directory: \n",
      "                 E:\\UNI\\D_Drive\\PhD\\JULIAlang\\Generalisation_PLacExample\\Examples\\ModelsFunctions\\PLacExample_Model.jl\n",
      "--------------------------------------------------------------------------------------\n",
      "\n",
      "\n",
      "----------------------------------------- SCRIPTS OED Model Calibration -----------------------------------------\n",
      "Utility function script to perform OED for Model Calibration has been generated in the directory: \n",
      "E:\\UNI\\D_Drive\\PhD\\JULIAlang\\Generalisation_PLacExample\\Examples\\Results\\PLacExample_2021-01-12\\OEDModelCalibrationScripts\\PLacExample_OEDMC.jl\n",
      "--------------------------------------------------------------------------------------\n",
      "\n",
      "\n",
      "---------------------------------------------- OPTIMISATION INFO ----------------------------------------------\n",
      "\n",
      "If you wish to modify any of the settings for the Bayesian Optimisation used (from the package \n",
      "BayesianOptimization.jl) please search the function settingsBayesOptMC located in the file ModelOEDCalibration.jl \n",
      "that is located in the directory: \n",
      "        C:\\Users\\david\\AppData\\Local\\JuliaPro-1.4.0-1\\Julia-1.4.0\\share\\julia\\stdlib\\v1.4\\BOMBS.jl\\src\n",
      "and change any desired setting (under your own risk). \n",
      "If any irreversible change is made by mistake, just look for the file settingsBayesOptMCBackUp.jl and copy the\n",
      "contents of the function inside (which are the same as the original except for the function name ;) )\n",
      "\n",
      "---------------------------------------------------------------------------------------------------------------\n",
      "\n"
     ]
    }
   ],
   "source": [
    "oedmc_def2 =  genOptimMCFuncts(oedmc_def2);"
   ]
  },
  {
   "cell_type": "markdown",
   "metadata": {},
   "source": [
    "Here, have a look at how the utility function looks like (to double check that everything is ok with it)."
   ]
  },
  {
   "cell_type": "code",
   "execution_count": 24,
   "metadata": {},
   "outputs": [
    {
     "name": "stdout",
     "output_type": "stream",
     "text": [
      "\n",
      "        \n",
      "\n",
      "    function PLacExampleUtility(ins)\n",
      "\n",
      "        # Definition of the inputs for the ODEs\n",
      "        if length(ins) == 1\n",
      "            IPTG2,IPTG3 = ins[1];\n",
      "        else\n",
      "            IPTG2,IPTG3 = ins;\n",
      "        end\n",
      "        inputsMC = [0,IPTG2,IPTG3,IPTG2,IPTG3,IPTG2];\n",
      "\n",
      "        # Solve ODEs\n",
      "        solMC = PLacExample_SolveAll(tsMC, pD1MC, spMC, inputsMC, ivss1MC, sampsMC, pre1MC);\n",
      "\n",
      "        # Extracte wanted vectors (observables) with time reduction\n",
      "        Obs1_MC = 3 .*solMC[:,4,:]; \n",
      "\n",
      "\n",
      "    \n",
      "        EntObs1_MC = zeros(size(solMC)[1]); \n",
      "\n",
      "\n",
      "        dists = [Beta, Exponential, LogNormal, Normal, Gamma, Laplace, Pareto, Rayleigh, Cauchy, Uniform];\n",
      "        dists2 = [Exponential, LogNormal, Normal, Gamma, Laplace, Pareto, Rayleigh, Cauchy, Uniform];\n",
      "\n",
      "        names = [\"timePoint\"];\n",
      "\n",
      "        for j in 1:size(solMC)[1]\n",
      "            fitts1 = Dict(); \n",
      "        bestfit1 = Dict(); \n",
      "        bestfitInd1 = zeros(1,1); \n",
      "\n",
      "    \n",
      "            try\n",
      "                fitts1[names[1]] = fit.(dists, Ref(Obs1_MC[j,:]));\n",
      "                bestfitInd1[1] = findmax(loglikelihood.(fitts1[names[1]], Ref(Obs1_MC[j,:])))[2];\n",
      "                bestfit1[names[1]] = fitts1[names[1]][findmax(loglikelihood.(fitts1[names[1]], Ref(Obs1_MC[j,:])))[2]];\n",
      "            catch\n",
      "                fitts1[names[1]] = fit.(dists2, Ref(Obs1_MC[j,:]));\n",
      "                bestfitInd1[1] = findmax(loglikelihood.(fitts1[names[1]], Ref(Obs1_MC[j,:])))[2]+1;\n",
      "                bestfit1[names[1]] = fitts1[names[1]][findmax(loglikelihood.(fitts1[names[1]], Ref(Obs1_MC[j,:])))[2]];\n",
      "            end\n",
      "\n",
      "            EntObs1_MC[j] = entropy(bestfit1[names[1]]); \n",
      "\n",
      "        end\n",
      "\n",
      "        HES = zeros(1,1);\n",
      "        HES[1,1] = sum(EntObs1_MC); \n",
      "\n",
      "        util = sum(HES)\n",
      "    \n",
      "\n",
      "        return(util)\n",
      "    end\n",
      "\n",
      "        "
     ]
    }
   ],
   "source": [
    "stream = open(raw\"E:\\UNI\\D_Drive\\PhD\\JULIAlang\\Generalisation_PLacExample\\Examples\\Results\\PLacExample_2021-01-12\\OEDModelCalibrationScripts\\PLacExample_OEDMC.jl\",\"r\");\n",
    "Model = read(stream,String);\n",
    "close(stream);\n",
    "print(Model)"
   ]
  },
  {
   "cell_type": "markdown",
   "metadata": {},
   "source": [
    "And now, to run the optimisation is as simple as: "
   ]
  },
  {
   "cell_type": "code",
   "execution_count": 25,
   "metadata": {},
   "outputs": [
    {
     "name": "stdout",
     "output_type": "stream",
     "text": [
      "-------------------------- WARNING --------------------------\n",
      "Less than 50 samples for theta are given for the Model. \n",
      "Consider using more samples for better results. \n",
      "-------------------------------------------------------------\n"
     ]
    },
    {
     "name": "stderr",
     "output_type": "stream",
     "text": [
      "┌ Info: 2021-01-12T10:49:50.266\titeration: 10\tcurrent optimum: 2566.6240827378306\n",
      "└ @ BayesianOptimization C:\\Users\\david\\.juliapro\\JuliaPro_v1.4.0-1\\packages\\BayesianOptimization\\poykT\\src\\BayesianOptimization.jl:140\n",
      "┌ Info: 2021-01-12T10:49:50.29\titeration: 11\tcurrent optimum: 2566.6240827378306\n",
      "└ @ BayesianOptimization C:\\Users\\david\\.juliapro\\JuliaPro_v1.4.0-1\\packages\\BayesianOptimization\\poykT\\src\\BayesianOptimization.jl:140\n",
      "┌ Info: 2021-01-12T10:49:50.304\titeration: 12\tcurrent optimum: 2566.6240827378306\n",
      "└ @ BayesianOptimization C:\\Users\\david\\.juliapro\\JuliaPro_v1.4.0-1\\packages\\BayesianOptimization\\poykT\\src\\BayesianOptimization.jl:140\n",
      "┌ Info: 2021-01-12T10:49:50.317\titeration: 13\tcurrent optimum: 2566.6240827378306\n",
      "└ @ BayesianOptimization C:\\Users\\david\\.juliapro\\JuliaPro_v1.4.0-1\\packages\\BayesianOptimization\\poykT\\src\\BayesianOptimization.jl:140\n",
      "┌ Info: 2021-01-12T10:49:50.33\titeration: 14\tcurrent optimum: 2566.6240827378306\n",
      "└ @ BayesianOptimization C:\\Users\\david\\.juliapro\\JuliaPro_v1.4.0-1\\packages\\BayesianOptimization\\poykT\\src\\BayesianOptimization.jl:140\n",
      "┌ Info: 2021-01-12T10:49:50.343\titeration: 15\tcurrent optimum: 2566.6240827378306\n",
      "└ @ BayesianOptimization C:\\Users\\david\\.juliapro\\JuliaPro_v1.4.0-1\\packages\\BayesianOptimization\\poykT\\src\\BayesianOptimization.jl:140\n",
      "┌ Info: 2021-01-12T10:49:50.357\titeration: 16\tcurrent optimum: 2566.6240827378306\n",
      "└ @ BayesianOptimization C:\\Users\\david\\.juliapro\\JuliaPro_v1.4.0-1\\packages\\BayesianOptimization\\poykT\\src\\BayesianOptimization.jl:140\n",
      "┌ Info: 2021-01-12T10:49:50.37\titeration: 17\tcurrent optimum: 2566.6240827378306\n",
      "└ @ BayesianOptimization C:\\Users\\david\\.juliapro\\JuliaPro_v1.4.0-1\\packages\\BayesianOptimization\\poykT\\src\\BayesianOptimization.jl:140\n",
      "┌ Info: 2021-01-12T10:49:50.404\titeration: 18\tcurrent optimum: 2566.6240827378306\n",
      "└ @ BayesianOptimization C:\\Users\\david\\.juliapro\\JuliaPro_v1.4.0-1\\packages\\BayesianOptimization\\poykT\\src\\BayesianOptimization.jl:140\n",
      "┌ Info: 2021-01-12T10:49:50.418\titeration: 19\tcurrent optimum: 2566.6240827378306\n",
      "└ @ BayesianOptimization C:\\Users\\david\\.juliapro\\JuliaPro_v1.4.0-1\\packages\\BayesianOptimization\\poykT\\src\\BayesianOptimization.jl:140\n",
      "┌ Info: 2021-01-12T10:49:50.432\titeration: 20\tcurrent optimum: 2566.6240827378306\n",
      "└ @ BayesianOptimization C:\\Users\\david\\.juliapro\\JuliaPro_v1.4.0-1\\packages\\BayesianOptimization\\poykT\\src\\BayesianOptimization.jl:140\n",
      "┌ Info: 2021-01-12T10:49:50.445\titeration: 21\tcurrent optimum: 2566.6240827378306\n",
      "└ @ BayesianOptimization C:\\Users\\david\\.juliapro\\JuliaPro_v1.4.0-1\\packages\\BayesianOptimization\\poykT\\src\\BayesianOptimization.jl:140\n",
      "┌ Info: 2021-01-12T10:49:50.458\titeration: 22\tcurrent optimum: 2566.6240827378306\n",
      "└ @ BayesianOptimization C:\\Users\\david\\.juliapro\\JuliaPro_v1.4.0-1\\packages\\BayesianOptimization\\poykT\\src\\BayesianOptimization.jl:140\n",
      "┌ Info: 2021-01-12T10:49:50.472\titeration: 23\tcurrent optimum: 2566.6240827378306\n",
      "└ @ BayesianOptimization C:\\Users\\david\\.juliapro\\JuliaPro_v1.4.0-1\\packages\\BayesianOptimization\\poykT\\src\\BayesianOptimization.jl:140\n",
      "┌ Info: 2021-01-12T10:49:50.487\titeration: 24\tcurrent optimum: 2566.6240827378306\n",
      "└ @ BayesianOptimization C:\\Users\\david\\.juliapro\\JuliaPro_v1.4.0-1\\packages\\BayesianOptimization\\poykT\\src\\BayesianOptimization.jl:140\n",
      "┌ Info: 2021-01-12T10:49:50.501\titeration: 25\tcurrent optimum: 2566.6240827378306\n",
      "└ @ BayesianOptimization C:\\Users\\david\\.juliapro\\JuliaPro_v1.4.0-1\\packages\\BayesianOptimization\\poykT\\src\\BayesianOptimization.jl:140\n",
      "┌ Info: 2021-01-12T10:49:50.516\titeration: 26\tcurrent optimum: 2566.6240827378306\n",
      "└ @ BayesianOptimization C:\\Users\\david\\.juliapro\\JuliaPro_v1.4.0-1\\packages\\BayesianOptimization\\poykT\\src\\BayesianOptimization.jl:140\n",
      "┌ Info: 2021-01-12T10:49:50.531\titeration: 27\tcurrent optimum: 2566.6240827378306\n",
      "└ @ BayesianOptimization C:\\Users\\david\\.juliapro\\JuliaPro_v1.4.0-1\\packages\\BayesianOptimization\\poykT\\src\\BayesianOptimization.jl:140\n",
      "┌ Info: 2021-01-12T10:49:50.545\titeration: 28\tcurrent optimum: 2566.6240827378306\n",
      "└ @ BayesianOptimization C:\\Users\\david\\.juliapro\\JuliaPro_v1.4.0-1\\packages\\BayesianOptimization\\poykT\\src\\BayesianOptimization.jl:140\n",
      "┌ Info: 2021-01-12T10:49:50.558\titeration: 29\tcurrent optimum: 2566.6240827378306\n",
      "└ @ BayesianOptimization C:\\Users\\david\\.juliapro\\JuliaPro_v1.4.0-1\\packages\\BayesianOptimization\\poykT\\src\\BayesianOptimization.jl:140\n",
      "┌ Info: 2021-01-12T10:49:50.573\titeration: 30\tcurrent optimum: 2566.6240827378306\n",
      "└ @ BayesianOptimization C:\\Users\\david\\.juliapro\\JuliaPro_v1.4.0-1\\packages\\BayesianOptimization\\poykT\\src\\BayesianOptimization.jl:140\n",
      "┌ Info: 2021-01-12T10:49:50.589\titeration: 31\tcurrent optimum: 2566.6240827378306\n",
      "└ @ BayesianOptimization C:\\Users\\david\\.juliapro\\JuliaPro_v1.4.0-1\\packages\\BayesianOptimization\\poykT\\src\\BayesianOptimization.jl:140\n",
      "┌ Info: 2021-01-12T10:49:50.605\titeration: 32\tcurrent optimum: 2566.6240827378306\n",
      "└ @ BayesianOptimization C:\\Users\\david\\.juliapro\\JuliaPro_v1.4.0-1\\packages\\BayesianOptimization\\poykT\\src\\BayesianOptimization.jl:140\n",
      "┌ Info: 2021-01-12T10:49:50.621\titeration: 33\tcurrent optimum: 2566.6240827378306\n",
      "└ @ BayesianOptimization C:\\Users\\david\\.juliapro\\JuliaPro_v1.4.0-1\\packages\\BayesianOptimization\\poykT\\src\\BayesianOptimization.jl:140\n",
      "┌ Info: 2021-01-12T10:49:50.636\titeration: 34\tcurrent optimum: 2566.6240827378306\n",
      "└ @ BayesianOptimization C:\\Users\\david\\.juliapro\\JuliaPro_v1.4.0-1\\packages\\BayesianOptimization\\poykT\\src\\BayesianOptimization.jl:140\n",
      "┌ Info: 2021-01-12T10:49:50.651\titeration: 35\tcurrent optimum: 2566.6240827378306\n",
      "└ @ BayesianOptimization C:\\Users\\david\\.juliapro\\JuliaPro_v1.4.0-1\\packages\\BayesianOptimization\\poykT\\src\\BayesianOptimization.jl:140\n",
      "┌ Info: 2021-01-12T10:49:50.666\titeration: 36\tcurrent optimum: 2566.6240827378306\n",
      "└ @ BayesianOptimization C:\\Users\\david\\.juliapro\\JuliaPro_v1.4.0-1\\packages\\BayesianOptimization\\poykT\\src\\BayesianOptimization.jl:140\n",
      "┌ Info: 2021-01-12T10:49:50.681\titeration: 37\tcurrent optimum: 2566.6240827378306\n",
      "└ @ BayesianOptimization C:\\Users\\david\\.juliapro\\JuliaPro_v1.4.0-1\\packages\\BayesianOptimization\\poykT\\src\\BayesianOptimization.jl:140\n",
      "┌ Info: 2021-01-12T10:49:50.697\titeration: 38\tcurrent optimum: 2566.6240827378306\n",
      "└ @ BayesianOptimization C:\\Users\\david\\.juliapro\\JuliaPro_v1.4.0-1\\packages\\BayesianOptimization\\poykT\\src\\BayesianOptimization.jl:140\n",
      "┌ Info: 2021-01-12T10:49:50.713\titeration: 39\tcurrent optimum: 2566.6240827378306\n",
      "└ @ BayesianOptimization C:\\Users\\david\\.juliapro\\JuliaPro_v1.4.0-1\\packages\\BayesianOptimization\\poykT\\src\\BayesianOptimization.jl:140\n",
      "┌ Info: 2021-01-12T10:49:50.728\titeration: 40\tcurrent optimum: 2566.6240827378306\n",
      "└ @ BayesianOptimization C:\\Users\\david\\.juliapro\\JuliaPro_v1.4.0-1\\packages\\BayesianOptimization\\poykT\\src\\BayesianOptimization.jl:140\n",
      "┌ Info: 2021-01-12T10:49:50.743\titeration: 41\tcurrent optimum: 2566.6240827378306\n",
      "└ @ BayesianOptimization C:\\Users\\david\\.juliapro\\JuliaPro_v1.4.0-1\\packages\\BayesianOptimization\\poykT\\src\\BayesianOptimization.jl:140\n",
      "┌ Info: 2021-01-12T10:49:50.758\titeration: 42\tcurrent optimum: 2566.6240827378306\n",
      "└ @ BayesianOptimization C:\\Users\\david\\.juliapro\\JuliaPro_v1.4.0-1\\packages\\BayesianOptimization\\poykT\\src\\BayesianOptimization.jl:140\n",
      "┌ Info: 2021-01-12T10:49:50.774\titeration: 43\tcurrent optimum: 2566.6240827378306\n",
      "└ @ BayesianOptimization C:\\Users\\david\\.juliapro\\JuliaPro_v1.4.0-1\\packages\\BayesianOptimization\\poykT\\src\\BayesianOptimization.jl:140\n",
      "┌ Info: 2021-01-12T10:49:50.788\titeration: 44\tcurrent optimum: 2566.670687328805\n",
      "└ @ BayesianOptimization C:\\Users\\david\\.juliapro\\JuliaPro_v1.4.0-1\\packages\\BayesianOptimization\\poykT\\src\\BayesianOptimization.jl:140\n",
      "┌ Info: 2021-01-12T10:49:50.815\titeration: 45\tcurrent optimum: 2566.670687328805\n",
      "└ @ BayesianOptimization C:\\Users\\david\\.juliapro\\JuliaPro_v1.4.0-1\\packages\\BayesianOptimization\\poykT\\src\\BayesianOptimization.jl:140\n",
      "┌ Info: 2021-01-12T10:49:50.831\titeration: 46\tcurrent optimum: 2566.670687328805\n",
      "└ @ BayesianOptimization C:\\Users\\david\\.juliapro\\JuliaPro_v1.4.0-1\\packages\\BayesianOptimization\\poykT\\src\\BayesianOptimization.jl:140\n",
      "┌ Info: 2021-01-12T10:49:50.846\titeration: 47\tcurrent optimum: 2566.670687328805\n",
      "└ @ BayesianOptimization C:\\Users\\david\\.juliapro\\JuliaPro_v1.4.0-1\\packages\\BayesianOptimization\\poykT\\src\\BayesianOptimization.jl:140\n",
      "┌ Info: 2021-01-12T10:49:50.861\titeration: 48\tcurrent optimum: 2566.670687328805\n",
      "└ @ BayesianOptimization C:\\Users\\david\\.juliapro\\JuliaPro_v1.4.0-1\\packages\\BayesianOptimization\\poykT\\src\\BayesianOptimization.jl:140\n",
      "┌ Info: 2021-01-12T10:49:50.876\titeration: 49\tcurrent optimum: 2566.670687328805\n",
      "└ @ BayesianOptimization C:\\Users\\david\\.juliapro\\JuliaPro_v1.4.0-1\\packages\\BayesianOptimization\\poykT\\src\\BayesianOptimization.jl:140\n"
     ]
    },
    {
     "name": "stderr",
     "output_type": "stream",
     "text": [
      "┌ Info: 2021-01-12T10:49:50.89\titeration: 50\tcurrent optimum: 2566.670687328805\n",
      "└ @ BayesianOptimization C:\\Users\\david\\.juliapro\\JuliaPro_v1.4.0-1\\packages\\BayesianOptimization\\poykT\\src\\BayesianOptimization.jl:140\n",
      "┌ Info: 2021-01-12T10:49:50.908\titeration: 51\tcurrent optimum: 2566.670687328805\n",
      "└ @ BayesianOptimization C:\\Users\\david\\.juliapro\\JuliaPro_v1.4.0-1\\packages\\BayesianOptimization\\poykT\\src\\BayesianOptimization.jl:140\n",
      "┌ Info: 2021-01-12T10:49:50.924\titeration: 52\tcurrent optimum: 2566.670687328805\n",
      "└ @ BayesianOptimization C:\\Users\\david\\.juliapro\\JuliaPro_v1.4.0-1\\packages\\BayesianOptimization\\poykT\\src\\BayesianOptimization.jl:140\n",
      "┌ Info: 2021-01-12T10:49:50.939\titeration: 53\tcurrent optimum: 2566.670687328805\n",
      "└ @ BayesianOptimization C:\\Users\\david\\.juliapro\\JuliaPro_v1.4.0-1\\packages\\BayesianOptimization\\poykT\\src\\BayesianOptimization.jl:140\n",
      "┌ Info: 2021-01-12T10:49:50.954\titeration: 54\tcurrent optimum: 2566.670687328805\n",
      "└ @ BayesianOptimization C:\\Users\\david\\.juliapro\\JuliaPro_v1.4.0-1\\packages\\BayesianOptimization\\poykT\\src\\BayesianOptimization.jl:140\n",
      "┌ Info: 2021-01-12T10:49:50.968\titeration: 55\tcurrent optimum: 2566.670687328805\n",
      "└ @ BayesianOptimization C:\\Users\\david\\.juliapro\\JuliaPro_v1.4.0-1\\packages\\BayesianOptimization\\poykT\\src\\BayesianOptimization.jl:140\n",
      "┌ Info: 2021-01-12T10:49:50.984\titeration: 56\tcurrent optimum: 2566.670687328805\n",
      "└ @ BayesianOptimization C:\\Users\\david\\.juliapro\\JuliaPro_v1.4.0-1\\packages\\BayesianOptimization\\poykT\\src\\BayesianOptimization.jl:140\n",
      "┌ Info: 2021-01-12T10:49:51\titeration: 57\tcurrent optimum: 2566.670687328805\n",
      "└ @ BayesianOptimization C:\\Users\\david\\.juliapro\\JuliaPro_v1.4.0-1\\packages\\BayesianOptimization\\poykT\\src\\BayesianOptimization.jl:140\n",
      "┌ Info: 2021-01-12T10:49:51.016\titeration: 58\tcurrent optimum: 2566.670687328805\n",
      "└ @ BayesianOptimization C:\\Users\\david\\.juliapro\\JuliaPro_v1.4.0-1\\packages\\BayesianOptimization\\poykT\\src\\BayesianOptimization.jl:140\n",
      "┌ Info: 2021-01-12T10:49:51.044\titeration: 59\tcurrent optimum: 2566.670687328805\n",
      "└ @ BayesianOptimization C:\\Users\\david\\.juliapro\\JuliaPro_v1.4.0-1\\packages\\BayesianOptimization\\poykT\\src\\BayesianOptimization.jl:140\n",
      "┌ Info: 2021-01-12T10:49:51.08\titeration: 60\tcurrent optimum: 2566.670687328805\n",
      "└ @ BayesianOptimization C:\\Users\\david\\.juliapro\\JuliaPro_v1.4.0-1\\packages\\BayesianOptimization\\poykT\\src\\BayesianOptimization.jl:140\n",
      "┌ Info: 2021-01-12T10:49:51.094\titeration: 61\tcurrent optimum: 2566.670687328805\n",
      "└ @ BayesianOptimization C:\\Users\\david\\.juliapro\\JuliaPro_v1.4.0-1\\packages\\BayesianOptimization\\poykT\\src\\BayesianOptimization.jl:140\n",
      "┌ Info: 2021-01-12T10:49:51.109\titeration: 62\tcurrent optimum: 2566.670687328805\n",
      "└ @ BayesianOptimization C:\\Users\\david\\.juliapro\\JuliaPro_v1.4.0-1\\packages\\BayesianOptimization\\poykT\\src\\BayesianOptimization.jl:140\n",
      "┌ Info: 2021-01-12T10:49:51.124\titeration: 63\tcurrent optimum: 2566.670687328805\n",
      "└ @ BayesianOptimization C:\\Users\\david\\.juliapro\\JuliaPro_v1.4.0-1\\packages\\BayesianOptimization\\poykT\\src\\BayesianOptimization.jl:140\n",
      "┌ Info: 2021-01-12T10:49:51.141\titeration: 64\tcurrent optimum: 2566.670687328805\n",
      "└ @ BayesianOptimization C:\\Users\\david\\.juliapro\\JuliaPro_v1.4.0-1\\packages\\BayesianOptimization\\poykT\\src\\BayesianOptimization.jl:140\n",
      "┌ Info: 2021-01-12T10:49:51.156\titeration: 65\tcurrent optimum: 2566.670687328805\n",
      "└ @ BayesianOptimization C:\\Users\\david\\.juliapro\\JuliaPro_v1.4.0-1\\packages\\BayesianOptimization\\poykT\\src\\BayesianOptimization.jl:140\n",
      "┌ Info: 2021-01-12T10:49:51.172\titeration: 66\tcurrent optimum: 2566.670687328805\n",
      "└ @ BayesianOptimization C:\\Users\\david\\.juliapro\\JuliaPro_v1.4.0-1\\packages\\BayesianOptimization\\poykT\\src\\BayesianOptimization.jl:140\n",
      "┌ Info: 2021-01-12T10:49:51.189\titeration: 67\tcurrent optimum: 2566.670687328805\n",
      "└ @ BayesianOptimization C:\\Users\\david\\.juliapro\\JuliaPro_v1.4.0-1\\packages\\BayesianOptimization\\poykT\\src\\BayesianOptimization.jl:140\n",
      "┌ Info: 2021-01-12T10:49:51.205\titeration: 68\tcurrent optimum: 2566.670687328805\n",
      "└ @ BayesianOptimization C:\\Users\\david\\.juliapro\\JuliaPro_v1.4.0-1\\packages\\BayesianOptimization\\poykT\\src\\BayesianOptimization.jl:140\n",
      "┌ Info: 2021-01-12T10:49:51.221\titeration: 69\tcurrent optimum: 2566.670687328805\n",
      "└ @ BayesianOptimization C:\\Users\\david\\.juliapro\\JuliaPro_v1.4.0-1\\packages\\BayesianOptimization\\poykT\\src\\BayesianOptimization.jl:140\n",
      "┌ Info: 2021-01-12T10:49:51.237\titeration: 70\tcurrent optimum: 2566.670687328805\n",
      "└ @ BayesianOptimization C:\\Users\\david\\.juliapro\\JuliaPro_v1.4.0-1\\packages\\BayesianOptimization\\poykT\\src\\BayesianOptimization.jl:140\n",
      "┌ Info: 2021-01-12T10:49:51.254\titeration: 71\tcurrent optimum: 2566.670687328805\n",
      "└ @ BayesianOptimization C:\\Users\\david\\.juliapro\\JuliaPro_v1.4.0-1\\packages\\BayesianOptimization\\poykT\\src\\BayesianOptimization.jl:140\n",
      "┌ Info: 2021-01-12T10:49:51.269\titeration: 72\tcurrent optimum: 2566.670687328805\n",
      "└ @ BayesianOptimization C:\\Users\\david\\.juliapro\\JuliaPro_v1.4.0-1\\packages\\BayesianOptimization\\poykT\\src\\BayesianOptimization.jl:140\n",
      "┌ Info: 2021-01-12T10:49:51.286\titeration: 73\tcurrent optimum: 2566.670687328805\n",
      "└ @ BayesianOptimization C:\\Users\\david\\.juliapro\\JuliaPro_v1.4.0-1\\packages\\BayesianOptimization\\poykT\\src\\BayesianOptimization.jl:140\n",
      "┌ Info: 2021-01-12T10:49:51.302\titeration: 74\tcurrent optimum: 2566.670687328805\n",
      "└ @ BayesianOptimization C:\\Users\\david\\.juliapro\\JuliaPro_v1.4.0-1\\packages\\BayesianOptimization\\poykT\\src\\BayesianOptimization.jl:140\n",
      "┌ Info: 2021-01-12T10:49:51.317\titeration: 75\tcurrent optimum: 2566.670687328805\n",
      "└ @ BayesianOptimization C:\\Users\\david\\.juliapro\\JuliaPro_v1.4.0-1\\packages\\BayesianOptimization\\poykT\\src\\BayesianOptimization.jl:140\n",
      "┌ Info: 2021-01-12T10:49:51.334\titeration: 76\tcurrent optimum: 2566.670687328805\n",
      "└ @ BayesianOptimization C:\\Users\\david\\.juliapro\\JuliaPro_v1.4.0-1\\packages\\BayesianOptimization\\poykT\\src\\BayesianOptimization.jl:140\n",
      "┌ Info: 2021-01-12T10:49:51.351\titeration: 77\tcurrent optimum: 2566.670687328805\n",
      "└ @ BayesianOptimization C:\\Users\\david\\.juliapro\\JuliaPro_v1.4.0-1\\packages\\BayesianOptimization\\poykT\\src\\BayesianOptimization.jl:140\n",
      "┌ Info: 2021-01-12T10:49:51.369\titeration: 78\tcurrent optimum: 2566.670687328805\n",
      "└ @ BayesianOptimization C:\\Users\\david\\.juliapro\\JuliaPro_v1.4.0-1\\packages\\BayesianOptimization\\poykT\\src\\BayesianOptimization.jl:140\n",
      "┌ Info: 2021-01-12T10:49:51.385\titeration: 79\tcurrent optimum: 2566.670687328805\n",
      "└ @ BayesianOptimization C:\\Users\\david\\.juliapro\\JuliaPro_v1.4.0-1\\packages\\BayesianOptimization\\poykT\\src\\BayesianOptimization.jl:140\n",
      "┌ Info: 2021-01-12T10:49:51.4\titeration: 80\tcurrent optimum: 2566.670687328805\n",
      "└ @ BayesianOptimization C:\\Users\\david\\.juliapro\\JuliaPro_v1.4.0-1\\packages\\BayesianOptimization\\poykT\\src\\BayesianOptimization.jl:140\n",
      "┌ Info: 2021-01-12T10:49:51.415\titeration: 81\tcurrent optimum: 2566.670687328805\n",
      "└ @ BayesianOptimization C:\\Users\\david\\.juliapro\\JuliaPro_v1.4.0-1\\packages\\BayesianOptimization\\poykT\\src\\BayesianOptimization.jl:140\n",
      "┌ Info: 2021-01-12T10:49:51.432\titeration: 82\tcurrent optimum: 2566.670687328805\n",
      "└ @ BayesianOptimization C:\\Users\\david\\.juliapro\\JuliaPro_v1.4.0-1\\packages\\BayesianOptimization\\poykT\\src\\BayesianOptimization.jl:140\n",
      "┌ Info: 2021-01-12T10:49:51.447\titeration: 83\tcurrent optimum: 2566.670687328805\n",
      "└ @ BayesianOptimization C:\\Users\\david\\.juliapro\\JuliaPro_v1.4.0-1\\packages\\BayesianOptimization\\poykT\\src\\BayesianOptimization.jl:140\n",
      "┌ Info: 2021-01-12T10:49:51.464\titeration: 84\tcurrent optimum: 2566.670687328805\n",
      "└ @ BayesianOptimization C:\\Users\\david\\.juliapro\\JuliaPro_v1.4.0-1\\packages\\BayesianOptimization\\poykT\\src\\BayesianOptimization.jl:140\n",
      "┌ Info: 2021-01-12T10:49:51.481\titeration: 85\tcurrent optimum: 2566.670687328805\n",
      "└ @ BayesianOptimization C:\\Users\\david\\.juliapro\\JuliaPro_v1.4.0-1\\packages\\BayesianOptimization\\poykT\\src\\BayesianOptimization.jl:140\n",
      "┌ Info: 2021-01-12T10:49:51.508\titeration: 86\tcurrent optimum: 2566.670687328805\n",
      "└ @ BayesianOptimization C:\\Users\\david\\.juliapro\\JuliaPro_v1.4.0-1\\packages\\BayesianOptimization\\poykT\\src\\BayesianOptimization.jl:140\n",
      "┌ Info: 2021-01-12T10:49:51.525\titeration: 87\tcurrent optimum: 2566.670687328805\n",
      "└ @ BayesianOptimization C:\\Users\\david\\.juliapro\\JuliaPro_v1.4.0-1\\packages\\BayesianOptimization\\poykT\\src\\BayesianOptimization.jl:140\n"
     ]
    },
    {
     "name": "stderr",
     "output_type": "stream",
     "text": [
      "┌ Info: 2021-01-12T10:49:51.541\titeration: 88\tcurrent optimum: 2566.670687328805\n",
      "└ @ BayesianOptimization C:\\Users\\david\\.juliapro\\JuliaPro_v1.4.0-1\\packages\\BayesianOptimization\\poykT\\src\\BayesianOptimization.jl:140\n",
      "┌ Info: 2021-01-12T10:49:51.557\titeration: 89\tcurrent optimum: 2566.670687328805\n",
      "└ @ BayesianOptimization C:\\Users\\david\\.juliapro\\JuliaPro_v1.4.0-1\\packages\\BayesianOptimization\\poykT\\src\\BayesianOptimization.jl:140\n",
      "┌ Info: 2021-01-12T10:49:51.574\titeration: 90\tcurrent optimum: 2566.670687328805\n",
      "└ @ BayesianOptimization C:\\Users\\david\\.juliapro\\JuliaPro_v1.4.0-1\\packages\\BayesianOptimization\\poykT\\src\\BayesianOptimization.jl:140\n",
      "┌ Info: 2021-01-12T10:49:51.59\titeration: 91\tcurrent optimum: 2566.670687328805\n",
      "└ @ BayesianOptimization C:\\Users\\david\\.juliapro\\JuliaPro_v1.4.0-1\\packages\\BayesianOptimization\\poykT\\src\\BayesianOptimization.jl:140\n",
      "┌ Info: 2021-01-12T10:49:51.607\titeration: 92\tcurrent optimum: 2566.670687328805\n",
      "└ @ BayesianOptimization C:\\Users\\david\\.juliapro\\JuliaPro_v1.4.0-1\\packages\\BayesianOptimization\\poykT\\src\\BayesianOptimization.jl:140\n",
      "┌ Info: 2021-01-12T10:49:51.625\titeration: 93\tcurrent optimum: 2566.670687328805\n",
      "└ @ BayesianOptimization C:\\Users\\david\\.juliapro\\JuliaPro_v1.4.0-1\\packages\\BayesianOptimization\\poykT\\src\\BayesianOptimization.jl:140\n",
      "┌ Info: 2021-01-12T10:49:51.642\titeration: 94\tcurrent optimum: 2566.670687328805\n",
      "└ @ BayesianOptimization C:\\Users\\david\\.juliapro\\JuliaPro_v1.4.0-1\\packages\\BayesianOptimization\\poykT\\src\\BayesianOptimization.jl:140\n",
      "┌ Info: 2021-01-12T10:49:51.926\titeration: 95\tcurrent optimum: 2566.670687328805\n",
      "└ @ BayesianOptimization C:\\Users\\david\\.juliapro\\JuliaPro_v1.4.0-1\\packages\\BayesianOptimization\\poykT\\src\\BayesianOptimization.jl:140\n",
      "┌ Info: 2021-01-12T10:49:51.941\titeration: 96\tcurrent optimum: 2566.670687328805\n",
      "└ @ BayesianOptimization C:\\Users\\david\\.juliapro\\JuliaPro_v1.4.0-1\\packages\\BayesianOptimization\\poykT\\src\\BayesianOptimization.jl:140\n",
      "┌ Info: 2021-01-12T10:49:51.956\titeration: 97\tcurrent optimum: 2566.670687328805\n",
      "└ @ BayesianOptimization C:\\Users\\david\\.juliapro\\JuliaPro_v1.4.0-1\\packages\\BayesianOptimization\\poykT\\src\\BayesianOptimization.jl:140\n",
      "┌ Info: 2021-01-12T10:49:51.97\titeration: 98\tcurrent optimum: 2566.670687328805\n",
      "└ @ BayesianOptimization C:\\Users\\david\\.juliapro\\JuliaPro_v1.4.0-1\\packages\\BayesianOptimization\\poykT\\src\\BayesianOptimization.jl:140\n",
      "┌ Info: 2021-01-12T10:49:51.985\titeration: 99\tcurrent optimum: 2566.670687328805\n",
      "└ @ BayesianOptimization C:\\Users\\david\\.juliapro\\JuliaPro_v1.4.0-1\\packages\\BayesianOptimization\\poykT\\src\\BayesianOptimization.jl:140\n",
      "┌ Info: 2021-01-12T10:49:51.999\titeration: 100\tcurrent optimum: 2566.670687328805\n",
      "└ @ BayesianOptimization C:\\Users\\david\\.juliapro\\JuliaPro_v1.4.0-1\\packages\\BayesianOptimization\\poykT\\src\\BayesianOptimization.jl:140\n",
      "┌ Info: 2021-01-12T10:49:52.014\titeration: 101\tcurrent optimum: 2566.670687328805\n",
      "└ @ BayesianOptimization C:\\Users\\david\\.juliapro\\JuliaPro_v1.4.0-1\\packages\\BayesianOptimization\\poykT\\src\\BayesianOptimization.jl:140\n",
      "┌ Info: 2021-01-12T10:49:52.03\titeration: 102\tcurrent optimum: 2566.670687328805\n",
      "└ @ BayesianOptimization C:\\Users\\david\\.juliapro\\JuliaPro_v1.4.0-1\\packages\\BayesianOptimization\\poykT\\src\\BayesianOptimization.jl:140\n",
      "┌ Info: 2021-01-12T10:49:52.045\titeration: 103\tcurrent optimum: 2566.670687328805\n",
      "└ @ BayesianOptimization C:\\Users\\david\\.juliapro\\JuliaPro_v1.4.0-1\\packages\\BayesianOptimization\\poykT\\src\\BayesianOptimization.jl:140\n",
      "┌ Info: 2021-01-12T10:49:52.061\titeration: 104\tcurrent optimum: 2566.670687328805\n",
      "└ @ BayesianOptimization C:\\Users\\david\\.juliapro\\JuliaPro_v1.4.0-1\\packages\\BayesianOptimization\\poykT\\src\\BayesianOptimization.jl:140\n",
      "┌ Info: 2021-01-12T10:49:52.076\titeration: 105\tcurrent optimum: 2566.670687328805\n",
      "└ @ BayesianOptimization C:\\Users\\david\\.juliapro\\JuliaPro_v1.4.0-1\\packages\\BayesianOptimization\\poykT\\src\\BayesianOptimization.jl:140\n",
      "┌ Info: 2021-01-12T10:49:52.092\titeration: 106\tcurrent optimum: 2566.670687328805\n",
      "└ @ BayesianOptimization C:\\Users\\david\\.juliapro\\JuliaPro_v1.4.0-1\\packages\\BayesianOptimization\\poykT\\src\\BayesianOptimization.jl:140\n",
      "┌ Info: 2021-01-12T10:49:52.107\titeration: 107\tcurrent optimum: 2566.670687328805\n",
      "└ @ BayesianOptimization C:\\Users\\david\\.juliapro\\JuliaPro_v1.4.0-1\\packages\\BayesianOptimization\\poykT\\src\\BayesianOptimization.jl:140\n",
      "┌ Info: 2021-01-12T10:49:52.122\titeration: 108\tcurrent optimum: 2566.670687328805\n",
      "└ @ BayesianOptimization C:\\Users\\david\\.juliapro\\JuliaPro_v1.4.0-1\\packages\\BayesianOptimization\\poykT\\src\\BayesianOptimization.jl:140\n",
      "┌ Info: 2021-01-12T10:49:52.137\titeration: 109\tcurrent optimum: 2566.670687328805\n",
      "└ @ BayesianOptimization C:\\Users\\david\\.juliapro\\JuliaPro_v1.4.0-1\\packages\\BayesianOptimization\\poykT\\src\\BayesianOptimization.jl:140\n",
      "┌ Info: 2021-01-12T10:49:52.199\titeration: 110\tcurrent optimum: 2566.670687328805\n",
      "└ @ BayesianOptimization C:\\Users\\david\\.juliapro\\JuliaPro_v1.4.0-1\\packages\\BayesianOptimization\\poykT\\src\\BayesianOptimization.jl:140\n",
      "┌ Info: 2021-01-12T10:49:52.212\titeration: 111\tcurrent optimum: 2566.670687328805\n",
      "└ @ BayesianOptimization C:\\Users\\david\\.juliapro\\JuliaPro_v1.4.0-1\\packages\\BayesianOptimization\\poykT\\src\\BayesianOptimization.jl:140\n",
      "┌ Info: 2021-01-12T10:49:52.228\titeration: 112\tcurrent optimum: 2566.670687328805\n",
      "└ @ BayesianOptimization C:\\Users\\david\\.juliapro\\JuliaPro_v1.4.0-1\\packages\\BayesianOptimization\\poykT\\src\\BayesianOptimization.jl:140\n",
      "┌ Info: 2021-01-12T10:49:52.253\titeration: 113\tcurrent optimum: 2566.670687328805\n",
      "└ @ BayesianOptimization C:\\Users\\david\\.juliapro\\JuliaPro_v1.4.0-1\\packages\\BayesianOptimization\\poykT\\src\\BayesianOptimization.jl:140\n",
      "┌ Info: 2021-01-12T10:49:52.269\titeration: 114\tcurrent optimum: 2566.670687328805\n",
      "└ @ BayesianOptimization C:\\Users\\david\\.juliapro\\JuliaPro_v1.4.0-1\\packages\\BayesianOptimization\\poykT\\src\\BayesianOptimization.jl:140\n",
      "┌ Info: 2021-01-12T10:49:52.285\titeration: 115\tcurrent optimum: 2566.670687328805\n",
      "└ @ BayesianOptimization C:\\Users\\david\\.juliapro\\JuliaPro_v1.4.0-1\\packages\\BayesianOptimization\\poykT\\src\\BayesianOptimization.jl:140\n",
      "┌ Info: 2021-01-12T10:49:52.3\titeration: 116\tcurrent optimum: 2566.670687328805\n",
      "└ @ BayesianOptimization C:\\Users\\david\\.juliapro\\JuliaPro_v1.4.0-1\\packages\\BayesianOptimization\\poykT\\src\\BayesianOptimization.jl:140\n",
      "┌ Info: 2021-01-12T10:49:52.316\titeration: 117\tcurrent optimum: 2566.670687328805\n",
      "└ @ BayesianOptimization C:\\Users\\david\\.juliapro\\JuliaPro_v1.4.0-1\\packages\\BayesianOptimization\\poykT\\src\\BayesianOptimization.jl:140\n",
      "┌ Info: 2021-01-12T10:49:52.332\titeration: 118\tcurrent optimum: 2566.670687328805\n",
      "└ @ BayesianOptimization C:\\Users\\david\\.juliapro\\JuliaPro_v1.4.0-1\\packages\\BayesianOptimization\\poykT\\src\\BayesianOptimization.jl:140\n",
      "┌ Info: 2021-01-12T10:49:52.349\titeration: 119\tcurrent optimum: 2566.670687328805\n",
      "└ @ BayesianOptimization C:\\Users\\david\\.juliapro\\JuliaPro_v1.4.0-1\\packages\\BayesianOptimization\\poykT\\src\\BayesianOptimization.jl:140\n",
      "┌ Info: 2021-01-12T10:49:52.364\titeration: 120\tcurrent optimum: 2566.670687328805\n",
      "└ @ BayesianOptimization C:\\Users\\david\\.juliapro\\JuliaPro_v1.4.0-1\\packages\\BayesianOptimization\\poykT\\src\\BayesianOptimization.jl:140\n",
      "┌ Info: 2021-01-12T10:49:52.391\titeration: 121\tcurrent optimum: 2566.670687328805\n",
      "└ @ BayesianOptimization C:\\Users\\david\\.juliapro\\JuliaPro_v1.4.0-1\\packages\\BayesianOptimization\\poykT\\src\\BayesianOptimization.jl:140\n",
      "┌ Info: 2021-01-12T10:49:52.406\titeration: 122\tcurrent optimum: 2566.670687328805\n",
      "└ @ BayesianOptimization C:\\Users\\david\\.juliapro\\JuliaPro_v1.4.0-1\\packages\\BayesianOptimization\\poykT\\src\\BayesianOptimization.jl:140\n",
      "┌ Info: 2021-01-12T10:49:52.422\titeration: 123\tcurrent optimum: 2566.670687328805\n",
      "└ @ BayesianOptimization C:\\Users\\david\\.juliapro\\JuliaPro_v1.4.0-1\\packages\\BayesianOptimization\\poykT\\src\\BayesianOptimization.jl:140\n",
      "┌ Info: 2021-01-12T10:49:52.438\titeration: 124\tcurrent optimum: 2566.670687328805\n",
      "└ @ BayesianOptimization C:\\Users\\david\\.juliapro\\JuliaPro_v1.4.0-1\\packages\\BayesianOptimization\\poykT\\src\\BayesianOptimization.jl:140\n",
      "┌ Info: 2021-01-12T10:49:52.453\titeration: 125\tcurrent optimum: 2566.670687328805\n",
      "└ @ BayesianOptimization C:\\Users\\david\\.juliapro\\JuliaPro_v1.4.0-1\\packages\\BayesianOptimization\\poykT\\src\\BayesianOptimization.jl:140\n",
      "┌ Info: 2021-01-12T10:49:52.469\titeration: 126\tcurrent optimum: 2566.670687328805\n",
      "└ @ BayesianOptimization C:\\Users\\david\\.juliapro\\JuliaPro_v1.4.0-1\\packages\\BayesianOptimization\\poykT\\src\\BayesianOptimization.jl:140\n",
      "┌ Info: 2021-01-12T10:49:52.495\titeration: 127\tcurrent optimum: 2566.670687328805\n",
      "└ @ BayesianOptimization C:\\Users\\david\\.juliapro\\JuliaPro_v1.4.0-1\\packages\\BayesianOptimization\\poykT\\src\\BayesianOptimization.jl:140\n",
      "┌ Info: 2021-01-12T10:49:52.509\titeration: 128\tcurrent optimum: 2566.670687328805\n",
      "└ @ BayesianOptimization C:\\Users\\david\\.juliapro\\JuliaPro_v1.4.0-1\\packages\\BayesianOptimization\\poykT\\src\\BayesianOptimization.jl:140\n",
      "┌ Info: 2021-01-12T10:49:52.524\titeration: 129\tcurrent optimum: 2566.670687328805\n",
      "└ @ BayesianOptimization C:\\Users\\david\\.juliapro\\JuliaPro_v1.4.0-1\\packages\\BayesianOptimization\\poykT\\src\\BayesianOptimization.jl:140\n"
     ]
    },
    {
     "name": "stderr",
     "output_type": "stream",
     "text": [
      "┌ Info: 2021-01-12T10:49:52.539\titeration: 130\tcurrent optimum: 2566.670687328805\n",
      "└ @ BayesianOptimization C:\\Users\\david\\.juliapro\\JuliaPro_v1.4.0-1\\packages\\BayesianOptimization\\poykT\\src\\BayesianOptimization.jl:140\n",
      "┌ Info: 2021-01-12T10:49:52.553\titeration: 131\tcurrent optimum: 2566.670687328805\n",
      "└ @ BayesianOptimization C:\\Users\\david\\.juliapro\\JuliaPro_v1.4.0-1\\packages\\BayesianOptimization\\poykT\\src\\BayesianOptimization.jl:140\n",
      "┌ Info: 2021-01-12T10:49:52.569\titeration: 132\tcurrent optimum: 2566.670687328805\n",
      "└ @ BayesianOptimization C:\\Users\\david\\.juliapro\\JuliaPro_v1.4.0-1\\packages\\BayesianOptimization\\poykT\\src\\BayesianOptimization.jl:140\n",
      "┌ Info: 2021-01-12T10:49:52.585\titeration: 133\tcurrent optimum: 2566.670687328805\n",
      "└ @ BayesianOptimization C:\\Users\\david\\.juliapro\\JuliaPro_v1.4.0-1\\packages\\BayesianOptimization\\poykT\\src\\BayesianOptimization.jl:140\n",
      "┌ Info: 2021-01-12T10:49:52.611\titeration: 134\tcurrent optimum: 2566.670687328805\n",
      "└ @ BayesianOptimization C:\\Users\\david\\.juliapro\\JuliaPro_v1.4.0-1\\packages\\BayesianOptimization\\poykT\\src\\BayesianOptimization.jl:140\n",
      "┌ Info: 2021-01-12T10:49:52.626\titeration: 135\tcurrent optimum: 2566.670687328805\n",
      "└ @ BayesianOptimization C:\\Users\\david\\.juliapro\\JuliaPro_v1.4.0-1\\packages\\BayesianOptimization\\poykT\\src\\BayesianOptimization.jl:140\n",
      "┌ Info: 2021-01-12T10:49:52.642\titeration: 136\tcurrent optimum: 2566.670687328805\n",
      "└ @ BayesianOptimization C:\\Users\\david\\.juliapro\\JuliaPro_v1.4.0-1\\packages\\BayesianOptimization\\poykT\\src\\BayesianOptimization.jl:140\n",
      "┌ Info: 2021-01-12T10:49:52.659\titeration: 137\tcurrent optimum: 2566.670687328805\n",
      "└ @ BayesianOptimization C:\\Users\\david\\.juliapro\\JuliaPro_v1.4.0-1\\packages\\BayesianOptimization\\poykT\\src\\BayesianOptimization.jl:140\n",
      "┌ Info: 2021-01-12T10:49:52.675\titeration: 138\tcurrent optimum: 2566.670687328805\n",
      "└ @ BayesianOptimization C:\\Users\\david\\.juliapro\\JuliaPro_v1.4.0-1\\packages\\BayesianOptimization\\poykT\\src\\BayesianOptimization.jl:140\n",
      "┌ Info: 2021-01-12T10:49:52.69\titeration: 139\tcurrent optimum: 2566.670687328805\n",
      "└ @ BayesianOptimization C:\\Users\\david\\.juliapro\\JuliaPro_v1.4.0-1\\packages\\BayesianOptimization\\poykT\\src\\BayesianOptimization.jl:140\n",
      "┌ Info: 2021-01-12T10:49:52.706\titeration: 140\tcurrent optimum: 2566.670687328805\n",
      "└ @ BayesianOptimization C:\\Users\\david\\.juliapro\\JuliaPro_v1.4.0-1\\packages\\BayesianOptimization\\poykT\\src\\BayesianOptimization.jl:140\n",
      "┌ Info: 2021-01-12T10:49:52.722\titeration: 141\tcurrent optimum: 2566.670687328805\n",
      "└ @ BayesianOptimization C:\\Users\\david\\.juliapro\\JuliaPro_v1.4.0-1\\packages\\BayesianOptimization\\poykT\\src\\BayesianOptimization.jl:140\n",
      "┌ Info: 2021-01-12T10:49:52.739\titeration: 142\tcurrent optimum: 2566.670687328805\n",
      "└ @ BayesianOptimization C:\\Users\\david\\.juliapro\\JuliaPro_v1.4.0-1\\packages\\BayesianOptimization\\poykT\\src\\BayesianOptimization.jl:140\n",
      "┌ Info: 2021-01-12T10:49:52.754\titeration: 143\tcurrent optimum: 2566.670687328805\n",
      "└ @ BayesianOptimization C:\\Users\\david\\.juliapro\\JuliaPro_v1.4.0-1\\packages\\BayesianOptimization\\poykT\\src\\BayesianOptimization.jl:140\n",
      "┌ Info: 2021-01-12T10:49:52.77\titeration: 144\tcurrent optimum: 2566.670687328805\n",
      "└ @ BayesianOptimization C:\\Users\\david\\.juliapro\\JuliaPro_v1.4.0-1\\packages\\BayesianOptimization\\poykT\\src\\BayesianOptimization.jl:140\n",
      "┌ Info: 2021-01-12T10:49:52.788\titeration: 145\tcurrent optimum: 2566.670687328805\n",
      "└ @ BayesianOptimization C:\\Users\\david\\.juliapro\\JuliaPro_v1.4.0-1\\packages\\BayesianOptimization\\poykT\\src\\BayesianOptimization.jl:140\n",
      "┌ Info: 2021-01-12T10:49:52.804\titeration: 146\tcurrent optimum: 2566.670687328805\n",
      "└ @ BayesianOptimization C:\\Users\\david\\.juliapro\\JuliaPro_v1.4.0-1\\packages\\BayesianOptimization\\poykT\\src\\BayesianOptimization.jl:140\n",
      "┌ Info: 2021-01-12T10:49:52.821\titeration: 147\tcurrent optimum: 2566.670687328805\n",
      "└ @ BayesianOptimization C:\\Users\\david\\.juliapro\\JuliaPro_v1.4.0-1\\packages\\BayesianOptimization\\poykT\\src\\BayesianOptimization.jl:140\n",
      "┌ Info: 2021-01-12T10:49:52.839\titeration: 148\tcurrent optimum: 2566.670687328805\n",
      "└ @ BayesianOptimization C:\\Users\\david\\.juliapro\\JuliaPro_v1.4.0-1\\packages\\BayesianOptimization\\poykT\\src\\BayesianOptimization.jl:140\n",
      "┌ Info: 2021-01-12T10:49:52.855\titeration: 149\tcurrent optimum: 2566.670687328805\n",
      "└ @ BayesianOptimization C:\\Users\\david\\.juliapro\\JuliaPro_v1.4.0-1\\packages\\BayesianOptimization\\poykT\\src\\BayesianOptimization.jl:140\n",
      "┌ Info:  ──────────────────────────────────────────────────────────────────────────────\n",
      "│                                        Time                   Allocations      \n",
      "│                                ──────────────────────   ───────────────────────\n",
      "│        Tot / % measured:            5.69s / 98.1%           1.06GiB / 100%     \n",
      "│ \n",
      "│  Section               ncalls     time   %tot     avg     alloc   %tot      avg\n",
      "│  ──────────────────────────────────────────────────────────────────────────────\n",
      "│  function evaluation      150    5.00s  89.6%  33.4ms    904MiB  83.5%  6.03MiB\n",
      "│  acquisition              141    500ms  8.96%  3.55ms    171MiB  15.8%  1.21MiB\n",
      "│  model hyperparamet...    141   74.0ms  1.33%   525μs   6.03MiB  0.56%  43.8KiB\n",
      "│  model update             141   5.86ms  0.10%  41.5μs   1.19MiB  0.11%  8.67KiB\n",
      "│  ──────────────────────────────────────────────────────────────────────────────\n",
      "└ @ BayesianOptimization C:\\Users\\david\\.juliapro\\JuliaPro_v1.4.0-1\\packages\\BayesianOptimization\\poykT\\src\\BayesianOptimization.jl:154\n"
     ]
    },
    {
     "name": "stdout",
     "output_type": "stream",
     "text": [
      "\n",
      "----------------------------------------- RESULTS -----------------------------------------\n",
      "OED for Model Calibration results are saved in the directory: \n",
      "                 E:\\UNI\\D_Drive\\PhD\\JULIAlang\\Generalisation_PLacExample\\Examples\\Results\\PLacExample_2021-01-12\n",
      "Under the name OEDModelCalibrationResults_testOEDMS2.jld\n",
      "--------------------------------------------------------------------------------------\n",
      "\n",
      "\n",
      "----------------------------------------- PLOTS -----------------------------------------\n",
      "PLOTS are saved in the directory: \n",
      "                 E:\\UNI\\D_Drive\\PhD\\JULIAlang\\Generalisation_PLacExample\\Examples\\Results\\PLacExample_2021-01-12\n",
      "Under the names PlotOEDMCResults_Exp1_testOEDMS2.png and Plot_OEDMCConvergence_testOEDMS2.png\n",
      "--------------------------------------------------------------------------------------\n",
      "\n"
     ]
    }
   ],
   "source": [
    "oedmc_res2, oedmc_def2 = mainOEDMC(oedmc_def2);"
   ]
  },
  {
   "cell_type": "markdown",
   "metadata": {},
   "source": [
    "### Now, let's have a look at the plots generated\n",
    "First, the convergence curve <br>\n",
    "Note that to reduce the computational time of the example we used a really low number of iterations, so do not be surprised if the results do not look good."
   ]
  },
  {
   "cell_type": "code",
   "execution_count": 26,
   "metadata": {},
   "outputs": [
    {
     "data": {
      "image/png": "[encoded data removed]",
      "text/plain": [
       "400×600 Array{RGB{N0f8},2} with eltype RGB{Normed{UInt8,8}}:\n",
       " RGB{N0f8}(1.0,1.0,1.0)  RGB{N0f8}(1.0,1.0,1.0)  …  RGB{N0f8}(1.0,1.0,1.0)\n",
       " RGB{N0f8}(1.0,1.0,1.0)  RGB{N0f8}(1.0,1.0,1.0)     RGB{N0f8}(1.0,1.0,1.0)\n",
       " RGB{N0f8}(1.0,1.0,1.0)  RGB{N0f8}(1.0,1.0,1.0)     RGB{N0f8}(1.0,1.0,1.0)\n",
       " RGB{N0f8}(1.0,1.0,1.0)  RGB{N0f8}(1.0,1.0,1.0)     RGB{N0f8}(1.0,1.0,1.0)\n",
       " RGB{N0f8}(1.0,1.0,1.0)  RGB{N0f8}(1.0,1.0,1.0)     RGB{N0f8}(1.0,1.0,1.0)\n",
       " RGB{N0f8}(1.0,1.0,1.0)  RGB{N0f8}(1.0,1.0,1.0)  …  RGB{N0f8}(1.0,1.0,1.0)\n",
       " RGB{N0f8}(1.0,1.0,1.0)  RGB{N0f8}(1.0,1.0,1.0)     RGB{N0f8}(1.0,1.0,1.0)\n",
       " RGB{N0f8}(1.0,1.0,1.0)  RGB{N0f8}(1.0,1.0,1.0)     RGB{N0f8}(1.0,1.0,1.0)\n",
       " RGB{N0f8}(1.0,1.0,1.0)  RGB{N0f8}(1.0,1.0,1.0)     RGB{N0f8}(1.0,1.0,1.0)\n",
       " RGB{N0f8}(1.0,1.0,1.0)  RGB{N0f8}(1.0,1.0,1.0)     RGB{N0f8}(1.0,1.0,1.0)\n",
       " RGB{N0f8}(1.0,1.0,1.0)  RGB{N0f8}(1.0,1.0,1.0)  …  RGB{N0f8}(1.0,1.0,1.0)\n",
       " RGB{N0f8}(1.0,1.0,1.0)  RGB{N0f8}(1.0,1.0,1.0)     RGB{N0f8}(1.0,1.0,1.0)\n",
       " RGB{N0f8}(1.0,1.0,1.0)  RGB{N0f8}(1.0,1.0,1.0)     RGB{N0f8}(1.0,1.0,1.0)\n",
       " ⋮                                               ⋱  \n",
       " RGB{N0f8}(1.0,1.0,1.0)  RGB{N0f8}(1.0,1.0,1.0)     RGB{N0f8}(1.0,1.0,1.0)\n",
       " RGB{N0f8}(1.0,1.0,1.0)  RGB{N0f8}(1.0,1.0,1.0)     RGB{N0f8}(1.0,1.0,1.0)\n",
       " RGB{N0f8}(1.0,1.0,1.0)  RGB{N0f8}(1.0,1.0,1.0)  …  RGB{N0f8}(1.0,1.0,1.0)\n",
       " RGB{N0f8}(1.0,1.0,1.0)  RGB{N0f8}(1.0,1.0,1.0)     RGB{N0f8}(1.0,1.0,1.0)\n",
       " RGB{N0f8}(1.0,1.0,1.0)  RGB{N0f8}(1.0,1.0,1.0)     RGB{N0f8}(1.0,1.0,1.0)\n",
       " RGB{N0f8}(1.0,1.0,1.0)  RGB{N0f8}(1.0,1.0,1.0)     RGB{N0f8}(1.0,1.0,1.0)\n",
       " RGB{N0f8}(1.0,1.0,1.0)  RGB{N0f8}(1.0,1.0,1.0)     RGB{N0f8}(1.0,1.0,1.0)\n",
       " RGB{N0f8}(1.0,1.0,1.0)  RGB{N0f8}(1.0,1.0,1.0)  …  RGB{N0f8}(1.0,1.0,1.0)\n",
       " RGB{N0f8}(1.0,1.0,1.0)  RGB{N0f8}(1.0,1.0,1.0)     RGB{N0f8}(1.0,1.0,1.0)\n",
       " RGB{N0f8}(1.0,1.0,1.0)  RGB{N0f8}(1.0,1.0,1.0)     RGB{N0f8}(1.0,1.0,1.0)\n",
       " RGB{N0f8}(1.0,1.0,1.0)  RGB{N0f8}(1.0,1.0,1.0)     RGB{N0f8}(1.0,1.0,1.0)\n",
       " RGB{N0f8}(1.0,1.0,1.0)  RGB{N0f8}(1.0,1.0,1.0)     RGB{N0f8}(1.0,1.0,1.0)"
      ]
     },
     "execution_count": 26,
     "metadata": {},
     "output_type": "execute_result"
    }
   ],
   "source": [
    "# Note that none of the curves are at convergence due to the low time allowed for the optimisation. \n",
    "CC2 = load(string(oedmc_def2[\"savepath\"], \"\\\\Plot_OEDMCConvergence_\",oedmc_def2[\"flag\"],\".png\"))"
   ]
  },
  {
   "cell_type": "markdown",
   "metadata": {},
   "source": [
    "And now the experiment simualtions"
   ]
  },
  {
   "cell_type": "code",
   "execution_count": 27,
   "metadata": {},
   "outputs": [
    {
     "data": {
      "image/png": "[encoded data removed]",
      "text/plain": [
       "1200×2000 Array{RGB{N0f8},2} with eltype RGB{Normed{UInt8,8}}:\n",
       " RGB{N0f8}(1.0,1.0,1.0)  RGB{N0f8}(1.0,1.0,1.0)  …  RGB{N0f8}(1.0,1.0,1.0)\n",
       " RGB{N0f8}(1.0,1.0,1.0)  RGB{N0f8}(1.0,1.0,1.0)     RGB{N0f8}(1.0,1.0,1.0)\n",
       " RGB{N0f8}(1.0,1.0,1.0)  RGB{N0f8}(1.0,1.0,1.0)     RGB{N0f8}(1.0,1.0,1.0)\n",
       " RGB{N0f8}(1.0,1.0,1.0)  RGB{N0f8}(1.0,1.0,1.0)     RGB{N0f8}(1.0,1.0,1.0)\n",
       " RGB{N0f8}(1.0,1.0,1.0)  RGB{N0f8}(1.0,1.0,1.0)     RGB{N0f8}(1.0,1.0,1.0)\n",
       " RGB{N0f8}(1.0,1.0,1.0)  RGB{N0f8}(1.0,1.0,1.0)  …  RGB{N0f8}(1.0,1.0,1.0)\n",
       " RGB{N0f8}(1.0,1.0,1.0)  RGB{N0f8}(1.0,1.0,1.0)     RGB{N0f8}(1.0,1.0,1.0)\n",
       " RGB{N0f8}(1.0,1.0,1.0)  RGB{N0f8}(1.0,1.0,1.0)     RGB{N0f8}(1.0,1.0,1.0)\n",
       " RGB{N0f8}(1.0,1.0,1.0)  RGB{N0f8}(1.0,1.0,1.0)     RGB{N0f8}(1.0,1.0,1.0)\n",
       " RGB{N0f8}(1.0,1.0,1.0)  RGB{N0f8}(1.0,1.0,1.0)     RGB{N0f8}(1.0,1.0,1.0)\n",
       " RGB{N0f8}(1.0,1.0,1.0)  RGB{N0f8}(1.0,1.0,1.0)  …  RGB{N0f8}(1.0,1.0,1.0)\n",
       " RGB{N0f8}(1.0,1.0,1.0)  RGB{N0f8}(1.0,1.0,1.0)     RGB{N0f8}(1.0,1.0,1.0)\n",
       " RGB{N0f8}(1.0,1.0,1.0)  RGB{N0f8}(1.0,1.0,1.0)     RGB{N0f8}(1.0,1.0,1.0)\n",
       " ⋮                                               ⋱  \n",
       " RGB{N0f8}(1.0,1.0,1.0)  RGB{N0f8}(1.0,1.0,1.0)     RGB{N0f8}(1.0,1.0,1.0)\n",
       " RGB{N0f8}(1.0,1.0,1.0)  RGB{N0f8}(1.0,1.0,1.0)     RGB{N0f8}(1.0,1.0,1.0)\n",
       " RGB{N0f8}(1.0,1.0,1.0)  RGB{N0f8}(1.0,1.0,1.0)  …  RGB{N0f8}(1.0,1.0,1.0)\n",
       " RGB{N0f8}(1.0,1.0,1.0)  RGB{N0f8}(1.0,1.0,1.0)     RGB{N0f8}(1.0,1.0,1.0)\n",
       " RGB{N0f8}(1.0,1.0,1.0)  RGB{N0f8}(1.0,1.0,1.0)     RGB{N0f8}(1.0,1.0,1.0)\n",
       " RGB{N0f8}(1.0,1.0,1.0)  RGB{N0f8}(1.0,1.0,1.0)     RGB{N0f8}(1.0,1.0,1.0)\n",
       " RGB{N0f8}(1.0,1.0,1.0)  RGB{N0f8}(1.0,1.0,1.0)     RGB{N0f8}(1.0,1.0,1.0)\n",
       " RGB{N0f8}(1.0,1.0,1.0)  RGB{N0f8}(1.0,1.0,1.0)  …  RGB{N0f8}(1.0,1.0,1.0)\n",
       " RGB{N0f8}(1.0,1.0,1.0)  RGB{N0f8}(1.0,1.0,1.0)     RGB{N0f8}(1.0,1.0,1.0)\n",
       " RGB{N0f8}(1.0,1.0,1.0)  RGB{N0f8}(1.0,1.0,1.0)     RGB{N0f8}(1.0,1.0,1.0)\n",
       " RGB{N0f8}(1.0,1.0,1.0)  RGB{N0f8}(1.0,1.0,1.0)     RGB{N0f8}(1.0,1.0,1.0)\n",
       " RGB{N0f8}(1.0,1.0,1.0)  RGB{N0f8}(1.0,1.0,1.0)     RGB{N0f8}(1.0,1.0,1.0)"
      ]
     },
     "execution_count": 27,
     "metadata": {},
     "output_type": "execute_result"
    }
   ],
   "source": [
    "expMC2 = load(string(oedmc_def2[\"savepath\"], \"\\\\PlotOEDMCResults_Exp1_\",oedmc_def2[\"flag\"],\".png\"))"
   ]
  },
  {
   "cell_type": "markdown",
   "metadata": {},
   "source": [
    "### This is the end of the section. Look at the cool logo to check the package version ;) \n"
   ]
  },
  {
   "cell_type": "code",
   "execution_count": 28,
   "metadata": {},
   "outputs": [
    {
     "name": "stdout",
     "output_type": "stream",
     "text": [
      "\n",
      "                                                  *\n",
      "                                    **           * *           *                          **\n",
      "                                   * *          *   *         * *                       **  *\n",
      "                                  *  *         *    *        *  **                    **     *\n",
      "                         *       *   *  *   ***     *     ***    **                 **        *      *\n",
      "                        * *     *    * * * *         **  *         **      *      **           *    * *   ***\n",
      "                       *   *   *     **   *            **            **   * * ****              ****   ***   ***\n",
      "                   ** *     ***                                        * *   *                                  *\n",
      "                  *  *                                                  *                                        *\n",
      "                 *            ___________   __________   ___  ___   ___________   __________                      ***\n",
      "                **           /  _____   /  / ______  /  /   \\/   \\  \\   _____  \\  \\  _______\\                        **\n",
      "               *            /  /____/  /  / /     / /  /          \\  \\  \\____\\  \\  \\ \\________                         *\n",
      "             **            /  _____   /  / /     / /  /            \\  \\   _____  \\  \\________ \\                       *\n",
      "           **             /  /    /  /  / /     / /  /   /\\____/\\   \\  \\  \\    \\  \\          \\ \\                    **\n",
      "         **              /  /____/  /  / /_____/ /  /   /        \\   \\  \\  \\____\\  \\   _______\\ \\                 **\n",
      "        *               /__________/  /_________/  /__ /          \\___\\  \\__________\\  \\_________\\ V 0.1.0       **\n",
      "         ****                                                *                                                  *\n",
      "             *                          ***                 * *                                                *\n",
      "              *   ***                  *   *     *         *   *                  *                      **   *\n",
      "               * *   **             ***     *   * ***     *     *   *          *** *           **       *  * *\n",
      "                *      **      *   *         * *    *    *       * * **     ***     *         *  *     *    *\n",
      "                         **   * * *           *     *   *         *    ** **         *       *    *   *\n",
      "                           * *   *                   * *                 *            *     *      * *\n",
      "                            *                         *                                *   *        *\n",
      "                                                                                        * *\n",
      "                                                                                         *\n",
      "    \n"
     ]
    }
   ],
   "source": [
    "versionBOMBS()"
   ]
  }
 ],
 "metadata": {
  "kernelspec": {
   "display_name": "Julia 1.4.0",
   "language": "julia",
   "name": "julia-1.4"
  },
  "language_info": {
   "file_extension": ".jl",
   "mimetype": "application/julia",
   "name": "julia",
   "version": "1.4.0"
  }
 },
 "nbformat": 4,
 "nbformat_minor": 4
}
