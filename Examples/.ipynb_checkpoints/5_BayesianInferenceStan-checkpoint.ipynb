{
 "cells": [
  {
   "cell_type": "markdown",
   "metadata": {},
   "source": [
    "# Case 5: Bayesian inference of model parameters using Stan"
   ]
  },
  {
   "cell_type": "markdown",
   "metadata": {},
   "source": [
    "## Important!\n",
    "Make sure you have a CmdStan version installed in your computer (the actual cmdstan, not CmdStan.jl) <br>\n",
    "<br>\n",
    "You can check the file InstallStanInJulia.pdf located in the directory InstallCmdstanInfo for the way I used to installed, however you can do it in different ones. <br>\n",
    "<br>\n",
    "Also, remember that you can use this section of the package to generate all the necessary scripts, data transformations and other (without having cmdstan installed) and use these in a different environment (such as RStan in R). "
   ]
  },
  {
   "cell_type": "code",
   "execution_count": 1,
   "metadata": {},
   "outputs": [],
   "source": [
    "using BOMBS"
   ]
  },
  {
   "cell_type": "markdown",
   "metadata": {},
   "source": [
    "### Just to print the nice BOMBS logo\n"
   ]
  },
  {
   "cell_type": "code",
   "execution_count": 2,
   "metadata": {},
   "outputs": [
    {
     "name": "stdout",
     "output_type": "stream",
     "text": [
      "\n",
      "                      ___________   __________   ___  ___   ___________   __________\n",
      "                     /  _____   /  / ______  /  /   \\/   \\  \\   _____  \\  \\  _______\\\r\n",
      "                    /  /____/  /  / /     / /  /          \\  \\  \\____\\  \\  \\ \\________\n",
      "                   /  _____   /  / /     / /  /            \\  \\   _____  \\  \\________ \\\r\n",
      "                  /  /    /  /  / /     / /  /   /\\____/\\   \\  \\  \\    \\  \\          \\ \\\r\n",
      "                 /  /____/  /  / /_____/ /  /   /        \\   \\  \\  \\____\\  \\   _______\\ \\\r\n",
      "                /__________/  /_________/  /__ /          \\___\\  \\__________\\  \\_________\\\r\n",
      "\n",
      "                \n"
     ]
    }
   ],
   "source": [
    "printLogo()"
   ]
  },
  {
   "cell_type": "markdown",
   "metadata": {},
   "source": [
    "First we need to generate the model (the package will not do it automatically)"
   ]
  },
  {
   "cell_type": "code",
   "execution_count": 3,
   "metadata": {},
   "outputs": [
    {
     "name": "stdout",
     "output_type": "stream",
     "text": [
      "\n",
      "----------------------------------------- MODEL GENERATION -----------------------------------------\n",
      "The model has been generated in the directory: \n",
      "                 E:\\UNI\\D_Drive\\PhD\\JULIAlang\\Generalisation_PLacExample\\Examples\\ModelsFunctions\\PLacExample_Model.jl\n",
      "--------------------------------------------------------------------------------------\n",
      "\n"
     ]
    }
   ],
   "source": [
    "# Generate the empty dictionary with the model_def structure\n",
    "model_def = defModStruct()\n",
    "\n",
    "# Fill the different elements of the dictionary with your model specifications. See above how ^\n",
    "model_def[\"NameF\"] = [\"PLacExample\"];\n",
    "model_def[\"nStat\"] = [4];\n",
    "model_def[\"nPar\"] = [9];\n",
    "model_def[\"nInp\"] = [1];\n",
    "model_def[\"stName\"] = [\"Cit_mrna\",\"Cit_foldedP\",\"Cit_fluo\",\"Cit_AU\"];\n",
    "\n",
    "model_def[\"inpName\"] = [\"IPTG\"];\n",
    "\n",
    "model_def[\"parName\"] = [\"alpha1\",\"Vm1\",\"h1\",\"Km1\",\"d1\",\n",
    "                            \"alpha2\",\"d2\",\"Kf\",\"sc_molec\"];\n",
    "model_def[\"eqns\"] = [\"dCit_mrna=alpha1+Vm1*(IPTG^h1/(Km1^h1+IPTG^h1))-d1*Cit_mrna\",\n",
    "                    \"dCit_foldedP=alpha2*Cit_mrna-(d2+Kf)*Cit_foldedP\",\n",
    "                    \"dCit_fluo=Kf*Cit_foldedP-d2*Cit_fluo\",\n",
    "                    \"dCit_AU = sc_molec*dCit_fluo\"];\n",
    "\n",
    "model_def[\"Y0eqs\"] = [\"Cit_mrna = (alpha1 + Vm1*(IPTG^h1/(Km1^h1+IPTG^h1)))/d1;\",\n",
    "                      \"Cit_foldedP = (alpha2*Cit_mrna)/(Kf+d2);\",\n",
    "                      \"Cit_fluo = (Kf*Cit_foldedP)/d2;\",\n",
    "                      \"Cit_AU= sc_molec*Cit_fluo;\"]; \n",
    "\n",
    "model_def[\"Y0ON\"] = [];\n",
    "model_def[\"tols\"] = [1e-9, 1e-9];\n",
    "\n",
    "# Generate the scripts with the ODEs and the step-wise implementation\n",
    "model_def = GenerateModel(model_def);"
   ]
  },
  {
   "cell_type": "markdown",
   "metadata": {},
   "source": [
    "### This function gives you information about the structure necessary to generate the model and how to call it. \n",
    "If you do not know how to call a specific section, just call the function with no input (infoAll()) to get the information."
   ]
  },
  {
   "cell_type": "code",
   "execution_count": 4,
   "metadata": {},
   "outputs": [
    {
     "name": "stdout",
     "output_type": "stream",
     "text": [
      "\n",
      "\n",
      "            CALL defBayInfStruct()\n",
      "\n",
      "        MAIN STRUCTURE\n",
      "\n",
      "bayinf_def[\"Priors\"] = []; # Five options for this:\n",
      "        # 1) A 2*N array containing the bounds for the parameters. Order of parameters will be assumed as\n",
      "            # the one introduced in model_def[\"parName\"]. As a prior a truncated Normal covering 2\n",
      "            # standard deviations in the bounds given will be generated as prior.\n",
      "        # 2) Path to a CSV file containing samples for the parameters. Fitting of the samples to\n",
      "            # different type of distributions will be done to generate the priors. Order of parameters\n",
      "            # will be assumed as the one introduced in model_def[\"parName\"]. You can also\n",
      "            # introduce a 2D array of floats with the samples (Array{Float64,2}).\n",
      "        # 3) Dictionary with fields pars, transpars and pridis defining the\n",
      "            # parameters, subsequent desired transformations and prior distributions.\n",
      "            # In the field pars, parameters\n",
      "            # have to be defined with the same names and order as in model_def[\"parName\"],\n",
      "            # otherwise the script will not proceed.\n",
      "        # 4) An empty array. If this is the case, the stan model will be generated with nothing in\n",
      "            # the parameters and transformed parameters section. The path to the stan file will\n",
      "            # be given so the user can fill these sections.\n",
      "        # 5) Path to a Stan model file if you already have one. For example, if first you introduce an\n",
      "            # empty array, then you can fill the parameters section and run from that script instead\n",
      "            # of having to copy the things in here.\n",
      "\n",
      "bayinf_def[\"Data\"] = []; # Two options:\n",
      "        # 1) A dictionary containing 3 fields. Observables, for the path to the files containing the\n",
      "            # experimental data. Inputs, for the path to the files containing the input profiles for the\n",
      "            # experiments. Obs, a string vector containing the observables of the experiments.\n",
      "            # The format of the files has to be the same one as the ones generated in the\n",
      "            # pseudo-data section. For each of the 2 entries, more than one file can be given if a\n",
      "            # multi-experimental inference wants to be done. Obs file also needs to be given.\n",
      "            # A y0 in a field with the same name has to be given for each experiment. The field is\n",
      "            # compulsory, even if not used.\n",
      "            # WARNING: For now, this option does not include extraction of covariance matrix for data.\n",
      "        # 2) A dictionary containing the same structure as the simul_def plus the fields DataMean and\n",
      "            # DataError containing the experimental data. You can call the function defBayInfDataStruct()\n",
      "            # to obtain the empty structure of the dictionary.\n",
      "\n",
      "bayinf_def[\"StanSettings\"] = []; # Two options:\n",
      "        # 1) A dictionary with the basic fields from a stan run. The structure of the dictionary can be\n",
      "            # extracted calling the function defBasicStanSettingsStruct().\n",
      "        # 2) An empty array. If this is the case, no inference will be done after calling the main\n",
      "            # function. Instead, you will be given a StanModel file and data structure and you will\n",
      "            # have to use this to run a call of Stan by yourself. An example will be provided.\n",
      "\n",
      "bayinf_def[\"flag\"] = [];\n",
      "            # String to attach a unique flag to the generated files so it is not overwritten.\n",
      "            # If empty, nothing will be added.\n",
      "\n",
      "bayinf_def[\"plot\"] = [];\n",
      "            # true, flase, \"Yes\", \"yes\", \"No\", \"no\" or []\n",
      "            # indicating if plots with the results will be generated. Default is false.\n",
      "\n",
      "bayinf_def[\"runInf\"] = [];\n",
      "            # true, flase, \"Yes\", \"yes\", \"No\", \"no\" or []\n",
      "            # indicating if inference wants to be performed or only stan structure is given.\n",
      "            # Default is true (if all the necessary elements are present)\n",
      "\n",
      "bayinf_def[\"MultiNormFit\"] = [];\n",
      "            # true, false, \"yes\", \"no\", \"Yes\", \"No\" or []\n",
      "            # indicating that if samples are given to fit, the prior will be fitted as a MultiNormal distribution\n",
      "            # or not. the default is false. If some parameter is better fit with a Log-Normal distribution, this\n",
      "            # will be used with a distribution reparameterisation to begin to be included in the multinormal.\n",
      "            # If for some parameter a Uniform distribution is better, this parameter will be excluded from\n",
      "            # the multinormal and defined as a separate parameter. This can be used as an example on how to set\n",
      "            # your Stan Model to use multi_normal priors.\n",
      "\n",
      "\n",
      "\n",
      "            CALL defBayInfDataStruct()\n",
      "\n",
      "        DATA DICTIONARY STRUCTURE\n",
      "\n",
      "data_def[\"Nexp\"] = [];\n",
      "        # Integer indicating the number of experiments to be simulated\n",
      "\n",
      "data_def[\"finalTime\"] = [];\n",
      "        # Vector of final times for each simulation (initial time will always be assumed as 0,\n",
      "        # so please consider that).\n",
      "\n",
      "data_def[\"switchT\"] = [];\n",
      "        # Array with the switching times of the inducer in the simulation (time 0 and final\n",
      "        # time need to be considered)\n",
      "\n",
      "data_def[\"y0\"] = [];\n",
      "        # Array (single simulation) or matrix (multiple simulations) of Y0s for the simulations for each\n",
      "        # experiment. If you are computing the steady-state this vector might not be used, however, you\n",
      "        # still need to introduce it with some random numbers.\n",
      "\n",
      "data_def[\"preInd\"] = [];\n",
      "        # Vector of numbers with the values for the stimuli (inducer) in the over-night. It might be the case\n",
      "        # that this entry is not required since only the y0 vector is considered for the initial point of\n",
      "        # the simulation. However, you still need to introduce a random value for it to avoid future issues.\n",
      "\n",
      "data_def[\"uInd\"] = [];\n",
      "        # Array containing the values for the stimuli at each step for each experiment. In each sub-array, columns\n",
      "        # indicate a step and rows indicate an inducer (if multiple ones are considered).\n",
      "\n",
      "data_def[\"tsamps\"] = [];\n",
      "        # Array of sampling time vectors for the experiments.\n",
      "\n",
      "data_def[\"DataMean\"] = [];\n",
      "        # Array containing the vector of means for each experiment.\n",
      "\n",
      "data_def[\"DataError\"] = [];\n",
      "        # Array containing the vector or matrices (covariance included) of errors for the data for each experiment.\n",
      "\n",
      "                                        IMPORTANT!!!!\n",
      "\n",
      "        # Whilst each entry (experiment) of DataMean can be a matrix where each column is an observable of the\n",
      "        # system, for DataError this is not the case. Each entry of the array (experiment) will have as many\n",
      "        # entries as observables, where it would be a vector of errors or a matrix. This is done this way to\n",
      "        # generalise the presence of both options.\n",
      "\n",
      "data_def[\"Obs\"] = [];\n",
      "        # States of the model that are observables. This is either a vector of strings, a vector of integers\n",
      "        # indicating which entries from model_def[\"stName\"] are observables. If a vector of\n",
      "        # strings is given, these could also be an expression combining states (Only +,-,*,/ and ^ will be\n",
      "        # considered).\n",
      "\n",
      "\n",
      "\n",
      "            CALL defBayInfDataFromFilesStruct()\n",
      "\n",
      "        DATA DICTIONARY STRUCTURE IF FILES ARE GIVEN\n",
      "\n",
      "data_def[\"Observables\"] = [];\n",
      "        # Vector of strings containing the name of the files that have the information about the sampling\n",
      "        # times and y0 values.\n",
      "\n",
      "data_def[\"Inputs\"] = [];\n",
      "        # Vector of strings containing the name of all the files that have the information about the stimuli\n",
      "        # and events of the experiment.\n",
      "\n",
      "data_def[\"Obs\"] = [];\n",
      "        # States of the model that are observables. This is either a vector of strings, a vector of integers\n",
      "        # indicating which entries from model_def[\"stName\"] are observables. If a vector of\n",
      "        # strings is given, these could also be an expression combining states (Only +,-,*,/ and ^ will be\n",
      "        # considered).\n",
      "\n",
      "data_def[\"y0\"] = [];\n",
      "        # Array (single simulation) or matrix (multiple simulations) of Y0s for the simulations for each\n",
      "        # experiment. If you are computing the steady-state this vector might not be used, however, you\n",
      "        # still need to introduce it with some random numbers.\n",
      "\n",
      "\n",
      "\n",
      "            CALL defBasicStanSettingsStruct()\n",
      "\n",
      "        STAN SETTINGS DICTIONARY STRUCTURE\n",
      "\n",
      "stan_def[\"cmdstan_home\"] = [];\n",
      "        # String containing the full path to the installation directory for cmdstan\n",
      "\n",
      "stan_def[\"nchains\"] = [];\n",
      "        # Number of chains for the inference (integer)\n",
      "\n",
      "stan_def[\"nsamples\"] = [];\n",
      "        # Number of post-warmup samples for each chain (integer)\n",
      "\n",
      "stan_def[\"nwarmup\"] = [];\n",
      "        # Number of warm-up samples for each chain (integer)\n",
      "\n",
      "stan_def[\"printsummary\"] = [];\n",
      "        # Print sumary of inference at the end. This can be either true or false. Default will be true.\n",
      "\n",
      "stan_def[\"init\"] = [];\n",
      "        # Initial point for the parameters in each chain. See output of MLE results. This field can be empty.\n",
      "        # Please introduce the parameter values in their true parameter range.\n",
      "\n",
      "stan_def[\"maxdepth\"] = [];\n",
      "        #  Maximum tree-depth. This field can be empty. Check Stan documentation for more information.\n",
      "\n",
      "stan_def[\"adaptdelta\"] = [];\n",
      "        # Delta value between 0 and 1. This field can be empty.  Check Stan documentation for more information.\n",
      "\n",
      "stan_def[\"jitter\"] = [];\n",
      "        # Jitter value between 0 and 1. This field can be empty.  Check Stan documentation for more information.\n",
      "\n"
     ]
    }
   ],
   "source": [
    "infoAll(\"stan\")"
   ]
  },
  {
   "cell_type": "markdown",
   "metadata": {},
   "source": [
    "# Stan Inference Example 1\n",
    "This example will not run an inference, but it will generate all the necessary elements that then you can use to run it in a different environment (R for example) or in Julia but after applying modifications. "
   ]
  },
  {
   "cell_type": "markdown",
   "metadata": {},
   "source": [
    "First we need to define the section structure, which is slightly different than the others, since some entries will require a separate dictionary structure"
   ]
  },
  {
   "cell_type": "code",
   "execution_count": 5,
   "metadata": {},
   "outputs": [
    {
     "data": {
      "text/plain": [
       "Dict{Any,Any} with 7 entries:\n",
       "  \"Priors\"       => Any[]\n",
       "  \"StanSettings\" => Any[]\n",
       "  \"flag\"         => Any[]\n",
       "  \"plot\"         => Any[]\n",
       "  \"Data\"         => Any[]\n",
       "  \"runInf\"       => Any[]\n",
       "  \"MultiNormFit\" => Any[]"
      ]
     },
     "execution_count": 5,
     "metadata": {},
     "output_type": "execute_result"
    }
   ],
   "source": [
    "bayinf_def = defBayInfStruct()"
   ]
  },
  {
   "cell_type": "markdown",
   "metadata": {},
   "source": [
    "For now we will ignore the field Priors, we will get into it in a moment. "
   ]
  },
  {
   "cell_type": "code",
   "execution_count": 6,
   "metadata": {},
   "outputs": [],
   "source": [
    "bayinf_def[\"Data\"] = defBayInfDataFromFilesStruct();\n",
    "bayinf_def[\"StanSettings\"] = defBasicStanSettingsStruct(); \n",
    "bayinf_def[\"flag\"] = [\"test\"]; \n",
    "bayinf_def[\"plot\"] = [true]; \n",
    "bayinf_def[\"runInf\"] = [false];\n",
    "bayinf_def[\"MultiNormFit\"] = [true];"
   ]
  },
  {
   "cell_type": "markdown",
   "metadata": {},
   "source": [
    "As you can see, the entry Data has it's own structure. This is similar to other sections, but for more information, please check the function infoAll(\"stan\")"
   ]
  },
  {
   "cell_type": "markdown",
   "metadata": {},
   "source": [
    "If the data given has multiple traces for the observables, a multivariate normal likelihood will be defined for the inference"
   ]
  },
  {
   "cell_type": "code",
   "execution_count": 7,
   "metadata": {},
   "outputs": [],
   "source": [
    "bayinf_def[\"Data\"][\"Observables\"] = [\"PseudoDataFiles\\\\TestPLac_EXP1_Example1b_Observables.csv\", \"PseudoDataFiles\\\\TestPLac_EXP2_Example1b_Observables.csv\"];\n",
    "bayinf_def[\"Data\"][\"Inputs\"] = [\"PseudoDataFiles\\\\TestPLac_EXP1_Example1_Events_Inputs.csv\", \"PseudoDataFiles\\\\TestPLac_EXP2_Example1_Events_Inputs.csv\"];\n",
    "bayinf_def[\"Data\"][\"Obs\"] = [\"3*Cit_AU\"];\n",
    "bayinf_def[\"Data\"][\"y0\"] = [[1,1,1,1],[1,1,1,1]];"
   ]
  },
  {
   "cell_type": "markdown",
   "metadata": {},
   "source": [
    "The entry StanSettings contains some of the Stan settings that you can change, but don't worry if you don't know them, default ones can be used"
   ]
  },
  {
   "cell_type": "code",
   "execution_count": 8,
   "metadata": {},
   "outputs": [],
   "source": [
    "bayinf_def[\"StanSettings\"][\"cmdstan_home\"] = [\"C:/Users/David/.cmdstanpy/cmdstan-2.20.0\"];\n",
    "bayinf_def[\"StanSettings\"][\"nchains\"] = [3];\n",
    "bayinf_def[\"StanSettings\"][\"nsamples\"] = [20];\n",
    "bayinf_def[\"StanSettings\"][\"nwarmup\"] = [5];\n",
    "bayinf_def[\"StanSettings\"][\"printsummary\"] = [true]; \n",
    "bayinf_def[\"StanSettings\"][\"maxdepth\"] = [13];\n",
    "bayinf_def[\"StanSettings\"][\"adaptdelta\"] = [0.95];\n",
    "bayinf_def[\"StanSettings\"][\"jitter\"] = [0.5];\n",
    "bayinf_def[\"StanSettings\"][\"init\"] = [];"
   ]
  },
  {
   "cell_type": "markdown",
   "metadata": {},
   "source": [
    "Now, if you remember from section 4 (MLE), in the results structure there was a Stan dictionary for the parameters. Here is where you can use it in the field init. <br>\n",
    "Otherwhise, you can use the function genStanInitDict from some samples you might have. <br>\n",
    "For now we will not use this field, but here is how you can use the function."
   ]
  },
  {
   "cell_type": "code",
   "execution_count": 9,
   "metadata": {},
   "outputs": [
    {
     "data": {
      "text/plain": [
       "3-element Array{Dict{String,Any},1}:\n",
       " Dict(\"h1\" => 1.53333782244337,\"Vm1\" => 0.44335461575911556,\"Km1\" => 5.01927275636639,\"d1\" => 0.0712988881466292,\"sc_molec\" => 68.8669567134881,\"alpha2\" => 2.7675872351644677,\"alpha1\" => 0.02262751826656512,\"Kf\" => 0.01810823796074442,\"d2\" => 0.02853382253982108)\n",
       " Dict(\"h1\" => 1.4566709313212014,\"Vm1\" => 0.42118688497115975,\"Km1\" => 4.76830911854807,\"d1\" => 0.06773394373929774,\"sc_molec\" => 65.42360887781369,\"alpha2\" => 2.6292078734062443,\"alpha1\" => 0.021496142353236863,\"Kf\" => 0.017202826062707198,\"d2\" => 0.027107131412830027)\n",
       " Dict(\"h1\" => 1.8400053869320439,\"Vm1\" => 0.5320255389109386,\"Km1\" => 6.023127307639668,\"d1\" => 0.08555866577595504,\"sc_molec\" => 82.64034805618572,\"alpha2\" => 3.3211046821973613,\"alpha1\" => 0.027153021919878142,\"Kf\" => 0.021729885552893305,\"d2\" => 0.03424058704778529)"
      ]
     },
     "execution_count": 9,
     "metadata": {},
     "output_type": "execute_result"
    }
   ],
   "source": [
    "using CSV\n",
    "standict = CSV.read(\"TestThetaPLac.csv\")\n",
    "# You need to give the samples, the parameter names and the number dictionaries to give in return\n",
    "sd1 = genStanInitDict(standict, model_def[\"parName\"], 3)"
   ]
  },
  {
   "cell_type": "markdown",
   "metadata": {},
   "source": [
    "#### Now, let's have a look at the different options you can use in order to define the prior"
   ]
  },
  {
   "cell_type": "markdown",
   "metadata": {},
   "source": [
    "Note that, whenever possible, a transformation of the distributions will be done for these to be in the same range (between -2 and 2)"
   ]
  },
  {
   "cell_type": "markdown",
   "metadata": {},
   "source": [
    "A 2*N (where N is the number of parameters) array with the parameter bounds. This will generate a wide truncated normal prior for each parameter (independent)"
   ]
  },
  {
   "cell_type": "code",
   "execution_count": 10,
   "metadata": {},
   "outputs": [],
   "source": [
    "bayinf_def[\"Priors\"] = [0.4950 0.4950 4.9 10 0.23 6.8067 0.2449 0.0217 10;\n",
    "3.88e-5 3.88e-2 0.5 2 7.7e-3 0.2433 5.98e-5 0.012 0.001]; "
   ]
  },
  {
   "cell_type": "code",
   "execution_count": 11,
   "metadata": {},
   "outputs": [],
   "source": [
    "checkStructBayInf(model_def, bayinf_def);"
   ]
  },
  {
   "cell_type": "code",
   "execution_count": 12,
   "metadata": {},
   "outputs": [
    {
     "data": {
      "text/plain": [
       "9-element Array{String,1}:\n",
       " \"real<lower=-2,upper=2> alpha1; \\n\"\n",
       " \"real<lower=-2,upper=2> Vm1; \\n\"\n",
       " \"real<lower=-2,upper=2> h1; \\n\"\n",
       " \"real<lower=-2,upper=2> Km1; \\n\"\n",
       " \"real<lower=-2,upper=2> d1; \\n\"\n",
       " \"real<lower=-2,upper=2> alpha2; \\n\"\n",
       " \"real<lower=-2,upper=2> d2; \\n\"\n",
       " \"real<lower=-2,upper=2> Kf; \\n\"\n",
       " \"real<lower=-2,upper=2> sc_molec; \\n\""
      ]
     },
     "execution_count": 12,
     "metadata": {},
     "output_type": "execute_result"
    }
   ],
   "source": [
    "bayinf_def[\"Priors\"][\"pars\"]"
   ]
  },
  {
   "cell_type": "code",
   "execution_count": 13,
   "metadata": {},
   "outputs": [
    {
     "data": {
      "text/plain": [
       "10-element Array{String,1}:\n",
       " \"real theta[nParms]; \\n\"\n",
       " \"theta[1] = ((alpha1)*(0.1237403))+0.2475194; \\n\"\n",
       " \"theta[2] = ((Vm1)*(0.11405))+0.2669; \\n\"\n",
       " \"theta[3] = ((h1)*(1.1))+2.7; \\n\"\n",
       " \"theta[4] = ((Km1)*(2.0))+6.0; \\n\"\n",
       " \"theta[5] = ((d1)*(0.055575))+0.11885000000000001; \\n\"\n",
       " \"theta[6] = ((alpha2)*(1.6408500000000001))+3.525; \\n\"\n",
       " \"theta[7] = ((d2)*(0.06121005))+0.1224799; \\n\"\n",
       " \"theta[8] = ((Kf)*(0.002425))+0.01685; \\n\"\n",
       " \"theta[9] = ((sc_molec)*(2.49975))+5.0005; \\n\""
      ]
     },
     "execution_count": 13,
     "metadata": {},
     "output_type": "execute_result"
    }
   ],
   "source": [
    "bayinf_def[\"Priors\"][\"transpars\"]"
   ]
  },
  {
   "cell_type": "code",
   "execution_count": 14,
   "metadata": {},
   "outputs": [
    {
     "data": {
      "text/plain": [
       "9-element Array{String,1}:\n",
       " \"alpha1 ~ normal(0,1); \\n\"\n",
       " \"Vm1 ~ normal(0,1); \\n\"\n",
       " \"h1 ~ normal(0,1); \\n\"\n",
       " \"Km1 ~ normal(0,1); \\n\"\n",
       " \"d1 ~ normal(0,1); \\n\"\n",
       " \"alpha2 ~ normal(0,1); \\n\"\n",
       " \"d2 ~ normal(0,1); \\n\"\n",
       " \"Kf ~ normal(0,1); \\n\"\n",
       " \"sc_molec ~ normal(0,1); \\n\""
      ]
     },
     "execution_count": 14,
     "metadata": {},
     "output_type": "execute_result"
    }
   ],
   "source": [
    "bayinf_def[\"Priors\"][\"pridis\"]"
   ]
  },
  {
   "cell_type": "markdown",
   "metadata": {},
   "source": [
    "A CSV file path or a matrix with the parameter samples. In here, the prior will be fitted. <br>\n",
    "You have to options for this. A fit using a set of distributions (independence, and note that it will check a set of distributions and choose the best one for each parameter. In this example all will be uniform distributions due to only use 3 samples): "
   ]
  },
  {
   "cell_type": "code",
   "execution_count": 15,
   "metadata": {},
   "outputs": [],
   "source": [
    "bayinf_def[\"Priors\"] = \"TestThetaPLac.csv\"\n",
    "bayinf_def[\"MultiNormFit\"] = false;"
   ]
  },
  {
   "cell_type": "code",
   "execution_count": 16,
   "metadata": {},
   "outputs": [],
   "source": [
    "checkStructBayInf(model_def, bayinf_def);"
   ]
  },
  {
   "cell_type": "code",
   "execution_count": 17,
   "metadata": {},
   "outputs": [
    {
     "data": {
      "text/plain": [
       "9-element Array{String,1}:\n",
       " \"real alpha1; \\n\"\n",
       " \"real Vm1; \\n\"\n",
       " \"real h1; \\n\"\n",
       " \"real Km1; \\n\"\n",
       " \"real d1; \\n\"\n",
       " \"real alpha2; \\n\"\n",
       " \"real d2; \\n\"\n",
       " \"real Kf; \\n\"\n",
       " \"real sc_molec; \\n\""
      ]
     },
     "execution_count": 17,
     "metadata": {},
     "output_type": "execute_result"
    }
   ],
   "source": [
    "bayinf_def[\"Priors\"][\"pars\"]"
   ]
  },
  {
   "cell_type": "code",
   "execution_count": 18,
   "metadata": {},
   "outputs": [
    {
     "data": {
      "text/plain": [
       "10-element Array{String,1}:\n",
       " \"real theta[nParms]; \\n\"\n",
       " \"theta[1] = 0.021496142353236863+ ((alpha1 - (-2))*(0.027153021919878142 - 0.021496142353236863))/(2 - (-2)); \\n\"\n",
       " \"theta[2] = 0.42118688497115975+ ((Vm1 - (-2))*(0.5320255389109386 - 0.42118688497115975))/(2 - (-2)); \\n\"\n",
       " \"theta[3] = 1.4566709313212014+ ((h1 - (-2))*(1.8400053869320439 - 1.4566709313212014))/(2 - (-2)); \\n\"\n",
       " \"theta[4] = 4.76830911854807+ ((Km1 - (-2))*(6.023127307639668 - 4.76830911854807))/(2 - (-2)); \\n\"\n",
       " \"theta[5] = 0.06773394373929774+ ((d1 - (-2))*(0.08555866577595504 - 0.06773394373929774))/(2 - (-2)); \\n\"\n",
       " \"theta[6] = 2.6292078734062443+ ((alpha2 - (-2))*(3.3211046821973613 - 2.6292078734062443))/(2 - (-2)); \\n\"\n",
       " \"theta[7] = 0.027107131412830027+ ((d2 - (-2))*(0.03424058704778529 - 0.027107131412830027))/(2 - (-2)); \\n\"\n",
       " \"theta[8] = 0.017202826062707198+ ((Kf - (-2))*(0.021729885552893305 - 0.017202826062707198))/(2 - (-2)); \\n\"\n",
       " \"theta[9] = 65.42360887781369+ ((sc_molec - (-2))*(82.64034805618572 - 65.42360887781369))/(2 - (-2)); \\n\""
      ]
     },
     "execution_count": 18,
     "metadata": {},
     "output_type": "execute_result"
    }
   ],
   "source": [
    "bayinf_def[\"Priors\"][\"transpars\"]"
   ]
  },
  {
   "cell_type": "code",
   "execution_count": 19,
   "metadata": {},
   "outputs": [
    {
     "data": {
      "text/plain": [
       "9-element Array{String,1}:\n",
       " \"alpha1 ~ uniform(-2, 2); \\n\"\n",
       " \"Vm1 ~ uniform(-2, 2); \\n\"\n",
       " \"h1 ~ uniform(-2, 2); \\n\"\n",
       " \"Km1 ~ uniform(-2, 2); \\n\"\n",
       " \"d1 ~ uniform(-2, 2); \\n\"\n",
       " \"alpha2 ~ uniform(-2, 2); \\n\"\n",
       " \"d2 ~ uniform(-2, 2); \\n\"\n",
       " \"Kf ~ uniform(-2, 2); \\n\"\n",
       " \"sc_molec ~ uniform(-2, 2); \\n\""
      ]
     },
     "execution_count": 19,
     "metadata": {},
     "output_type": "execute_result"
    }
   ],
   "source": [
    "bayinf_def[\"Priors\"][\"pridis\"]"
   ]
  },
  {
   "cell_type": "markdown",
   "metadata": {},
   "source": [
    "Or a multivariate normal distribution: <br>\n",
    "Now, if for any parameter this is better fitted to a uniform distribution than for a Normal (or log-Normal which will be mapped to a normal and later re-transformed), then a uniform will be used. As we have seen before, for this example this will happen for all the parameters, so lets generate some random numbers drawed from normal distributions just for the sake of comparison. "
   ]
  },
  {
   "cell_type": "code",
   "execution_count": 34,
   "metadata": {},
   "outputs": [],
   "source": [
    "using Random\n",
    "using Distributions"
   ]
  },
  {
   "cell_type": "code",
   "execution_count": 35,
   "metadata": {},
   "outputs": [],
   "source": [
    "bayinf_def[\"Priors\"] = rand(Normal(40,4), 9, 1000);\n",
    "bayinf_def[\"MultiNormFit\"] = true;"
   ]
  },
  {
   "cell_type": "code",
   "execution_count": 36,
   "metadata": {},
   "outputs": [],
   "source": [
    "checkStructBayInf(model_def, bayinf_def);"
   ]
  },
  {
   "cell_type": "code",
   "execution_count": 37,
   "metadata": {},
   "outputs": [
    {
     "data": {
      "text/plain": [
       "1-element Array{String,1}:\n",
       " \"vector[nParms-0] theta2; \\n\""
      ]
     },
     "execution_count": 37,
     "metadata": {},
     "output_type": "execute_result"
    }
   ],
   "source": [
    "bayinf_def[\"Priors\"][\"pars\"]"
   ]
  },
  {
   "cell_type": "code",
   "execution_count": 38,
   "metadata": {},
   "outputs": [
    {
     "data": {
      "text/plain": [
       "10-element Array{String,1}:\n",
       " \"real theta[nParms]; \\n\"\n",
       " \"theta[1] = (((theta2[1])*(4.088826206051413))+(40.223208447438594)); \\n\"\n",
       " \"theta[2] = (((theta2[2])*(4.008406826935685))+(40.159851426469466)); \\n\"\n",
       " \"theta[3] = (((theta2[3])*(3.926387762254408))+(39.970360442209966)); \\n\"\n",
       " \"theta[4] = (((theta2[4])*(3.8565188396390266))+(39.91478317002766)); \\n\"\n",
       " \"theta[5] = (((theta2[5])*(3.8651472489893086))+(40.04116275318985)); \\n\"\n",
       " \"theta[6] = (((theta2[6])*(4.036932287527736))+(40.04780251413332)); \\n\"\n",
       " \"theta[7] = (((theta2[7])*(3.9845896193447405))+(40.08373030365358)); \\n\"\n",
       " \"theta[8] = (((theta2[8])*(3.989010758580747))+(40.17570832509529)); \\n\"\n",
       " \"theta[9] = (((theta2[9])*(3.9836935995006075))+(40.18731663592558)); \\n\""
      ]
     },
     "execution_count": 38,
     "metadata": {},
     "output_type": "execute_result"
    }
   ],
   "source": [
    "bayinf_def[\"Priors\"][\"transpars\"]"
   ]
  },
  {
   "cell_type": "code",
   "execution_count": 39,
   "metadata": {},
   "outputs": [
    {
     "data": {
      "text/plain": [
       "1-element Array{String,1}:\n",
       " \"theta2 ~ multi_normal(mera,cora); \\n\""
      ]
     },
     "execution_count": 39,
     "metadata": {},
     "output_type": "execute_result"
    }
   ],
   "source": [
    "bayinf_def[\"Priors\"][\"pridis\"]"
   ]
  },
  {
   "cell_type": "markdown",
   "metadata": {},
   "source": [
    "You can also give a dictionary with the stan code in form of string"
   ]
  },
  {
   "cell_type": "code",
   "execution_count": 42,
   "metadata": {},
   "outputs": [],
   "source": [
    "bayinf_def[\"Priors\"][\"pars\"] = string(\"   \");\n",
    "bayinf_def[\"Priors\"][\"transpars\"] = string(\"  \");\n",
    "bayinf_def[\"Priors\"][\"pridis\"] = string(\"  \");"
   ]
  },
  {
   "cell_type": "code",
   "execution_count": 43,
   "metadata": {},
   "outputs": [
    {
     "name": "stdout",
     "output_type": "stream",
     "text": [
      "-------------------------- WARNING!!! --------------------------\n",
      "Please, be carefull with the definition of parameters, transformations and prior distributions.\n",
      "No check will be done in this section.\n"
     ]
    }
   ],
   "source": [
    "# Cases like this are why we print this warning!\n",
    "checkStructBayInf(model_def, bayinf_def);"
   ]
  },
  {
   "cell_type": "code",
   "execution_count": 44,
   "metadata": {},
   "outputs": [
    {
     "data": {
      "text/plain": [
       "\"   \""
      ]
     },
     "execution_count": 44,
     "metadata": {},
     "output_type": "execute_result"
    }
   ],
   "source": [
    "bayinf_def[\"Priors\"][\"pars\"]"
   ]
  },
  {
   "cell_type": "code",
   "execution_count": 45,
   "metadata": {},
   "outputs": [
    {
     "data": {
      "text/plain": [
       "\"  \""
      ]
     },
     "execution_count": 45,
     "metadata": {},
     "output_type": "execute_result"
    }
   ],
   "source": [
    "bayinf_def[\"Priors\"][\"transpars\"]"
   ]
  },
  {
   "cell_type": "code",
   "execution_count": 46,
   "metadata": {},
   "outputs": [
    {
     "data": {
      "text/plain": [
       "\"  \""
      ]
     },
     "execution_count": 46,
     "metadata": {},
     "output_type": "execute_result"
    }
   ],
   "source": [
    "bayinf_def[\"Priors\"][\"pridis\"]"
   ]
  },
  {
   "cell_type": "markdown",
   "metadata": {},
   "source": [
    "A path to an already constructed Stan script"
   ]
  },
  {
   "cell_type": "code",
   "execution_count": 47,
   "metadata": {},
   "outputs": [],
   "source": [
    "bayinf_def[\"Priors\"] = \"ODE_PLac1.stan\";"
   ]
  },
  {
   "cell_type": "code",
   "execution_count": 49,
   "metadata": {},
   "outputs": [],
   "source": [
    "checkStructBayInf(model_def, bayinf_def);"
   ]
  },
  {
   "cell_type": "code",
   "execution_count": 50,
   "metadata": {},
   "outputs": [
    {
     "data": {
      "text/plain": [
       "\"ODE_PLac1.stan\""
      ]
     },
     "execution_count": 50,
     "metadata": {},
     "output_type": "execute_result"
    }
   ],
   "source": [
    "# Nothing will be extracted from here, the package will just use this script instead of generating a new one. \n",
    "bayinf_def[\"Priors\"]"
   ]
  },
  {
   "cell_type": "markdown",
   "metadata": {},
   "source": [
    "Or just give nothing. In this case, the main file will be generated without any information of the priors, and you can fill it in there"
   ]
  },
  {
   "cell_type": "code",
   "execution_count": 51,
   "metadata": {},
   "outputs": [],
   "source": [
    "bayinf_def[\"Priors\"] = [];"
   ]
  },
  {
   "cell_type": "code",
   "execution_count": 52,
   "metadata": {},
   "outputs": [],
   "source": [
    "checkStructBayInf(model_def, bayinf_def);"
   ]
  },
  {
   "cell_type": "code",
   "execution_count": 53,
   "metadata": {},
   "outputs": [
    {
     "data": {
      "text/plain": [
       "0-element Array{Any,1}"
      ]
     },
     "execution_count": 53,
     "metadata": {},
     "output_type": "execute_result"
    }
   ],
   "source": [
    "# The sections for the priors will just be empty\n",
    "bayinf_def[\"Priors\"]"
   ]
  },
  {
   "cell_type": "markdown",
   "metadata": {},
   "source": [
    "#### Ok, now let's start the example using the bounded priors"
   ]
  },
  {
   "cell_type": "code",
   "execution_count": 56,
   "metadata": {},
   "outputs": [],
   "source": [
    "bayinf_def[\"Priors\"] = [0.4950 0.4950 4.9 10 0.23 6.8067 0.2449 0.0217 10;\n",
    "3.88e-5 3.88e-2 0.5 2 7.7e-3 0.2433 5.98e-5 0.012 0.001]; "
   ]
  },
  {
   "cell_type": "markdown",
   "metadata": {},
   "source": [
    "Remember this flag if you don't want the package to perform the inference!"
   ]
  },
  {
   "cell_type": "code",
   "execution_count": 57,
   "metadata": {},
   "outputs": [],
   "source": [
    "bayinf_def[\"runInf\"] = [false];"
   ]
  },
  {
   "cell_type": "code",
   "execution_count": 55,
   "metadata": {},
   "outputs": [
    {
     "name": "stdout",
     "output_type": "stream",
     "text": [
      "----------------------------------------- STAN INFERENCE INFO -----------------------------------------\n",
      "No inference will be performed since this is what has been selected. Structure elements\n",
      "to run a Stan inference will be given instead.\n",
      "--------------------------------------------------------------------------------------\n",
      "-------------------------- WARNING!!! --------------------------\n",
      "Please, be carefull with the definition of parameters, transformations and prior distributions.\n",
      "No check will be done in this section.\n",
      "\n",
      "----------------------------------------- STAN MODEL GENERATION -----------------------------------------\n",
      "The model has been generated in the directory: \n",
      "                 E:\\UNI\\D_Drive\\PhD\\JULIAlang\\Generalisation_PLacExample\\Examples\\ModelsFunctions\\PLacExample_StanModel.stan\n",
      "--------------------------------------------------------------------------------------\n",
      "\n",
      "\n",
      "File E:\\UNI\\D_Drive\\PhD\\JULIAlang\\Generalisation_PLacExample\\Examples\\tmp\\PLacExample_Stan_test.stan will be updated.\n",
      "\n",
      "\n",
      "----------------------------------------- STAN INFERENCE INFO -----------------------------------------\n",
      "Stan inference will NOT be initialised due to your input. Once you are ready, please run Stan by using the command: \n",
      "         rc, chns, cnames = stan(StanModel, inferdata, init = init)\n",
      "To automatically save your results, you can use: \n",
      "         saveStanResults(rc, chns, cnames, model_def, bayinf_def)\n",
      "--------------------------------------------------------------------------------------\n",
      "\n"
     ]
    }
   ],
   "source": [
    "stan_res, model_def, bayinf_def = StanInfer(model_def, bayinf_def);"
   ]
  },
  {
   "cell_type": "markdown",
   "metadata": {},
   "source": [
    "### Let's have a look at wha thas been printed first ^\n",
    "**- STAN INFERENCE INFO:** Just confirming that you have selected to not perform the inference. <br>\n",
    "**- WARNING!!!:** Just a warning saying that you are responsible of how you define your parameters (correctly or not) and no check will be performed here since this would be almost impossible to generalise.  <br>\n",
    "**- STAN MODEL GENERATION:** Path where the stan script is saved  <br>\n",
    "**- STAN INFERENCE INFO:** Again, tell's you that you have selected to not perform the inferece, but now that all the script generation and data transformation has been successfull you can use the first command to run the inference and the seconf one to save the results.    <br>"
   ]
  },
  {
   "cell_type": "markdown",
   "metadata": {},
   "source": [
    "First, let's have a look at the stan script generated"
   ]
  },
  {
   "cell_type": "code",
   "execution_count": 60,
   "metadata": {},
   "outputs": [
    {
     "name": "stdout",
     "output_type": "stream",
     "text": [
      "\n",
      "\n",
      "functions{\n",
      "\n",
      "    real[] PLacExample_ODEs(real t, real[] y, real[] p, real[] x_r, int[] x_i){\n",
      "\n",
      "      // Inputs\n",
      "      real IPTG = x_r[1]; \n",
      "\n",
      "\n",
      "      // Parameters\n",
      "      real alpha1 = p[1]; \n",
      "      real Vm1 = p[2]; \n",
      "      real h1 = p[3]; \n",
      "      real Km1 = p[4]; \n",
      "      real d1 = p[5]; \n",
      "      real alpha2 = p[6]; \n",
      "      real d2 = p[7]; \n",
      "      real Kf = p[8]; \n",
      "      real sc_molec = p[9]; \n",
      "\n",
      "\n",
      "      // ODEs\n",
      "      real dInd_dt[4];\n",
      "\n",
      "      real Cit_mrna = y[1]; \n",
      "      real Cit_foldedP = y[2]; \n",
      "      real Cit_fluo = y[3]; \n",
      "      real Cit_AU = y[4]; \n",
      "\n",
      "\n",
      "      dInd_dt[1] = alpha1+Vm1*(IPTG^h1/(Km1^h1+IPTG^h1))-d1*Cit_mrna; \n",
      "      dInd_dt[2] = alpha2*Cit_mrna-(d2+Kf)*Cit_foldedP; \n",
      "      dInd_dt[3] = Kf*Cit_foldedP-d2*Cit_fluo; \n",
      "      dInd_dt[4] =  sc_molec*dInd_dt[3]; \n",
      "\n",
      "\n",
      "      // Results\n",
      "      return dInd_dt;\n",
      "\n",
      "    }\n",
      "\n",
      "\n",
      "    vector SteadyState(vector init, vector p, real[] x_r, int[] x_i){\n",
      "\n",
      "\n",
      "      vector[4] alp;\n",
      "\n",
      "      // Parameters and Inputs\n",
      "      real alpha1 = p[1]; \n",
      "      real Vm1 = p[2]; \n",
      "      real h1 = p[3]; \n",
      "      real Km1 = p[4]; \n",
      "      real d1 = p[5]; \n",
      "      real alpha2 = p[6]; \n",
      "      real d2 = p[7]; \n",
      "      real Kf = p[8]; \n",
      "      real sc_molec = p[9]; \n",
      "\n",
      "      real IPTG = x_r[1]; \n",
      "\n",
      "\n",
      "      // Equations\n",
      "\n",
      "      alp[1] =  (alpha1 + Vm1*(IPTG^h1/(Km1^h1+IPTG^h1)))/d1;; \n",
      "      alp[2] =  (alpha2*alp[1])/(Kf+d2);; \n",
      "      alp[3] =  (Kf*alp[2])/d2;; \n",
      "      alp[4] =  sc_molec*alp[3];; \n",
      "\n",
      "\n",
      "      // Results\n",
      "      return alp;\n",
      "                \n",
      "\n",
      "    }\n",
      "\n",
      "}\n",
      "    \n",
      "\n",
      "data {\n",
      "\n",
      "    // Observables\n",
      "    int m; // Total number of data series\n",
      "    int stslm; // Maximum number of rows for all the observable matrices\n",
      "    int stsl[1,m]; // Number of elements at each time series for each series m\n",
      "    int sts[stslm,m]; // Sampling times for each series m\n",
      "    int obser;//-> Introduce this so we have all the data in one same array (easier generalisation). Work on generalisation in case different experiments have different obsevables?\n",
      "    int obSta[1,obser]; // -> This variable will be to know which are the observable states\n",
      "\n",
      "    real Means[stslm,m,obser]; // ---> General arrays of means and errors\n",
      "      real Erros[stslm,m,obser];\n",
      "\n",
      "    // Inputs\n",
      "    int elm; // Number of rows in the matrices for IPTG and aTc, half for the inputs and -1 for the total number of events\n",
      "    int tml; // Maximum length of the rows for the sampling times matrix\n",
      "    int Nsp[1,m]; // Number of event switching points (including final time) times for each series m\n",
      "    real ts[tml, m]; // Time series for each serie m\n",
      "    int tsl[1,m]; // Length of sampling time series per serie m\n",
      "\n",
      "    int nindu; // -> Number of inducers/stimuly\n",
      "    real preInd[nindu,m]; // Values of inputs for each serie m for the ON incubation\n",
      "\n",
      "    real inputs[(elm*nindu),m]; // Input values for each event ordered as IPTG, aTc, IPTG, aTc, ...\n",
      "\n",
      "    int evnT[(elm+1),m]; // Event change time points for each serie m\n",
      "    real Y0us[4,m]; // Y0 vectors\n",
      "\n",
      "\n",
      "\n",
      "    // Prior parameters\n",
      "    int numN;\n",
      "    vector[numN] mera; // Mean\n",
      "    matrix[numN,numN] cora; // Covariance matrix\n",
      "    \n",
      "}\n",
      "\n",
      "\n",
      "    \n",
      "\n",
      "transformed data {\n",
      "\n",
      "    int nParms = 9; // Number of parameters of the model //--------> Introduce number in generation of script\n",
      "    int Neq = 4; // Total number of equations of the model //-----> Introduce number in generation of script\n",
      "    int x_i[0]; // Empty x_i object (needs to be defined)\n",
      "    real x_r[(elm*nindu),m]=inputs; // Input values for each event ordered as IPTG, aTc, IPTG, aTc, ...\n",
      "    real ivss[Neq,m] = Y0us; // Initial experimental values for the calculation of the steady state ordered as LacI+RFP, TetR+GFP -------------------------> Carefull to how I define this\n",
      "    real pre[nindu,m]; // Input values during the 24h incubation ordered as IPTG, aTc\n",
      "\n",
      "    for(i in 1:m){\n",
      "        for(k in 1:nindu){\n",
      "          pre[k,i] = preInd[k,i]; //-> If people only give a Y0 value, this will be NO needed\n",
      "        };\n",
      "    };\n",
      "\n",
      "}\n",
      "    \n",
      "\n",
      "parameters {\n",
      "\n",
      "real<lower=-2,upper=2> alpha1; \n",
      "real<lower=-2,upper=2> Vm1; \n",
      "real<lower=-2,upper=2> h1; \n",
      "real<lower=-2,upper=2> Km1; \n",
      "real<lower=-2,upper=2> d1; \n",
      "real<lower=-2,upper=2> alpha2; \n",
      "real<lower=-2,upper=2> d2; \n",
      "real<lower=-2,upper=2> Kf; \n",
      "real<lower=-2,upper=2> sc_molec; \n",
      "\n",
      "\n",
      "}\n",
      "\n",
      "    \n",
      "\n",
      "transformed parameters {\n",
      "\n",
      "real theta[nParms]; \n",
      "theta[1] = ((alpha1)*(0.1237403))+0.2475194; \n",
      "theta[2] = ((Vm1)*(0.11405))+0.2669; \n",
      "theta[3] = ((h1)*(1.1))+2.7; \n",
      "theta[4] = ((Km1)*(2.0))+6.0; \n",
      "theta[5] = ((d1)*(0.055575))+0.11885000000000001; \n",
      "theta[6] = ((alpha2)*(1.6408500000000001))+3.525; \n",
      "theta[7] = ((d2)*(0.06121005))+0.1224799; \n",
      "theta[8] = ((Kf)*(0.002425))+0.01685; \n",
      "theta[9] = ((sc_molec)*(2.49975))+5.0005; \n",
      "\n",
      "\n",
      "}\n",
      "\n",
      "    \n",
      "\n",
      "model {\n",
      "\n",
      "  // Intermediate parameters\n",
      "  int i; // Increasing index for the inputs\n",
      "  vector[Neq] ing; // Vector that will include the solution of the algebraic solution for the steady state of the model\n",
      "  \n",
      "  real Y0[Neq,m]; // Initial values for the ODEs variables at the first event\n",
      "  real yhat[stslm,m,obser]; // ---> Generall array to include all the observables (easier generalisation)\n",
      "\n",
      "  // Reparameterised priors definition\n",
      "alpha1 ~ normal(0,1); \n",
      "Vm1 ~ normal(0,1); \n",
      "h1 ~ normal(0,1); \n",
      "Km1 ~ normal(0,1); \n",
      "d1 ~ normal(0,1); \n",
      "alpha2 ~ normal(0,1); \n",
      "d2 ~ normal(0,1); \n",
      "Kf ~ normal(0,1); \n",
      "sc_molec ~ normal(0,1); \n",
      "\n",
      "\n",
      "  // Likelihood\n",
      "  for (j in 1:m){\n",
      "\n",
      "    real ivst[Neq]; // Initial value of the states\n",
      "    real y_hat[(tsl[1,j]),Neq]; // Object to include the ODEs solutions for each state\n",
      "\n",
      "    // Calculation of Y0\n",
      "\n",
      "    ing = SteadyState(to_vector(ivss[,j]), to_vector(theta), pre[,j], x_i);\n",
      "    for(g in 1:Neq){\n",
      "      Y0[g,j] = ing[g];\n",
      "    };\n",
      "\n",
      "\n",
      "    i = 1;\n",
      "\n",
      "    // Loop (over the number of events/inputs) to solve the ODE for each event stopping the solver and add them to the final object y_hat\n",
      "\n",
      "    for (q in 1:Nsp[1,j]-1){\n",
      "      int itp = evnT[q,j];  // Initial time points of each event\n",
      "      int lts = num_elements(ts[(evnT[q,j]+1):(evnT[q+1,j]+1),j]);  // Length of the time series for each event\n",
      "      real part1[lts,Neq]; // Temporary object that will include the solution of the ODE for each event at each loop\n",
      "\n",
      "      // Calculation of the solution for the ODEs where for events that are not the first one. The time series starts one minute before the original point of the time serie overlaping with the last point of the previous event with same state values at the time\n",
      "      if (q == 1){\n",
      "        ivst = Y0[,j];\n",
      "        part1 = integrate_ode_bdf(PLacExample_ODEs,ivst,itp,ts[(evnT[q,j]+1):(evnT[q+1,j]+1),j],theta,to_array_1d(inputs[i:(i+(nindu-1)),j]), x_i, 1.0e-9, 1.0e-9, 1e7);\n",
      "      }\n",
      "      else{\n",
      "        part1 = integrate_ode_bdf(PLacExample_ODEs, ivst,(itp-1e-7),ts[(evnT[q,j]+1):(evnT[q+1,j]+1),j],theta,to_array_1d(inputs[i:(i+(nindu-1)),j]), x_i, 1.0e-9, 1.0e-9, 1e7);\n",
      "      }\n",
      "\n",
      "      // Modification of the initial state values for the next event\n",
      "      ivst = part1[lts];\n",
      "      // Increase index for inputs\n",
      "      i=i+nindu;\n",
      "\n",
      "      // Introduction of the result of part1 into the object y_hat\n",
      "      for (y in (itp+1):(itp+lts)){\n",
      "        y_hat[(y),]=(part1)[(y-itp),];\n",
      "      };\n",
      "    };\n",
      "\n",
      "    // Likelihood definition (residuals) at each sampling time\n",
      "\n",
      "    for (t in 1:stsl[1,j]){ //----> General form\n",
      "        yhat[t,j,1] = 3*y_hat[(sts[t,j]+1),4]; \n",
      "        Means[t,j,1] ~ normal(yhat[t,j,1],Erros[t,j,1]);\n",
      "    }\n",
      "\n",
      "  }\n",
      "}\n",
      "\n",
      "    "
     ]
    }
   ],
   "source": [
    "stream = open(raw\"E:\\UNI\\D_Drive\\PhD\\JULIAlang\\Generalisation_PLacExample\\Examples\\ModelsFunctions\\PLacExample_StanModel.stan\",\"r\");\n",
    "Model = read(stream,String);\n",
    "close(stream);\n",
    "print(Model)"
   ]
  },
  {
   "cell_type": "markdown",
   "metadata": {},
   "source": [
    "And now the contents of the result structure"
   ]
  },
  {
   "cell_type": "code",
   "execution_count": 61,
   "metadata": {},
   "outputs": [
    {
     "data": {
      "text/plain": [
       "Dict{Any,Any} with 5 entries:\n",
       "  \"init\"      => Any[]\n",
       "  \"StanModel\" =>   name =                    \"PLacExample_Stan_test\"…\n",
       "  \"inferdata\" => Dict{String,Any}(\"Means\"=>[2945.28 2382.2; 2245.26 2601.88; … …\n",
       "  \"Model\"     => \"\\n\\nfunctions{\\n\\n    real[] PLacExample_ODEs(real t, real[] …\n",
       "  \"modelpath\" => \"E:\\\\UNI\\\\D_Drive\\\\PhD\\\\JULIAlang\\\\Generalisation_PLacExample\\…"
      ]
     },
     "execution_count": 61,
     "metadata": {},
     "output_type": "execute_result"
    }
   ],
   "source": [
    "stan_res"
   ]
  },
  {
   "cell_type": "markdown",
   "metadata": {},
   "source": [
    "**- init:** Again, the initial condition for the inference if given. In this case it is empty. "
   ]
  },
  {
   "cell_type": "code",
   "execution_count": 62,
   "metadata": {},
   "outputs": [
    {
     "data": {
      "text/plain": [
       "0-element Array{Any,1}"
      ]
     },
     "execution_count": 62,
     "metadata": {},
     "output_type": "execute_result"
    }
   ],
   "source": [
    "stan_res[\"init\"]"
   ]
  },
  {
   "cell_type": "markdown",
   "metadata": {},
   "source": [
    "**- StanModel:** The stan structure with all the settings for the inference."
   ]
  },
  {
   "cell_type": "code",
   "execution_count": 63,
   "metadata": {},
   "outputs": [
    {
     "data": {
      "text/plain": [
       "  name =                    \"PLacExample_Stan_test\"\n",
       "  nchains =                 3\n",
       "  num_samples =             20\n",
       "  num_warmup =                5\n",
       "  thin =                    1\n",
       "  monitors =                String[]\n",
       "  model_file =              \"PLacExample_Stan_test.stan\"\n",
       "  data_file =               \"\"\n",
       "  output =                  Output()\n",
       "    file =                    \"\"\n",
       "    diagnostics_file =        \"\"\n",
       "    refresh =                 100\n",
       "  pdir =                   \"E:\\UNI\\D_Drive\\PhD\\JULIAlang\\Generalisation_PLacExample\\Examples\"\n",
       "  tmpdir =                 \"E:\\UNI\\D_Drive\\PhD\\JULIAlang\\Generalisation_PLacExample\\Examples\\tmp\"\n",
       "  output_format =           :array\n",
       "  method =                  Sample()\n",
       "    num_samples =             20\n",
       "    num_warmup =              5\n",
       "    save_warmup =             false\n",
       "    thin =                    1\n",
       "    algorithm =               HMC()\n",
       "      engine =                  NUTS()\n",
       "        max_depth =               13\n",
       "      metric =                  CmdStan.diag_e\n",
       "      stepsize =                1.0\n",
       "      stepsize_jitter =         0.5\n",
       "    adapt =                   Adapt()\n",
       "      gamma =                   0.05\n",
       "      delta =                   0.95\n",
       "      kappa =                   0.75\n",
       "      t0 =                      10.0\n",
       "      init_buffer =             75\n",
       "      term_buffer =             50\n",
       "      window =                  25\n"
      ]
     },
     "execution_count": 63,
     "metadata": {},
     "output_type": "execute_result"
    }
   ],
   "source": [
    "stan_res[\"StanModel\"]"
   ]
  },
  {
   "cell_type": "markdown",
   "metadata": {},
   "source": [
    "**- inferdata:** The dictionary containing the data for the inference. If you would like to run the inference in a different environment (such as R), the data structure has to be exactly the same (including types and dimensions), so be carefull. If you run a mock inference with this data, in the stan temporary directory you will see some R files with the data structure so you can also guide yourself. "
   ]
  },
  {
   "cell_type": "code",
   "execution_count": 64,
   "metadata": {},
   "outputs": [
    {
     "data": {
      "text/plain": [
       "Dict{String,Any} with 19 entries:\n",
       "  \"Means\"  => [2945.28 2382.2; 2245.26 2601.88; … ; 6486.45 0.0; 6129.91 0.0]\n",
       "  \"evnT\"   => [0 0; 500 1439; 1000 0; 1439 0]\n",
       "  \"stsl\"   => [288 144]\n",
       "  \"Nsp\"    => [4 2]\n",
       "  \"sts\"    => [0 0; 5 10; … ; 1430 0; 1435 0]\n",
       "  \"obser\"  => 1\n",
       "  \"obSta\"  => [0]\n",
       "  \"Y0us\"   => [1.0 1.0; 1.0 1.0; 1.0 1.0; 1.0 1.0]\n",
       "  \"ts\"     => [2.0e-9 2.0e-9; 1.0 1.0; … ; 1438.0 1438.0; 1439.0 1439.0]\n",
       "  \"tsmax\"  => [1439, 1439]\n",
       "  \"tsl\"    => [1440 1440]\n",
       "  \"nindu\"  => 1\n",
       "  \"stslm\"  => 288\n",
       "  \"preInd\" => [0.0 0.0]\n",
       "  \"tml\"    => 1440\n",
       "  \"elm\"    => 3\n",
       "  \"Erros\"  => [246.903 246.903; 250.88 281.58; … ; 622.988 0.0; 622.976 0.0]\n",
       "  \"m\"      => 2\n",
       "  \"inputs\" => [5.0 7.5; 100.0 0.0; 1.0 0.0]"
      ]
     },
     "execution_count": 64,
     "metadata": {},
     "output_type": "execute_result"
    }
   ],
   "source": [
    "stan_res[\"inferdata\"]"
   ]
  },
  {
   "cell_type": "markdown",
   "metadata": {},
   "source": [
    "**- Model:** The Stan model that will be used"
   ]
  },
  {
   "cell_type": "code",
   "execution_count": 66,
   "metadata": {},
   "outputs": [
    {
     "name": "stdout",
     "output_type": "stream",
     "text": [
      "\n",
      "\n",
      "functions{\n",
      "\n",
      "    real[] PLacExample_ODEs(real t, real[] y, real[] p, real[] x_r, int[] x_i){\n",
      "\n",
      "      // Inputs\n",
      "      real IPTG = x_r[1]; \n",
      "\n",
      "\n",
      "      // Parameters\n",
      "      real alpha1 = p[1]; \n",
      "      real Vm1 = p[2]; \n",
      "      real h1 = p[3]; \n",
      "      real Km1 = p[4]; \n",
      "      real d1 = p[5]; \n",
      "      real alpha2 = p[6]; \n",
      "      real d2 = p[7]; \n",
      "      real Kf = p[8]; \n",
      "      real sc_molec = p[9]; \n",
      "\n",
      "\n",
      "      // ODEs\n",
      "      real dInd_dt[4];\n",
      "\n",
      "      real Cit_mrna = y[1]; \n",
      "      real Cit_foldedP = y[2]; \n",
      "      real Cit_fluo = y[3]; \n",
      "      real Cit_AU = y[4]; \n",
      "\n",
      "\n",
      "      dInd_dt[1] = alpha1+Vm1*(IPTG^h1/(Km1^h1+IPTG^h1))-d1*Cit_mrna; \n",
      "      dInd_dt[2] = alpha2*Cit_mrna-(d2+Kf)*Cit_foldedP; \n",
      "      dInd_dt[3] = Kf*Cit_foldedP-d2*Cit_fluo; \n",
      "      dInd_dt[4] =  sc_molec*dInd_dt[3]; \n",
      "\n",
      "\n",
      "      // Results\n",
      "      return dInd_dt;\n",
      "\n",
      "    }\n",
      "\n",
      "\n",
      "    vector SteadyState(vector init, vector p, real[] x_r, int[] x_i){\n",
      "\n",
      "\n",
      "      vector[4] alp;\n",
      "\n",
      "      // Parameters and Inputs\n",
      "      real alpha1 = p[1]; \n",
      "      real Vm1 = p[2]; \n",
      "      real h1 = p[3]; \n",
      "      real Km1 = p[4]; \n",
      "      real d1 = p[5]; \n",
      "      real alpha2 = p[6]; \n",
      "      real d2 = p[7]; \n",
      "      real Kf = p[8]; \n",
      "      real sc_molec = p[9]; \n",
      "\n",
      "      real IPTG = x_r[1]; \n",
      "\n",
      "\n",
      "      // Equations\n",
      "\n",
      "      alp[1] =  (alpha1 + Vm1*(IPTG^h1/(Km1^h1+IPTG^h1)))/d1;; \n",
      "      alp[2] =  (alpha2*alp[1])/(Kf+d2);; \n",
      "      alp[3] =  (Kf*alp[2])/d2;; \n",
      "      alp[4] =  sc_molec*alp[3];; \n",
      "\n",
      "\n",
      "      // Results\n",
      "      return alp;\n",
      "                \n",
      "\n",
      "    }\n",
      "\n",
      "}\n",
      "    \n",
      "\n",
      "data {\n",
      "\n",
      "    // Observables\n",
      "    int m; // Total number of data series\n",
      "    int stslm; // Maximum number of rows for all the observable matrices\n",
      "    int stsl[1,m]; // Number of elements at each time series for each series m\n",
      "    int sts[stslm,m]; // Sampling times for each series m\n",
      "    int obser;//-> Introduce this so we have all the data in one same array (easier generalisation). Work on generalisation in case different experiments have different obsevables?\n",
      "    int obSta[1,obser]; // -> This variable will be to know which are the observable states\n",
      "\n",
      "    real Means[stslm,m,obser]; // ---> General arrays of means and errors\n",
      "      real Erros[stslm,m,obser];\n",
      "\n",
      "    // Inputs\n",
      "    int elm; // Number of rows in the matrices for IPTG and aTc, half for the inputs and -1 for the total number of events\n",
      "    int tml; // Maximum length of the rows for the sampling times matrix\n",
      "    int Nsp[1,m]; // Number of event switching points (including final time) times for each series m\n",
      "    real ts[tml, m]; // Time series for each serie m\n",
      "    int tsl[1,m]; // Length of sampling time series per serie m\n",
      "\n",
      "    int nindu; // -> Number of inducers/stimuly\n",
      "    real preInd[nindu,m]; // Values of inputs for each serie m for the ON incubation\n",
      "\n",
      "    real inputs[(elm*nindu),m]; // Input values for each event ordered as IPTG, aTc, IPTG, aTc, ...\n",
      "\n",
      "    int evnT[(elm+1),m]; // Event change time points for each serie m\n",
      "    real Y0us[4,m]; // Y0 vectors\n",
      "\n",
      "\n",
      "\n",
      "    // Prior parameters\n",
      "    int numN;\n",
      "    vector[numN] mera; // Mean\n",
      "    matrix[numN,numN] cora; // Covariance matrix\n",
      "    \n",
      "}\n",
      "\n",
      "\n",
      "    \n",
      "\n",
      "transformed data {\n",
      "\n",
      "    int nParms = 9; // Number of parameters of the model //--------> Introduce number in generation of script\n",
      "    int Neq = 4; // Total number of equations of the model //-----> Introduce number in generation of script\n",
      "    int x_i[0]; // Empty x_i object (needs to be defined)\n",
      "    real x_r[(elm*nindu),m]=inputs; // Input values for each event ordered as IPTG, aTc, IPTG, aTc, ...\n",
      "    real ivss[Neq,m] = Y0us; // Initial experimental values for the calculation of the steady state ordered as LacI+RFP, TetR+GFP -------------------------> Carefull to how I define this\n",
      "    real pre[nindu,m]; // Input values during the 24h incubation ordered as IPTG, aTc\n",
      "\n",
      "    for(i in 1:m){\n",
      "        for(k in 1:nindu){\n",
      "          pre[k,i] = preInd[k,i]; //-> If people only give a Y0 value, this will be NO needed\n",
      "        };\n",
      "    };\n",
      "\n",
      "}\n",
      "    \n",
      "\n",
      "parameters {\n",
      "\n",
      "real<lower=-2,upper=2> alpha1; \n",
      "real<lower=-2,upper=2> Vm1; \n",
      "real<lower=-2,upper=2> h1; \n",
      "real<lower=-2,upper=2> Km1; \n",
      "real<lower=-2,upper=2> d1; \n",
      "real<lower=-2,upper=2> alpha2; \n",
      "real<lower=-2,upper=2> d2; \n",
      "real<lower=-2,upper=2> Kf; \n",
      "real<lower=-2,upper=2> sc_molec; \n",
      "\n",
      "\n",
      "}\n",
      "\n",
      "    \n",
      "\n",
      "transformed parameters {\n",
      "\n",
      "real theta[nParms]; \n",
      "theta[1] = ((alpha1)*(0.1237403))+0.2475194; \n",
      "theta[2] = ((Vm1)*(0.11405))+0.2669; \n",
      "theta[3] = ((h1)*(1.1))+2.7; \n",
      "theta[4] = ((Km1)*(2.0))+6.0; \n",
      "theta[5] = ((d1)*(0.055575))+0.11885000000000001; \n",
      "theta[6] = ((alpha2)*(1.6408500000000001))+3.525; \n",
      "theta[7] = ((d2)*(0.06121005))+0.1224799; \n",
      "theta[8] = ((Kf)*(0.002425))+0.01685; \n",
      "theta[9] = ((sc_molec)*(2.49975))+5.0005; \n",
      "\n",
      "\n",
      "}\n",
      "\n",
      "    \n",
      "\n",
      "model {\n",
      "\n",
      "  // Intermediate parameters\n",
      "  int i; // Increasing index for the inputs\n",
      "  vector[Neq] ing; // Vector that will include the solution of the algebraic solution for the steady state of the model\n",
      "  \n",
      "  real Y0[Neq,m]; // Initial values for the ODEs variables at the first event\n",
      "  real yhat[stslm,m,obser]; // ---> Generall array to include all the observables (easier generalisation)\n",
      "\n",
      "  // Reparameterised priors definition\n",
      "alpha1 ~ normal(0,1); \n",
      "Vm1 ~ normal(0,1); \n",
      "h1 ~ normal(0,1); \n",
      "Km1 ~ normal(0,1); \n",
      "d1 ~ normal(0,1); \n",
      "alpha2 ~ normal(0,1); \n",
      "d2 ~ normal(0,1); \n",
      "Kf ~ normal(0,1); \n",
      "sc_molec ~ normal(0,1); \n",
      "\n",
      "\n",
      "  // Likelihood\n",
      "  for (j in 1:m){\n",
      "\n",
      "    real ivst[Neq]; // Initial value of the states\n",
      "    real y_hat[(tsl[1,j]),Neq]; // Object to include the ODEs solutions for each state\n",
      "\n",
      "    // Calculation of Y0\n",
      "\n",
      "    ing = SteadyState(to_vector(ivss[,j]), to_vector(theta), pre[,j], x_i);\n",
      "    for(g in 1:Neq){\n",
      "      Y0[g,j] = ing[g];\n",
      "    };\n",
      "\n",
      "\n",
      "    i = 1;\n",
      "\n",
      "    // Loop (over the number of events/inputs) to solve the ODE for each event stopping the solver and add them to the final object y_hat\n",
      "\n",
      "    for (q in 1:Nsp[1,j]-1){\n",
      "      int itp = evnT[q,j];  // Initial time points of each event\n",
      "      int lts = num_elements(ts[(evnT[q,j]+1):(evnT[q+1,j]+1),j]);  // Length of the time series for each event\n",
      "      real part1[lts,Neq]; // Temporary object that will include the solution of the ODE for each event at each loop\n",
      "\n",
      "      // Calculation of the solution for the ODEs where for events that are not the first one. The time series starts one minute before the original point of the time serie overlaping with the last point of the previous event with same state values at the time\n",
      "      if (q == 1){\n",
      "        ivst = Y0[,j];\n",
      "        part1 = integrate_ode_bdf(PLacExample_ODEs,ivst,itp,ts[(evnT[q,j]+1):(evnT[q+1,j]+1),j],theta,to_array_1d(inputs[i:(i+(nindu-1)),j]), x_i, 1.0e-9, 1.0e-9, 1e7);\n",
      "      }\n",
      "      else{\n",
      "        part1 = integrate_ode_bdf(PLacExample_ODEs, ivst,(itp-1e-7),ts[(evnT[q,j]+1):(evnT[q+1,j]+1),j],theta,to_array_1d(inputs[i:(i+(nindu-1)),j]), x_i, 1.0e-9, 1.0e-9, 1e7);\n",
      "      }\n",
      "\n",
      "      // Modification of the initial state values for the next event\n",
      "      ivst = part1[lts];\n",
      "      // Increase index for inputs\n",
      "      i=i+nindu;\n",
      "\n",
      "      // Introduction of the result of part1 into the object y_hat\n",
      "      for (y in (itp+1):(itp+lts)){\n",
      "        y_hat[(y),]=(part1)[(y-itp),];\n",
      "      };\n",
      "    };\n",
      "\n",
      "    // Likelihood definition (residuals) at each sampling time\n",
      "\n",
      "    for (t in 1:stsl[1,j]){ //----> General form\n",
      "        yhat[t,j,1] = 3*y_hat[(sts[t,j]+1),4]; \n",
      "        Means[t,j,1] ~ normal(yhat[t,j,1],Erros[t,j,1]);\n",
      "    }\n",
      "\n",
      "  }\n",
      "}\n",
      "\n",
      "    "
     ]
    }
   ],
   "source": [
    "print(stan_res[\"Model\"])"
   ]
  },
  {
   "cell_type": "markdown",
   "metadata": {},
   "source": [
    "**- modelpath:** The path where the stan model is saved just in case. "
   ]
  },
  {
   "cell_type": "code",
   "execution_count": 67,
   "metadata": {},
   "outputs": [
    {
     "data": {
      "text/plain": [
       "\"E:\\\\UNI\\\\D_Drive\\\\PhD\\\\JULIAlang\\\\Generalisation_PLacExample\\\\Examples\\\\ModelsFunctions\\\\PLacExample_StanModel.stan\""
      ]
     },
     "execution_count": 67,
     "metadata": {},
     "output_type": "execute_result"
    }
   ],
   "source": [
    "stan_res[\"modelpath\"]"
   ]
  },
  {
   "cell_type": "markdown",
   "metadata": {},
   "source": [
    "# Stan Inference Example 2\n",
    "Now let's take the same example as before but running the stan inference (be carefull on running this section if you do not have cmdstan installed) <br>\n",
    "We are going to use a really low number of samples to speed things up, so do not expect good results. "
   ]
  },
  {
   "cell_type": "code",
   "execution_count": 103,
   "metadata": {},
   "outputs": [],
   "source": [
    "bayinf_def = defBayInfStruct()\n",
    "bayinf_def[\"runInf\"] = [true];\n",
    "bayinf_def[\"Data\"] = defBayInfDataFromFilesStruct();\n",
    "bayinf_def[\"StanSettings\"] = defBasicStanSettingsStruct(); \n",
    "bayinf_def[\"flag\"] = [\"test\"]; \n",
    "bayinf_def[\"plot\"] = [true]; \n",
    "bayinf_def[\"MultiNormFit\"] = [];\n",
    "bayinf_def[\"Data\"][\"Observables\"] = [\"PseudoDataFiles\\\\TestPLac_EXP1_Example1b_Observables.csv\", \"PseudoDataFiles\\\\TestPLac_EXP2_Example1b_Observables.csv\"];\n",
    "bayinf_def[\"Data\"][\"Inputs\"] = [\"PseudoDataFiles\\\\TestPLac_EXP1_Example1_Events_Inputs.csv\", \"PseudoDataFiles\\\\TestPLac_EXP2_Example1_Events_Inputs.csv\"];\n",
    "bayinf_def[\"Data\"][\"Obs\"] = [\"3*Cit_AU\"];\n",
    "bayinf_def[\"Data\"][\"y0\"] = [[1,1,1,1],[1,1,1,1]];\n",
    "bayinf_def[\"StanSettings\"][\"cmdstan_home\"] = [\"C:/Users/David/.cmdstanpy/cmdstan-2.20.0\"];\n",
    "bayinf_def[\"StanSettings\"][\"nchains\"] = [3];\n",
    "bayinf_def[\"StanSettings\"][\"nsamples\"] = [20];\n",
    "bayinf_def[\"StanSettings\"][\"nwarmup\"] = [5];\n",
    "bayinf_def[\"StanSettings\"][\"printsummary\"] = [true]; \n",
    "bayinf_def[\"StanSettings\"][\"maxdepth\"] = [13];\n",
    "bayinf_def[\"StanSettings\"][\"adaptdelta\"] = [0.95];\n",
    "bayinf_def[\"StanSettings\"][\"jitter\"] = [0.5];\n",
    "bayinf_def[\"StanSettings\"][\"init\"] = [];\n",
    "bayinf_def[\"Priors\"] = [0.4950 0.4950 4.9 10 0.23 6.8067 0.2449 0.0217 10;\n",
    "3.88e-5 3.88e-2 0.5 2 7.7e-3 0.2433 5.98e-5 0.012 0.001];"
   ]
  },
  {
   "cell_type": "code",
   "execution_count": 104,
   "metadata": {},
   "outputs": [
    {
     "name": "stdout",
     "output_type": "stream",
     "text": [
      "----------------------------------------- STAN INFERENCE INFO -----------------------------------------\n",
      "Inference will be performed since there is enough information from the user:\n",
      "Stan temporary files will be stored in your current working directory in the folder tmp.\n",
      "--------------------------------------------------------------------------------------\n",
      "-------------------------- WARNING!!! --------------------------\n",
      "Please, be carefull with the definition of parameters, transformations and prior distributions.\n",
      "No check will be done in this section.\n",
      "\n",
      "----------------------------------------- STAN MODEL GENERATION -----------------------------------------\n",
      "The model has been generated in the directory: \n",
      "                 E:\\UNI\\D_Drive\\PhD\\JULIAlang\\Generalisation_PLacExample\\Examples\\ModelsFunctions\\PLacExample_StanModel.stan\n",
      "--------------------------------------------------------------------------------------\n",
      "\n",
      "\n",
      "File E:\\UNI\\D_Drive\\PhD\\JULIAlang\\Generalisation_PLacExample\\Examples\\tmp\\PLacExample_Stan_test.stan will be updated.\n",
      "\n",
      "Inference for Stan model: PLacExample_Stan_test_model\n",
      "3 chains: each with iter=(20,20,20); warmup=(0,0,0); thin=(1,1,1); 60 iterations saved.\n",
      "\n",
      "Warmup took (0.73, 0.43, 0.29) seconds, 1.5 seconds total\n",
      "Sampling took (1.9, 1.2, 0.71) seconds, 3.8 seconds total\n",
      "\n",
      "                    Mean     MCSE   StdDev        5%       50%       95%  N_Eff  N_Eff/s  R_hat\n",
      "lp__           -1.9e+004 2.2e+003 4.1e+003 -2.2e+004 -2.1e+004 -1.0e+004    3.6     0.93    2.0\n",
      "accept_stat__   1.4e-001 1.2e-001 2.3e-001  0.0e+000  1.7e-003  4.9e-001    3.6     0.93    1.4\n",
      "stepsize__      1.5e-002 1.1e-003 5.1e-003  8.0e-003  1.4e-002  2.3e-002     20      5.2    1.0\n",
      "treedepth__     1.6e+000 6.1e-001 1.1e+000  0.0e+000  2.0e+000  3.0e+000    3.2     0.83    1.5\n",
      "n_leapfrog__    3.9e+000 1.7e+000 3.5e+000  1.0e+000  3.0e+000  1.4e+001    4.2      1.1    1.5\n",
      "divergent__     4.3e-001 1.4e-001 5.0e-001  0.0e+000  0.0e+000  1.0e+000     14      3.5    1.1\n",
      "energy__        1.9e+004 2.2e+003 3.9e+003  1.0e+004  2.1e+004  2.2e+004    3.3     0.86    2.2\n",
      "alpha1          6.0e-001 4.0e-001 5.4e-001  1.3e-001  1.8e-001  1.3e+000    1.8     0.47     10\n",
      "Vm1            -1.3e+000 8.0e-002 1.1e-001 -1.4e+000 -1.3e+000 -1.2e+000    1.8     0.47    5.6\n",
      "h1              7.1e-001 6.3e-001 8.4e-001 -5.5e-001  1.2e+000  1.4e+000    1.8     0.46     36\n",
      "Km1            -2.9e-001 3.7e-001 4.9e-001 -9.7e-001  4.0e-002  9.4e-002    1.8     0.46     16\n",
      "d1              4.8e-001 8.1e-001 1.1e+000 -1.2e+000  1.1e+000  1.4e+000    1.8     0.46     16\n",
      "alpha2          2.5e-001 6.4e-001 8.8e-001 -8.3e-001 -2.1e-001  1.5e+000    1.8     0.48    5.0\n",
      "d2             -7.7e-001 3.8e-001 6.3e-001 -1.5e+000 -1.1e+000  4.1e-001    2.7     0.70    2.1\n",
      "Kf              1.9e-001 3.4e-001 4.5e-001 -4.2e-001  7.1e-002  8.3e-001    1.8     0.47    7.6\n",
      "sc_molec        1.9e-001 4.4e-001 6.0e-001 -6.3e-001  4.4e-001  7.5e-001    1.9     0.49    5.1\n",
      "theta[1]        3.2e-001 4.9e-002 6.6e-002  2.6e-001  2.7e-001  4.1e-001    1.8     0.47     10\n",
      "theta[2]        1.2e-001 9.1e-003 1.2e-002  1.0e-001  1.1e-001  1.3e-001    1.8     0.47    5.6\n",
      "theta[3]        3.5e+000 7.0e-001 9.3e-001  2.1e+000  4.0e+000  4.3e+000    1.8     0.46     36\n",
      "theta[4]        5.4e+000 7.3e-001 9.7e-001  4.1e+000  6.1e+000  6.2e+000    1.8     0.46     16\n",
      "theta[5]        1.5e-001 4.5e-002 6.0e-002  5.0e-002  1.8e-001  2.0e-001    1.8     0.46     16\n",
      "theta[6]        3.9e+000 1.1e+000 1.4e+000  2.2e+000  3.2e+000  5.9e+000    1.8     0.48    5.0\n",
      "theta[7]        7.5e-002 2.3e-002 3.8e-002  3.1e-002  5.6e-002  1.5e-001    2.7     0.70    2.1\n",
      "theta[8]        1.7e-002 8.2e-004 1.1e-003  1.6e-002  1.7e-002  1.9e-002    1.8     0.47    7.6\n",
      "theta[9]        5.5e+000 1.1e+000 1.5e+000  3.4e+000  6.1e+000  6.9e+000    1.9     0.49    5.1\n",
      "\n",
      "Samples were drawn using hmc with nuts.\n",
      "For each parameter, N_Eff is a crude measure of effective sample size,\n",
      "and R_hat is the potential scale reduction factor on split chains (at \n",
      "convergence, R_hat=1).\n",
      "\n",
      "\n",
      "----------------------------------------- STAN RESULTS -----------------------------------------\n",
      "Stan Inference results are saved in the directory: \n",
      "E:\\UNI\\D_Drive\\PhD\\JULIAlang\\Generalisation_PLacExample\\Examples\\Results\\PLacExample_2021-01-08\\StanResults\n",
      "--------------------------------------------------------------------------------------\n",
      "\n",
      "\n",
      "----------------------------------------- RESULTS -----------------------------------------\n",
      "Stan Inference process results are saved in the directory: \n",
      "E:\\UNI\\D_Drive\\PhD\\JULIAlang\\Generalisation_PLacExample\\Examples\\Results\\PLacExample_2021-01-08\n",
      "Under the name: \n",
      "StanInferenceResults_PLacExample_test.jld\n",
      "--------------------------------------------------------------------------------------\n",
      "\n",
      "\n",
      "----------------------------------------- RESULTS -----------------------------------------\n",
      "Simulation results are saved in the directory: \n",
      "                 E:\\UNI\\D_Drive\\PhD\\JULIAlang\\Generalisation_PLacExample\\Examples\\Results\\PLacExample_2021-01-08\n",
      "Under the name PLacExample_2021-01-08_SimulationResults_StanInferResults.jld\n",
      "--------------------------------------------------------------------------------------\n",
      "\n",
      "\n",
      "----------------------------------------- PLOTS -----------------------------------------\n",
      "Stan Inference Results PLOTS are saved in the directory: \n",
      "                 E:\\UNI\\D_Drive\\PhD\\JULIAlang\\Generalisation_PLacExample\\Examples\\Results\\PLacExample_2021-01-08\n",
      "Under the names PlotStanInfResults_Exp(i)_test.png for simulations\n",
      "And PosteriorPlots_test.png for the posteriors.\n",
      "--------------------------------------------------------------------------------------\n",
      "\n"
     ]
    }
   ],
   "source": [
    "stan_res2, model_def, bayinf_def = StanInfer(model_def, bayinf_def);"
   ]
  },
  {
   "cell_type": "markdown",
   "metadata": {},
   "source": [
    "#### First let's have a look at the prints\n",
    "The first 3 prints are the same as before, but now saying that inference will be performed: <br>\n",
    "**- Big matrix:** This are the print results from stan. For more information go to Stan documentation. <br>\n",
    "**- STAN RESULTS:** Path to the stan results as they come from the Stan call. <br>\n",
    "**- RESULTS:** Path to the BOMBS results file (we will go through it at the next box)<br>\n",
    "**- RESULTS:** Path to the simulation results using the theta infered from Stan. <br>\n",
    "**- PLOTS:** Path to the plots generated (simulations and Posterior plots).<br>"
   ]
  },
  {
   "cell_type": "markdown",
   "metadata": {},
   "source": [
    "#### And now lets have a look at the BOMBS stan results\n",
    "Only the fields that do not appeared before or have different contents will be looked up. "
   ]
  },
  {
   "cell_type": "code",
   "execution_count": 105,
   "metadata": {},
   "outputs": [
    {
     "data": {
      "text/plain": [
       "Dict{Any,Any} with 7 entries:\n",
       "  \"Init\"      => Any[]\n",
       "  \"StanModel\" =>   name =                    \"PLacExample_Stan_test\"…\n",
       "  \"cnames\"    => [\"lp__\", \"accept_stat__\", \"stepsize__\", \"treedepth__\", \"n_leap…\n",
       "  \"posterior\" => [0.408944 0.109448 … 0.015796 5.59406; 0.408951 0.111634 … 0.0…\n",
       "  \"Model\"     => \"\\n\\nfunctions{\\n\\n    real[] PLacExample_ODEs(real t, real[] …\n",
       "  \"chains\"    => [-21637.9 0.966158 … 0.015796 5.59406; -21636.2 0.487533 … 0.0…\n",
       "  \"InferData\" => Dict{String,Any}(\"Means\"=>[2945.28 2382.2; 2245.26 2601.88; … …"
      ]
     },
     "execution_count": 105,
     "metadata": {},
     "output_type": "execute_result"
    }
   ],
   "source": [
    "stan_res2"
   ]
  },
  {
   "cell_type": "markdown",
   "metadata": {},
   "source": [
    "**- cnames:** Names for all the fields (same as the stan matrix) to guide indexing for chains. This is the output from the stan call. "
   ]
  },
  {
   "cell_type": "code",
   "execution_count": 107,
   "metadata": {},
   "outputs": [
    {
     "data": {
      "text/plain": [
       "25-element Array{String,1}:\n",
       " \"lp__\"\n",
       " \"accept_stat__\"\n",
       " \"stepsize__\"\n",
       " \"treedepth__\"\n",
       " \"n_leapfrog__\"\n",
       " \"divergent__\"\n",
       " \"energy__\"\n",
       " \"alpha1\"\n",
       " \"Vm1\"\n",
       " \"h1\"\n",
       " \"Km1\"\n",
       " \"d1\"\n",
       " \"alpha2\"\n",
       " \"d2\"\n",
       " \"Kf\"\n",
       " \"sc_molec\"\n",
       " \"theta.1\"\n",
       " \"theta.2\"\n",
       " \"theta.3\"\n",
       " \"theta.4\"\n",
       " \"theta.5\"\n",
       " \"theta.6\"\n",
       " \"theta.7\"\n",
       " \"theta.8\"\n",
       " \"theta.9\""
      ]
     },
     "execution_count": 107,
     "metadata": {},
     "output_type": "execute_result"
    }
   ],
   "source": [
    "stan_res2[\"cnames\"]"
   ]
  },
  {
   "cell_type": "markdown",
   "metadata": {},
   "source": [
    "**- posterior:** Matrix with the extracted samples for the parameters (true values with no transformations needed)"
   ]
  },
  {
   "cell_type": "code",
   "execution_count": 108,
   "metadata": {},
   "outputs": [
    {
     "data": {
      "text/plain": [
       "60×9 Array{Float64,2}:\n",
       " 0.408944  0.109448  2.28773  6.13879  …  0.163787   0.015796   5.59406\n",
       " 0.408951  0.111634  2.27211  6.12484     0.162434   0.0158326  5.57856\n",
       " 0.409443  0.110866  2.33447  6.03344     0.155106   0.0158054  6.0212\n",
       " 0.410247  0.111712  2.32544  6.12976     0.147756   0.015998   6.02403\n",
       " 0.409345  0.113925  2.26271  6.18383     0.133412   0.0159847  6.27724\n",
       " 0.410923  0.114771  2.17614  6.02922  …  0.125222   0.0160748  6.32416\n",
       " 0.413518  0.115844  2.21728  6.08107     0.12343    0.0160949  6.34555\n",
       " 0.411626  0.114526  2.24782  6.10384     0.121427   0.0161704  6.37836\n",
       " 0.410525  0.113583  2.21628  6.1225      0.121014   0.0161401  6.39244\n",
       " 0.410525  0.113583  2.21628  6.1225      0.121014   0.0161401  6.39244\n",
       " 0.410525  0.113583  2.21628  6.1225   …  0.121014   0.0161401  6.39244\n",
       " 0.411154  0.113876  2.14865  6.08059     0.116679   0.0161374  6.48906\n",
       " 0.411154  0.113876  2.14865  6.08059     0.116679   0.0161374  6.48906\n",
       " ⋮                                     ⋱                        \n",
       " 0.269759  0.103169  4.01773  6.18828     0.0750201  0.018656   6.09602\n",
       " 0.269759  0.103169  4.01773  6.18828     0.0750201  0.018656   6.09602\n",
       " 0.269759  0.103169  4.01773  6.18828  …  0.0750201  0.018656   6.09602\n",
       " 0.315209  0.105885  3.98806  6.11028     0.0309226  0.0188694  6.87308\n",
       " 0.315209  0.105885  3.98806  6.11028     0.0309226  0.0188694  6.87308\n",
       " 0.315209  0.105885  3.98806  6.11028     0.0309226  0.0188694  6.87308\n",
       " 0.315209  0.105885  3.98806  6.11028     0.0309226  0.0188694  6.87308\n",
       " 0.315209  0.105885  3.98806  6.11028  …  0.0309226  0.0188694  6.87308\n",
       " 0.315209  0.105885  3.98806  6.11028     0.0309226  0.0188694  6.87308\n",
       " 0.315209  0.105885  3.98806  6.11028     0.0309226  0.0188694  6.87308\n",
       " 0.315209  0.105885  3.98806  6.11028     0.0309226  0.0188694  6.87308\n",
       " 0.315209  0.105885  3.98806  6.11028     0.0309226  0.0188694  6.87308"
      ]
     },
     "execution_count": 108,
     "metadata": {},
     "output_type": "execute_result"
    }
   ],
   "source": [
    "stan_res2[\"posterior\"]"
   ]
  },
  {
   "cell_type": "markdown",
   "metadata": {},
   "source": [
    "**- chains:** Array given by teh stan call. First dimension is the sample, second the element (see cnames) and third the chain"
   ]
  },
  {
   "cell_type": "code",
   "execution_count": 110,
   "metadata": {},
   "outputs": [
    {
     "data": {
      "text/plain": [
       "20×25×3 Array{Float64,3}:\n",
       "[:, :, 1] =\n",
       " -21637.9  0.966158    0.010105    4.0  …  0.163787   0.015796   5.59406\n",
       " -21636.2  0.487533    0.0261829   3.0     0.162434   0.0158326  5.57856\n",
       " -21615.3  0.935063    0.00934604  4.0     0.155106   0.0158054  6.0212\n",
       " -21591.8  0.37409     0.02205     3.0     0.147756   0.015998   6.02403\n",
       " -21541.7  0.362396    0.0106865   3.0     0.133412   0.0159847  6.27724\n",
       " -21506.6  0.426474    0.0112784   4.0  …  0.125222   0.0160748  6.32416\n",
       " -21496.2  0.365037    0.0150582   3.0     0.12343    0.0160949  6.34555\n",
       " -21477.9  0.122773    0.0164661   2.0     0.121427   0.0161704  6.37836\n",
       " -21473.7  0.442673    0.0154007   2.0     0.121014   0.0161401  6.39244\n",
       " -21473.7  0.264233    0.0204277   2.0     0.121014   0.0161401  6.39244\n",
       " -21473.7  0.104698    0.0233037   2.0  …  0.121014   0.0161401  6.39244\n",
       " -21443.8  0.425546    0.012691    3.0     0.116679   0.0161374  6.48906\n",
       " -21443.8  0.0375852   0.0241675   2.0     0.116679   0.0161374  6.48906\n",
       " -21418.5  0.794226    0.0114921   2.0     0.11375    0.0161506  6.54719\n",
       " -21412.2  0.436583    0.0143295   2.0     0.112829   0.0162086  6.57206\n",
       " -21412.2  0.0306045   0.0188742   2.0  …  0.112829   0.0162086  6.57206\n",
       " -21361.7  0.364324    0.0092093   3.0     0.108418   0.0162501  6.70363\n",
       " -21361.7  2.59088e-5  0.026998    1.0     0.108418   0.0162501  6.70363\n",
       " -10564.0  0.148463    0.0207457   3.0     0.0163006  0.0170065  8.12445\n",
       " -10564.0  0.0         0.0214212   0.0     0.0163006  0.0170065  8.12445\n",
       "\n",
       "[:, :, 2] =\n",
       " -21178.2  9.33749e-15  0.0194284   2.0  …  0.0560764  0.0170176  3.41479\n",
       " -21178.2  1.76738e-7   0.0167744   1.0     0.0560764  0.0170176  3.41479\n",
       " -21178.2  5.08598e-17  0.0199689   2.0     0.0560764  0.0170176  3.41479\n",
       " -21178.2  8.28157e-5   0.0146243   2.0     0.0560764  0.0170176  3.41479\n",
       " -21153.2  0.151384     0.00919203  2.0     0.0553818  0.0170217  3.43525\n",
       " -21153.2  0.243        0.0101143   1.0  …  0.0553818  0.0170217  3.43525\n",
       " -21153.2  0.0240568    0.00998298  2.0     0.0553818  0.0170217  3.43525\n",
       " -21153.2  0.0139862    0.0116434   2.0     0.0553818  0.0170217  3.43525\n",
       " -21153.2  0.0376817    0.0100801   3.0     0.0553818  0.0170217  3.43525\n",
       " -21153.2  3.17329e-29  0.0215958   1.0     0.0553818  0.0170217  3.43525\n",
       " -21153.2  0.0185586    0.0114853   2.0  …  0.0553818  0.0170217  3.43525\n",
       " -21153.2  1.11634e-26  0.0215477   1.0     0.0553818  0.0170217  3.43525\n",
       " -21153.2  0.00174372   0.0117852   2.0     0.0553818  0.0170217  3.43525\n",
       " -21153.2  5.5101e-27   0.021235    1.0     0.0553818  0.0170217  3.43525\n",
       " -21153.2  1.01579e-5   0.014448    1.0     0.0553818  0.0170217  3.43525\n",
       " -21153.2  0.0139715    0.0112619   3.0  …  0.0553818  0.0170217  3.43525\n",
       " -21113.6  0.215815     0.00869678  2.0     0.0540165  0.0170473  3.50177\n",
       " -21113.6  1.09818e-6   0.0150251   1.0     0.0540165  0.0170473  3.50177\n",
       " -21058.3  0.0228502    0.00884442  2.0     0.0520162  0.0170939  3.52772\n",
       " -21058.3  1.80245e-11  0.0160717   1.0     0.0520162  0.0170939  3.52772\n",
       "\n",
       "[:, :, 3] =\n",
       " -19103.6  0.0           0.0160648   0.0  …  0.0750201  0.018656   6.09602\n",
       " -19103.6  6.25506e-21   0.00803793  2.0     0.0750201  0.018656   6.09602\n",
       " -19103.6  0.0           0.0177728   0.0     0.0750201  0.018656   6.09602\n",
       " -19103.6  7.61613e-10   0.00664527  2.0     0.0750201  0.018656   6.09602\n",
       " -19103.6  2.16587e-47   0.00992155  1.0     0.0750201  0.018656   6.09602\n",
       " -19103.6  0.0           0.0174065   0.0  …  0.0750201  0.018656   6.09602\n",
       " -19103.6  0.0           0.0168467   0.0     0.0750201  0.018656   6.09602\n",
       " -19103.6  4.33216e-11   0.00696336  1.0     0.0750201  0.018656   6.09602\n",
       " -19103.6  1.52612e-49   0.00992544  1.0     0.0750201  0.018656   6.09602\n",
       " -19103.6  0.0           0.0174465   0.0     0.0750201  0.018656   6.09602\n",
       " -19103.6  0.333333      0.0127467   1.0  …  0.0750201  0.018656   6.09602\n",
       " -10488.4  0.333333      0.0121561   2.0     0.0309226  0.0188694  6.87308\n",
       " -10488.4  0.0           0.0174177   0.0     0.0309226  0.0188694  6.87308\n",
       " -10488.4  2.20763e-97   0.00868727  1.0     0.0309226  0.0188694  6.87308\n",
       " -10488.4  0.0           0.0166659   0.0     0.0309226  0.0188694  6.87308\n",
       " -10488.4  2.86083e-283  0.0105301   1.0  …  0.0309226  0.0188694  6.87308\n",
       " -10488.4  0.0           0.0142882   0.0     0.0309226  0.0188694  6.87308\n",
       " -10488.4  0.0           0.0114742   0.0     0.0309226  0.0188694  6.87308\n",
       " -10488.4  0.0           0.0109561   1.0     0.0309226  0.0188694  6.87308\n",
       " -10488.4  5.88018e-108  0.00911824  1.0     0.0309226  0.0188694  6.87308"
      ]
     },
     "execution_count": 110,
     "metadata": {},
     "output_type": "execute_result"
    }
   ],
   "source": [
    "stan_res2[\"chains\"]"
   ]
  },
  {
   "cell_type": "markdown",
   "metadata": {},
   "source": [
    "#### And now let's have a look at the plots"
   ]
  },
  {
   "cell_type": "code",
   "execution_count": 119,
   "metadata": {},
   "outputs": [],
   "source": [
    "using Images # Package not called in BOMBS, this is just to display the generated PNGs\n",
    "using Dates"
   ]
  },
  {
   "cell_type": "markdown",
   "metadata": {},
   "source": [
    "First, the posterior plot"
   ]
  },
  {
   "cell_type": "code",
   "execution_count": 121,
   "metadata": {},
   "outputs": [
    {
     "data": {
      "image/png": "[encoded data removed]",
      "text/plain": [
       "3999×3999 Array{RGB{N0f8},2} with eltype RGB{Normed{UInt8,8}}:\n",
       " RGB{N0f8}(1.0,1.0,1.0)  RGB{N0f8}(1.0,1.0,1.0)  …  RGB{N0f8}(1.0,1.0,1.0)\n",
       " RGB{N0f8}(1.0,1.0,1.0)  RGB{N0f8}(1.0,1.0,1.0)     RGB{N0f8}(1.0,1.0,1.0)\n",
       " RGB{N0f8}(1.0,1.0,1.0)  RGB{N0f8}(1.0,1.0,1.0)     RGB{N0f8}(1.0,1.0,1.0)\n",
       " RGB{N0f8}(1.0,1.0,1.0)  RGB{N0f8}(1.0,1.0,1.0)     RGB{N0f8}(1.0,1.0,1.0)\n",
       " RGB{N0f8}(1.0,1.0,1.0)  RGB{N0f8}(1.0,1.0,1.0)     RGB{N0f8}(1.0,1.0,1.0)\n",
       " RGB{N0f8}(1.0,1.0,1.0)  RGB{N0f8}(1.0,1.0,1.0)  …  RGB{N0f8}(1.0,1.0,1.0)\n",
       " RGB{N0f8}(1.0,1.0,1.0)  RGB{N0f8}(1.0,1.0,1.0)     RGB{N0f8}(1.0,1.0,1.0)\n",
       " RGB{N0f8}(1.0,1.0,1.0)  RGB{N0f8}(1.0,1.0,1.0)     RGB{N0f8}(1.0,1.0,1.0)\n",
       " RGB{N0f8}(1.0,1.0,1.0)  RGB{N0f8}(1.0,1.0,1.0)     RGB{N0f8}(1.0,1.0,1.0)\n",
       " RGB{N0f8}(1.0,1.0,1.0)  RGB{N0f8}(1.0,1.0,1.0)     RGB{N0f8}(1.0,1.0,1.0)\n",
       " RGB{N0f8}(1.0,1.0,1.0)  RGB{N0f8}(1.0,1.0,1.0)  …  RGB{N0f8}(1.0,1.0,1.0)\n",
       " RGB{N0f8}(1.0,1.0,1.0)  RGB{N0f8}(1.0,1.0,1.0)     RGB{N0f8}(1.0,1.0,1.0)\n",
       " RGB{N0f8}(1.0,1.0,1.0)  RGB{N0f8}(1.0,1.0,1.0)     RGB{N0f8}(1.0,1.0,1.0)\n",
       " ⋮                                               ⋱  \n",
       " RGB{N0f8}(1.0,1.0,1.0)  RGB{N0f8}(1.0,1.0,1.0)     RGB{N0f8}(1.0,1.0,1.0)\n",
       " RGB{N0f8}(1.0,1.0,1.0)  RGB{N0f8}(1.0,1.0,1.0)     RGB{N0f8}(1.0,1.0,1.0)\n",
       " RGB{N0f8}(1.0,1.0,1.0)  RGB{N0f8}(1.0,1.0,1.0)     RGB{N0f8}(1.0,1.0,1.0)\n",
       " RGB{N0f8}(1.0,1.0,1.0)  RGB{N0f8}(1.0,1.0,1.0)  …  RGB{N0f8}(1.0,1.0,1.0)\n",
       " RGB{N0f8}(1.0,1.0,1.0)  RGB{N0f8}(1.0,1.0,1.0)     RGB{N0f8}(1.0,1.0,1.0)\n",
       " RGB{N0f8}(1.0,1.0,1.0)  RGB{N0f8}(1.0,1.0,1.0)     RGB{N0f8}(1.0,1.0,1.0)\n",
       " RGB{N0f8}(1.0,1.0,1.0)  RGB{N0f8}(1.0,1.0,1.0)     RGB{N0f8}(1.0,1.0,1.0)\n",
       " RGB{N0f8}(1.0,1.0,1.0)  RGB{N0f8}(1.0,1.0,1.0)     RGB{N0f8}(1.0,1.0,1.0)\n",
       " RGB{N0f8}(1.0,1.0,1.0)  RGB{N0f8}(1.0,1.0,1.0)  …  RGB{N0f8}(1.0,1.0,1.0)\n",
       " RGB{N0f8}(1.0,1.0,1.0)  RGB{N0f8}(1.0,1.0,1.0)     RGB{N0f8}(1.0,1.0,1.0)\n",
       " RGB{N0f8}(1.0,1.0,1.0)  RGB{N0f8}(1.0,1.0,1.0)     RGB{N0f8}(1.0,1.0,1.0)\n",
       " RGB{N0f8}(1.0,1.0,1.0)  RGB{N0f8}(1.0,1.0,1.0)     RGB{N0f8}(1.0,1.0,1.0)"
      ]
     },
     "execution_count": 121,
     "metadata": {},
     "output_type": "execute_result"
    }
   ],
   "source": [
    "# Again, do not expect good results. Not even decent ones ;) \n",
    "# Also, you will not see much due to the high number of parameters. For a better look go to the actual file. \n",
    "PO1 = load(string(\"Results\\\\\",model_def[\"NameF\"],\"_\",today(),\"\\\\PosteriorPlots_\",bayinf_def[\"flag\"],\".png\"))"
   ]
  },
  {
   "cell_type": "markdown",
   "metadata": {},
   "source": [
    "And now the experiments"
   ]
  },
  {
   "cell_type": "code",
   "execution_count": 122,
   "metadata": {},
   "outputs": [
    {
     "data": {
      "image/png": "[encoded data removed]",
      "text/plain": [
       "1200×2000 Array{RGB{N0f8},2} with eltype RGB{Normed{UInt8,8}}:\n",
       " RGB{N0f8}(1.0,1.0,1.0)  RGB{N0f8}(1.0,1.0,1.0)  …  RGB{N0f8}(1.0,1.0,1.0)\n",
       " RGB{N0f8}(1.0,1.0,1.0)  RGB{N0f8}(1.0,1.0,1.0)     RGB{N0f8}(1.0,1.0,1.0)\n",
       " RGB{N0f8}(1.0,1.0,1.0)  RGB{N0f8}(1.0,1.0,1.0)     RGB{N0f8}(1.0,1.0,1.0)\n",
       " RGB{N0f8}(1.0,1.0,1.0)  RGB{N0f8}(1.0,1.0,1.0)     RGB{N0f8}(1.0,1.0,1.0)\n",
       " RGB{N0f8}(1.0,1.0,1.0)  RGB{N0f8}(1.0,1.0,1.0)     RGB{N0f8}(1.0,1.0,1.0)\n",
       " RGB{N0f8}(1.0,1.0,1.0)  RGB{N0f8}(1.0,1.0,1.0)  …  RGB{N0f8}(1.0,1.0,1.0)\n",
       " RGB{N0f8}(1.0,1.0,1.0)  RGB{N0f8}(1.0,1.0,1.0)     RGB{N0f8}(1.0,1.0,1.0)\n",
       " RGB{N0f8}(1.0,1.0,1.0)  RGB{N0f8}(1.0,1.0,1.0)     RGB{N0f8}(1.0,1.0,1.0)\n",
       " RGB{N0f8}(1.0,1.0,1.0)  RGB{N0f8}(1.0,1.0,1.0)     RGB{N0f8}(1.0,1.0,1.0)\n",
       " RGB{N0f8}(1.0,1.0,1.0)  RGB{N0f8}(1.0,1.0,1.0)     RGB{N0f8}(1.0,1.0,1.0)\n",
       " RGB{N0f8}(1.0,1.0,1.0)  RGB{N0f8}(1.0,1.0,1.0)  …  RGB{N0f8}(1.0,1.0,1.0)\n",
       " RGB{N0f8}(1.0,1.0,1.0)  RGB{N0f8}(1.0,1.0,1.0)     RGB{N0f8}(1.0,1.0,1.0)\n",
       " RGB{N0f8}(1.0,1.0,1.0)  RGB{N0f8}(1.0,1.0,1.0)     RGB{N0f8}(1.0,1.0,1.0)\n",
       " ⋮                                               ⋱  \n",
       " RGB{N0f8}(1.0,1.0,1.0)  RGB{N0f8}(1.0,1.0,1.0)     RGB{N0f8}(1.0,1.0,1.0)\n",
       " RGB{N0f8}(1.0,1.0,1.0)  RGB{N0f8}(1.0,1.0,1.0)     RGB{N0f8}(1.0,1.0,1.0)\n",
       " RGB{N0f8}(1.0,1.0,1.0)  RGB{N0f8}(1.0,1.0,1.0)  …  RGB{N0f8}(1.0,1.0,1.0)\n",
       " RGB{N0f8}(1.0,1.0,1.0)  RGB{N0f8}(1.0,1.0,1.0)     RGB{N0f8}(1.0,1.0,1.0)\n",
       " RGB{N0f8}(1.0,1.0,1.0)  RGB{N0f8}(1.0,1.0,1.0)     RGB{N0f8}(1.0,1.0,1.0)\n",
       " RGB{N0f8}(1.0,1.0,1.0)  RGB{N0f8}(1.0,1.0,1.0)     RGB{N0f8}(1.0,1.0,1.0)\n",
       " RGB{N0f8}(1.0,1.0,1.0)  RGB{N0f8}(1.0,1.0,1.0)     RGB{N0f8}(1.0,1.0,1.0)\n",
       " RGB{N0f8}(1.0,1.0,1.0)  RGB{N0f8}(1.0,1.0,1.0)  …  RGB{N0f8}(1.0,1.0,1.0)\n",
       " RGB{N0f8}(1.0,1.0,1.0)  RGB{N0f8}(1.0,1.0,1.0)     RGB{N0f8}(1.0,1.0,1.0)\n",
       " RGB{N0f8}(1.0,1.0,1.0)  RGB{N0f8}(1.0,1.0,1.0)     RGB{N0f8}(1.0,1.0,1.0)\n",
       " RGB{N0f8}(1.0,1.0,1.0)  RGB{N0f8}(1.0,1.0,1.0)     RGB{N0f8}(1.0,1.0,1.0)\n",
       " RGB{N0f8}(1.0,1.0,1.0)  RGB{N0f8}(1.0,1.0,1.0)     RGB{N0f8}(1.0,1.0,1.0)"
      ]
     },
     "execution_count": 122,
     "metadata": {},
     "output_type": "execute_result"
    }
   ],
   "source": [
    "ex1 = load(string(\"Results\\\\\",model_def[\"NameF\"],\"_\",today(),\"\\\\PlotStanInfResults_Exp\",1,\"_\",bayinf_def[\"flag\"],\".png\"))"
   ]
  },
  {
   "cell_type": "code",
   "execution_count": 123,
   "metadata": {},
   "outputs": [
    {
     "data": {
      "image/png": "[encoded data removed]",
      "text/plain": [
       "1200×2000 Array{RGB{N0f8},2} with eltype RGB{Normed{UInt8,8}}:\n",
       " RGB{N0f8}(1.0,1.0,1.0)  RGB{N0f8}(1.0,1.0,1.0)  …  RGB{N0f8}(1.0,1.0,1.0)\n",
       " RGB{N0f8}(1.0,1.0,1.0)  RGB{N0f8}(1.0,1.0,1.0)     RGB{N0f8}(1.0,1.0,1.0)\n",
       " RGB{N0f8}(1.0,1.0,1.0)  RGB{N0f8}(1.0,1.0,1.0)     RGB{N0f8}(1.0,1.0,1.0)\n",
       " RGB{N0f8}(1.0,1.0,1.0)  RGB{N0f8}(1.0,1.0,1.0)     RGB{N0f8}(1.0,1.0,1.0)\n",
       " RGB{N0f8}(1.0,1.0,1.0)  RGB{N0f8}(1.0,1.0,1.0)     RGB{N0f8}(1.0,1.0,1.0)\n",
       " RGB{N0f8}(1.0,1.0,1.0)  RGB{N0f8}(1.0,1.0,1.0)  …  RGB{N0f8}(1.0,1.0,1.0)\n",
       " RGB{N0f8}(1.0,1.0,1.0)  RGB{N0f8}(1.0,1.0,1.0)     RGB{N0f8}(1.0,1.0,1.0)\n",
       " RGB{N0f8}(1.0,1.0,1.0)  RGB{N0f8}(1.0,1.0,1.0)     RGB{N0f8}(1.0,1.0,1.0)\n",
       " RGB{N0f8}(1.0,1.0,1.0)  RGB{N0f8}(1.0,1.0,1.0)     RGB{N0f8}(1.0,1.0,1.0)\n",
       " RGB{N0f8}(1.0,1.0,1.0)  RGB{N0f8}(1.0,1.0,1.0)     RGB{N0f8}(1.0,1.0,1.0)\n",
       " RGB{N0f8}(1.0,1.0,1.0)  RGB{N0f8}(1.0,1.0,1.0)  …  RGB{N0f8}(1.0,1.0,1.0)\n",
       " RGB{N0f8}(1.0,1.0,1.0)  RGB{N0f8}(1.0,1.0,1.0)     RGB{N0f8}(1.0,1.0,1.0)\n",
       " RGB{N0f8}(1.0,1.0,1.0)  RGB{N0f8}(1.0,1.0,1.0)     RGB{N0f8}(1.0,1.0,1.0)\n",
       " ⋮                                               ⋱  \n",
       " RGB{N0f8}(1.0,1.0,1.0)  RGB{N0f8}(1.0,1.0,1.0)     RGB{N0f8}(1.0,1.0,1.0)\n",
       " RGB{N0f8}(1.0,1.0,1.0)  RGB{N0f8}(1.0,1.0,1.0)     RGB{N0f8}(1.0,1.0,1.0)\n",
       " RGB{N0f8}(1.0,1.0,1.0)  RGB{N0f8}(1.0,1.0,1.0)  …  RGB{N0f8}(1.0,1.0,1.0)\n",
       " RGB{N0f8}(1.0,1.0,1.0)  RGB{N0f8}(1.0,1.0,1.0)     RGB{N0f8}(1.0,1.0,1.0)\n",
       " RGB{N0f8}(1.0,1.0,1.0)  RGB{N0f8}(1.0,1.0,1.0)     RGB{N0f8}(1.0,1.0,1.0)\n",
       " RGB{N0f8}(1.0,1.0,1.0)  RGB{N0f8}(1.0,1.0,1.0)     RGB{N0f8}(1.0,1.0,1.0)\n",
       " RGB{N0f8}(1.0,1.0,1.0)  RGB{N0f8}(1.0,1.0,1.0)     RGB{N0f8}(1.0,1.0,1.0)\n",
       " RGB{N0f8}(1.0,1.0,1.0)  RGB{N0f8}(1.0,1.0,1.0)  …  RGB{N0f8}(1.0,1.0,1.0)\n",
       " RGB{N0f8}(1.0,1.0,1.0)  RGB{N0f8}(1.0,1.0,1.0)     RGB{N0f8}(1.0,1.0,1.0)\n",
       " RGB{N0f8}(1.0,1.0,1.0)  RGB{N0f8}(1.0,1.0,1.0)     RGB{N0f8}(1.0,1.0,1.0)\n",
       " RGB{N0f8}(1.0,1.0,1.0)  RGB{N0f8}(1.0,1.0,1.0)     RGB{N0f8}(1.0,1.0,1.0)\n",
       " RGB{N0f8}(1.0,1.0,1.0)  RGB{N0f8}(1.0,1.0,1.0)     RGB{N0f8}(1.0,1.0,1.0)"
      ]
     },
     "execution_count": 123,
     "metadata": {},
     "output_type": "execute_result"
    }
   ],
   "source": [
    "ex2 = load(string(\"Results\\\\\",model_def[\"NameF\"],\"_\",today(),\"\\\\PlotStanInfResults_Exp\",2,\"_\",bayinf_def[\"flag\"],\".png\"))"
   ]
  },
  {
   "cell_type": "markdown",
   "metadata": {},
   "source": [
    "# Stan Inference Example 3 --- EXTRA!"
   ]
  },
  {
   "cell_type": "code",
   "execution_count": null,
   "metadata": {},
   "outputs": [],
   "source": []
  },
  {
   "cell_type": "code",
   "execution_count": null,
   "metadata": {},
   "outputs": [],
   "source": []
  },
  {
   "cell_type": "code",
   "execution_count": null,
   "metadata": {},
   "outputs": [],
   "source": []
  },
  {
   "cell_type": "code",
   "execution_count": null,
   "metadata": {},
   "outputs": [],
   "source": []
  },
  {
   "cell_type": "code",
   "execution_count": null,
   "metadata": {},
   "outputs": [],
   "source": []
  },
  {
   "cell_type": "code",
   "execution_count": null,
   "metadata": {},
   "outputs": [],
   "source": []
  },
  {
   "cell_type": "code",
   "execution_count": null,
   "metadata": {},
   "outputs": [],
   "source": []
  },
  {
   "cell_type": "code",
   "execution_count": null,
   "metadata": {},
   "outputs": [],
   "source": []
  },
  {
   "cell_type": "code",
   "execution_count": null,
   "metadata": {},
   "outputs": [],
   "source": []
  },
  {
   "cell_type": "code",
   "execution_count": null,
   "metadata": {},
   "outputs": [],
   "source": []
  },
  {
   "cell_type": "code",
   "execution_count": null,
   "metadata": {},
   "outputs": [],
   "source": []
  },
  {
   "cell_type": "code",
   "execution_count": null,
   "metadata": {},
   "outputs": [],
   "source": []
  },
  {
   "cell_type": "code",
   "execution_count": null,
   "metadata": {},
   "outputs": [],
   "source": []
  },
  {
   "cell_type": "code",
   "execution_count": null,
   "metadata": {},
   "outputs": [],
   "source": []
  },
  {
   "cell_type": "code",
   "execution_count": null,
   "metadata": {},
   "outputs": [],
   "source": []
  },
  {
   "cell_type": "code",
   "execution_count": null,
   "metadata": {},
   "outputs": [],
   "source": []
  },
  {
   "cell_type": "code",
   "execution_count": null,
   "metadata": {},
   "outputs": [],
   "source": []
  },
  {
   "cell_type": "code",
   "execution_count": null,
   "metadata": {},
   "outputs": [],
   "source": []
  },
  {
   "cell_type": "code",
   "execution_count": null,
   "metadata": {},
   "outputs": [],
   "source": []
  },
  {
   "cell_type": "code",
   "execution_count": null,
   "metadata": {},
   "outputs": [],
   "source": []
  },
  {
   "cell_type": "code",
   "execution_count": null,
   "metadata": {},
   "outputs": [],
   "source": []
  },
  {
   "cell_type": "code",
   "execution_count": null,
   "metadata": {},
   "outputs": [],
   "source": []
  },
  {
   "cell_type": "code",
   "execution_count": null,
   "metadata": {},
   "outputs": [],
   "source": []
  },
  {
   "cell_type": "code",
   "execution_count": null,
   "metadata": {},
   "outputs": [],
   "source": []
  },
  {
   "cell_type": "code",
   "execution_count": null,
   "metadata": {},
   "outputs": [],
   "source": []
  }
 ],
 "metadata": {
  "kernelspec": {
   "display_name": "Julia 1.4.0",
   "language": "julia",
   "name": "julia-1.4"
  },
  "language_info": {
   "file_extension": ".jl",
   "mimetype": "application/julia",
   "name": "julia",
   "version": "1.4.0"
  }
 },
 "nbformat": 4,
 "nbformat_minor": 4
}
